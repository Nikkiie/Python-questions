{
  "nbformat": 4,
  "nbformat_minor": 0,
  "metadata": {
    "colab": {
      "provenance": [],
      "authorship_tag": "ABX9TyNttCOeYofs66O73VYLcg3b",
      "include_colab_link": true
    },
    "kernelspec": {
      "name": "python3",
      "display_name": "Python 3"
    },
    "language_info": {
      "name": "python"
    }
  },
  "cells": [
    {
      "cell_type": "markdown",
      "metadata": {
        "id": "view-in-github",
        "colab_type": "text"
      },
      "source": [
        "<a href=\"https://colab.research.google.com/github/Nikkiie/Python-questions/blob/main/Imp_Q.ipynb\" target=\"_parent\"><img src=\"https://colab.research.google.com/assets/colab-badge.svg\" alt=\"Open In Colab\"/></a>"
      ]
    },
    {
      "cell_type": "code",
      "source": [
        "#Sum of First N Natural Numbers in Python\n",
        "\n",
        "n=int(input(\"Enter a number: \"))\n",
        "sum = 0\n",
        "while n>0:\n",
        "  sum = sum + n\n",
        "  n = n-1\n",
        "print(\"The sum of first n natural numbers is\",sum)"
      ],
      "metadata": {
        "id": "YQkC8vjVumOj",
        "colab": {
          "base_uri": "https://localhost:8080/"
        },
        "outputId": "98a43b87-36cb-4b2f-c72b-65038d1b17db"
      },
      "execution_count": null,
      "outputs": [
        {
          "output_type": "stream",
          "name": "stdout",
          "text": [
            "Enter a number: 4\n",
            "The sum of first n natural numbers is 10\n"
          ]
        }
      ]
    },
    {
      "cell_type": "code",
      "source": [
        "## Program for Sum of square of first n natural numbers\n",
        "\n",
        "n = int(input(\"Enter the number till u want sum :\"))\n",
        "i = 1\n",
        "sum = 0\n",
        "\n",
        "while i<=n:\n",
        "  sum = sum + (i*i) # i value will change everytime until the condition in while loop satisfies\n",
        "  i = i+1\n",
        "print(sum, 'is sum' )\n",
        "\n",
        "# for cube just multiply i three times----------------------"
      ],
      "metadata": {
        "id": "CtD_0t5OumLZ",
        "colab": {
          "base_uri": "https://localhost:8080/"
        },
        "outputId": "dbe5c224-ddf1-4bfb-af8a-0d88b46bdd60"
      },
      "execution_count": null,
      "outputs": [
        {
          "output_type": "stream",
          "name": "stdout",
          "text": [
            "Enter the number till u want sum :3\n",
            "14 is sum\n"
          ]
        }
      ]
    },
    {
      "cell_type": "code",
      "source": [
        "# Python Program to Find All Perfect Squares in the Given Range ex 4 is pr sq as 4=2*2, 9 = 3*3\n",
        "\n",
        "l=int(input(\"Enter lower range: \"))\n",
        "u=int(input(\"Enter upper range: \"))\n",
        "print(\"perfect sq btwn range is \")\n",
        "while(l<=u):\n",
        "  for i in range(1,l):\n",
        "    if i*i==l:\n",
        "      print(l,end=' ')\n",
        "  l=l+1"
      ],
      "metadata": {
        "id": "7aNNqFd7umIh",
        "colab": {
          "base_uri": "https://localhost:8080/"
        },
        "outputId": "8572b1f4-76f8-46e5-8f08-b886ed04eb99"
      },
      "execution_count": null,
      "outputs": [
        {
          "output_type": "stream",
          "name": "stdout",
          "text": [
            "Enter lower range: 1\n",
            "Enter upper range: 100\n",
            "perfect sq btwn range is \n",
            "4 9 16 25 36 49 64 81 100 "
          ]
        }
      ]
    },
    {
      "cell_type": "code",
      "source": [
        "# Python Program to Find whether number is  Perfect Squares"
      ],
      "metadata": {
        "id": "eIh92ZGuI1J9"
      },
      "execution_count": null,
      "outputs": []
    },
    {
      "cell_type": "code",
      "execution_count": null,
      "metadata": {
        "id": "mv1470oYb93d"
      },
      "outputs": [],
      "source": [
        "#Python Program to Find Prime Numbers in a Given Range\n",
        "\n",
        "lower = int(input(\"enter lower range\"))\n",
        "upper = int(input(\"enter upper range\"))\n",
        "\n",
        "for num in range(lower,upper+1):\n",
        "  if num>1:\n",
        "    for i in range(2, num):\n",
        "      if num%i==0:\n",
        "        break\n",
        "    else:\n",
        "      print(num,\"is a prime number\")\n"
      ]
    },
    {
      "cell_type": "code",
      "source": [
        "#prime or not - a number that can be divided exactly only by itself and 1, for example 7, 17 and 41\n",
        "\n",
        "num = int(input(\"Enter the number:\"))\n",
        "if num >1:\n",
        "  for i in range(2, num): # here range is 2 to num bcz we want the num to be checked with 2 rather than 0 or 1 aur the num which we provided.\n",
        "    if (num%i) ==0:\n",
        "      print(num, 'is NOT a prime number')\n",
        "      break\n",
        "  else:\n",
        "    print(num, 'is A prime number')\n",
        "    \n",
        "else:\n",
        "  print(num, 'is not a prime number') # as 1 is not a prime number so this else will give output that it is not a prime number"
      ],
      "metadata": {
        "id": "ua2CA4gKcFom",
        "colab": {
          "base_uri": "https://localhost:8080/"
        },
        "outputId": "1ae53edb-ac01-4db9-9f7f-2f5fcb61aa7f"
      },
      "execution_count": null,
      "outputs": [
        {
          "output_type": "stream",
          "name": "stdout",
          "text": [
            "Enter the number:4\n",
            "4 is NOT a prime number\n"
          ]
        }
      ]
    },
    {
      "cell_type": "code",
      "source": [
        "#To check entered number is perfect or not PF:-is a positive integer that is equal to the sum of its proper divisors. The smallest perfect number is 6, which is the sum of 1, 2, and 3.\n",
        "\n",
        "num =  int(input(\"Enter the number, I know you can :) \"))\n",
        "result = 0\n",
        "\n",
        "for i in range(1, num):\n",
        "  if num%i == 0:\n",
        "    result = result+i\n",
        "if result == num:\n",
        "  print(num,\"is perfect no\")\n",
        "else:\n",
        "  print(num,\"is not a perfect no, baka\")"
      ],
      "metadata": {
        "id": "nzNrfgVScFla",
        "colab": {
          "base_uri": "https://localhost:8080/"
        },
        "outputId": "e2b1052a-f11c-4bf4-ee49-55f774d18b0e"
      },
      "execution_count": null,
      "outputs": [
        {
          "output_type": "stream",
          "name": "stdout",
          "text": [
            "Enter the number, I know you can :) 6\n",
            "6 is perfect no\n"
          ]
        }
      ]
    },
    {
      "cell_type": "code",
      "source": [
        "# Find the factorial of a given number\n",
        "\n",
        "n = int(input('Enter a number: '))\n",
        "result = 1 # this will hold final output\n",
        "for i in range(n, 0,-1): # we want n in backward, where starting is n ending is 0 and stepping is -1\n",
        "  result = result*i\n",
        "print(\"Factorial of\", n, \"is\", result)"
      ],
      "metadata": {
        "id": "MpWgRst2cFiA",
        "colab": {
          "base_uri": "https://localhost:8080/"
        },
        "outputId": "49a5b702-0381-42b4-f78e-9f67d0fa85e7"
      },
      "execution_count": null,
      "outputs": [
        {
          "output_type": "stream",
          "name": "stdout",
          "text": [
            "Enter a number: 4\n",
            "Factorial of 4 is 24\n"
          ]
        }
      ]
    },
    {
      "cell_type": "code",
      "source": [
        "#Fibonacci numbers series\n",
        "\n",
        "num =  int(input(\"Enter the number till you want in this series:\"))\n",
        "first = 0\n",
        "second = 1\n",
        "for i in range(num):\n",
        "  print(first) # it prints 0 however times num is given\n",
        "  temp = first\n",
        "  first = second\n",
        "  second = temp + second"
      ],
      "metadata": {
        "id": "jnv7S79EcFfY"
      },
      "execution_count": null,
      "outputs": []
    },
    {
      "cell_type": "code",
      "source": [
        "# To check whether number is fibonacci or not\n",
        "\n",
        "import math\n",
        "\n",
        "def PerSq(x):\n",
        "  s = int(math.sqrt(x)) # it gives the sqrt of x, it will give result in flot and so using int we convert it in integer\n",
        "  return s*s == x\n",
        "\n",
        "n = int(input(\"Enter a number: \"))\n",
        "result1 = 5*(n*n)+4 # the given n number after solving should be a perfect sq or atleast one of them i.e -4 one should be per sq\n",
        "result2 = 5*(n*n)-4 # the given n number after solving should be a perfect sq or atleast one of them i.e +4 one should be per sq\n",
        "\n",
        "if PerSq(result1) or PerSq(result2):\n",
        "  print(n, \"is a fibonacci number-impressive\")\n",
        "else:\n",
        "  print(n, \"is not a fibonacci number-duh\")"
      ],
      "metadata": {
        "id": "8ocX3prBcFcO",
        "colab": {
          "base_uri": "https://localhost:8080/"
        },
        "outputId": "e36d88b1-f53b-4553-a514-1567ed7d1403"
      },
      "execution_count": null,
      "outputs": [
        {
          "output_type": "stream",
          "name": "stdout",
          "text": [
            "Enter a number: 6\n",
            "6 is not a fibonacci number-duh\n"
          ]
        }
      ]
    },
    {
      "cell_type": "code",
      "source": [
        "# Write a program that will convert celsius value to fahrenheit\n",
        "\n",
        "temp = float(input(\"Enter the temp:\"))\n",
        "fahrenheit = (temp*1.8)+32\n",
        "print(fahrenheit)"
      ],
      "metadata": {
        "id": "gxt9Y2ieuPYK"
      },
      "execution_count": null,
      "outputs": []
    },
    {
      "cell_type": "code",
      "source": [
        "#Write a Python program to create the multiplication table\n",
        "\n",
        "number = int(input('Input a number: '))\n",
        "for i in range(1,11):\n",
        "  print('%d x %d = %d' % (number, i,  number*i))"
      ],
      "metadata": {
        "id": "ynbntUi77U96"
      },
      "execution_count": null,
      "outputs": []
    },
    {
      "cell_type": "markdown",
      "source": [
        "# **PATTERN**"
      ],
      "metadata": {
        "id": "Res_jlc7w0h0"
      }
    },
    {
      "cell_type": "code",
      "source": [
        "# Python program to construct the following pattern, using a nested for loop.\n",
        "\n",
        "width = int(input('choose pattern width '))\n",
        "for i in range(1,width):\n",
        "  print(\"*\"*i)\n",
        "for i in range(width, 0, -1):\n",
        "  print(\"*\"*i)"
      ],
      "metadata": {
        "id": "_e0V8Hg7w0K8"
      },
      "execution_count": null,
      "outputs": []
    },
    {
      "cell_type": "code",
      "source": [
        "n = 6\n",
        "for i in range(n):\n",
        "  for j in range(i+1):\n",
        "    print('*',end=' ')\n",
        "  print()"
      ],
      "metadata": {
        "colab": {
          "base_uri": "https://localhost:8080/"
        },
        "id": "tzOWnqPzwJ3n",
        "outputId": "f481a5f2-6bf8-4b17-b637-12da3edecfe4"
      },
      "execution_count": null,
      "outputs": [
        {
          "output_type": "stream",
          "name": "stdout",
          "text": [
            "* \n",
            "* * \n",
            "* * * \n",
            "* * * * \n",
            "* * * * * \n",
            "* * * * * * \n"
          ]
        }
      ]
    },
    {
      "cell_type": "code",
      "source": [
        "n = 7\n",
        "for i in range(n):\n",
        "  for j in range(i,n):\n",
        "    print(' ',end=' ')\n",
        "  for j in range(i+1):\n",
        "    print('*',end=' ')\n",
        "  print()"
      ],
      "metadata": {
        "colab": {
          "base_uri": "https://localhost:8080/"
        },
        "id": "RPs9si2AwJxJ",
        "outputId": "86abacc1-9535-4ef5-8686-0437e8985837"
      },
      "execution_count": null,
      "outputs": [
        {
          "output_type": "stream",
          "name": "stdout",
          "text": [
            "              * \n",
            "            * * \n",
            "          * * * \n",
            "        * * * * \n",
            "      * * * * * \n",
            "    * * * * * * \n",
            "  * * * * * * * \n"
          ]
        }
      ]
    },
    {
      "cell_type": "code",
      "source": [
        "n = 6\n",
        "for i in range(n):\n",
        "  for j in range(i,n):\n",
        "    print('*',end =' ')\n",
        "  print()"
      ],
      "metadata": {
        "colab": {
          "base_uri": "https://localhost:8080/"
        },
        "id": "TB7Vz25twJsK",
        "outputId": "b667fd81-535f-4630-adb0-4d7ad259ad76"
      },
      "execution_count": null,
      "outputs": [
        {
          "output_type": "stream",
          "name": "stdout",
          "text": [
            "* * * * * * \n",
            "* * * * * \n",
            "* * * * \n",
            "* * * \n",
            "* * \n",
            "* \n"
          ]
        }
      ]
    },
    {
      "cell_type": "code",
      "source": [
        "n = 7\n",
        "for i in range(n):\n",
        "  for j in range(i+1):\n",
        "    print(' ',end=' ')\n",
        "  for j in range(i,n):\n",
        "    print('*',end=' ')\n",
        "  print()"
      ],
      "metadata": {
        "colab": {
          "base_uri": "https://localhost:8080/"
        },
        "id": "yVr-BRS-ygpz",
        "outputId": "799a37f5-764a-4b9d-9f77-3193eb4f016f"
      },
      "execution_count": null,
      "outputs": [
        {
          "output_type": "stream",
          "name": "stdout",
          "text": [
            "  * * * * * * * \n",
            "    * * * * * * \n",
            "      * * * * * \n",
            "        * * * * \n",
            "          * * * \n",
            "            * * \n",
            "              * \n"
          ]
        }
      ]
    },
    {
      "cell_type": "code",
      "source": [
        "n = 8\n",
        "for i in range(n):\n",
        "  for j in range(i,n):\n",
        "    print(' ',end=' ')\n",
        "  for j in range(i):\n",
        "    print('*',end=' ')\n",
        "  for j in range(i+1):\n",
        "    print('*',end=' ')\n",
        "  print()\n",
        "\n"
      ],
      "metadata": {
        "colab": {
          "base_uri": "https://localhost:8080/"
        },
        "id": "N3aGKUea0np4",
        "outputId": "a8366aa0-a2ad-42c3-8e82-a1378972beb1"
      },
      "execution_count": null,
      "outputs": [
        {
          "output_type": "stream",
          "name": "stdout",
          "text": [
            "                * \n",
            "              * * * \n",
            "            * * * * * \n",
            "          * * * * * * * \n",
            "        * * * * * * * * * \n",
            "      * * * * * * * * * * * \n",
            "    * * * * * * * * * * * * * \n",
            "  * * * * * * * * * * * * * * * \n"
          ]
        }
      ]
    },
    {
      "cell_type": "code",
      "source": [
        "# To print triangle pattern \n",
        "\n",
        "n = int(input('Enter a number: '))\n",
        "for i in range(1, n+1):\n",
        "  for j in range(1, i+1):\n",
        "    print(j,end=' ')\n",
        "  print()\n",
        "  "
      ],
      "metadata": {
        "id": "yGwullDuuPUz",
        "colab": {
          "base_uri": "https://localhost:8080/"
        },
        "outputId": "1a947770-8062-4870-ebae-486e75a465ca"
      },
      "execution_count": null,
      "outputs": [
        {
          "output_type": "stream",
          "name": "stdout",
          "text": [
            "Enter a number: 8\n",
            "1 \n",
            "1 2 \n",
            "1 2 3 \n",
            "1 2 3 4 \n",
            "1 2 3 4 5 \n",
            "1 2 3 4 5 6 \n",
            "1 2 3 4 5 6 7 \n",
            "1 2 3 4 5 6 7 8 \n"
          ]
        }
      ]
    },
    {
      "cell_type": "code",
      "source": [
        "n = int(input('Enter a number: '))\n",
        "for i in range(1,n+1):\n",
        "  for j in range(1, i+1):\n",
        "    print(i,end='')\n",
        "  print()"
      ],
      "metadata": {
        "id": "0bUT2gVsuPPA",
        "colab": {
          "base_uri": "https://localhost:8080/"
        },
        "outputId": "f0be9393-4794-427c-af4f-d59c8ec05058"
      },
      "execution_count": null,
      "outputs": [
        {
          "output_type": "stream",
          "name": "stdout",
          "text": [
            "Enter a number: 8\n",
            "1\n",
            "22\n",
            "333\n",
            "4444\n",
            "55555\n",
            "666666\n",
            "7777777\n",
            "88888888\n"
          ]
        }
      ]
    },
    {
      "cell_type": "code",
      "source": [
        "n = int(input('Enter a number: '))\n",
        "for i in range(n,0,-1):\n",
        "  for j in range(1,i+1):\n",
        "    print(j,end=' ')\n",
        "  print()\n"
      ],
      "metadata": {
        "id": "P8xbNjDOuPSG",
        "colab": {
          "base_uri": "https://localhost:8080/"
        },
        "outputId": "2cc74a83-eaa1-47f8-f2dd-a51f26362d43"
      },
      "execution_count": null,
      "outputs": [
        {
          "output_type": "stream",
          "name": "stdout",
          "text": [
            "Enter a number: 9\n",
            "1 2 3 4 5 6 7 8 9 \n",
            "1 2 3 4 5 6 7 8 \n",
            "1 2 3 4 5 6 7 \n",
            "1 2 3 4 5 6 \n",
            "1 2 3 4 5 \n",
            "1 2 3 4 \n",
            "1 2 3 \n",
            "1 2 \n",
            "1 \n"
          ]
        }
      ]
    },
    {
      "cell_type": "code",
      "source": [
        "# Python Program to compute simple interest given all the required values. \n",
        " \n",
        "principle=int(input(\"Enter the principle amount:\"))\n",
        "time=int(input(\"Enter the time(years):\"))\n",
        "rate=int(input(\"Enter the rate:\"))\n",
        "si = (principle*time*rate)/100\n",
        "print(si)"
      ],
      "metadata": {
        "id": "Z3H71kBHuPMR"
      },
      "execution_count": null,
      "outputs": []
    },
    {
      "cell_type": "code",
      "source": [
        "# To find C.I\n",
        "\n",
        "def findCi(p,r,t):\n",
        "  amount = p*(pow((1+r/100),t))\n",
        "  ci = amount-p\n",
        "  print(\"Compound Interest is\", ci)\n",
        "\n",
        "findCi(10000,10,5)"
      ],
      "metadata": {
        "id": "3gh9sjNtuPKe"
      },
      "execution_count": null,
      "outputs": []
    },
    {
      "cell_type": "code",
      "source": [
        "#Swap any two element in list\n",
        "\n",
        "l1 = [88,90,77,4,66]\n",
        "p1,p2 = 3,4\n",
        "l1[p1],l1[p2] = l1[p2],l1[p1]\n",
        "print(l1)"
      ],
      "metadata": {
        "id": "82B5I5qVuPFo"
      },
      "execution_count": null,
      "outputs": []
    },
    {
      "cell_type": "code",
      "source": [
        "#To swap the numbers without the third variable\n",
        "\n",
        "a = int(input(\"Enter the number:\"))\n",
        "b = int(input(\"Enter the number:\"))\n",
        "\n",
        "a = a+b\n",
        "b = a-b\n",
        "a = a-b\n",
        "print(\"After swapping\")\n",
        "print(\"The value of a is\", a)\n",
        "print(\"The value of b is\", b)"
      ],
      "metadata": {
        "id": "7_GHnsQiuPBA"
      },
      "execution_count": null,
      "outputs": []
    },
    {
      "cell_type": "markdown",
      "source": [
        "# **Some prev Q<<**"
      ],
      "metadata": {
        "id": "95kr_OMaV5IN"
      }
    },
    {
      "cell_type": "code",
      "source": [
        "# Python program to remove empty list from the main list\n",
        "\n",
        "test_list = [5, 6, [], 3, [], [], 9,[],8,[]]\n",
        "res = [elm for elm in test_list if elm]\n",
        "print(res)"
      ],
      "metadata": {
        "id": "g-VPK-iTuO9L",
        "colab": {
          "base_uri": "https://localhost:8080/"
        },
        "outputId": "1f232ae8-7a2f-4a6a-f060-bb8ee74e00d0"
      },
      "execution_count": null,
      "outputs": [
        {
          "output_type": "stream",
          "name": "stdout",
          "text": [
            "[5, 6, 3, 9, 8]\n"
          ]
        }
      ]
    },
    {
      "cell_type": "code",
      "source": [
        "#String Palindrome Program in Python\n",
        "\n",
        "s = input(\"Enter string:\")\n",
        "if s == s[::-1]:\n",
        "  print('palin')\n",
        "else:\n",
        "  print('no palin')"
      ],
      "metadata": {
        "colab": {
          "base_uri": "https://localhost:8080/"
        },
        "id": "_yI_VmhkcYxV",
        "outputId": "94daa7ac-0a50-43ed-d70e-75fa906bae16"
      },
      "execution_count": null,
      "outputs": [
        {
          "output_type": "stream",
          "name": "stdout",
          "text": [
            "Enter string:juhu\n",
            "no palin\n"
          ]
        }
      ]
    },
    {
      "cell_type": "code",
      "source": [
        "#check whether two str are anagrams or not\n",
        "\n",
        "s1 = input('Enter a word')\n",
        "s2 = input('Enter another word, would ya?')\n",
        "\n",
        "if sorted(s1)==sorted(s2):\n",
        "  print('ITS ANAGRAM')\n",
        "else:\n",
        "  print('NOT A ANAGRAM boooo')\n"
      ],
      "metadata": {
        "id": "1kS-eSZmXXcb",
        "colab": {
          "base_uri": "https://localhost:8080/"
        },
        "outputId": "e8e3ebba-1cd7-4036-d5f8-d2c571926d29"
      },
      "execution_count": null,
      "outputs": [
        {
          "output_type": "stream",
          "name": "stdout",
          "text": [
            "Enter a worddog\n",
            "Enter another word, would ya?god\n",
            "ITS ANAGRAM\n"
          ]
        }
      ]
    },
    {
      "cell_type": "code",
      "source": [
        "#Iterate over a dictionary in Python\n",
        "statesAndCapitals = {\n",
        "    'Gujarat': 'Gandhinagar',\n",
        "    'Maharashtra': 'Mumbai',\n",
        "    'Rajasthan': 'Jaipur',\n",
        "    'Bihar': 'Patna'\n",
        "}\n",
        " \n",
        "keys = statesAndCapitals.values()\n",
        "print(keys)"
      ],
      "metadata": {
        "colab": {
          "base_uri": "https://localhost:8080/"
        },
        "id": "FTH9_Y10cYuQ",
        "outputId": "fac26dd0-b921-4ab0-f9bd-3300bb5d8a75"
      },
      "execution_count": null,
      "outputs": [
        {
          "output_type": "stream",
          "name": "stdout",
          "text": [
            "dict_values(['Gandhinagar', 'Mumbai', 'Jaipur', 'Patna'])\n"
          ]
        }
      ]
    },
    {
      "cell_type": "code",
      "source": [
        "#program to find second largest number in a list\n",
        "\n",
        "l1 = [10, 20, 20, 4, 45, 45, 80, 49, 45, 99, 99]\n",
        "l2 = list(set(l1))\n",
        "l2.sort()\n",
        "print(l2[-2])\n",
        "\n",
        "# for smallest no change -2 with 0"
      ],
      "metadata": {
        "id": "DUWzyT2FcYq_",
        "colab": {
          "base_uri": "https://localhost:8080/"
        },
        "outputId": "13de4104-7b50-40fc-8de5-d3bd918da10e"
      },
      "execution_count": null,
      "outputs": [
        {
          "output_type": "stream",
          "name": "stdout",
          "text": [
            "80\n"
          ]
        }
      ]
    },
    {
      "cell_type": "code",
      "source": [
        "#Find words which are greater than given length in a string\n",
        "\n",
        "def strg(k,str1):\n",
        "  string = []\n",
        "  text = str1.split(' ')\n",
        "\n",
        "  for x in text:\n",
        "    if len(x)>k:\n",
        "      string.append(x)\n",
        "\n",
        "  return string\n",
        "\n",
        "k = 3\n",
        "s =\"geek for geeks\"\n",
        "print(strg(k, s))"
      ],
      "metadata": {
        "id": "ZMzXJhrUcYoG",
        "colab": {
          "base_uri": "https://localhost:8080/"
        },
        "outputId": "04a8ace8-01eb-41fb-e067-f83a9706f103"
      },
      "execution_count": 14,
      "outputs": [
        {
          "output_type": "stream",
          "name": "stdout",
          "text": [
            "['geek', 'geeks']\n"
          ]
        }
      ]
    },
    {
      "cell_type": "code",
      "source": [
        "#Python program to find odd numbers in range\n",
        "\n",
        "start = int(input(\"Enter number to start: \"))\n",
        "end = int(input(\"Enter number to end: \"))\n",
        "\n",
        "for i in range(start, end+1):\n",
        "  if i %2==1:\n",
        "    print('The odds are',i)"
      ],
      "metadata": {
        "id": "vWGuCeHEcYlR"
      },
      "execution_count": null,
      "outputs": []
    },
    {
      "cell_type": "code",
      "source": [
        "#Python Program to Swap the First and Last Element in a List\n",
        "\n",
        "l1 = [88,90,77,4,66]\n",
        "temp = l1[0]\n",
        "l1[0] = l1[-1]\n",
        "l1[-1] = temp\n",
        "print(l1)"
      ],
      "metadata": {
        "id": "TYy7sElicYiT",
        "colab": {
          "base_uri": "https://localhost:8080/"
        },
        "outputId": "79bd867e-0e65-4cfa-dbb5-f3d3fa083830"
      },
      "execution_count": null,
      "outputs": [
        {
          "output_type": "stream",
          "name": "stdout",
          "text": [
            "[66, 90, 77, 4, 88]\n"
          ]
        }
      ]
    },
    {
      "cell_type": "code",
      "source": [
        "# Python Program to reverse a given number.\n",
        "\n",
        "num = 3456\n",
        "print(\"Given number\", num)\n",
        "while num>0:\n",
        "  dig = num % 10\n",
        "  num = num // 10\n",
        "  print(dig,end=' ')"
      ],
      "metadata": {
        "id": "ufH8G_TGcYfJ",
        "colab": {
          "base_uri": "https://localhost:8080/"
        },
        "outputId": "3d7911cf-f5ed-4f7c-cb53-2832b05f1960"
      },
      "execution_count": 28,
      "outputs": [
        {
          "output_type": "stream",
          "name": "stdout",
          "text": [
            "Given number 3456\n",
            "6 5 4 3 "
          ]
        }
      ]
    },
    {
      "cell_type": "code",
      "source": [
        "# Count occurrences of an element\n",
        "\n",
        "a = [1,2,3,1,1,5,6,1,1]\n",
        "count = 0\n",
        "for i in a:\n",
        "  if i==1:\n",
        "    count = count+1\n",
        "print(count)\n"
      ],
      "metadata": {
        "id": "dCAWYmW-cYb9",
        "colab": {
          "base_uri": "https://localhost:8080/"
        },
        "outputId": "d5d158e2-446f-47bb-9b9e-624f7d0be00f"
      },
      "execution_count": null,
      "outputs": [
        {
          "output_type": "stream",
          "name": "stdout",
          "text": [
            "5\n"
          ]
        }
      ]
    },
    {
      "cell_type": "code",
      "source": [
        "#count occurance of element in string\n",
        "\n",
        "s = 'AAVVHHJopk'\n",
        "l = []\n",
        "\n",
        "for ch in s:\n",
        "  if ch not in l:\n",
        "    l.append(ch)\n",
        "for ch in sorted(l):\n",
        "  print('{} occurs {} times'.format(ch,s.count(ch)))"
      ],
      "metadata": {
        "id": "_V-T8RxMcYY1"
      },
      "execution_count": null,
      "outputs": []
    },
    {
      "cell_type": "code",
      "source": [],
      "metadata": {
        "id": "91YsldpdcYSM"
      },
      "execution_count": null,
      "outputs": []
    }
  ]
}