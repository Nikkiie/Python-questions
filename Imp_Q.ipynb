{
  "nbformat": 4,
  "nbformat_minor": 0,
  "metadata": {
    "colab": {
      "provenance": [],
      "authorship_tag": "ABX9TyMUAdwJFlw65Vp+X+4AcetH",
      "include_colab_link": true
    },
    "kernelspec": {
      "name": "python3",
      "display_name": "Python 3"
    },
    "language_info": {
      "name": "python"
    }
  },
  "cells": [
    {
      "cell_type": "markdown",
      "metadata": {
        "id": "view-in-github",
        "colab_type": "text"
      },
      "source": [
        "<a href=\"https://colab.research.google.com/github/Nikkiie/Python-questions/blob/main/Imp_Q.ipynb\" target=\"_parent\"><img src=\"https://colab.research.google.com/assets/colab-badge.svg\" alt=\"Open In Colab\"/></a>"
      ]
    },
    {
      "cell_type": "code",
      "source": [
        "#Sum of First N Natural Numbers in Python\n",
        "\n",
        "n=int(input(\"Enter a number: \"))\n",
        "sum = 0\n",
        "while n>0:\n",
        "  sum = sum + n\n",
        "  n = n-1\n",
        "print(\"The sum of first n natural numbers is\",sum)"
      ],
      "metadata": {
        "id": "YQkC8vjVumOj",
        "colab": {
          "base_uri": "https://localhost:8080/"
        },
        "outputId": "9399923f-c2b9-41bd-dde9-50a5d2fd5857"
      },
      "execution_count": null,
      "outputs": [
        {
          "output_type": "stream",
          "name": "stdout",
          "text": [
            "Enter a number: 4\n",
            "The sum of first n natural numbers is 10\n"
          ]
        }
      ]
    },
    {
      "cell_type": "code",
      "source": [
        "## Program for Sum of square of first n natural numbers\n",
        "\n",
        "n = int(input(\"Enter the number till u want sum :\"))\n",
        "i = 1\n",
        "sum = 0\n",
        "\n",
        "while i<=n:\n",
        "  sum = sum + (i*i) # i value will change everytime until the condition in while loop satisfies\n",
        "  i = i+1\n",
        "print(sum, 'is sum' )\n",
        "\n",
        "# for cube just multiply i three times----------------------"
      ],
      "metadata": {
        "id": "CtD_0t5OumLZ",
        "colab": {
          "base_uri": "https://localhost:8080/"
        },
        "outputId": "dbe5c224-ddf1-4bfb-af8a-0d88b46bdd60"
      },
      "execution_count": null,
      "outputs": [
        {
          "output_type": "stream",
          "name": "stdout",
          "text": [
            "Enter the number till u want sum :3\n",
            "14 is sum\n"
          ]
        }
      ]
    },
    {
      "cell_type": "code",
      "source": [
        "# Python Program to Find All Perfect Squares in the Given Range ex 4 is pr sq as 4=2*2, 9 = 3*3\n",
        "\n",
        "l=int(input(\"Enter lower range: \"))\n",
        "u=int(input(\"Enter upper range: \"))\n",
        "print(\"perfect sq btwn range is \")\n",
        "while(l<=u):\n",
        "  for i in range(1,l):\n",
        "    if i*i==l:\n",
        "      print(l,end=' ')\n",
        "  l=l+1"
      ],
      "metadata": {
        "id": "7aNNqFd7umIh",
        "colab": {
          "base_uri": "https://localhost:8080/"
        },
        "outputId": "3f650ab5-12a5-4d2a-92a2-da81f5716865"
      },
      "execution_count": null,
      "outputs": [
        {
          "output_type": "stream",
          "name": "stdout",
          "text": [
            "Enter lower range: 1\n",
            "Enter upper range: 3\n",
            "perfect sq btwn range is \n"
          ]
        }
      ]
    },
    {
      "cell_type": "code",
      "source": [
        "# Python Program to Find whether number is  Perfect Squares\n",
        "\n",
        "n =int(input(\"Enter number: \")) #4\n",
        "count = 0\n",
        "\n",
        "for i in range(1,n):  # after checking 1 it will check 2\n",
        "  if i*i==n:        # here 2*2=4\n",
        "    count = 1        # so count will be one\n",
        "    break\n",
        "if count==1:\n",
        "  print('Its a per sq')\n",
        "else:\n",
        "  print('Its not a per sq')"
      ],
      "metadata": {
        "id": "eIh92ZGuI1J9",
        "colab": {
          "base_uri": "https://localhost:8080/"
        },
        "outputId": "41f54816-b431-4331-dd8c-20b5cdbf0f76"
      },
      "execution_count": null,
      "outputs": [
        {
          "output_type": "stream",
          "name": "stdout",
          "text": [
            "Enter number: 11\n",
            "Its not a per sq\n"
          ]
        }
      ]
    },
    {
      "cell_type": "code",
      "source": [
        "#To check entered number is perfect or not PF:-is a positive integer that is equal to the sum of its proper divisors. The smallest perfect number is 6, which is the sum of 1, 2, and 3.\n",
        "\n",
        "num =  int(input(\"Enter the number, I know you can :) \"))\n",
        "result = 0\n",
        "\n",
        "for i in range(1, num):\n",
        "  if num%i == 0:\n",
        "    result = result+i\n",
        "if result == num:\n",
        "  print(num,\"is perfect no\")\n",
        "else:\n",
        "  print(num,\"is not a perfect no, baka\")"
      ],
      "metadata": {
        "id": "nzNrfgVScFla",
        "colab": {
          "base_uri": "https://localhost:8080/"
        },
        "outputId": "52520715-9128-4b9d-b305-6a007c1f6a66"
      },
      "execution_count": null,
      "outputs": [
        {
          "output_type": "stream",
          "name": "stdout",
          "text": [
            "Enter the number, I know you can :) 6\n",
            "6 is perfect no\n"
          ]
        }
      ]
    },
    {
      "cell_type": "code",
      "execution_count": null,
      "metadata": {
        "id": "mv1470oYb93d",
        "colab": {
          "base_uri": "https://localhost:8080/"
        },
        "outputId": "02ac2596-e9be-4f9a-f78e-99682845d1ca"
      },
      "outputs": [
        {
          "output_type": "stream",
          "name": "stdout",
          "text": [
            "enter lower range7\n",
            "enter upper range17\n",
            "7 is a prime number\n",
            "11 is a prime number\n",
            "13 is a prime number\n",
            "17 is a prime number\n"
          ]
        }
      ],
      "source": [
        "#Python Program to Find Prime Numbers in a Given Range\n",
        "\n",
        "lower = int(input(\"enter lower range\"))\n",
        "upper = int(input(\"enter upper range\"))\n",
        "\n",
        "for num in range(lower,upper+1):\n",
        "  if num>1:\n",
        "    for i in range(2, num):\n",
        "      if num%i==0:\n",
        "        break\n",
        "    else:\n",
        "      print(num,\"is a prime number\")\n"
      ]
    },
    {
      "cell_type": "code",
      "source": [
        "#prime or not - a number that can be divided exactly only by itself and 1, for example 7, 17 and 41\n",
        "\n",
        "num = int(input(\"Enter the number:\"))\n",
        "if num >1:\n",
        "  for i in range(2, num): # here range is 2 to num bcz we want the num to be checked with 2 rather than 0 or 1 aur the num which we provided.\n",
        "    if (num%i) ==0:\n",
        "      print(num, 'is NOT a prime number')\n",
        "      break\n",
        "  else:\n",
        "    print(num, 'is A prime number')\n",
        "    \n",
        "else:\n",
        "  print(num, 'is not a prime number') # as 1 is not a prime number so this else will give output that it is not a prime number"
      ],
      "metadata": {
        "id": "ua2CA4gKcFom",
        "colab": {
          "base_uri": "https://localhost:8080/"
        },
        "outputId": "594bcfdf-42c3-4cf2-a480-0cb0c7639c0b"
      },
      "execution_count": null,
      "outputs": [
        {
          "output_type": "stream",
          "name": "stdout",
          "text": [
            "Enter the number:2\n",
            "2 is A prime number\n"
          ]
        }
      ]
    },
    {
      "cell_type": "code",
      "source": [
        "# Find the factorial of a given number\n",
        "\n",
        "n = int(input('Enter a number: '))\n",
        "result = 1 # this will hold final output\n",
        "for i in range(n, 0,-1): # we want n in backward, where starting is n ending is 0 and stepping is -1\n",
        "  result = result*i\n",
        "print(\"Factorial of\", n, \"is\", result)"
      ],
      "metadata": {
        "id": "MpWgRst2cFiA",
        "colab": {
          "base_uri": "https://localhost:8080/"
        },
        "outputId": "f6a61bb0-46f4-48d7-af1f-caae66dc5fc4"
      },
      "execution_count": 4,
      "outputs": [
        {
          "output_type": "stream",
          "name": "stdout",
          "text": [
            "Enter a number: 2\n",
            "Factorial of 2 is 2\n"
          ]
        }
      ]
    },
    {
      "cell_type": "code",
      "source": [
        "#Fibonacci numbers series\n",
        "\n",
        "num =  int(input(\"Enter the number till you want in this series:\"))\n",
        "first = 0\n",
        "second = 1\n",
        "for i in range(num):\n",
        "  print(first) # it prints 0 however times num is given\n",
        "  temp = first\n",
        "  first = second\n",
        "  second = temp + second"
      ],
      "metadata": {
        "id": "jnv7S79EcFfY",
        "colab": {
          "base_uri": "https://localhost:8080/"
        },
        "outputId": "f52bba90-cae3-4d3d-8017-4731b3a05b51"
      },
      "execution_count": null,
      "outputs": [
        {
          "output_type": "stream",
          "name": "stdout",
          "text": [
            "Enter the number till you want in this series:9\n",
            "0\n",
            "1\n",
            "1\n",
            "2\n",
            "3\n",
            "5\n",
            "8\n",
            "13\n",
            "21\n"
          ]
        }
      ]
    },
    {
      "cell_type": "code",
      "source": [
        "# To check whether number is fibonacci or not\n",
        "\n",
        "import math\n",
        "\n",
        "def PerSq(x):\n",
        "  s = int(math.sqrt(x)) # it gives the sqrt of x, it will give result in flot and so using int we convert it in integer\n",
        "  return s*s == x\n",
        "\n",
        "n = int(input(\"Enter a number: \"))\n",
        "result1 = 5*(n*n)+4 # the given n number after solving should be a perfect sq or atleast one of them i.e -4 one should be per sq\n",
        "result2 = 5*(n*n)-4 # the given n number after solving should be a perfect sq or atleast one of them i.e +4 one should be per sq\n",
        "\n",
        "if PerSq(result1) or PerSq(result2):\n",
        "  print(n, \"is a fibonacci number-impressive\")\n",
        "else:\n",
        "  print(n, \"is not a fibonacci number-duh\")"
      ],
      "metadata": {
        "id": "8ocX3prBcFcO"
      },
      "execution_count": null,
      "outputs": []
    },
    {
      "cell_type": "code",
      "source": [
        "# Write a program that will convert celsius value to fahrenheit\n",
        "\n",
        "temp = float(input(\"Enter the temp:\"))\n",
        "fahrenheit = (temp*1.8)+32\n",
        "print(fahrenheit)"
      ],
      "metadata": {
        "id": "gxt9Y2ieuPYK",
        "colab": {
          "base_uri": "https://localhost:8080/"
        },
        "outputId": "c7cfddf1-0d2a-4e0c-8dad-4dffb628f8b7"
      },
      "execution_count": null,
      "outputs": [
        {
          "output_type": "stream",
          "name": "stdout",
          "text": [
            "Enter the temp:6.7\n",
            "44.06\n"
          ]
        }
      ]
    },
    {
      "cell_type": "code",
      "source": [
        "#Write a Python program to create the multiplication table\n",
        "\n",
        "number = int(input('Input a number: '))\n",
        "for i in range(1,11):\n",
        "  print('%d x %d = %d' % (number, i,  number*i))"
      ],
      "metadata": {
        "id": "ynbntUi77U96"
      },
      "execution_count": null,
      "outputs": []
    },
    {
      "cell_type": "markdown",
      "source": [
        "# **PATTERN**"
      ],
      "metadata": {
        "id": "Res_jlc7w0h0"
      }
    },
    {
      "cell_type": "code",
      "source": [
        "# Python program to construct the following pattern, using a nested for loop.\n",
        "\n",
        "width = int(input('choose pattern width '))\n",
        "for i in range(1,width):\n",
        "  print(\"*\"*i)\n",
        "for i in range(width, 0, -1):\n",
        "  print(\"*\"*i)"
      ],
      "metadata": {
        "id": "_e0V8Hg7w0K8",
        "colab": {
          "base_uri": "https://localhost:8080/"
        },
        "outputId": "d392ef26-c3e3-4bc0-c933-af5cd011ed0e"
      },
      "execution_count": null,
      "outputs": [
        {
          "output_type": "stream",
          "name": "stdout",
          "text": [
            "choose pattern width 7\n",
            "*\n",
            "**\n",
            "***\n",
            "****\n",
            "*****\n",
            "******\n",
            "*******\n",
            "******\n",
            "*****\n",
            "****\n",
            "***\n",
            "**\n",
            "*\n"
          ]
        }
      ]
    },
    {
      "cell_type": "code",
      "source": [
        "n = 6\n",
        "for i in range(n):\n",
        "  for j in range(i+1):\n",
        "    print('*',end=' ')\n",
        "  print()"
      ],
      "metadata": {
        "colab": {
          "base_uri": "https://localhost:8080/"
        },
        "id": "tzOWnqPzwJ3n",
        "outputId": "e28a69ed-c107-4f17-92f7-c20a67716701"
      },
      "execution_count": null,
      "outputs": [
        {
          "output_type": "stream",
          "name": "stdout",
          "text": [
            "* \n",
            "* * \n",
            "* * * \n",
            "* * * * \n",
            "* * * * * \n",
            "* * * * * * \n"
          ]
        }
      ]
    },
    {
      "cell_type": "code",
      "source": [
        "n = 6\n",
        "for i in range(n):\n",
        "  for j in range(i,n):\n",
        "    print('*',end =' ')\n",
        "  print()"
      ],
      "metadata": {
        "colab": {
          "base_uri": "https://localhost:8080/"
        },
        "id": "TB7Vz25twJsK",
        "outputId": "b667fd81-535f-4630-adb0-4d7ad259ad76"
      },
      "execution_count": null,
      "outputs": [
        {
          "output_type": "stream",
          "name": "stdout",
          "text": [
            "* * * * * * \n",
            "* * * * * \n",
            "* * * * \n",
            "* * * \n",
            "* * \n",
            "* \n"
          ]
        }
      ]
    },
    {
      "cell_type": "code",
      "source": [
        "n = 7\n",
        "for i in range(n):\n",
        "  for j in range(i,n):\n",
        "    print(' ',end=' ')\n",
        "  for j in range(i+1):\n",
        "    print('*',end=' ')\n",
        "  print()"
      ],
      "metadata": {
        "colab": {
          "base_uri": "https://localhost:8080/"
        },
        "id": "RPs9si2AwJxJ",
        "outputId": "86abacc1-9535-4ef5-8686-0437e8985837"
      },
      "execution_count": null,
      "outputs": [
        {
          "output_type": "stream",
          "name": "stdout",
          "text": [
            "              * \n",
            "            * * \n",
            "          * * * \n",
            "        * * * * \n",
            "      * * * * * \n",
            "    * * * * * * \n",
            "  * * * * * * * \n"
          ]
        }
      ]
    },
    {
      "cell_type": "code",
      "source": [
        "n = 7\n",
        "for i in range(n):\n",
        "  for j in range(i+1):\n",
        "    print(' ',end=' ')\n",
        "  for j in range(i,n):\n",
        "    print('*',end=' ')\n",
        "  print()"
      ],
      "metadata": {
        "colab": {
          "base_uri": "https://localhost:8080/"
        },
        "id": "yVr-BRS-ygpz",
        "outputId": "799a37f5-764a-4b9d-9f77-3193eb4f016f"
      },
      "execution_count": null,
      "outputs": [
        {
          "output_type": "stream",
          "name": "stdout",
          "text": [
            "  * * * * * * * \n",
            "    * * * * * * \n",
            "      * * * * * \n",
            "        * * * * \n",
            "          * * * \n",
            "            * * \n",
            "              * \n"
          ]
        }
      ]
    },
    {
      "cell_type": "code",
      "source": [
        "n = 8\n",
        "for i in range(n):\n",
        "  for j in range(i,n):\n",
        "    print(' ',end=' ')\n",
        "  for j in range(i):\n",
        "    print('*',end=' ')\n",
        "  for j in range(i+1):\n",
        "    print('*',end=' ')\n",
        "  print()\n",
        "\n"
      ],
      "metadata": {
        "colab": {
          "base_uri": "https://localhost:8080/"
        },
        "id": "N3aGKUea0np4",
        "outputId": "a8366aa0-a2ad-42c3-8e82-a1378972beb1"
      },
      "execution_count": null,
      "outputs": [
        {
          "output_type": "stream",
          "name": "stdout",
          "text": [
            "                * \n",
            "              * * * \n",
            "            * * * * * \n",
            "          * * * * * * * \n",
            "        * * * * * * * * * \n",
            "      * * * * * * * * * * * \n",
            "    * * * * * * * * * * * * * \n",
            "  * * * * * * * * * * * * * * * \n"
          ]
        }
      ]
    },
    {
      "cell_type": "code",
      "source": [
        "# To print triangle pattern \n",
        "\n",
        "n = int(input('Enter a number: '))\n",
        "for i in range(1, n+1):\n",
        "  for j in range(1, i+1):\n",
        "    print(j,end=' ')\n",
        "  print()\n",
        "  "
      ],
      "metadata": {
        "id": "yGwullDuuPUz",
        "colab": {
          "base_uri": "https://localhost:8080/"
        },
        "outputId": "1a947770-8062-4870-ebae-486e75a465ca"
      },
      "execution_count": null,
      "outputs": [
        {
          "output_type": "stream",
          "name": "stdout",
          "text": [
            "Enter a number: 8\n",
            "1 \n",
            "1 2 \n",
            "1 2 3 \n",
            "1 2 3 4 \n",
            "1 2 3 4 5 \n",
            "1 2 3 4 5 6 \n",
            "1 2 3 4 5 6 7 \n",
            "1 2 3 4 5 6 7 8 \n"
          ]
        }
      ]
    },
    {
      "cell_type": "code",
      "source": [
        "n = int(input('Enter a number: '))\n",
        "for i in range(n,0,-1):\n",
        "  for j in range(1,i+1):\n",
        "    print(j,end=' ')\n",
        "  print()\n"
      ],
      "metadata": {
        "id": "P8xbNjDOuPSG",
        "colab": {
          "base_uri": "https://localhost:8080/"
        },
        "outputId": "2cc74a83-eaa1-47f8-f2dd-a51f26362d43"
      },
      "execution_count": null,
      "outputs": [
        {
          "output_type": "stream",
          "name": "stdout",
          "text": [
            "Enter a number: 9\n",
            "1 2 3 4 5 6 7 8 9 \n",
            "1 2 3 4 5 6 7 8 \n",
            "1 2 3 4 5 6 7 \n",
            "1 2 3 4 5 6 \n",
            "1 2 3 4 5 \n",
            "1 2 3 4 \n",
            "1 2 3 \n",
            "1 2 \n",
            "1 \n"
          ]
        }
      ]
    },
    {
      "cell_type": "code",
      "source": [
        "n = int(input('Enter a number: '))\n",
        "for i in range(1,n+1):\n",
        "  for j in range(1, i+1):\n",
        "    print(i,end='')\n",
        "  print()"
      ],
      "metadata": {
        "id": "0bUT2gVsuPPA",
        "colab": {
          "base_uri": "https://localhost:8080/"
        },
        "outputId": "f0be9393-4794-427c-af4f-d59c8ec05058"
      },
      "execution_count": null,
      "outputs": [
        {
          "output_type": "stream",
          "name": "stdout",
          "text": [
            "Enter a number: 8\n",
            "1\n",
            "22\n",
            "333\n",
            "4444\n",
            "55555\n",
            "666666\n",
            "7777777\n",
            "88888888\n"
          ]
        }
      ]
    },
    {
      "cell_type": "code",
      "source": [
        "# Python Program to compute simple interest given all the required values. \n",
        " \n",
        "principle=int(input(\"Enter the principle amount:\"))\n",
        "time=int(input(\"Enter the time(years):\"))\n",
        "rate=float(input(\"Enter the rate:\"))\n",
        "si = (principle*time*rate)/100\n",
        "print(si)"
      ],
      "metadata": {
        "id": "Z3H71kBHuPMR",
        "colab": {
          "base_uri": "https://localhost:8080/"
        },
        "outputId": "ea537c25-bffb-41f3-b69c-9784b4309c30"
      },
      "execution_count": null,
      "outputs": [
        {
          "output_type": "stream",
          "name": "stdout",
          "text": [
            "Enter the principle amount:2000\n",
            "Enter the time(years):3\n",
            "Enter the rate:5.5\n",
            "330.0\n"
          ]
        }
      ]
    },
    {
      "cell_type": "code",
      "source": [
        "# To find C.I\n",
        "\n",
        "def findCi(p,r,t):\n",
        "  amount = p*(pow((1+r/100),t))\n",
        "  ci = amount-p\n",
        "  print(\"Compound Interest is\", ci)\n",
        "\n",
        "findCi(10000,10,5)"
      ],
      "metadata": {
        "id": "3gh9sjNtuPKe",
        "colab": {
          "base_uri": "https://localhost:8080/"
        },
        "outputId": "a52bf29b-84ba-405e-82f5-2635f279f5e2"
      },
      "execution_count": null,
      "outputs": [
        {
          "output_type": "stream",
          "name": "stdout",
          "text": [
            "Compound Interest is 6105.100000000006\n"
          ]
        }
      ]
    },
    {
      "cell_type": "code",
      "source": [
        "#Swap any two element in list\n",
        "\n",
        "l1 = [88,90,77,4,87]\n",
        "p1,p2 = 3,4\n",
        "l1[p1],l1[p2] = l1[p2],l1[p1]\n",
        "print(l1)"
      ],
      "metadata": {
        "id": "82B5I5qVuPFo",
        "colab": {
          "base_uri": "https://localhost:8080/"
        },
        "outputId": "0b554e2a-c919-48f5-ab3b-46dcdd98bc8c"
      },
      "execution_count": null,
      "outputs": [
        {
          "output_type": "stream",
          "name": "stdout",
          "text": [
            "[88, 90, 77, 87, 4]\n"
          ]
        }
      ]
    },
    {
      "cell_type": "code",
      "source": [
        "#To swap the numbers without the third variable\n",
        "\n",
        "a = int(input(\"Enter the number:\"))\n",
        "b = int(input(\"Enter the number:\"))\n",
        "\n",
        "a = a+b\n",
        "b = a-b\n",
        "a = a-b\n",
        "print(\"After swapping\")\n",
        "print(\"The value of a is\", a)\n",
        "print(\"The value of b is\", b)"
      ],
      "metadata": {
        "id": "7_GHnsQiuPBA"
      },
      "execution_count": null,
      "outputs": []
    },
    {
      "cell_type": "markdown",
      "source": [
        "# **Some prev Q<<**"
      ],
      "metadata": {
        "id": "95kr_OMaV5IN"
      }
    },
    {
      "cell_type": "code",
      "source": [
        "#Python Program To Print All The Factors Of Given Number - Factors of the number are the number which divides the number completely without leaving any remainder\n",
        "\n",
        "n = int(input('Enter the nums chunks:> '))\n",
        "print('Num chunks are', n)\n",
        "for i in range(1, n+1):\n",
        "  if n%i==0:\n",
        "    print(i)\n"
      ],
      "metadata": {
        "id": "uPpSeZisd3MV",
        "colab": {
          "base_uri": "https://localhost:8080/"
        },
        "outputId": "2ef5ea57-8812-4f68-c2ce-bf1bf1f214f3"
      },
      "execution_count": null,
      "outputs": [
        {
          "output_type": "stream",
          "name": "stdout",
          "text": [
            "Enter the nums chunks:> 8\n",
            "Num chunks are 8\n",
            "1\n",
            "2\n",
            "4\n",
            "8\n"
          ]
        }
      ]
    },
    {
      "cell_type": "code",
      "source": [
        "#Find minimum sum of factors of number????\n",
        "\n",
        "def findMinSum(num):\n",
        "    sum = 0\n",
        " \n",
        "    i = 2\n",
        "    while(i * i <= num):\n",
        "        while(num % i == 0):\n",
        "            sum += i\n",
        "            num //= i\n",
        "        i += 1\n",
        "    sum += num\n",
        "\n",
        "    return sum\n",
        " \n",
        "num = 12\n",
        "print (findMinSum(num))"
      ],
      "metadata": {
        "colab": {
          "base_uri": "https://localhost:8080/"
        },
        "id": "gJf_cDPP8f8w",
        "outputId": "2cff63c0-077a-425b-867a-d368eff19a7a"
      },
      "execution_count": null,
      "outputs": [
        {
          "output_type": "stream",
          "name": "stdout",
          "text": [
            "7\n"
          ]
        }
      ]
    },
    {
      "cell_type": "code",
      "source": [
        "# Python program to remove empty list from the main list\n",
        "\n",
        "test_list = [5, 6, [], 3, [], [], 9,[],8,[]]\n",
        "res = [elm for elm in test_list if elm]\n",
        "print(res)"
      ],
      "metadata": {
        "id": "g-VPK-iTuO9L",
        "colab": {
          "base_uri": "https://localhost:8080/"
        },
        "outputId": "1f232ae8-7a2f-4a6a-f060-bb8ee74e00d0"
      },
      "execution_count": null,
      "outputs": [
        {
          "output_type": "stream",
          "name": "stdout",
          "text": [
            "[5, 6, 3, 9, 8]\n"
          ]
        }
      ]
    },
    {
      "cell_type": "code",
      "source": [
        "#String Palindrome Program in Python\n",
        "\n",
        "s = input(\"Enter string:\")\n",
        "if s == s[::-1]:\n",
        "  print('palin')\n",
        "else:\n",
        "  print('no palin')"
      ],
      "metadata": {
        "colab": {
          "base_uri": "https://localhost:8080/"
        },
        "id": "_yI_VmhkcYxV",
        "outputId": "94daa7ac-0a50-43ed-d70e-75fa906bae16"
      },
      "execution_count": null,
      "outputs": [
        {
          "output_type": "stream",
          "name": "stdout",
          "text": [
            "Enter string:juhu\n",
            "no palin\n"
          ]
        }
      ]
    },
    {
      "cell_type": "code",
      "source": [
        "#check whether two str are anagrams or not\n",
        "\n",
        "s1 = input('Enter a word')\n",
        "s2 = input('Enter another word, would ya?')\n",
        "\n",
        "if sorted(s1)==sorted(s2):\n",
        "  print('ITS ANAGRAM')\n",
        "else:\n",
        "  print('NOT A ANAGRAM boooo')\n"
      ],
      "metadata": {
        "id": "1kS-eSZmXXcb",
        "colab": {
          "base_uri": "https://localhost:8080/"
        },
        "outputId": "e8e3ebba-1cd7-4036-d5f8-d2c571926d29"
      },
      "execution_count": null,
      "outputs": [
        {
          "output_type": "stream",
          "name": "stdout",
          "text": [
            "Enter a worddog\n",
            "Enter another word, would ya?god\n",
            "ITS ANAGRAM\n"
          ]
        }
      ]
    },
    {
      "cell_type": "code",
      "source": [
        "#Iterate over a dictionary in Python\n",
        "statesAndCapitals = {\n",
        "    'Gujarat': 'Gandhinagar',\n",
        "    'Maharashtra': 'Mumbai',\n",
        "    'Rajasthan': 'Jaipur',\n",
        "    'Bihar': 'Patna'\n",
        "}\n",
        " \n",
        "keys = statesAndCapitals.values()\n",
        "print(keys)"
      ],
      "metadata": {
        "colab": {
          "base_uri": "https://localhost:8080/"
        },
        "id": "FTH9_Y10cYuQ",
        "outputId": "fac26dd0-b921-4ab0-f9bd-3300bb5d8a75"
      },
      "execution_count": null,
      "outputs": [
        {
          "output_type": "stream",
          "name": "stdout",
          "text": [
            "dict_values(['Gandhinagar', 'Mumbai', 'Jaipur', 'Patna'])\n"
          ]
        }
      ]
    },
    {
      "cell_type": "code",
      "source": [
        "#program to find second largest number in a list\n",
        "\n",
        "l1 = [10, 20, 20, 4, 45, 45, 80, 49, 45, 99, 99]\n",
        "l2 = list(set(l1))\n",
        "l2.sort()\n",
        "print(l2[-2])\n",
        "\n",
        "# for smallest no change -2 with 0"
      ],
      "metadata": {
        "id": "DUWzyT2FcYq_",
        "colab": {
          "base_uri": "https://localhost:8080/"
        },
        "outputId": "13de4104-7b50-40fc-8de5-d3bd918da10e"
      },
      "execution_count": null,
      "outputs": [
        {
          "output_type": "stream",
          "name": "stdout",
          "text": [
            "80\n"
          ]
        }
      ]
    },
    {
      "cell_type": "code",
      "source": [
        "#Python program to find odd numbers in range\n",
        "\n",
        "start = int(input(\"Enter number to start: \"))\n",
        "end = int(input(\"Enter number to end: \"))\n",
        "\n",
        "for i in range(start, end+1):\n",
        "  if i %2==1:\n",
        "    print('The odds are',i)"
      ],
      "metadata": {
        "id": "vWGuCeHEcYlR"
      },
      "execution_count": null,
      "outputs": []
    },
    {
      "cell_type": "code",
      "source": [
        "#Python Program to Swap the First and Last Element in a List\n",
        "\n",
        "l1 = [88,90,77,4,66]\n",
        "temp = l1[0]\n",
        "l1[0] = l1[-1]\n",
        "l1[-1] = temp\n",
        "print(l1)"
      ],
      "metadata": {
        "id": "TYy7sElicYiT",
        "colab": {
          "base_uri": "https://localhost:8080/"
        },
        "outputId": "79bd867e-0e65-4cfa-dbb5-f3d3fa083830"
      },
      "execution_count": null,
      "outputs": [
        {
          "output_type": "stream",
          "name": "stdout",
          "text": [
            "[66, 90, 77, 4, 88]\n"
          ]
        }
      ]
    },
    {
      "cell_type": "code",
      "source": [
        "# Python Program to reverse a given number.\n",
        "\n",
        "num = 3456\n",
        "print(\"Given number\", num)\n",
        "while num>0:\n",
        "  dig = num % 10\n",
        "  num = num // 10\n",
        "  print(dig,end=' ')"
      ],
      "metadata": {
        "id": "ufH8G_TGcYfJ",
        "colab": {
          "base_uri": "https://localhost:8080/"
        },
        "outputId": "23df5018-9ecc-488f-c42e-365e91eb427d"
      },
      "execution_count": null,
      "outputs": [
        {
          "output_type": "stream",
          "name": "stdout",
          "text": [
            "Given number 3456\n",
            "6 5 4 3 "
          ]
        }
      ]
    },
    {
      "cell_type": "code",
      "source": [
        "#Sum of Digits Program in Python\n",
        "\n",
        "n=int(input(\"Enter a number:\"))\n",
        "tot = 0\n",
        "print('digits to be added',n)\n",
        "while n>0:\n",
        "  dig = n%10\n",
        "  tot = tot + dig\n",
        "  n = n//10\n",
        "print(tot)"
      ],
      "metadata": {
        "colab": {
          "base_uri": "https://localhost:8080/"
        },
        "id": "sA-qz7HC6CAU",
        "outputId": "7f549ec8-f024-41c7-b5ac-075d1f131b05"
      },
      "execution_count": null,
      "outputs": [
        {
          "output_type": "stream",
          "name": "stdout",
          "text": [
            "Enter a number:56\n",
            "digits to be added 56\n",
            "11\n"
          ]
        }
      ]
    },
    {
      "cell_type": "code",
      "source": [
        "# Count occurrences of an element\n",
        "\n",
        "a = [1,2,3,1,1,5,6,1,1]\n",
        "count = 0\n",
        "for i in a:\n",
        "  if i==1:\n",
        "    count = count+1\n",
        "print(count)\n"
      ],
      "metadata": {
        "id": "dCAWYmW-cYb9",
        "colab": {
          "base_uri": "https://localhost:8080/"
        },
        "outputId": "d520c92a-f8e0-4bce-c7d5-da504ac1c001"
      },
      "execution_count": null,
      "outputs": [
        {
          "output_type": "stream",
          "name": "stdout",
          "text": [
            "5\n"
          ]
        }
      ]
    },
    {
      "cell_type": "code",
      "source": [
        "#count occurance of all element in string\n",
        "\n",
        "s = 'AAVVHHJopk'\n",
        "l = []\n",
        "\n",
        "for ch in s:\n",
        "  if ch not in l:\n",
        "    l.append(ch)\n",
        "for ch in sorted(l):\n",
        "  print('{} occurs {} times'.format(ch,s.count(ch)))"
      ],
      "metadata": {
        "id": "_V-T8RxMcYY1"
      },
      "execution_count": null,
      "outputs": []
    },
    {
      "cell_type": "markdown",
      "source": [
        "# MIXED"
      ],
      "metadata": {
        "id": "DJL1aTdR9CCc"
      }
    },
    {
      "cell_type": "code",
      "source": [
        "# Python program to print duplicates from a list of integers\n",
        "\n",
        "lis = [1, 2, 1, 2, 3, 4, 5, 1, 1, 2,0, 5, 6, 7, 8, 9, 9]\n",
        "unq_list = []\n",
        "dup_list = []\n",
        "\n",
        "for i in lis:\n",
        "  if i not in unq_list:\n",
        "    unq_list.append(i)\n",
        "  elif i not in dup_list:\n",
        "    dup_list.append(i)\n",
        "\n",
        "print(dup_list)"
      ],
      "metadata": {
        "id": "91YsldpdcYSM",
        "colab": {
          "base_uri": "https://localhost:8080/"
        },
        "outputId": "75b0236b-5ae7-4a62-93ce-aed4f71e0b61"
      },
      "execution_count": null,
      "outputs": [
        {
          "output_type": "stream",
          "name": "stdout",
          "text": [
            "[1, 2, 5, 9]\n"
          ]
        }
      ]
    },
    {
      "cell_type": "code",
      "source": [
        "#Python Program to calculate the number of words and characters present in a string.\n",
        "\n",
        "s = input('Enter some words')\n",
        "c = 0\n",
        "w = 1\n",
        "\n",
        "for i in s:\n",
        "  c +=1\n",
        "  if (i==' '):\n",
        "    w +=1\n",
        "print(\"Number of words in the string:\",w)\n",
        "print(\"Number of characters in the string:\",c)"
      ],
      "metadata": {
        "colab": {
          "base_uri": "https://localhost:8080/"
        },
        "id": "3EDAKeiL9V8Y",
        "outputId": "8881d131-edaa-47a9-df79-d45aa36cb9f2"
      },
      "execution_count": null,
      "outputs": [
        {
          "output_type": "stream",
          "name": "stdout",
          "text": [
            "Enter some wordsyui  no\n",
            "Number of words in the string: 3\n",
            "Number of characters in the string: 7\n"
          ]
        }
      ]
    },
    {
      "cell_type": "code",
      "source": [
        "#Python Program to Count Number of Lowercase Characters in a String\n",
        "\n",
        "s = input('Enter some words: ')\n",
        "c = 0\n",
        "\n",
        "for i in s:\n",
        "  if (i.islower()):\n",
        "    c += 1\n",
        "print(\"The number of lowercase characters is:\",c)"
      ],
      "metadata": {
        "colab": {
          "base_uri": "https://localhost:8080/"
        },
        "id": "v9AT3IhZ9Vyq",
        "outputId": "aabd1981-d524-4be1-c920-1e69991595ad"
      },
      "execution_count": null,
      "outputs": [
        {
          "output_type": "stream",
          "name": "stdout",
          "text": [
            "Enter some wordsFGnm\n",
            "The number of lowercase characters is: 2\n"
          ]
        }
      ]
    },
    {
      "cell_type": "code",
      "source": [
        "#Python Program to Count the Number of Vowels in a String\n",
        "\n",
        "sentence = input(\"Enter the sentence:\")\n",
        "s = sentence.lower()\n",
        "vow = ['a','e','i','o','u']\n",
        "count = 0\n",
        "\n",
        "for ch in s:\n",
        "  if ch in vow:\n",
        "    count +=1\n",
        "print(\"Number of vowels in given sentence is:\",count)"
      ],
      "metadata": {
        "colab": {
          "base_uri": "https://localhost:8080/"
        },
        "id": "PM6PTRiDDEIS",
        "outputId": "de391213-6fe2-40bf-91d5-e41cba3aed21"
      },
      "execution_count": null,
      "outputs": [
        {
          "output_type": "stream",
          "name": "stdout",
          "text": [
            "Enter the sentence:giniae\n",
            "Number of vowels in given sentence is: 4\n"
          ]
        }
      ]
    },
    {
      "cell_type": "code",
      "source": [
        "sentence = input(\"Enter the sentence:\")\n",
        "s = sentence.lower()\n",
        "vow = ['a','e','i','o','u']\n",
        "count = 0\n",
        "\n",
        "for i in s:\n",
        "  if i in vow:\n",
        "    count +=1\n",
        "print(\"Number of vowels in given sentence is:\",count)"
      ],
      "metadata": {
        "colab": {
          "base_uri": "https://localhost:8080/"
        },
        "id": "tTd6CUn_0WB9",
        "outputId": "a39757d1-87c8-4aed-d605-1f5638fd583b"
      },
      "execution_count": null,
      "outputs": [
        {
          "name": "stdout",
          "output_type": "stream",
          "text": [
            "Enter the sentence:gihkctjg\n"
          ]
        }
      ]
    },
    {
      "cell_type": "code",
      "source": [
        "#Python Program to Generate Random Numbers from 1 to 20 and Append Them to the List\n",
        "\n",
        "import random\n",
        "n=int(input(\"Enter number of elements:\"))\n",
        "l = []\n",
        "for i in range(n):\n",
        "  l.append(random.randint(1,20))\n",
        "print('Randomised list is: ',l)"
      ],
      "metadata": {
        "id": "MYLDfhv2DEFO",
        "colab": {
          "base_uri": "https://localhost:8080/"
        },
        "outputId": "d7c2280e-25b6-4c97-d79d-5d6d9dda6d46"
      },
      "execution_count": null,
      "outputs": [
        {
          "output_type": "stream",
          "name": "stdout",
          "text": [
            "Enter number of elements:7\n",
            "Randomised list is:  [3, 10, 1, 14, 8, 2, 13]\n"
          ]
        }
      ]
    },
    {
      "cell_type": "markdown",
      "source": [
        "# **New pattern**"
      ],
      "metadata": {
        "id": "oCyPB8nKHSAh"
      }
    },
    {
      "cell_type": "code",
      "source": [
        "#Python Program to find Sum of Cube of Digits\n",
        "\n",
        "n = int(input('Enter any number: '))\n",
        "sum = 0\n",
        "while n>0:\n",
        "  sum = sum + (n%10)*(n%10)*(n%10)\n",
        "  n = n//10\n",
        "print(sum)\n",
        "\n"
      ],
      "metadata": {
        "colab": {
          "base_uri": "https://localhost:8080/"
        },
        "id": "YmG-i3BRK38H",
        "outputId": "3f1a44eb-f48f-48b1-b848-3ab64376dd7a"
      },
      "execution_count": null,
      "outputs": [
        {
          "output_type": "stream",
          "name": "stdout",
          "text": [
            "Enter any number: 123\n",
            "36\n"
          ]
        }
      ]
    },
    {
      "cell_type": "code",
      "source": [
        "#Python Program to Check Armstrong Number???????\n",
        "'''\n",
        "In case of an Armstrong number of 3 digits, the sum of cubes of each digit is equal to the number itself. For example:\n",
        "\n",
        "153 = 1*1*1 + 5*5*5 + 3*3*3  // 153 is an Armstrong number.\n",
        "'''\n",
        "\n",
        "n = int(input('Enter any number: '))\n",
        "orign = n\n",
        "sum = 0\n",
        "\n",
        "while n>0:\n",
        "  sum = sum + (n%10)*(n%10)*(n%10)\n",
        "  n = n // 10\n",
        "if sum==orign:\n",
        "  print(\"Armstrong\")\n",
        "else:\n",
        "  print('Not armstrong')"
      ],
      "metadata": {
        "id": "i9tYGfUpWDva",
        "colab": {
          "base_uri": "https://localhost:8080/"
        },
        "outputId": "24c70ccf-7edd-441c-fc32-77ebad0cec26"
      },
      "execution_count": null,
      "outputs": [
        {
          "output_type": "stream",
          "name": "stdout",
          "text": [
            "Enter any number: 267\n",
            "Not armstrong\n"
          ]
        }
      ]
    },
    {
      "cell_type": "code",
      "source": [],
      "metadata": {
        "id": "jy6xPQ7pWDmX"
      },
      "execution_count": null,
      "outputs": []
    },
    {
      "cell_type": "code",
      "source": [],
      "metadata": {
        "id": "GbiJwBLtWDjg"
      },
      "execution_count": null,
      "outputs": []
    }
  ]
}