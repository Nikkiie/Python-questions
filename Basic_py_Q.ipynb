{
  "nbformat": 4,
  "nbformat_minor": 0,
  "metadata": {
    "colab": {
      "provenance": [],
      "authorship_tag": "ABX9TyOQ0wtK56negfrS7e/E7ol7",
      "include_colab_link": true
    },
    "kernelspec": {
      "name": "python3",
      "display_name": "Python 3"
    },
    "language_info": {
      "name": "python"
    }
  },
  "cells": [
    {
      "cell_type": "markdown",
      "metadata": {
        "id": "view-in-github",
        "colab_type": "text"
      },
      "source": [
        "<a href=\"https://colab.research.google.com/github/Nikkiie/Python-questions/blob/main/Basic_py_Q.ipynb\" target=\"_parent\"><img src=\"https://colab.research.google.com/assets/colab-badge.svg\" alt=\"Open In Colab\"/></a>"
      ]
    },
    {
      "cell_type": "code",
      "source": [
        "#To remove multiple elements from a list\n",
        "\n",
        "listnum = [12, 44, 67, 89]\n",
        "del listnum[0:4]\n",
        "print(listnum)"
      ],
      "metadata": {
        "colab": {
          "base_uri": "https://localhost:8080/"
        },
        "id": "Sxvb4hiR5HP5",
        "outputId": "50616802-3508-4f63-ed54-a58d8ed7aa78"
      },
      "execution_count": null,
      "outputs": [
        {
          "output_type": "stream",
          "name": "stdout",
          "text": [
            "[]\n"
          ]
        }
      ]
    },
    {
      "cell_type": "code",
      "source": [
        "#To remove multiple elements from a list\n",
        "\n",
        "list1 = [11, 5, 17, 18, 23, 50]\n",
        "unwanted = [0, 3, 4]\n",
        "\n",
        "for elm in sorted(unwanted, reverse=True):\n",
        "  del list1[elm]\n",
        "  print(list1)\n"
      ],
      "metadata": {
        "colab": {
          "base_uri": "https://localhost:8080/"
        },
        "id": "2KILgl11h7By",
        "outputId": "0c204921-0917-4a9a-e7b7-c32fd2f4f287"
      },
      "execution_count": null,
      "outputs": [
        {
          "output_type": "stream",
          "name": "stdout",
          "text": [
            "[11, 5, 17, 18, 50]\n",
            "[11, 5, 17, 50]\n",
            "[5, 17, 50]\n"
          ]
        }
      ]
    },
    {
      "cell_type": "code",
      "source": [
        "# To print triangle pattern \n",
        "\n",
        "n = int(input(\"Enter the number:\"))\n",
        "for i in range(1,n+1):\n",
        "  for j in range(1,i+1):\n",
        "    print(j,end=\"\")\n",
        "  print()"
      ],
      "metadata": {
        "id": "WjXIhW6ZJiHi",
        "colab": {
          "base_uri": "https://localhost:8080/"
        },
        "outputId": "0f97d9ef-d80f-4f03-b447-b79a3bdc7fdd"
      },
      "execution_count": null,
      "outputs": [
        {
          "output_type": "stream",
          "name": "stdout",
          "text": [
            "Enter the number:8\n",
            "1\n",
            "12\n",
            "123\n",
            "1234\n",
            "12345\n",
            "123456\n",
            "1234567\n",
            "12345678\n"
          ]
        }
      ]
    },
    {
      "cell_type": "code",
      "source": [
        "n = int(input(\"Enter the number:\"))\n",
        "for i in range(1,n+1):\n",
        "  for j in range(1,i+1):\n",
        "    print(i,end=\"\")\n",
        "  print()"
      ],
      "metadata": {
        "id": "yO2ECYzMhOSD",
        "colab": {
          "base_uri": "https://localhost:8080/"
        },
        "outputId": "ea97f41f-a761-402f-a34f-758501321a20"
      },
      "execution_count": null,
      "outputs": [
        {
          "output_type": "stream",
          "name": "stdout",
          "text": [
            "Enter the number:6\n",
            "1\n",
            "22\n",
            "333\n",
            "4444\n",
            "55555\n",
            "666666\n"
          ]
        }
      ]
    },
    {
      "cell_type": "code",
      "source": [
        "# To print triangle in different shape\n",
        "n = int(input(\"Enter the number:\"))\n",
        "for i in range(n,0,-1):\n",
        "  for j in range(1, i+1):\n",
        "    print(j,end=\"\")\n",
        "  print()"
      ],
      "metadata": {
        "id": "Pjb8XARQhOOq",
        "colab": {
          "base_uri": "https://localhost:8080/"
        },
        "outputId": "ecea5344-aca4-4c61-95d2-d3b8db9a2202"
      },
      "execution_count": null,
      "outputs": [
        {
          "output_type": "stream",
          "name": "stdout",
          "text": [
            "Enter the number:8\n",
            "12345678\n",
            "1234567\n",
            "123456\n",
            "12345\n",
            "1234\n",
            "123\n",
            "12\n",
            "1\n"
          ]
        }
      ]
    },
    {
      "cell_type": "code",
      "source": [
        "#To count vowels from a sentence\n",
        "\n",
        "sentence = input(\"Enter the sentence:\")\n",
        "string = sentence.lower()\n",
        "count = 0\n",
        "list1 = ['a', 'e', 'i', 'o', 'u']\n",
        "\n",
        "for char in string:\n",
        "  if char in list1:\n",
        "    count = count+1\n",
        "\n",
        "print(\"Number of vowels in given sentence is:\", count)"
      ],
      "metadata": {
        "id": "QQHqDOGLhOMo",
        "colab": {
          "base_uri": "https://localhost:8080/"
        },
        "outputId": "60026b50-bc63-4cd9-a2fc-f5fb415da4ba"
      },
      "execution_count": null,
      "outputs": [
        {
          "output_type": "stream",
          "name": "stdout",
          "text": [
            "Enter the sentence:callmewhenyouwant\n",
            "Number of vowels in given sentence is: 6\n"
          ]
        }
      ]
    },
    {
      "cell_type": "code",
      "source": [
        "#User will input (3ages).Find the oldest one\n",
        "\n",
        "first = int(input(\"Enter the first age:\"))\n",
        "second = int(input(\"Enter the second age:\"))\n",
        "third = int(input(\"Enter the third age:\"))\n",
        "\n",
        "maxx = a\n",
        "if maxx < b:\n",
        "  maxx = b  \n",
        "if maxx < c:\n",
        "    maxx = c\n",
        "print(maxx) "
      ],
      "metadata": {
        "id": "eV9BRF69Wnzp",
        "colab": {
          "base_uri": "https://localhost:8080/"
        },
        "outputId": "c33449ba-87cb-4601-eea4-7ebacdea7d94"
      },
      "execution_count": null,
      "outputs": [
        {
          "output_type": "stream",
          "name": "stdout",
          "text": [
            "Enter the first age:7\n",
            "Enter the second age:9\n",
            "Enter the third age:5\n",
            "11\n"
          ]
        }
      ]
    },
    {
      "cell_type": "code",
      "source": [
        "#. Write a program that will convert celsius value to fahrenheit\n",
        "\n",
        "temp = float(input(\"Enter the temp:\"))\n",
        "fahrenheit = (temp*1.8)+32\n",
        "print(fahrenheit)"
      ],
      "metadata": {
        "id": "fyo3n9bNWnxq",
        "colab": {
          "base_uri": "https://localhost:8080/"
        },
        "outputId": "dfcfe3c3-a9e2-444a-817e-82c998d135d8"
      },
      "execution_count": null,
      "outputs": [
        {
          "output_type": "stream",
          "name": "stdout",
          "text": [
            "Enter the temp:8.9\n",
            "48.019999999999996\n"
          ]
        }
      ]
    },
    {
      "cell_type": "code",
      "source": [
        "#Write a program that will give you the sum of 3 digit??\n",
        "num = int(input(\"Enter the number:\"))\n",
        "\n",
        "a = num % 10 #(345 % 10 = 5)\n",
        "num = num // 10 #(345 // 10 = 34)\n",
        "b = num % 10 #(345 % 10 = 4)\n",
        "c = num // 10 #(34 // 10 = 3)\n",
        "\n",
        "val = (a+b+c)\n",
        "print(val)\n",
        "\n"
      ],
      "metadata": {
        "id": "iINrhGp9Wnvc",
        "colab": {
          "base_uri": "https://localhost:8080/"
        },
        "outputId": "611c65b5-49f9-43d4-fd0b-4ac1d4890a13"
      },
      "execution_count": null,
      "outputs": [
        {
          "output_type": "stream",
          "name": "stdout",
          "text": [
            "Enter the number:123\n",
            "6\n"
          ]
        }
      ]
    },
    {
      "cell_type": "code",
      "source": [
        "#Write a program that will reverse a four digit number.Also it checks whether the reverse is true.\n",
        "user_input = int(input(\"Enter the 4 digit number:\"))\n",
        "num = user_input\n",
        "#digit\n",
        "\n",
        "a = num % 10\n",
        "num = num // 10\n",
        "\n",
        "b = num % 10\n",
        "num = num // 10\n",
        "\n",
        "c = num % 10\n",
        "d = num // 10\n",
        "\n",
        "#formula\n",
        "rev = 1000*a+100*b+10*c+d\n",
        "print('original no', user_input)\n",
        "print('reversed',rev)\n",
        "\n",
        "#check\n",
        "if user_input == rev:\n",
        "  print('true')\n",
        "else:\n",
        "  print('false')\n",
        "\n",
        "\n"
      ],
      "metadata": {
        "id": "Lg0eBmnGWntU",
        "colab": {
          "base_uri": "https://localhost:8080/"
        },
        "outputId": "ca33ed3c-cd2e-4d0e-a436-88238aaf9812"
      },
      "execution_count": null,
      "outputs": [
        {
          "output_type": "stream",
          "name": "stdout",
          "text": [
            "Enter the 4 digit number:1234\n",
            "original no 1234\n",
            "reversed 4321\n",
            "false\n"
          ]
        }
      ]
    },
    {
      "cell_type": "code",
      "source": [
        "#To reverse a string\n",
        "\n",
        "def reverse(string):\n",
        "  reversed_str = \" \"\n",
        "  for i in string:\n",
        "    reversed_str = i+reversed_str\n",
        "  print(\"reversed string is\",reversed_str)\n",
        "\n",
        "string = input(\"enter a string:\")\n",
        "print(\"entered string\",string)\n",
        "reverse(string)"
      ],
      "metadata": {
        "id": "xCOdkcobWnqc",
        "colab": {
          "base_uri": "https://localhost:8080/"
        },
        "outputId": "c6cd0b23-f12d-4b86-e8d2-f698a5c8ebbc"
      },
      "execution_count": null,
      "outputs": [
        {
          "output_type": "stream",
          "name": "stdout",
          "text": [
            "enter a string:rang\n",
            "entered string rang\n",
            "reversed string is gnar \n"
          ]
        }
      ]
    },
    {
      "cell_type": "code",
      "source": [
        "# To check entered number is perfect or not\n",
        "\n",
        "num =  int(input(\"Enter the number:\"))\n",
        "result = 0\n",
        "for i in range(1, num):\n",
        "  if (num % i) == 0:\n",
        "    result = result+i\n",
        "if result == num:\n",
        "  print(num,\"is perfect no\")\n",
        "else:\n",
        "  print(num, \"is not a perfect no\")"
      ],
      "metadata": {
        "id": "2XW1twvVWnmf",
        "colab": {
          "base_uri": "https://localhost:8080/"
        },
        "outputId": "01170157-8c8f-4fd9-fbf6-8019bf25155c"
      },
      "execution_count": null,
      "outputs": [
        {
          "output_type": "stream",
          "name": "stdout",
          "text": [
            "Enter the number:6\n",
            "6 is perfect no\n"
          ]
        }
      ]
    },
    {
      "cell_type": "markdown",
      "source": [
        "## String ques from ytube dur---"
      ],
      "metadata": {
        "id": "UsFd53v3SmmC"
      }
    },
    {
      "cell_type": "code",
      "source": [
        "# Program to print string whose number are more than 5\n",
        "\n",
        "l1 = ['Apple', \"Grapes\", \"Lemon\", \"pomogrenate\", \"litchi\", \"yoghurt\"]\n",
        "f = lambda x: len(x)>5\n",
        "l2 = []\n",
        "for y in l1:\n",
        "  if f(y)==True:\n",
        "    l2.append(y)\n",
        "print(l2)"
      ],
      "metadata": {
        "colab": {
          "base_uri": "https://localhost:8080/"
        },
        "id": "3KqSYMgPSmK8",
        "outputId": "d5ae85e4-a8a8-4b70-e8b3-2a6f5767cc21"
      },
      "execution_count": null,
      "outputs": [
        {
          "output_type": "stream",
          "name": "stdout",
          "text": [
            "['Grapes', 'pomogrenate', 'litchi', 'yoghurt']\n"
          ]
        }
      ]
    },
    {
      "cell_type": "code",
      "source": [
        "# program to reverse given string\n",
        "\n",
        "s = 'nikki'\n",
        "s1 = s[::-1]\n",
        "print(s1)\n",
        "\n",
        "# without using slicing\n",
        "\n",
        "new = ''\n",
        "i = len(s)-1\n",
        "while i > 0:\n",
        "  new = new+s[i]\n",
        "  i = i-1\n",
        "print(new)"
      ],
      "metadata": {
        "id": "OcUVuRT8SmH0"
      },
      "execution_count": null,
      "outputs": []
    },
    {
      "cell_type": "code",
      "source": [
        "#program to reverse order of words\n",
        "\n",
        "s = 'i have to have it'\n",
        "l = s.split()\n",
        "l1 = l[::-1]\n",
        "print(l1)\n",
        "out = ' '.join(l1)\n",
        "print(out)"
      ],
      "metadata": {
        "id": "pkfI7es2SmE7",
        "colab": {
          "base_uri": "https://localhost:8080/"
        },
        "outputId": "93fb7421-90fc-496f-c6b1-d2261d3a3fc4"
      },
      "execution_count": null,
      "outputs": [
        {
          "output_type": "stream",
          "name": "stdout",
          "text": [
            "['it', 'have', 'to', 'have', 'i']\n",
            "it have to have i\n"
          ]
        }
      ]
    },
    {
      "cell_type": "code",
      "source": [
        "# to reverse internal content of each word\n",
        "\n",
        "s = \"will not accept it\"\n",
        "s1 = s.split()\n",
        "s2 = []\n",
        "for word in s1:\n",
        "  s2.append(word[::-1])\n",
        "print(s2)\n",
        "output = ' '.join(s2)\n",
        "print(output)\n",
        "\n"
      ],
      "metadata": {
        "colab": {
          "base_uri": "https://localhost:8080/"
        },
        "id": "FFr2VoyYSmCN",
        "outputId": "e18e246a-4150-45c7-b0bb-24b0e915018a"
      },
      "execution_count": null,
      "outputs": [
        {
          "output_type": "stream",
          "name": "stdout",
          "text": [
            "['lliw', 'ton', 'tpecca', 'ti']\n",
            "lliw ton tpecca ti\n"
          ]
        }
      ]
    },
    {
      "cell_type": "code",
      "source": [
        "#to print char present at even odd seperately\n",
        "\n",
        "string = \"qwerty\"\n",
        "i = 0\n",
        "print(\"Characters present at even index\")\n",
        "while(i<len(string)):\n",
        "  print(string[i])\n",
        "  i = i+2\n",
        "\n",
        "#for odd just change i = 1\n"
      ],
      "metadata": {
        "colab": {
          "base_uri": "https://localhost:8080/"
        },
        "id": "2kVEGRGpSl_6",
        "outputId": "4451974b-1c5b-4824-d933-d8c373d2be5d"
      },
      "execution_count": null,
      "outputs": [
        {
          "output_type": "stream",
          "name": "stdout",
          "text": [
            "Characters present at even index\n",
            "q\n",
            "e\n",
            "t\n"
          ]
        }
      ]
    },
    {
      "cell_type": "code",
      "source": [
        "# to sort char of strings first alpha followed by digits\n",
        "\n",
        "s = 'B3H5j8L0'\n",
        "alphas = []\n",
        "digit = []\n",
        "for elm in s:\n",
        "  if elm.isalpha():\n",
        "    alphas.append(elm)\n",
        "  else:\n",
        "    digit.append(elm)\n",
        "out = ' '.join(sorted(alphas)+sorted(digit))\n",
        "print(out)\n",
        "\n"
      ],
      "metadata": {
        "colab": {
          "base_uri": "https://localhost:8080/"
        },
        "id": "Pt-WsRsMSlyS",
        "outputId": "0bb631e5-6fd6-472c-b507-35b0106c59f9"
      },
      "execution_count": null,
      "outputs": [
        {
          "output_type": "stream",
          "name": "stdout",
          "text": [
            "B H L j 0 3 5 8\n"
          ]
        }
      ]
    },
    {
      "cell_type": "code",
      "source": [
        "def sum(*args):\n",
        "  total = 0\n",
        "  for x in args:\n",
        "    total = total+x\n",
        "    print(\"The sum:\",total)\n",
        "\n",
        "sum()\n",
        "sum(10)\n",
        "sum(10,20)\n"
      ],
      "metadata": {
        "id": "gLR4MJE4bLMa",
        "colab": {
          "base_uri": "https://localhost:8080/"
        },
        "outputId": "2b9c8e43-c460-480a-981b-677c80a95bef"
      },
      "execution_count": null,
      "outputs": [
        {
          "output_type": "stream",
          "name": "stdout",
          "text": [
            "The sum: 10\n",
            "The sum: 10\n",
            "The sum: 30\n"
          ]
        }
      ]
    },
    {
      "cell_type": "code",
      "source": [
        "def f1(**Kwargs):\n",
        "  print(Kwargs)\n",
        "\n",
        "f1 (name='Nik', rollno = 100, marks = 900)"
      ],
      "metadata": {
        "id": "FMx8EqIEjmqx",
        "colab": {
          "base_uri": "https://localhost:8080/"
        },
        "outputId": "6492d399-235d-46f7-9961-46390f629c0d"
      },
      "execution_count": null,
      "outputs": [
        {
          "output_type": "stream",
          "name": "stdout",
          "text": [
            "{'name': 'Nik', 'rollno': 100, 'marks': 900}\n"
          ]
        }
      ]
    },
    {
      "cell_type": "code",
      "source": [
        "# prg for following requirement in = a4b3c2 out = aaaabbbcc\n",
        "\n",
        "s = 'g6y7u8' \n",
        "output = \"\"\n",
        "for ch in s:\n",
        "  if ch.isalpha():\n",
        "    x = ch \n",
        "  else:\n",
        "    d = int(ch)\n",
        "    output = output + x*d \n",
        "print(\"\".join(sorted(output)))\n"
      ],
      "metadata": {
        "id": "Rn6bWSnejmor",
        "colab": {
          "base_uri": "https://localhost:8080/"
        },
        "outputId": "5542dc28-d37c-4e18-f0f9-20e1aa58004e"
      },
      "execution_count": null,
      "outputs": [
        {
          "output_type": "stream",
          "name": "stdout",
          "text": [
            "gggggguuuuuuuuyyyyyyy\n"
          ]
        }
      ]
    },
    {
      "cell_type": "code",
      "source": [
        "#in = abaabbca  out = 4a3b1c\n",
        "\n",
        "s = 'abaabbca'\n",
        "d = {}\n",
        "for ch in s:\n",
        "  d[ch] = d.get(ch,0)+1\n",
        "  output = \"\"\n",
        "  for k,v in d.items():\n",
        "    output = output + str(v)+k\n",
        "print(output)\n"
      ],
      "metadata": {
        "colab": {
          "base_uri": "https://localhost:8080/"
        },
        "id": "4IH6DqL_iAOf",
        "outputId": "aa6dc95c-3e9e-434c-a93e-bb1d138cf444"
      },
      "execution_count": null,
      "outputs": [
        {
          "output_type": "stream",
          "name": "stdout",
          "text": [
            "4a3b1c\n"
          ]
        }
      ]
    },
    {
      "cell_type": "code",
      "source": [
        "# prg for following requirement in = aaaabbbcc out = 4a3b2c\n",
        "\n",
        "s = 'aaaabbbcc'\n",
        "prev = s[0]\n",
        "output = ''\n",
        "c = 1\n",
        "i = 1\n",
        "while i< len(s):\n",
        "  if s[i]==prev:\n",
        "    c = c+1\n",
        "  else:\n",
        "    output = output + str(c) + prev\n",
        "    prev = s[i]\n",
        "    c = 1\n",
        "  if i == len(s)-1:\n",
        "     output = output + str(c) + prev\n",
        "\n",
        "\n",
        "    i = i+1\n",
        "print(output)\n"
      ],
      "metadata": {
        "id": "DUmXB3OVjmlg"
      },
      "execution_count": null,
      "outputs": []
    },
    {
      "cell_type": "code",
      "source": [
        "# In = a4k3b2   out = aeknbd\n",
        "\n",
        "s = 'a4k3b2'\n",
        "out = ''\n",
        "\n",
        "for ch in s:\n",
        "  if ch.isalpha():\n",
        "    out = out + ch\n",
        "    x = ch\n",
        "  else:\n",
        "    d = int(ch)\n",
        "    new = chr(ord(x)+d)\n",
        "    out = out + new\n",
        "print(out)"
      ],
      "metadata": {
        "id": "RO8ayLcLjmhc",
        "colab": {
          "base_uri": "https://localhost:8080/"
        },
        "outputId": "361405e4-48cb-44d5-f791-18dcde941fe4"
      },
      "execution_count": null,
      "outputs": [
        {
          "output_type": "stream",
          "name": "stdout",
          "text": [
            "aeknbd\n"
          ]
        }
      ]
    },
    {
      "cell_type": "code",
      "source": [
        "# To remove duplicate values from string\n",
        "\n",
        "s = 'AAVVHHJKLLLDWNMMMIP'\n",
        "output = ''\n",
        "for ch in s:\n",
        "  if ch not in output:\n",
        "    output = output + ch\n",
        "    print(ch)\n",
        "    "
      ],
      "metadata": {
        "id": "ZqYFQnknjmeK"
      },
      "execution_count": null,
      "outputs": []
    },
    {
      "cell_type": "code",
      "source": [
        "#Find no. of occurances of each char present in str\n",
        "\n",
        "s = 'AAVVHHJ'\n",
        "l = []\n",
        "for ch in s:\n",
        "  if ch not in l:\n",
        "    l.append(ch)\n",
        "for ch in sorted(l):\n",
        "  print('{} occurs {} times'.format(ch,s.count(ch)))\n",
        "   "
      ],
      "metadata": {
        "id": "Mhgcm4UKjmbg",
        "colab": {
          "base_uri": "https://localhost:8080/"
        },
        "outputId": "391b3bfb-e21e-4880-9283-9a07745a885d"
      },
      "execution_count": null,
      "outputs": [
        {
          "output_type": "stream",
          "name": "stdout",
          "text": [
            "A occurs 2 times\n",
            "H occurs 2 times\n",
            "J occurs 1 times\n",
            "V occurs 2 times\n"
          ]
        }
      ]
    },
    {
      "cell_type": "code",
      "source": [
        "# find no of occurances of each vowel present in str\n",
        "\n",
        "s = 'vanguardiumleviosa'\n",
        "v = {\"a\",\"e\",\"i\",\"o\",\"u\"}\n",
        "d = {}\n",
        "\n",
        "for ch in s:\n",
        "  if ch in v:\n",
        "    d[ch] = d.get(ch,0)+1\n",
        "for k,v in sorted(d.items()):\n",
        "  print('{} occurs {} times'.format(k,v))"
      ],
      "metadata": {
        "id": "om90TMGNjmY_",
        "colab": {
          "base_uri": "https://localhost:8080/"
        },
        "outputId": "bcba5e65-eaff-4c81-c878-4a9328f0c064"
      },
      "execution_count": null,
      "outputs": [
        {
          "output_type": "stream",
          "name": "stdout",
          "text": [
            "a occurs 3 times\n",
            "e occurs 1 times\n",
            "i occurs 2 times\n",
            "o occurs 1 times\n",
            "u occurs 2 times\n"
          ]
        }
      ]
    },
    {
      "cell_type": "code",
      "source": [
        "#check whether two str are anagrams or not\n",
        "\n",
        "s1 = input('Enter first:')\n",
        "s2 = input('Enter second:')\n",
        "\n",
        "if sorted(s1) == sorted(s2):\n",
        "  print(\"BOTH ARE ANAGRAMS\")\n",
        "else:\n",
        "    print(\"not anagrams\")"
      ],
      "metadata": {
        "id": "6LoJzTcZjmWL",
        "colab": {
          "base_uri": "https://localhost:8080/"
        },
        "outputId": "f7eca9ce-0b84-4e84-f7a3-28a6a46f86f4"
      },
      "execution_count": null,
      "outputs": [
        {
          "output_type": "stream",
          "name": "stdout",
          "text": [
            "Enter first:lazy\n",
            "Enter second:zaly\n",
            "BOTH ARE ANAGRAMS\n"
          ]
        }
      ]
    },
    {
      "cell_type": "code",
      "source": [
        "# for requirement in = 'abcdefg' 'xyz' '12345' out = ax1, by2, cz3, d4, e5, f, g\n",
        "\n",
        "s1 = 'abcdefg'\n",
        "s2 = 'xyz'\n",
        "s3 = '12345'\n",
        "\n",
        "i=j=k=0\n",
        "while i<len(s1) or i<len(s2) or i<len(s3):\n",
        "  output = ''\n",
        "  if i<len(s1):\n",
        "   output = output + s[i]\n",
        "     i = i+1\n",
        "    if i<len(s2):\n",
        "      output = output + s[j]\n",
        "        j = j+1\n",
        "      if i<len(s3):\n",
        "   output = output + s[k]\n",
        "      k = k+1\n",
        "print(output)\n",
        "\n"
      ],
      "metadata": {
        "id": "Er2IybPTMSPv"
      },
      "execution_count": null,
      "outputs": []
    },
    {
      "cell_type": "code",
      "source": [],
      "metadata": {
        "id": "Fac1I-cyMSMb"
      },
      "execution_count": null,
      "outputs": []
    },
    {
      "cell_type": "code",
      "source": [],
      "metadata": {
        "id": "grtgrlxYMSIj"
      },
      "execution_count": null,
      "outputs": []
    },
    {
      "cell_type": "code",
      "source": [],
      "metadata": {
        "id": "Vz3u13ysMSFl"
      },
      "execution_count": null,
      "outputs": []
    },
    {
      "cell_type": "markdown",
      "source": [
        "## LIST PROGRAMS FROM GEEKS--------------------------------------------------------"
      ],
      "metadata": {
        "id": "aslkRhiDzmwH"
      }
    },
    {
      "cell_type": "code",
      "source": [
        "#Python program to interchange first and last elements in a list\n",
        "\n",
        "l1 = [1,2,45,67,66,0]\n",
        "n = l1[0]\n",
        "l1[0]= l1[len(l1)-1]\n",
        "l1[len(l1)-1] = n\n",
        "print(l1)"
      ],
      "metadata": {
        "id": "Yc5HvMTPkOh7",
        "colab": {
          "base_uri": "https://localhost:8080/"
        },
        "outputId": "ed5ab5e5-ccb3-434e-a20b-496fd73b2625"
      },
      "execution_count": null,
      "outputs": [
        {
          "output_type": "stream",
          "name": "stdout",
          "text": [
            "[0, 2, 45, 67, 66, 1]\n"
          ]
        }
      ]
    },
    {
      "cell_type": "code",
      "source": [
        "#Python program to swap two elements in a list\n",
        "\n",
        "list1 = [88,90,77,4,66]\n",
        "pos1,pos2 = 1,4\n",
        "list1[pos1],list1[pos2] = list1[pos2],list1[pos1]\n",
        "print(list1)"
      ],
      "metadata": {
        "id": "YvlduuL5kOe1",
        "colab": {
          "base_uri": "https://localhost:8080/"
        },
        "outputId": "51aaaa75-fa76-4d4b-ac49-f2077ce6a783"
      },
      "execution_count": null,
      "outputs": [
        {
          "output_type": "stream",
          "name": "stdout",
          "text": [
            "[88, 66, 77, 4, 90]\n"
          ]
        }
      ]
    },
    {
      "cell_type": "code",
      "source": [
        "#Ways to find length of list\n",
        "\n",
        "l1 = [20,88,99,5,0,33,7]\n",
        "count = 0\n",
        "for i in l1:\n",
        "  count = count + 1\n",
        "print(\"Length of list is\", count)"
      ],
      "metadata": {
        "id": "9AI5dcE8kOcI",
        "colab": {
          "base_uri": "https://localhost:8080/"
        },
        "outputId": "851e3286-e1be-4faa-e96a-c35c84d92087"
      },
      "execution_count": null,
      "outputs": [
        {
          "output_type": "stream",
          "name": "stdout",
          "text": [
            "Length of list is 7\n"
          ]
        }
      ]
    },
    {
      "cell_type": "code",
      "source": [
        "#Check if element exists in list in Python\n",
        "\n",
        "#num = int(input('Enter any number:'))\n",
        "l1 = [1, 6, 3, 5, 3, 4]\n",
        "\n",
        "i=3\n",
        "if i in l1:\n",
        "  print(\"exists\")\n",
        "else:\n",
        "  print('nope')\n",
        "\n"
      ],
      "metadata": {
        "id": "TNotFo7IkOaQ",
        "colab": {
          "base_uri": "https://localhost:8080/"
        },
        "outputId": "3a69cf65-6561-48ca-9bc8-b70c9d9e4405"
      },
      "execution_count": null,
      "outputs": [
        {
          "output_type": "stream",
          "name": "stdout",
          "text": [
            "exists\n"
          ]
        }
      ]
    },
    {
      "cell_type": "code",
      "source": [
        "# Different ways to clear a list in Python\n",
        "\n",
        "list1 = [2,34,5,6,6]\n",
        "list1.clear()\n",
        "print(list1)\n",
        "\n",
        "#or with *=\n",
        "list1 = [2,34,5,6,6]\n",
        "list1 *= 0\n",
        "print(list1)\n"
      ],
      "metadata": {
        "id": "oxYOK68JkOYF",
        "colab": {
          "base_uri": "https://localhost:8080/"
        },
        "outputId": "e8b01f55-b70c-496a-866b-9feb6fed45c5"
      },
      "execution_count": null,
      "outputs": [
        {
          "output_type": "stream",
          "name": "stdout",
          "text": [
            "[]\n",
            "[]\n"
          ]
        }
      ]
    },
    {
      "cell_type": "code",
      "source": [
        "#Reversing a list \n",
        "list1 = [2,34,5,6,6]\n",
        "l = list1[::-1]\n",
        "print(l)\n",
        "\n",
        "#or using reverse \n",
        "list1 = [2,34,5,6,6]\n",
        "list1.reverse()\n",
        "print(list1)"
      ],
      "metadata": {
        "id": "gXIhHHThkOV9",
        "colab": {
          "base_uri": "https://localhost:8080/"
        },
        "outputId": "e032cecc-9773-42e7-c66d-7f0db95dd37b"
      },
      "execution_count": null,
      "outputs": [
        {
          "output_type": "stream",
          "name": "stdout",
          "text": [
            "[6, 6, 5, 34, 2]\n"
          ]
        }
      ]
    },
    {
      "cell_type": "code",
      "source": [
        "#program to find the sum of all the elements in the list.\n",
        "list1 = [2,34,5,6,6]\n",
        "total = 0\n",
        "\n",
        "for i in range(0, len(list1)):\n",
        "  total = total + list1[i]\n",
        "\n",
        "print('sum is', total)\n",
        "\n",
        "#or using sum \n",
        "\n",
        "list1 = [2,34,5,6,6]\n",
        "total = sum(list1)\n",
        "print(total)\n"
      ],
      "metadata": {
        "id": "sdXrSosmkOTZ",
        "colab": {
          "base_uri": "https://localhost:8080/"
        },
        "outputId": "ddcb239c-f2f9-43b7-c2c8-b769c67bf926"
      },
      "execution_count": null,
      "outputs": [
        {
          "output_type": "stream",
          "name": "stdout",
          "text": [
            "sum is 53\n",
            "53\n"
          ]
        }
      ]
    },
    {
      "cell_type": "code",
      "source": [
        "#Multiply all numbers in the list\n",
        "\n",
        "list1 = [1, 2, 3]\n",
        "result = 1\n",
        "for x in list1:\n",
        "  result = result * x\n",
        "print(result)\n",
        "\n",
        "#while using functions---------------\n",
        "\n",
        "def mullist(list1):\n",
        "  result = 1\n",
        "  for x in list1:\n",
        "    result = result * x\n",
        "  return result\n",
        "\n",
        "given = [1, 2, 3]\n",
        "print(mullist(given))\n"
      ],
      "metadata": {
        "id": "B2touiQDkOQZ",
        "colab": {
          "base_uri": "https://localhost:8080/"
        },
        "outputId": "aedd1d94-49e6-4eee-aabf-9b9ae4a3147e"
      },
      "execution_count": null,
      "outputs": [
        {
          "output_type": "stream",
          "name": "stdout",
          "text": [
            "6\n",
            "6\n"
          ]
        }
      ]
    },
    {
      "cell_type": "code",
      "source": [
        "#program to find smallest number in a list\n",
        "\n",
        "list1 = [10, 20, 4, 45, 99]\n",
        "list1.sort()\n",
        "print('The smallest no is', list1[0])\n",
        "\n",
        "#Or use min \n",
        "list1 = [10, 20, 4, 45, 0, 99]\n",
        "print('The smallest no is', min(list1))\n",
        "\n"
      ],
      "metadata": {
        "id": "nznF1lNKkONg"
      },
      "execution_count": null,
      "outputs": []
    },
    {
      "cell_type": "code",
      "source": [
        "#program to find largest number in a list\n",
        "\n",
        "list1 = [10, 20, 4, 1000, 45, 99]\n",
        "list1.sort()\n",
        "print('The smallest no is', list1[-1])\n",
        "\n",
        "#Or use max \n",
        "list1 = [10, 20, 4, 45, 0, 99]\n",
        "print('The smallest no is', max(list1))\n"
      ],
      "metadata": {
        "id": "tuHXb0ggkOKn",
        "colab": {
          "base_uri": "https://localhost:8080/"
        },
        "outputId": "df2362d2-ef16-49bf-d11f-8c262d48cd10"
      },
      "execution_count": null,
      "outputs": [
        {
          "output_type": "stream",
          "name": "stdout",
          "text": [
            "The smallest no is 1000\n",
            "The smallest no is 99\n"
          ]
        }
      ]
    },
    {
      "cell_type": "code",
      "source": [
        "#program to find largest number in a list while taking input from user\n",
        "\n",
        "list1 = []\n",
        "num = int(input(\"Enter number of elements in list: \"))\n",
        "for i in range(1, num+1):\n",
        "   ele = int(input(\"Enter elements: \"))\n",
        "   list1.append(ele)\n",
        "\n",
        "print(\"Largest element is:\", max(list1))\n"
      ],
      "metadata": {
        "id": "VU90-F3vWnej"
      },
      "execution_count": null,
      "outputs": []
    },
    {
      "cell_type": "code",
      "source": [
        "#program to find second largest number in a list\n",
        "\n",
        "list1 = [10, 20, 20, 4, 45, 45, 45, 99, 99]\n",
        "list2 = list(set(list1))\n",
        "list2.sort()\n",
        "print(\"Second largest element is:\", list2[-2])"
      ],
      "metadata": {
        "colab": {
          "base_uri": "https://localhost:8080/"
        },
        "id": "fQgZE6kzbzrJ",
        "outputId": "b59aaaaf-250a-447d-b510-9c7641b5d64e"
      },
      "execution_count": null,
      "outputs": [
        {
          "output_type": "stream",
          "name": "stdout",
          "text": [
            "Second largest element is: 45\n"
          ]
        }
      ]
    },
    {
      "cell_type": "code",
      "source": [
        "# Python program to print Even Numbers in a List\n",
        "\n",
        "list1 = [10, 21, 4, 45, 66, 93]\n",
        "for num in list1:\n",
        "  if num%2==0:\n",
        "    print(num, end=' ')"
      ],
      "metadata": {
        "colab": {
          "base_uri": "https://localhost:8080/"
        },
        "id": "IZKat6EabzpJ",
        "outputId": "43fe94a6-97d6-4773-92b0-cf2433e50029"
      },
      "execution_count": null,
      "outputs": [
        {
          "output_type": "stream",
          "name": "stdout",
          "text": [
            "10 4 66 "
          ]
        }
      ]
    },
    {
      "cell_type": "code",
      "source": [
        "# Python program to print odd Numbers in a List\n",
        "\n",
        "list1 = [10, 21, 4, 45, 66, 93]\n",
        "for num in list1:\n",
        "  if num%2==1:\n",
        "    print(num, end=' ')"
      ],
      "metadata": {
        "colab": {
          "base_uri": "https://localhost:8080/"
        },
        "id": "J9y4Vi65bznL",
        "outputId": "bcac9398-6079-4ef9-89ec-08aa2b12aed9"
      },
      "execution_count": null,
      "outputs": [
        {
          "output_type": "stream",
          "name": "stdout",
          "text": [
            "21 45 93 "
          ]
        }
      ]
    },
    {
      "cell_type": "code",
      "source": [
        "# Python program to print Even Numbers in given range\n",
        "\n",
        "start = int(input(\"Enter the start of range: \"))\n",
        "end = int(input(\"Enter the end of range: \"))\n",
        "\n",
        "for num in range(start, end+1):\n",
        "  if num%2==0:\n",
        "    print(num, end=' ')\n"
      ],
      "metadata": {
        "id": "cYidAQ-AbzlF"
      },
      "execution_count": null,
      "outputs": []
    },
    {
      "cell_type": "code",
      "source": [
        "# Python program to print odd Numbers in given range\n",
        "\n",
        "start = int(input(\"Enter the start of range: \"))\n",
        "end = int(input(\"Enter the end of range: \"))\n",
        "\n",
        "for num in range(start, end+1):\n",
        "  if num%2==1:\n",
        "    print(num, end=' ')"
      ],
      "metadata": {
        "colab": {
          "base_uri": "https://localhost:8080/"
        },
        "id": "q6kk1XK1bzh5",
        "outputId": "c029eebf-c2dd-40d3-fc2d-3f98b8d5794a"
      },
      "execution_count": null,
      "outputs": [
        {
          "output_type": "stream",
          "name": "stdout",
          "text": [
            "Enter the start of range: 2\n",
            "Enter the end of range: 10\n",
            "3 5 7 9 "
          ]
        }
      ]
    },
    {
      "cell_type": "code",
      "source": [
        "#program to print positive numbers in a list\n",
        "list1 = [12, -7, 5, 64, -14]\n",
        "for i in list1:\n",
        "  if i<0:\n",
        "    list1.remove(i)\n",
        "    \n",
        "print(list1)"
      ],
      "metadata": {
        "colab": {
          "base_uri": "https://localhost:8080/"
        },
        "id": "k75lifQ7bzea",
        "outputId": "a58bc098-aa8f-45aa-b076-0364777d6b6d"
      },
      "execution_count": null,
      "outputs": [
        {
          "output_type": "stream",
          "name": "stdout",
          "text": [
            "[12, 5, 64]\n"
          ]
        }
      ]
    },
    {
      "cell_type": "code",
      "source": [
        "#program to print all negative numbers in a range\n",
        "\n",
        "start = int(input('Enter the starting number'))\n",
        "end = int(input('Enter the ending number'))\n",
        "\n",
        "for num in range(start, end+1):\n",
        "  if num<0:\n",
        "    print(num, end=' ')\n"
      ],
      "metadata": {
        "id": "baFrpGG-bzbz",
        "colab": {
          "base_uri": "https://localhost:8080/"
        },
        "outputId": "e77ef159-cae1-40e0-e66b-a56fbf830d89"
      },
      "execution_count": null,
      "outputs": [
        {
          "output_type": "stream",
          "name": "stdout",
          "text": [
            "Enter the starting number-7\n",
            "Enter the ending number2\n",
            "-7 -6 -5 -4 -3 -2 -1 "
          ]
        }
      ]
    },
    {
      "cell_type": "code",
      "source": [
        "#Remove empty List from List\n",
        "\n",
        "test_list = [5, 6, [], 3, [], [], 9]\n",
        "res = list(filter(None, test_list))\n",
        "print(res)\n",
        "\n",
        "#or using list compre------------\n",
        "test_list = [5, 6, [], 3, [], [], 9]\n",
        "res = [ele for ele in test_list if ele != []]\n",
        "print(res)\n"
      ],
      "metadata": {
        "id": "7sGKR41lbzZG",
        "colab": {
          "base_uri": "https://localhost:8080/"
        },
        "outputId": "8de5146c-cd98-4f32-a03a-62aa1d3891f3"
      },
      "execution_count": null,
      "outputs": [
        {
          "output_type": "stream",
          "name": "stdout",
          "text": [
            "[5, 6, 3, 9]\n",
            "[5, 6, 3, 9]\n"
          ]
        }
      ]
    },
    {
      "cell_type": "code",
      "source": [
        "# Python program to remove empty tuples from a list\n",
        "\n",
        "tup = [(), ('ram','15','8'), (), ('laxman', 'sita'),('krishna', 'akbar', '45'), ('',''),()]\n",
        "res = [ele for ele in tup if ele]\n",
        "print(res)\n"
      ],
      "metadata": {
        "colab": {
          "base_uri": "https://localhost:8080/"
        },
        "id": "NqJIhQ_NpLnk",
        "outputId": "86eca644-d5f4-4676-d4fd-2d1fd5cbe79d"
      },
      "execution_count": null,
      "outputs": [
        {
          "output_type": "stream",
          "name": "stdout",
          "text": [
            "[('ram', '15', '8'), ('laxman', 'sita'), ('krishna', 'akbar', '45'), ('', '')]\n"
          ]
        },
        {
          "output_type": "execute_result",
          "data": {
            "text/plain": [
              "[('ram', '15', '8'), ('laxman', 'sita'), ('krishna', 'akbar', '45'), ('', '')]"
            ]
          },
          "metadata": {},
          "execution_count": 23
        }
      ]
    },
    {
      "cell_type": "code",
      "source": [
        "#Cloning or Copying a list\n",
        "\n",
        "def cloning(list1):\n",
        "  copy = []\n",
        "  copy.extend(list1)\n",
        "  return copy\n",
        "\n",
        "list1 = [4, 8, 2, 10, 15, 18]\n",
        "list2 = cloning(list1)\n",
        "print(\"Original List:\", list1)\n",
        "print(\"After Cloning:\", list2)"
      ],
      "metadata": {
        "id": "oHbQPW41nntD",
        "colab": {
          "base_uri": "https://localhost:8080/"
        },
        "outputId": "f609f75a-409b-43d5-ab65-8c60b075e3fa"
      },
      "execution_count": null,
      "outputs": [
        {
          "output_type": "stream",
          "name": "stdout",
          "text": [
            "Original List: [4, 8, 2, 10, 15, 18]\n",
            "After Cloning: [4, 8, 2, 10, 15, 18]\n"
          ]
        }
      ]
    },
    {
      "cell_type": "code",
      "source": [
        "#Count occurrences of an element in a list\n",
        "def counting(list1, x):\n",
        "  count = 0\n",
        "  for ele in list1:\n",
        "    if (ele == x):\n",
        "      count = count + 1\n",
        "  return count\n",
        "\n",
        "list1 = [8, 6, 8, 10, 8, 20, 10, 8, 8]\n",
        "x = 8\n",
        "print('{} has occurred {} times'.format(x,counting(list1, x)))"
      ],
      "metadata": {
        "id": "ISCRxC6Lnnqq",
        "colab": {
          "base_uri": "https://localhost:8080/"
        },
        "outputId": "35a1ab64-c7e2-4e5a-ed12-521bc4353ae9"
      },
      "execution_count": null,
      "outputs": [
        {
          "output_type": "stream",
          "name": "stdout",
          "text": [
            "8 has occurred 5 times\n"
          ]
        }
      ]
    },
    {
      "cell_type": "code",
      "source": [
        "#Remove elements larger than a specific value from a list in ?????\n",
        "\n",
        "num_list = [30, 200, 65, 88, 98, 500, 34]\n",
        "\n",
        "for num in num_list:\n",
        "  if num > 66:\n",
        "    num_list.remove(num)\n",
        "\n",
        "print(num_list)\n",
        "   \n"
      ],
      "metadata": {
        "colab": {
          "base_uri": "https://localhost:8080/"
        },
        "id": "bgx9VTTy8t-g",
        "outputId": "f40c8428-5895-4876-b01d-cf84b2ab372f"
      },
      "execution_count": null,
      "outputs": [
        {
          "output_type": "stream",
          "name": "stdout",
          "text": [
            "[30, 65, 98, 34]\n"
          ]
        }
      ]
    },
    {
      "cell_type": "code",
      "source": [
        "#Find index of maximum item in list\n",
        "num = [30, 200, 65, 88, 98, 500, 34]\n",
        "l1 = max(num)\n",
        "print('Index of max is', num.index(l1))"
      ],
      "metadata": {
        "colab": {
          "base_uri": "https://localhost:8080/"
        },
        "id": "3OgHLlOf8t5R",
        "outputId": "65d5e9e6-bfab-4e80-8449-75be63ca860a"
      },
      "execution_count": null,
      "outputs": [
        {
          "output_type": "stream",
          "name": "stdout",
          "text": [
            "Index of max is 5\n"
          ]
        }
      ]
    },
    {
      "cell_type": "code",
      "source": [
        "# program to delete the last element from the list\n",
        "\n",
        "num = ['gvjv', 'bjeadb', 'nljv']\n",
        "l1 = num.pop()\n",
        "print(num)\n",
        "\n",
        "\n",
        "\n",
        "#using slice func\n",
        "name = [\"Geeks\", \"For\", \"Geeks\"]\n",
        "print(\"Original list: \",name)\n",
        "  \n",
        "\n",
        "name= name[:-1]\n",
        "  \n",
        "\n",
        "print(\"New list: \",name)"
      ],
      "metadata": {
        "colab": {
          "base_uri": "https://localhost:8080/"
        },
        "id": "Of143gyD8t2Z",
        "outputId": "263d3a7a-4cff-40fa-c338-8102691999ed"
      },
      "execution_count": null,
      "outputs": [
        {
          "output_type": "stream",
          "name": "stdout",
          "text": [
            "['gvjv', 'bjeadb']\n",
            "Original list:  ['Geeks', 'For', 'Geeks']\n",
            "New list:  ['Geeks', 'For']\n"
          ]
        }
      ]
    },
    {
      "cell_type": "code",
      "source": [
        "#program to find the sum of a Sublist\n",
        "l = [4, 10, 5, 3, 3]\n",
        "i = 0\n",
        "j = 1\n",
        "ans = 0\n",
        "for i in range(i, j+1):\n",
        "  ans = ans + l[i]\n",
        "\n",
        "print(ans)"
      ],
      "metadata": {
        "colab": {
          "base_uri": "https://localhost:8080/"
        },
        "id": "mOwxqAUb8tza",
        "outputId": "af91fa1b-95ef-4303-f784-28a06ddf122f"
      },
      "execution_count": null,
      "outputs": [
        {
          "output_type": "stream",
          "name": "stdout",
          "text": [
            "14\n"
          ]
        }
      ]
    },
    {
      "cell_type": "code",
      "source": [
        "#Program to Square Each Odd Number in a List using List Comprehension\n",
        "l = [4, 10, 5, 3, 3]\n",
        "c = [i*i for i in l if i%2!=0 ]\n",
        "print(c)\n"
      ],
      "metadata": {
        "colab": {
          "base_uri": "https://localhost:8080/"
        },
        "id": "-zof5fZQNlBE",
        "outputId": "d17a4177-1868-450d-9326-1268c71fe977"
      },
      "execution_count": null,
      "outputs": [
        {
          "output_type": "stream",
          "name": "stdout",
          "text": [
            "[25, 9, 9]\n"
          ]
        }
      ]
    },
    {
      "cell_type": "code",
      "source": [
        "#Remove common elements from two list in Python ???\n",
        "\n",
        "a = [1, 2, 3, 4, 5]\n",
        "b = [4, 5, 6, 7, 8]\n",
        "z = []\n",
        "\n",
        "for i in a:\n",
        "  if i in b:\n",
        "    a.remove(i)\n",
        "    b.remove(i)\n",
        "\n",
        "print(z)"
      ],
      "metadata": {
        "id": "3nlHkxdUNk-l",
        "colab": {
          "base_uri": "https://localhost:8080/"
        },
        "outputId": "e5e60aab-672a-4e12-b570-e7e0c1705b8f"
      },
      "execution_count": null,
      "outputs": [
        {
          "output_type": "stream",
          "name": "stdout",
          "text": [
            "[]\n"
          ]
        }
      ]
    },
    {
      "cell_type": "code",
      "source": [
        "#Find Index containing String in List\n",
        "list1 = ['sravan', 98, 'harsha', 'jyothika',\n",
        "         'deepika', 78, 90, 'ramya']\n",
        "\n",
        "for i in list1:\n",
        "  if (type(i)==str):\n",
        "    print(list1.index(i))"
      ],
      "metadata": {
        "id": "NOzKUPY4Nk5c"
      },
      "execution_count": null,
      "outputs": []
    },
    {
      "cell_type": "code",
      "source": [
        "#Convert list of dictionaries to dictionary of lists\n",
        "\n",
        "data = [\n",
        "    {'name': 'sravan', 'subjects': ['java', 'python']},\n",
        "    {'name': 'bobby', 'subjects': ['c/cpp', 'java']},\n",
        "    {'name': 'ojsawi', 'subjects': ['iot', 'cloud']},\n",
        "    {'name': 'rohith', 'subjects': ['php', 'os']},\n",
        "    {'name': 'gnanesh', 'subjects': ['html', 'sql']}\n",
        " \n",
        "]\n",
        "dict_of_list = {}\n",
        "for item in data:\n",
        "  name = item['name']\n",
        "  dict_of_list[name] = item\n",
        "\n",
        "dict_of_list"
      ],
      "metadata": {
        "id": "y3KmkRDpNk22"
      },
      "execution_count": null,
      "outputs": []
    },
    {
      "cell_type": "code",
      "source": [
        "#Concatenate two list of lists Row-wise\n",
        "test_list1 = [[4, 3, 5, ], [1, 2, 3], [3, 7, 4]]\n",
        "test_list2 = [[1, 3], [9, 3, 5, 7], [8]]\n",
        "\n",
        "for i in range(0, len(test_list1)):\n",
        "  test_list1[i].extend(test_list2[i])\n",
        "\n",
        "print(\"The concatenated Matrix : \" + str(test_list1))"
      ],
      "metadata": {
        "id": "xsXe_tRXNkzM",
        "colab": {
          "base_uri": "https://localhost:8080/"
        },
        "outputId": "774f7e5d-dd08-453a-8140-a3e2bd55241a"
      },
      "execution_count": null,
      "outputs": [
        {
          "output_type": "stream",
          "name": "stdout",
          "text": [
            "The concatenated Matrix : [[4, 3, 5, 1, 3], [1, 2, 3, 9, 3, 5, 7], [3, 7, 4, 8]]\n"
          ]
        }
      ]
    },
    {
      "cell_type": "code",
      "source": [],
      "metadata": {
        "id": "qzZ03ebbNktq"
      },
      "execution_count": null,
      "outputs": []
    },
    {
      "cell_type": "code",
      "source": [],
      "metadata": {
        "id": "DGJMsUwoNkqZ"
      },
      "execution_count": null,
      "outputs": []
    },
    {
      "cell_type": "code",
      "source": [],
      "metadata": {
        "id": "rth7eU-1Nknf"
      },
      "execution_count": null,
      "outputs": []
    },
    {
      "cell_type": "markdown",
      "source": [
        "## BASIC QUES FROM GEEKS\n"
      ],
      "metadata": {
        "id": "7VGiVkAaBY8-"
      }
    },
    {
      "cell_type": "code",
      "source": [
        "# program to add two numbers: \n",
        "\n",
        "num1 = int(input(\"Enter the first number:\"))\n",
        "num2 = int(input(\"Enter the second number:\"))\n",
        "\n",
        "s = num1 + num2\n",
        "print(f\"The sum of two numbers is\", s)"
      ],
      "metadata": {
        "colab": {
          "base_uri": "https://localhost:8080/"
        },
        "id": "iKs2R2vFBivd",
        "outputId": "919901bc-ec28-4b10-d27e-51729083e245"
      },
      "execution_count": null,
      "outputs": [
        {
          "output_type": "stream",
          "name": "stdout",
          "text": [
            "Enter the first number:4\n",
            "Enter the second number:4\n",
            "The sum of two numbers is 8\n"
          ]
        }
      ]
    },
    {
      "cell_type": "code",
      "source": [
        "# To print max number \n",
        "\n",
        "def maximum(a,b):\n",
        "  if a>=b:\n",
        "    return a\n",
        "  else:\n",
        "      return b\n",
        "\n",
        "pp =  print(maximum(4,7))"
      ],
      "metadata": {
        "colab": {
          "base_uri": "https://localhost:8080/"
        },
        "id": "NQS_fTk9Bis7",
        "outputId": "f61d9e70-cbc5-4b89-d822-f92c1dce736d"
      },
      "execution_count": null,
      "outputs": [
        {
          "output_type": "stream",
          "name": "stdout",
          "text": [
            "7\n"
          ]
        }
      ]
    },
    {
      "cell_type": "code",
      "source": [
        "#Or\n",
        "a = 10\n",
        "b = 40\n",
        "maxi = max(a,b)\n",
        "print(maxi)"
      ],
      "metadata": {
        "id": "c9_QEsajBiqi"
      },
      "execution_count": null,
      "outputs": []
    },
    {
      "cell_type": "code",
      "source": [
        "#To find max of 3 numbers\n",
        "n1 = int(input(\"Enter the number:\"))\n",
        "n2 = int(input(\"Enter the number:\"))\n",
        "n3 = int(input(\"Enter the number:\"))\n",
        "\n",
        "if n1>n2 and n1>n3:\n",
        "  largest = n1\n",
        "elif n2>n3 and n2>n1:\n",
        "  largest = n2\n",
        "else:\n",
        "  largest = n3\n",
        "\n",
        "print(\"Largest among 3 number is\", largest)"
      ],
      "metadata": {
        "id": "Zk6M_KiRBinm"
      },
      "execution_count": null,
      "outputs": []
    },
    {
      "cell_type": "code",
      "source": [
        "# 2> To find factorial\n",
        "\n",
        "n = int(input(\"Enter the number:\"))\n",
        "result = 1\n",
        "for i in range(n,0,-1):\n",
        "  result = result * i\n",
        "\n",
        "print(\"factorial of\", n, \"is\", result)"
      ],
      "metadata": {
        "id": "U3lEshz-Bilf"
      },
      "execution_count": null,
      "outputs": []
    },
    {
      "cell_type": "code",
      "source": [
        "# 3> To find S.I\n",
        "\n",
        "def simple_interest(p,r,t):\n",
        "  print('The principal is',p)\n",
        "  print('The rate is',r)\n",
        "  print('The time is',t)\n",
        "  si = (p*r*t)/100\n",
        "  print('The simple int is ',si)\n",
        "  return si\n",
        "\n",
        "simple_interest(8,6,8)"
      ],
      "metadata": {
        "id": "MNZONINZBijT"
      },
      "execution_count": null,
      "outputs": []
    },
    {
      "cell_type": "code",
      "source": [
        "# 4> To find C.I\n",
        "\n",
        "def compound_interest(principle, rate, time):\n",
        "  amount = principle*(pow((1+rate/100),time))\n",
        "  compound_interest = amount-principle\n",
        "  print(\"ci is\", compound_interest)\n",
        "compound_interest(10000,10.25,5)"
      ],
      "metadata": {
        "id": "P1CIS7wEBif-"
      },
      "execution_count": null,
      "outputs": []
    },
    {
      "cell_type": "code",
      "source": [
        "#To swap the numbers\n",
        "\n",
        "a = int(input(\"Enter the number:\"))\n",
        "b = int(input(\"Enter the number:\"))\n",
        "\n",
        "c = a\n",
        "a = b\n",
        "b = c\n",
        "\n",
        "print(\"After swapping\")\n",
        "print(\"The value of a\", a)\n",
        "print(\"The value of b\", b)"
      ],
      "metadata": {
        "id": "rKO7BAOPBicU"
      },
      "execution_count": null,
      "outputs": []
    },
    {
      "cell_type": "code",
      "source": [
        "#To swap the numbers without the third variable\n",
        "a = int(input(\"Enter the number:\"))\n",
        "b = int(input(\"Enter the number:\"))\n",
        "\n",
        "a = a+b\n",
        "b = a-b\n",
        "a = a-b\n",
        "\n",
        "print(\"After swapping\")\n",
        "print(\"The value of a\", a)\n",
        "print(\"The value of b\", b)"
      ],
      "metadata": {
        "id": "ID3SKmKsBiZX"
      },
      "execution_count": null,
      "outputs": []
    },
    {
      "cell_type": "code",
      "source": [
        "#Program to find area of circle\n",
        "\n",
        "a = int(input(\"Enter the number:\"))\n",
        "res = a*a*3.14\n",
        "\n",
        "print(\"Area of circle is:\", res)\n"
      ],
      "metadata": {
        "colab": {
          "base_uri": "https://localhost:8080/"
        },
        "id": "k_Y6L1BDBiWg",
        "outputId": "584ca4d5-0659-467e-e500-5c1bc56bc21a"
      },
      "execution_count": null,
      "outputs": [
        {
          "output_type": "stream",
          "name": "stdout",
          "text": [
            "Enter the number:3\n",
            "Area of circle is: 28.26\n"
          ]
        }
      ]
    },
    {
      "cell_type": "code",
      "source": [
        "# To check entered number is prime or not - a number that can be divided exactly only by itself and 1, for example 7, 17 and 41\n",
        "num = int(input(\"Enter the number:\"))\n",
        "if num>1:\n",
        "  for i in range(2, num):\n",
        "    if(num%i) == 0:\n",
        "      print(num, \"is not a prime number\")\n",
        "      break\n",
        "  else:\n",
        "      print(num, \"is a prime number\")\n",
        "      \n",
        "else:\n",
        "  print(num, \"is not a prime number\")"
      ],
      "metadata": {
        "id": "p-rgyyrZBiTh"
      },
      "execution_count": null,
      "outputs": []
    },
    {
      "cell_type": "code",
      "source": [
        "# To print prime numbers\n",
        "lower = int(input(\"Enter the lower number:\"))\n",
        "upper = int(input(\"Enter the upper number:\"))\n",
        "\n",
        "for i in range(lower, upper+1):\n",
        "  if i>1:\n",
        "    for j in range(2, i):\n",
        "      if(i%j)==0:\n",
        "        break\n",
        "    else:\n",
        "        print(i)\n"
      ],
      "metadata": {
        "id": "CkfEXme2BiQg"
      },
      "execution_count": null,
      "outputs": []
    },
    {
      "cell_type": "code",
      "source": [
        "#Fibonacci numbers series\n",
        "\n",
        "num =  int(input(\"Enter the number you want in this series:\"))\n",
        "first = 0\n",
        "second = 1\n",
        "for i in range(num):\n",
        "  print(first)\n",
        "  temp = first\n",
        "  first = second\n",
        "  second = temp+second"
      ],
      "metadata": {
        "id": "x7qoszhGBiNh"
      },
      "execution_count": null,
      "outputs": []
    },
    {
      "cell_type": "code",
      "source": [
        "# To check whether number is fibonacci or not\n",
        "import math\n",
        "\n",
        "def perfect_sq(x):\n",
        "  s = int(math.sqrt(x))\n",
        "  return s*s==x\n",
        "\n",
        "n =  int(input(\"Enter the number you want in this series:\"))\n",
        "result1 = 5*(n*n)+4\n",
        "result2 = 5*(n*n)-4\n",
        "if perfect_sq(result1) or perfect_sq(result2):\n",
        "  print(n,\"is fibonacci number\")\n",
        "else:\n",
        "   print(n,\"is not a fibonacci number\")\n",
        "  \n",
        "\n"
      ],
      "metadata": {
        "colab": {
          "base_uri": "https://localhost:8080/"
        },
        "id": "XiNVYSyvSktA",
        "outputId": "eba371ce-48e4-4328-feeb-ef959a8cfe15"
      },
      "execution_count": null,
      "outputs": [
        {
          "output_type": "stream",
          "name": "stdout",
          "text": [
            "Enter the number you want in this series:10\n",
            "10 is not a fibonacci number\n"
          ]
        }
      ]
    },
    {
      "cell_type": "code",
      "source": [
        "# Program for Sum of square of first n natural numbers\n",
        "\n",
        "n = int(input(\"Enter the number :\"))\n",
        "i = 1\n",
        "sum = 0\n",
        "while(i<=n):\n",
        "  sum = sum + (i*i)\n",
        "  i = i+1\n",
        "print(\"sum=\",sum)\n",
        "\n",
        "# for cube just multiply i three times----------------------"
      ],
      "metadata": {
        "id": "jJusVhtkSkq9",
        "colab": {
          "base_uri": "https://localhost:8080/"
        },
        "outputId": "97a74172-b987-4f04-dac8-10ea6d7bf30b"
      },
      "execution_count": null,
      "outputs": [
        {
          "output_type": "stream",
          "name": "stdout",
          "text": [
            "Enter the number :2\n",
            "sum= 9\n"
          ]
        }
      ]
    },
    {
      "cell_type": "code",
      "source": [],
      "metadata": {
        "id": "rICpSk8dSko6"
      },
      "execution_count": null,
      "outputs": []
    },
    {
      "cell_type": "code",
      "source": [],
      "metadata": {
        "id": "rAFY3EwHSkmY"
      },
      "execution_count": null,
      "outputs": []
    },
    {
      "cell_type": "code",
      "source": [],
      "metadata": {
        "id": "m2K8l2xOSkkU"
      },
      "execution_count": null,
      "outputs": []
    },
    {
      "cell_type": "code",
      "source": [],
      "metadata": {
        "id": "1ppb5_i4SkiG"
      },
      "execution_count": null,
      "outputs": []
    },
    {
      "cell_type": "code",
      "source": [],
      "metadata": {
        "id": "kgBfhJ0qSkep"
      },
      "execution_count": null,
      "outputs": []
    },
    {
      "cell_type": "code",
      "source": [],
      "metadata": {
        "id": "Cf1I2OBdSkZp"
      },
      "execution_count": null,
      "outputs": []
    },
    {
      "cell_type": "code",
      "source": [],
      "metadata": {
        "id": "6kCygv5tSkVI"
      },
      "execution_count": null,
      "outputs": []
    },
    {
      "cell_type": "code",
      "source": [],
      "metadata": {
        "id": "277YrXaoSkRy"
      },
      "execution_count": null,
      "outputs": []
    },
    {
      "cell_type": "code",
      "source": [],
      "metadata": {
        "id": "Dk6j_jA-SkO8"
      },
      "execution_count": null,
      "outputs": []
    },
    {
      "cell_type": "code",
      "source": [],
      "metadata": {
        "id": "eLQPi5tRSkLk"
      },
      "execution_count": null,
      "outputs": []
    },
    {
      "cell_type": "code",
      "source": [],
      "metadata": {
        "id": "m2X-p329SkIc"
      },
      "execution_count": null,
      "outputs": []
    },
    {
      "cell_type": "code",
      "source": [
        "# Python program to print duplicates from a list of integers\n",
        "\n",
        "lis = [1, 2, 1, 2, 3, 4, 5, 1, 1, 2, 5, 6, 7, 8, 9, 9]\n",
        "uniquelist = []\n",
        "duplicatelist = []\n",
        "\n",
        "for i in lis:\n",
        "  if i not in uniquelist:\n",
        "    uniquelist.append(i)\n",
        "  elif i not in duplicatelist:\n",
        "    duplicatelist.append(i)\n",
        "\n",
        "print(duplicatelist)\n"
      ],
      "metadata": {
        "id": "VEd5XkN7nnnb",
        "colab": {
          "base_uri": "https://localhost:8080/"
        },
        "outputId": "44f54dac-8250-489c-a67a-e3839fb5cf3b"
      },
      "execution_count": null,
      "outputs": [
        {
          "output_type": "stream",
          "name": "stdout",
          "text": [
            "[1, 2, 5, 9]\n"
          ]
        }
      ]
    }
  ]
}