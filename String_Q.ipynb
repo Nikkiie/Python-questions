{
  "nbformat": 4,
  "nbformat_minor": 0,
  "metadata": {
    "colab": {
      "provenance": [],
      "authorship_tag": "ABX9TyOA1mHbgT0f+p/zajCbkEms",
      "include_colab_link": true
    },
    "kernelspec": {
      "name": "python3",
      "display_name": "Python 3"
    },
    "language_info": {
      "name": "python"
    }
  },
  "cells": [
    {
      "cell_type": "markdown",
      "metadata": {
        "id": "view-in-github",
        "colab_type": "text"
      },
      "source": [
        "<a href=\"https://colab.research.google.com/github/Nikkiie/Python-questions/blob/main/String_Q.ipynb\" target=\"_parent\"><img src=\"https://colab.research.google.com/assets/colab-badge.svg\" alt=\"Open In Colab\"/></a>"
      ]
    },
    {
      "cell_type": "markdown",
      "source": [
        "String questions"
      ],
      "metadata": {
        "id": "Gj1ZfJUnl4U2"
      }
    },
    {
      "cell_type": "code",
      "execution_count": null,
      "metadata": {
        "colab": {
          "base_uri": "https://localhost:8080/"
        },
        "id": "QdVUoNEalx47",
        "outputId": "c9ab3e82-dd2b-4bdd-be5b-f91fce2882a9"
      },
      "outputs": [
        {
          "output_type": "stream",
          "name": "stdout",
          "text": [
            "ikkin\n"
          ]
        }
      ],
      "source": [
        "# program to reverse given string\n",
        "\n",
        "s = 'nikki'\n",
        "rev = s[::-1]\n",
        "print(rev)\n"
      ]
    },
    {
      "cell_type": "code",
      "source": [
        "#program to reverse order of words\n",
        "\n",
        "s = \"I can and i will\"\n",
        "s1 = s.split()\n",
        "s2 = s1[::-1]\n",
        "s3 = ' '.join(s2)\n",
        "s3"
      ],
      "metadata": {
        "colab": {
          "base_uri": "https://localhost:8080/",
          "height": 35
        },
        "id": "OAll37ZBl9IU",
        "outputId": "94d81b5d-e163-45d7-b506-6d95a4648dd7"
      },
      "execution_count": null,
      "outputs": [
        {
          "output_type": "execute_result",
          "data": {
            "text/plain": [
              "'will i and can I'"
            ],
            "application/vnd.google.colaboratory.intrinsic+json": {
              "type": "string"
            }
          },
          "metadata": {},
          "execution_count": 3
        }
      ]
    },
    {
      "cell_type": "code",
      "source": [
        " # to reverse internal content of each word\n",
        "\n",
        "s = \"I can and i will\"\n",
        "s1 = s.split()\n",
        "s2 = []\n",
        "for words in s1:\n",
        "  s2.append(words[::-1])\n",
        "s3 = ' '.join(s2)\n",
        "s3"
      ],
      "metadata": {
        "colab": {
          "base_uri": "https://localhost:8080/",
          "height": 35
        },
        "id": "D3yl1Eq0l9Fu",
        "outputId": "cdb22a98-ab8a-4136-9353-238ee4467953"
      },
      "execution_count": null,
      "outputs": [
        {
          "output_type": "execute_result",
          "data": {
            "text/plain": [
              "'I nac dna i lliw'"
            ],
            "application/vnd.google.colaboratory.intrinsic+json": {
              "type": "string"
            }
          },
          "metadata": {},
          "execution_count": 5
        }
      ]
    },
    {
      "cell_type": "code",
      "source": [
        "# to print char present at even\n",
        "\n",
        "string = \"qwerty\"\n",
        "i = 0\n",
        "\n",
        "while i<len(string):\n",
        "  print(string[i])\n",
        "  i = i+2\n",
        "\n",
        "\n"
      ],
      "metadata": {
        "id": "LJKhE-gMl9CA",
        "colab": {
          "base_uri": "https://localhost:8080/"
        },
        "outputId": "93cab35a-d66e-41bc-f8d4-f3ba0bbc5d3d"
      },
      "execution_count": 1,
      "outputs": [
        {
          "output_type": "stream",
          "name": "stdout",
          "text": [
            "q\n",
            "e\n",
            "t\n"
          ]
        }
      ]
    },
    {
      "cell_type": "code",
      "source": [
        "# to print char present at odd\n",
        "\n",
        "string = \"qwerty\"\n",
        "i = 1\n",
        "\n",
        "while i<len(string):\n",
        "  print(string[i])\n",
        "  i = i+2"
      ],
      "metadata": {
        "id": "Ivm7IoHol8-9",
        "colab": {
          "base_uri": "https://localhost:8080/"
        },
        "outputId": "8b0bcd73-8f14-45a5-98e3-b39d36368321"
      },
      "execution_count": 5,
      "outputs": [
        {
          "output_type": "stream",
          "name": "stdout",
          "text": [
            "w\n",
            "r\n",
            "y\n"
          ]
        }
      ]
    },
    {
      "cell_type": "code",
      "source": [
        "# Program to print string whose number are more than 5\n",
        "\n",
        "l1 = ['Apple', \"Grapes\", \"Lemon\", 'mango' \"pomogrenate\", \"litchi\", \"yoghurt\", 'starfruit']\n",
        "l = lambda x: len(x)>5\n",
        "l2 = []\n",
        "for y in l1:\n",
        "  if l(y) == True:\n",
        "    l2.append(y)\n",
        "\n",
        "print(l2)"
      ],
      "metadata": {
        "id": "hGyRMdy_l88g",
        "colab": {
          "base_uri": "https://localhost:8080/"
        },
        "outputId": "b0da1151-f86e-4a8d-c9cf-bf6602485564"
      },
      "execution_count": 7,
      "outputs": [
        {
          "output_type": "stream",
          "name": "stdout",
          "text": [
            "['Grapes', 'mangopomogrenate', 'litchi', 'yoghurt', 'starfruit']\n"
          ]
        }
      ]
    },
    {
      "cell_type": "code",
      "source": [
        "# to sort char of strings first alpha followed by digits\n",
        "\n",
        "s = 'B3H5j8L0'\n",
        "alpha = []\n",
        "digit = []\n",
        "for elm in s:\n",
        "  if elm.isalpha():\n",
        "    alpha.append(elm)\n",
        "  else:\n",
        "    digit.append(elm)\n",
        "output = ' '.join(sorted(alpha)+sorted(digit))\n",
        "print(output)\n"
      ],
      "metadata": {
        "id": "D83qmWJPl86l",
        "colab": {
          "base_uri": "https://localhost:8080/"
        },
        "outputId": "315cca0e-c87a-4146-c986-eb6c79d7a961"
      },
      "execution_count": 8,
      "outputs": [
        {
          "output_type": "stream",
          "name": "stdout",
          "text": [
            "B H L j 0 3 5 8\n"
          ]
        }
      ]
    },
    {
      "cell_type": "code",
      "source": [],
      "metadata": {
        "id": "ajQRPTZ1l81x"
      },
      "execution_count": null,
      "outputs": []
    },
    {
      "cell_type": "code",
      "source": [],
      "metadata": {
        "id": "2LYaPMUOl8wV"
      },
      "execution_count": null,
      "outputs": []
    },
    {
      "cell_type": "code",
      "source": [],
      "metadata": {
        "id": "KWMzyB4Sl8tE"
      },
      "execution_count": null,
      "outputs": []
    }
  ]
}