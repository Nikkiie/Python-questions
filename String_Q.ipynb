{
  "nbformat": 4,
  "nbformat_minor": 0,
  "metadata": {
    "colab": {
      "provenance": [],
      "authorship_tag": "ABX9TyN5j1QYLmhQbWKplxJmOlBF",
      "include_colab_link": true
    },
    "kernelspec": {
      "name": "python3",
      "display_name": "Python 3"
    },
    "language_info": {
      "name": "python"
    }
  },
  "cells": [
    {
      "cell_type": "markdown",
      "metadata": {
        "id": "view-in-github",
        "colab_type": "text"
      },
      "source": [
        "<a href=\"https://colab.research.google.com/github/Nikkiie/Python-questions/blob/main/String_Q.ipynb\" target=\"_parent\"><img src=\"https://colab.research.google.com/assets/colab-badge.svg\" alt=\"Open In Colab\"/></a>"
      ]
    },
    {
      "cell_type": "markdown",
      "source": [
        "String questions"
      ],
      "metadata": {
        "id": "Gj1ZfJUnl4U2"
      }
    },
    {
      "cell_type": "code",
      "execution_count": null,
      "metadata": {
        "colab": {
          "base_uri": "https://localhost:8080/"
        },
        "id": "QdVUoNEalx47",
        "outputId": "c9ab3e82-dd2b-4bdd-be5b-f91fce2882a9"
      },
      "outputs": [
        {
          "output_type": "stream",
          "name": "stdout",
          "text": [
            "ikkin\n"
          ]
        }
      ],
      "source": [
        "# program to reverse given string\n",
        "\n",
        "s = 'nikki'\n",
        "rev = s[::-1]\n",
        "print(rev)\n"
      ]
    },
    {
      "cell_type": "code",
      "source": [
        "#program to reverse order of words\n",
        "\n",
        "s = \"I can and i will\"\n",
        "s1 = s.split()\n",
        "s2 = s1[::-1]\n",
        "s3 = ' '.join(s2)\n",
        "s3"
      ],
      "metadata": {
        "colab": {
          "base_uri": "https://localhost:8080/",
          "height": 35
        },
        "id": "OAll37ZBl9IU",
        "outputId": "94d81b5d-e163-45d7-b506-6d95a4648dd7"
      },
      "execution_count": null,
      "outputs": [
        {
          "output_type": "execute_result",
          "data": {
            "text/plain": [
              "'will i and can I'"
            ],
            "application/vnd.google.colaboratory.intrinsic+json": {
              "type": "string"
            }
          },
          "metadata": {},
          "execution_count": 3
        }
      ]
    },
    {
      "cell_type": "code",
      "source": [
        " # to reverse internal content of each word\n",
        "\n",
        "s = \"I can and i will\"\n",
        "s1 = s.split()\n",
        "s2 = []\n",
        "for words in s1:\n",
        "  s2.append(words[::-1])\n",
        "s3 = ' '.join(s2)\n",
        "s3"
      ],
      "metadata": {
        "colab": {
          "base_uri": "https://localhost:8080/",
          "height": 35
        },
        "id": "D3yl1Eq0l9Fu",
        "outputId": "cdb22a98-ab8a-4136-9353-238ee4467953"
      },
      "execution_count": null,
      "outputs": [
        {
          "output_type": "execute_result",
          "data": {
            "text/plain": [
              "'I nac dna i lliw'"
            ],
            "application/vnd.google.colaboratory.intrinsic+json": {
              "type": "string"
            }
          },
          "metadata": {},
          "execution_count": 5
        }
      ]
    },
    {
      "cell_type": "code",
      "source": [
        "# to print char present at even\n",
        "\n",
        "string = \"qwerty\"\n",
        "i = 0\n",
        "\n",
        "while i<len(string):\n",
        "  print(string[i])\n",
        "  i = i+2\n",
        "\n",
        "\n"
      ],
      "metadata": {
        "id": "LJKhE-gMl9CA",
        "colab": {
          "base_uri": "https://localhost:8080/"
        },
        "outputId": "93cab35a-d66e-41bc-f8d4-f3ba0bbc5d3d"
      },
      "execution_count": null,
      "outputs": [
        {
          "output_type": "stream",
          "name": "stdout",
          "text": [
            "q\n",
            "e\n",
            "t\n"
          ]
        }
      ]
    },
    {
      "cell_type": "code",
      "source": [
        "# to print char present at odd\n",
        "\n",
        "string = \"qwerty\"\n",
        "i = 1\n",
        "\n",
        "while i<len(string):\n",
        "  print(string[i])\n",
        "  i = i+2"
      ],
      "metadata": {
        "id": "Ivm7IoHol8-9",
        "colab": {
          "base_uri": "https://localhost:8080/"
        },
        "outputId": "8b0bcd73-8f14-45a5-98e3-b39d36368321"
      },
      "execution_count": null,
      "outputs": [
        {
          "output_type": "stream",
          "name": "stdout",
          "text": [
            "w\n",
            "r\n",
            "y\n"
          ]
        }
      ]
    },
    {
      "cell_type": "code",
      "source": [
        "# Program to print string whose number are more than 5\n",
        "\n",
        "l1 = ['Apple', \"Grapes\", \"Lemon\", 'mango' \"pomogrenate\", \"litchi\", \"yoghurt\", 'starfruit']\n",
        "l = lambda x: len(x)>5\n",
        "l2 = []\n",
        "for y in l1:\n",
        "  if l(y) == True:\n",
        "    l2.append(y)\n",
        "\n",
        "print(l2)"
      ],
      "metadata": {
        "id": "hGyRMdy_l88g",
        "colab": {
          "base_uri": "https://localhost:8080/"
        },
        "outputId": "b0da1151-f86e-4a8d-c9cf-bf6602485564"
      },
      "execution_count": null,
      "outputs": [
        {
          "output_type": "stream",
          "name": "stdout",
          "text": [
            "['Grapes', 'mangopomogrenate', 'litchi', 'yoghurt', 'starfruit']\n"
          ]
        }
      ]
    },
    {
      "cell_type": "code",
      "source": [
        "# to sort char of strings first alpha followed by digits\n",
        "\n",
        "s = 'B3H5j8L0'\n",
        "alpha = []\n",
        "digit = []\n",
        "for elm in s:\n",
        "  if elm.isalpha():\n",
        "    alpha.append(elm)\n",
        "  else:\n",
        "    digit.append(elm)\n",
        "output = ' '.join(sorted(alpha)+sorted(digit))\n",
        "print(output)\n"
      ],
      "metadata": {
        "id": "D83qmWJPl86l",
        "colab": {
          "base_uri": "https://localhost:8080/"
        },
        "outputId": "315cca0e-c87a-4146-c986-eb6c79d7a961"
      },
      "execution_count": null,
      "outputs": [
        {
          "output_type": "stream",
          "name": "stdout",
          "text": [
            "B H L j 0 3 5 8\n"
          ]
        }
      ]
    },
    {
      "cell_type": "code",
      "source": [
        "# prg for following requirement in = a4b3c2 out = aaaabbbcc\n",
        "\n",
        "s = 'l3k6y5'\n",
        "output = ''\n",
        "for ch in s:\n",
        "  if ch.isalpha():\n",
        "    x = ch\n",
        "  else:\n",
        "    d = int(ch)\n",
        "    output = output + x*d\n",
        "print(''.join(sorted(output)))"
      ],
      "metadata": {
        "id": "ajQRPTZ1l81x",
        "colab": {
          "base_uri": "https://localhost:8080/"
        },
        "outputId": "c6729510-bb9d-47c2-846c-ab7ceacc01b7"
      },
      "execution_count": null,
      "outputs": [
        {
          "output_type": "stream",
          "name": "stdout",
          "text": [
            "kkkkkklllyyyyy\n"
          ]
        }
      ]
    },
    {
      "cell_type": "code",
      "source": [
        "# In = a4k3b2   out = aeknbd\n",
        "\n",
        "s = 'a4k3b2'\n",
        "output = ''\n",
        "for ch in s:\n",
        "  if ch.isalpha():\n",
        "    output = output + ch\n",
        "    x = ch\n",
        "  else:\n",
        "    d = int(ch)\n",
        "    out = chr(ord(x)+d)\n",
        "    output = output + out\n",
        "print(output)"
      ],
      "metadata": {
        "id": "2LYaPMUOl8wV",
        "colab": {
          "base_uri": "https://localhost:8080/"
        },
        "outputId": "ab70ea2f-8224-41a8-9578-cfda7acb0dff"
      },
      "execution_count": null,
      "outputs": [
        {
          "output_type": "stream",
          "name": "stdout",
          "text": [
            "aeknbd\n"
          ]
        }
      ]
    },
    {
      "cell_type": "code",
      "source": [
        "# To remove duplicate values from string\n",
        "\n",
        "s = 'AAVVHHJKLLLDWNMMMIP'\n",
        "output = ''\n",
        "for ch in s:\n",
        "  if ch not in output:\n",
        "    output = output + ch\n",
        "    print(ch)"
      ],
      "metadata": {
        "id": "UMsi0Xb3qmqP"
      },
      "execution_count": null,
      "outputs": []
    },
    {
      "cell_type": "code",
      "source": [
        "#Find no. of occurances of each char present in str\n",
        "\n",
        "s = 'AAVVHHJ'\n",
        "l = ''\n",
        "for ch in s:\n",
        "  if ch not in l:\n",
        "    l = l +ch\n",
        "for ch in sorted(l):\n",
        "  print('{} occurs {} times'.format(ch,s.count(ch)))\n"
      ],
      "metadata": {
        "colab": {
          "base_uri": "https://localhost:8080/"
        },
        "id": "Ufzk8gddqmmr",
        "outputId": "84cc0296-ccc5-4273-bcf0-ef70c418b006"
      },
      "execution_count": null,
      "outputs": [
        {
          "output_type": "stream",
          "name": "stdout",
          "text": [
            "A occurs 2 this times\n",
            "H occurs 2 this times\n",
            "J occurs 1 this times\n",
            "V occurs 2 this times\n"
          ]
        }
      ]
    },
    {
      "cell_type": "code",
      "source": [
        "# find no of occurances of each vowel present in str\n",
        "\n",
        "s = 'vanguardiumleviosa'\n",
        "v = {\"a\",\"e\",\"i\",\"o\",\"u\"}\n",
        "d = {}\n",
        "\n",
        "for ch in s:\n",
        "  if ch in v:\n",
        "    d[ch] = d.get(ch,0)+1\n",
        "for k,v in sorted(d.items()):\n",
        "  print('{} occurs {} times'.format(k,v))"
      ],
      "metadata": {
        "id": "2LsXDMPjqmjg",
        "colab": {
          "base_uri": "https://localhost:8080/"
        },
        "outputId": "6542324b-3ea7-403a-d395-e9c4f40b2b4f"
      },
      "execution_count": 1,
      "outputs": [
        {
          "output_type": "stream",
          "name": "stdout",
          "text": [
            "a occurs 3 times\n",
            "e occurs 1 times\n",
            "i occurs 2 times\n",
            "o occurs 1 times\n",
            "u occurs 2 times\n"
          ]
        }
      ]
    },
    {
      "cell_type": "code",
      "source": [],
      "metadata": {
        "id": "vVYted-hqmg7"
      },
      "execution_count": null,
      "outputs": []
    },
    {
      "cell_type": "code",
      "source": [],
      "metadata": {
        "id": "hvPqxzitqmeQ"
      },
      "execution_count": null,
      "outputs": []
    },
    {
      "cell_type": "code",
      "source": [],
      "metadata": {
        "id": "qLIGtb62qmcQ"
      },
      "execution_count": null,
      "outputs": []
    },
    {
      "cell_type": "code",
      "source": [],
      "metadata": {
        "id": "8CK-KDoBqmZ6"
      },
      "execution_count": null,
      "outputs": []
    },
    {
      "cell_type": "code",
      "source": [],
      "metadata": {
        "id": "QGH8G7WtqmXw"
      },
      "execution_count": null,
      "outputs": []
    },
    {
      "cell_type": "code",
      "source": [],
      "metadata": {
        "id": "KO8hCuaGqmTT"
      },
      "execution_count": null,
      "outputs": []
    },
    {
      "cell_type": "code",
      "source": [],
      "metadata": {
        "id": "eCLwbmbVqmPO"
      },
      "execution_count": null,
      "outputs": []
    },
    {
      "cell_type": "code",
      "source": [],
      "metadata": {
        "id": "NOW72tzcqmLT"
      },
      "execution_count": null,
      "outputs": []
    },
    {
      "cell_type": "code",
      "source": [],
      "metadata": {
        "id": "x5tEMtFFqmHy"
      },
      "execution_count": null,
      "outputs": []
    }
  ]
}