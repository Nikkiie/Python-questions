{
  "nbformat": 4,
  "nbformat_minor": 0,
  "metadata": {
    "colab": {
      "provenance": [],
      "authorship_tag": "ABX9TyPzg2mIlnuVxjIFW81jQWNX",
      "include_colab_link": true
    },
    "kernelspec": {
      "name": "python3",
      "display_name": "Python 3"
    },
    "language_info": {
      "name": "python"
    }
  },
  "cells": [
    {
      "cell_type": "markdown",
      "metadata": {
        "id": "view-in-github",
        "colab_type": "text"
      },
      "source": [
        "<a href=\"https://colab.research.google.com/github/Nikkiie/Python-questions/blob/main/String_Q.ipynb\" target=\"_parent\"><img src=\"https://colab.research.google.com/assets/colab-badge.svg\" alt=\"Open In Colab\"/></a>"
      ]
    },
    {
      "cell_type": "markdown",
      "source": [
        "String questions"
      ],
      "metadata": {
        "id": "Gj1ZfJUnl4U2"
      }
    },
    {
      "cell_type": "code",
      "source": [
        "# Write a Python program to count the number of characters(character frequency) in a string\n",
        "\n",
        "s = input(\"Enter a str:\")\n",
        "dict1 = {}\n",
        "for letter in s:\n",
        "  dict1[letter] = s.count(letter)\n",
        "dict1"
      ],
      "metadata": {
        "colab": {
          "base_uri": "https://localhost:8080/"
        },
        "id": "BcmwlhWcjZcy",
        "outputId": "8a079ad8-9f7d-47ce-f04f-b61ddc6def44"
      },
      "execution_count": null,
      "outputs": [
        {
          "name": "stdout",
          "output_type": "stream",
          "text": [
            "Enter a str:yoyoloo\n"
          ]
        },
        {
          "output_type": "execute_result",
          "data": {
            "text/plain": [
              "{'y': 2, 'o': 4, 'l': 1}"
            ]
          },
          "metadata": {},
          "execution_count": 3
        }
      ]
    },
    {
      "cell_type": "code",
      "source": [
        "# Write a Python function that takes a list of words and returns the length of the longest one\n",
        "\n",
        "s = input(\"Enter some words, it should be less:\")\n",
        "\n",
        "s_list = s.split()\n",
        "max_len = 0\n",
        "for words in s_list:\n",
        "  if len(words) > max_len:\n",
        "    max_len = len(words)\n",
        "\n",
        "print(max_len)"
      ],
      "metadata": {
        "id": "yq8eQ34TjZZk",
        "colab": {
          "base_uri": "https://localhost:8080/"
        },
        "outputId": "a999d105-145d-4be0-b7c5-993b7818a1c1"
      },
      "execution_count": null,
      "outputs": [
        {
          "output_type": "stream",
          "name": "stdout",
          "text": [
            "Enter some words, it should be less:youre kidding right\n",
            "7\n"
          ]
        }
      ]
    },
    {
      "cell_type": "code",
      "source": [
        "#  Write a Python program to change a given string to a new string where the first and last chars have been exchanged.\n",
        "\n",
        "s = input(\"Enter string:\")\n",
        "new_s = s[-1] + s[1:-1] + s[0]\n",
        "new_s"
      ],
      "metadata": {
        "id": "kd_XDRFOjZSN",
        "colab": {
          "base_uri": "https://localhost:8080/",
          "height": 53
        },
        "outputId": "0cdd96f2-f5af-40cc-c577-4e8e022b9243"
      },
      "execution_count": null,
      "outputs": [
        {
          "name": "stdout",
          "output_type": "stream",
          "text": [
            "Enter string:ryjgvl\n"
          ]
        },
        {
          "output_type": "execute_result",
          "data": {
            "text/plain": [
              "'lyjgvr'"
            ],
            "application/vnd.google.colaboratory.intrinsic+json": {
              "type": "string"
            }
          },
          "metadata": {},
          "execution_count": 18
        }
      ]
    },
    {
      "cell_type": "code",
      "source": [
        "'''\n",
        "Write a Python program to add 'ing' at the end of a given string\n",
        "(length should be at least 3). If the given string already ends with 'ing'\n",
        "then add 'ly' instead. If the string length of the given string is less\n",
        "than 3, leave it unchanged\n",
        "'''\n",
        "\n",
        "s = input(\"Enter string:\")\n",
        "if len(s) < 3:\n",
        "  new_s = s\n",
        "elif s[-3:] == 'ing':\n",
        "  new_s = s+'ly'\n",
        "else:\n",
        "  new_s = s+'ing'\n",
        "print(new_s)"
      ],
      "metadata": {
        "id": "191bB__WjZNJ",
        "colab": {
          "base_uri": "https://localhost:8080/"
        },
        "outputId": "ebeb222b-0aec-4500-f7d3-3a6e76a3eba5"
      },
      "execution_count": null,
      "outputs": [
        {
          "output_type": "stream",
          "name": "stdout",
          "text": [
            "Enter string:sting\n",
            "stingly\n"
          ]
        }
      ]
    },
    {
      "cell_type": "code",
      "source": [
        "# Write a Python program to get a single string from two given strings separated by a space and swap the first two characters of each string. \n",
        "\n",
        "s1 = input(\"enter first string \")\n",
        "s2 = input(\"enter second string \")\n",
        "\n",
        "s_concat = s2[:2] + s1[2:]+\" \"+s1[:2] + s2[2:]\n",
        "s_concat"
      ],
      "metadata": {
        "id": "2vKhWy5PjZKa",
        "colab": {
          "base_uri": "https://localhost:8080/",
          "height": 70
        },
        "outputId": "fd160ac4-9d8a-42b3-cf6c-eea64112d21a"
      },
      "execution_count": null,
      "outputs": [
        {
          "name": "stdout",
          "output_type": "stream",
          "text": [
            "enter first string abc\n",
            "enter second string xyz\n"
          ]
        },
        {
          "output_type": "execute_result",
          "data": {
            "text/plain": [
              "'xyc abz'"
            ],
            "application/vnd.google.colaboratory.intrinsic+json": {
              "type": "string"
            }
          },
          "metadata": {},
          "execution_count": 2
        }
      ]
    },
    {
      "cell_type": "code",
      "source": [
        "# Write a Python program to get a string from a given string where all occurrences of its first char have been changed to '$', except the first char itself\n",
        "\n",
        "s = input(\"Enter a string:\")\n",
        "new_s = ''\n",
        "\n",
        "for letter in s:\n",
        "  if letter == s[0]:\n",
        "    new_s = new_s + '$'\n",
        "  else:\n",
        "    new_s = new_s + letter\n",
        "\n",
        "l1 = list(new_s)\n",
        "l1[0] = s[0]\n",
        "new_s = ''.join(l1)\n",
        "new_s"
      ],
      "metadata": {
        "colab": {
          "base_uri": "https://localhost:8080/",
          "height": 53
        },
        "id": "8YJJSQmMjZIC",
        "outputId": "f457b271-1dfc-4a6e-fc7d-eaa710d8ff97"
      },
      "execution_count": null,
      "outputs": [
        {
          "name": "stdout",
          "output_type": "stream",
          "text": [
            "Enter a string:erttue\n"
          ]
        },
        {
          "output_type": "execute_result",
          "data": {
            "text/plain": [
              "'erttu$'"
            ],
            "application/vnd.google.colaboratory.intrinsic+json": {
              "type": "string"
            }
          },
          "metadata": {},
          "execution_count": 9
        }
      ]
    },
    {
      "cell_type": "code",
      "source": [
        "# Write a Python program to get a string made of the first 2 and the last 2 chars from a given string.If the string length is less than 2, return 'empty string\n",
        "\n",
        "s = input(\"Enter a string:\")\n",
        "if len(s)>1:\n",
        "  print(s[:2] + s[-2:])\n",
        "else:\n",
        "  print(\"No slicing for the likes of you\")"
      ],
      "metadata": {
        "colab": {
          "base_uri": "https://localhost:8080/"
        },
        "id": "RBwyemTNjZFY",
        "outputId": "fe4000c3-583e-4449-8910-6bd0f6aaff4f"
      },
      "execution_count": null,
      "outputs": [
        {
          "output_type": "stream",
          "name": "stdout",
          "text": [
            "Enter a string:rohhjjbu\n",
            "robu\n"
          ]
        }
      ]
    },
    {
      "cell_type": "code",
      "source": [
        "# Write a Python program to calculate the length of a string\n",
        "\n",
        "s = input(\"Enter a string:\")\n",
        "l = len(s)\n",
        "l\n",
        "\n",
        "# solution 2\n",
        "\n",
        "l1 = 0\n",
        "for i in s:\n",
        "  l1 = l1+1\n",
        "l1"
      ],
      "metadata": {
        "colab": {
          "base_uri": "https://localhost:8080/"
        },
        "id": "IJPLdIIsjZCi",
        "outputId": "47e51fe3-11fc-4b7b-ff4e-a2315212801f"
      },
      "execution_count": null,
      "outputs": [
        {
          "name": "stdout",
          "output_type": "stream",
          "text": [
            "Enter a string:rtyu\n"
          ]
        },
        {
          "output_type": "execute_result",
          "data": {
            "text/plain": [
              "4"
            ]
          },
          "metadata": {},
          "execution_count": 2
        }
      ]
    },
    {
      "cell_type": "code",
      "execution_count": null,
      "metadata": {
        "colab": {
          "base_uri": "https://localhost:8080/"
        },
        "id": "QdVUoNEalx47",
        "outputId": "c9ab3e82-dd2b-4bdd-be5b-f91fce2882a9"
      },
      "outputs": [
        {
          "output_type": "stream",
          "name": "stdout",
          "text": [
            "ikkin\n"
          ]
        }
      ],
      "source": [
        "# program to reverse given string\n",
        "\n",
        "s = 'nikki'\n",
        "rev = s[::-1]\n",
        "print(rev)\n"
      ]
    },
    {
      "cell_type": "code",
      "source": [
        "#program to reverse order of words\n",
        "\n",
        "s = \"I can and i will\"\n",
        "s1 = s.split()\n",
        "s2 = s1[::-1]\n",
        "s3 = ' '.join(s2)\n",
        "s3"
      ],
      "metadata": {
        "colab": {
          "base_uri": "https://localhost:8080/",
          "height": 35
        },
        "id": "OAll37ZBl9IU",
        "outputId": "94d81b5d-e163-45d7-b506-6d95a4648dd7"
      },
      "execution_count": null,
      "outputs": [
        {
          "output_type": "execute_result",
          "data": {
            "text/plain": [
              "'will i and can I'"
            ],
            "application/vnd.google.colaboratory.intrinsic+json": {
              "type": "string"
            }
          },
          "metadata": {},
          "execution_count": 3
        }
      ]
    },
    {
      "cell_type": "code",
      "source": [
        " # to reverse internal content of each word\n",
        "\n",
        "s = \"I can and i will\"\n",
        "s1 = s.split()\n",
        "s2 = []\n",
        "for words in s1:\n",
        "  s2.append(words[::-1])\n",
        "s3 = ' '.join(s2)\n",
        "s3"
      ],
      "metadata": {
        "colab": {
          "base_uri": "https://localhost:8080/",
          "height": 35
        },
        "id": "D3yl1Eq0l9Fu",
        "outputId": "cdb22a98-ab8a-4136-9353-238ee4467953"
      },
      "execution_count": null,
      "outputs": [
        {
          "output_type": "execute_result",
          "data": {
            "text/plain": [
              "'I nac dna i lliw'"
            ],
            "application/vnd.google.colaboratory.intrinsic+json": {
              "type": "string"
            }
          },
          "metadata": {},
          "execution_count": 5
        }
      ]
    },
    {
      "cell_type": "code",
      "source": [
        "# to print char present at even\n",
        "\n",
        "string = \"qwerty\"\n",
        "i = 0\n",
        "\n",
        "while i<len(string):\n",
        "  print(string[i])\n",
        "  i = i+2\n",
        "\n",
        "\n"
      ],
      "metadata": {
        "id": "LJKhE-gMl9CA",
        "colab": {
          "base_uri": "https://localhost:8080/"
        },
        "outputId": "93cab35a-d66e-41bc-f8d4-f3ba0bbc5d3d"
      },
      "execution_count": null,
      "outputs": [
        {
          "output_type": "stream",
          "name": "stdout",
          "text": [
            "q\n",
            "e\n",
            "t\n"
          ]
        }
      ]
    },
    {
      "cell_type": "code",
      "source": [
        "# to print char present at odd\n",
        "\n",
        "string = \"qwerty\"\n",
        "i = 1\n",
        "\n",
        "while i<len(string):\n",
        "  print(string[i])\n",
        "  i = i+2"
      ],
      "metadata": {
        "id": "Ivm7IoHol8-9",
        "colab": {
          "base_uri": "https://localhost:8080/"
        },
        "outputId": "8b0bcd73-8f14-45a5-98e3-b39d36368321"
      },
      "execution_count": null,
      "outputs": [
        {
          "output_type": "stream",
          "name": "stdout",
          "text": [
            "w\n",
            "r\n",
            "y\n"
          ]
        }
      ]
    },
    {
      "cell_type": "code",
      "source": [
        "# Program to print string whose number are more than 5\n",
        "\n",
        "l1 = ['Apple', \"Grapes\", \"Lemon\", 'mango' \"pomogrenate\", \"litchi\", \"yoghurt\", 'starfruit']\n",
        "l = lambda x: len(x)>5\n",
        "l2 = []\n",
        "for y in l1:\n",
        "  if l(y) == True:\n",
        "    l2.append(y)\n",
        "\n",
        "print(l2)"
      ],
      "metadata": {
        "id": "hGyRMdy_l88g",
        "colab": {
          "base_uri": "https://localhost:8080/"
        },
        "outputId": "b0da1151-f86e-4a8d-c9cf-bf6602485564"
      },
      "execution_count": null,
      "outputs": [
        {
          "output_type": "stream",
          "name": "stdout",
          "text": [
            "['Grapes', 'mangopomogrenate', 'litchi', 'yoghurt', 'starfruit']\n"
          ]
        }
      ]
    },
    {
      "cell_type": "code",
      "source": [
        "#check whether two str are anagrams or not\n",
        "\n",
        "s1 = input('Enter first:')\n",
        "s2 = input('Enter second:')\n",
        "\n",
        "if sorted(s1)==sorted(s2):\n",
        "  print(\"Both are anagrams\")\n",
        "else:\n",
        "  print(\"Not anagrams\")"
      ],
      "metadata": {
        "colab": {
          "base_uri": "https://localhost:8080/"
        },
        "id": "w-9sVWP-645L",
        "outputId": "c8f61134-e688-4eb1-a432-8269db947939"
      },
      "execution_count": null,
      "outputs": [
        {
          "output_type": "stream",
          "name": "stdout",
          "text": [
            "Enter first:crypto\n",
            "Enter second:uno\n",
            "Not anagrams\n"
          ]
        }
      ]
    },
    {
      "cell_type": "code",
      "source": [
        "# to sort char of strings first alpha followed by digits\n",
        "\n",
        "s = 'B3H5j8L0'\n",
        "alpha = []\n",
        "digit = []\n",
        "for elm in s:\n",
        "  if elm.isalpha():\n",
        "    alpha.append(elm)\n",
        "  else:\n",
        "    digit.append(elm)\n",
        "output = ' '.join(sorted(alpha)+sorted(digit))\n",
        "print(output)\n"
      ],
      "metadata": {
        "id": "D83qmWJPl86l",
        "colab": {
          "base_uri": "https://localhost:8080/"
        },
        "outputId": "315cca0e-c87a-4146-c986-eb6c79d7a961"
      },
      "execution_count": null,
      "outputs": [
        {
          "output_type": "stream",
          "name": "stdout",
          "text": [
            "B H L j 0 3 5 8\n"
          ]
        }
      ]
    },
    {
      "cell_type": "code",
      "source": [
        "# prg for following requirement in = a4b3c2 out = aaaabbbcc\n",
        "\n",
        "s = 'l3k6y5'\n",
        "output = ''\n",
        "for ch in s:\n",
        "  if ch.isalpha():\n",
        "    x = ch\n",
        "  else:\n",
        "    d = int(ch)\n",
        "    output = output + x*d\n",
        "print(''.join(sorted(output)))"
      ],
      "metadata": {
        "id": "ajQRPTZ1l81x",
        "colab": {
          "base_uri": "https://localhost:8080/"
        },
        "outputId": "c6729510-bb9d-47c2-846c-ab7ceacc01b7"
      },
      "execution_count": null,
      "outputs": [
        {
          "output_type": "stream",
          "name": "stdout",
          "text": [
            "kkkkkklllyyyyy\n"
          ]
        }
      ]
    },
    {
      "cell_type": "code",
      "source": [
        "# In = a4k3b2   out = aeknbd\n",
        "\n",
        "s = 'a4k3b2'\n",
        "output = ''\n",
        "for ch in s:\n",
        "  if ch.isalpha():\n",
        "    output = output + ch\n",
        "    x = ch\n",
        "  else:\n",
        "    d = int(ch)\n",
        "    out = chr(ord(x)+d)\n",
        "    output = output + out\n",
        "print(output)"
      ],
      "metadata": {
        "id": "2LYaPMUOl8wV",
        "colab": {
          "base_uri": "https://localhost:8080/"
        },
        "outputId": "ab70ea2f-8224-41a8-9578-cfda7acb0dff"
      },
      "execution_count": null,
      "outputs": [
        {
          "output_type": "stream",
          "name": "stdout",
          "text": [
            "aeknbd\n"
          ]
        }
      ]
    },
    {
      "cell_type": "code",
      "source": [
        "# To remove duplicate values from string\n",
        "\n",
        "s = 'AAVVHHJKLLLDWNMMMIP'\n",
        "output = ''\n",
        "for ch in s:\n",
        "  if ch not in output:\n",
        "    output = output + ch\n",
        "    print(ch)"
      ],
      "metadata": {
        "id": "UMsi0Xb3qmqP"
      },
      "execution_count": null,
      "outputs": []
    },
    {
      "cell_type": "code",
      "source": [
        "#Find no. of occurances of each char present in str\n",
        "\n",
        "s = 'AAVVHHJ'\n",
        "l = ''\n",
        "for ch in s:\n",
        "  if ch not in l:\n",
        "    l = l +ch\n",
        "for ch in sorted(l):\n",
        "  print('{} occurs {} times'.format(ch,s.count(ch)))\n"
      ],
      "metadata": {
        "colab": {
          "base_uri": "https://localhost:8080/"
        },
        "id": "Ufzk8gddqmmr",
        "outputId": "84cc0296-ccc5-4273-bcf0-ef70c418b006"
      },
      "execution_count": null,
      "outputs": [
        {
          "output_type": "stream",
          "name": "stdout",
          "text": [
            "A occurs 2 this times\n",
            "H occurs 2 this times\n",
            "J occurs 1 this times\n",
            "V occurs 2 this times\n"
          ]
        }
      ]
    },
    {
      "cell_type": "code",
      "source": [
        "# find no of occurances of each vowel present in str\n",
        "\n",
        "s = 'vanguardiumleviosa'\n",
        "v = {\"a\",\"e\",\"i\",\"o\",\"u\"}\n",
        "d = {}\n",
        "\n",
        "for ch in s:\n",
        "  if ch in v:\n",
        "    d[ch] = d.get(ch,0)+1\n",
        "for k,v in sorted(d.items()):\n",
        "  print('{} occurs {} times'.format(k,v))"
      ],
      "metadata": {
        "id": "2LsXDMPjqmjg",
        "colab": {
          "base_uri": "https://localhost:8080/"
        },
        "outputId": "6542324b-3ea7-403a-d395-e9c4f40b2b4f"
      },
      "execution_count": null,
      "outputs": [
        {
          "output_type": "stream",
          "name": "stdout",
          "text": [
            "a occurs 3 times\n",
            "e occurs 1 times\n",
            "i occurs 2 times\n",
            "o occurs 1 times\n",
            "u occurs 2 times\n"
          ]
        }
      ]
    },
    {
      "cell_type": "code",
      "source": [
        "# for requirement in = 'abcdefg' 'xyz' '12345' out = ax1, by2, cz3, d4, e5, f, g\n",
        "\n",
        "s1 = 'abcdefg'\n",
        "s2 = 'xyz'\n",
        "s3 = '12345'\n",
        "\n",
        "i=j=k=0\n",
        "while i<len(s1) or j<len(s2) or k<len(s3):\n",
        "  output = ''\n",
        "  if i<len(s1):\n",
        "    output = output + s1[i]\n",
        "    i = i+1\n",
        "  if j<len(s2):\n",
        "    output = output + s2[j]\n",
        "    j = j+1\n",
        "  if k<len(s3):\n",
        "    output = output + s3[k]\n",
        "    k = k+1\n",
        "  print(output)"
      ],
      "metadata": {
        "id": "vVYted-hqmg7"
      },
      "execution_count": null,
      "outputs": []
    },
    {
      "cell_type": "code",
      "source": [
        "# Python function that takes a list of words and returns the length of the longest one.\n",
        "\n",
        "some_words = input('Enter some words, only a few okay..')\n",
        "word_split = some_words.split()\n",
        "max_len = 0\n",
        "for word in word_split:\n",
        "  if len(word) > max_len:\n",
        "    max_len = len(word)\n",
        "\n",
        "print(max_len)"
      ],
      "metadata": {
        "id": "hvPqxzitqmeQ",
        "colab": {
          "base_uri": "https://localhost:8080/"
        },
        "outputId": "4a0130dd-2a15-4049-9b02-f628cffa7b16"
      },
      "execution_count": null,
      "outputs": [
        {
          "output_type": "stream",
          "name": "stdout",
          "text": [
            "Enter some words, only a few okay..fruit yolo star\n",
            "5\n"
          ]
        }
      ]
    },
    {
      "cell_type": "code",
      "source": [
        "# Python program to change a given string to a new string where the first and last chars have been exchanged.\n",
        "\n",
        "s = input(\"enter a string \")\n",
        "new_s = s[-1] + s[1:-1] + s[0]\n",
        "new_s"
      ],
      "metadata": {
        "id": "qLIGtb62qmcQ",
        "colab": {
          "base_uri": "https://localhost:8080/",
          "height": 53
        },
        "outputId": "08e3a920-fd7c-412c-e42c-a0b46f247601"
      },
      "execution_count": null,
      "outputs": [
        {
          "name": "stdout",
          "output_type": "stream",
          "text": [
            "enter a string cvbn\n"
          ]
        },
        {
          "output_type": "execute_result",
          "data": {
            "text/plain": [
              "'nvbc'"
            ],
            "application/vnd.google.colaboratory.intrinsic+json": {
              "type": "string"
            }
          },
          "metadata": {},
          "execution_count": 8
        }
      ]
    },
    {
      "cell_type": "code",
      "source": [
        "# Write a Python program to remove the characters which have odd index values of a given string.\n",
        "\n",
        "s = input(\"enter a string \")\n",
        "new_s = ''\n",
        "for i in range(len(s)):\n",
        "  if i % 2==0:\n",
        "    new_s = new_s + s[i]\n",
        "print(new_s)\n"
      ],
      "metadata": {
        "id": "8CK-KDoBqmZ6",
        "colab": {
          "base_uri": "https://localhost:8080/"
        },
        "outputId": "ea882676-ae33-440f-bd6a-a5fa9b44ec93"
      },
      "execution_count": null,
      "outputs": [
        {
          "output_type": "stream",
          "name": "stdout",
          "text": [
            "enter a string qwerty\n",
            "qet\n"
          ]
        }
      ]
    },
    {
      "cell_type": "code",
      "source": [
        "#  Write a Python program to count the occurrences of each word in a given sentence.\n",
        "\n",
        "s = input(\"enter a sentence \")\n",
        "new_s = s.split()\n",
        "dict_s = {}\n",
        "for word in new_s:\n",
        "  if word in dict_s:\n",
        "    dict_s[word] +=1\n",
        "  else:\n",
        "    dict_s[word] = 1\n",
        "\n",
        "print(dict_s)\n",
        "\n",
        "\n",
        "# sol 2\n",
        "\n",
        "s = input(\"enter a sentence \")\n",
        "new_s = s.split()\n",
        "set_s = set(new_s)\n",
        "dict_s = {}\n",
        "\n",
        "for word in set_s:\n",
        "  dict_s[word] = s.count(word)\n",
        "print(dict_s)\n"
      ],
      "metadata": {
        "id": "KO8hCuaGqmTT"
      },
      "execution_count": null,
      "outputs": []
    },
    {
      "cell_type": "code",
      "source": [
        "# Write a Python script that takes input from the user and displays that input back in upper and lower cases.\n",
        "\n",
        "s = input('Enter something, just anything:')\n",
        "\n",
        "print(s.upper())\n",
        "print(s.lower())"
      ],
      "metadata": {
        "id": "eCLwbmbVqmPO",
        "colab": {
          "base_uri": "https://localhost:8080/"
        },
        "outputId": "bb3b5423-dc07-4aa1-ccaa-cb9e96171542"
      },
      "execution_count": null,
      "outputs": [
        {
          "output_type": "stream",
          "name": "stdout",
          "text": [
            "Enter something, just anything:i am in love with starfruit\n",
            "I AM IN LOVE WITH STARFRUIT\n",
            "i am in love with starfruit\n"
          ]
        }
      ]
    },
    {
      "cell_type": "code",
      "source": [
        "# Write a Python program that accepts a comma separated sequence of words as input and prints the unique words in sorted form (alphanumerically). \n",
        "\n",
        "s = input('Enter comma seperated words, will you:-')\n",
        "\n",
        "comma_s = sorted(set(s.split(',')))\n",
        "print(','.join(comma_s))"
      ],
      "metadata": {
        "id": "NOW72tzcqmLT",
        "colab": {
          "base_uri": "https://localhost:8080/"
        },
        "outputId": "7307f341-d23e-49ca-f5cc-b02d2c9d70a1"
      },
      "execution_count": null,
      "outputs": [
        {
          "output_type": "stream",
          "name": "stdout",
          "text": [
            "Enter comma seperated words, will you:-red, white, black, red, green, black\n",
            " black, green, red, white,red\n"
          ]
        }
      ]
    },
    {
      "cell_type": "code",
      "source": [
        "\"\"\"\n",
        "Write a Python function to get a string made of 4 copies of the\n",
        "last two characters of a specified string (length must be at least 2). \n",
        "Sample function and result : \n",
        "insert_end('Python') -> onononon\n",
        "insert_end('Exercises') -> eseseses\n",
        "\"\"\"\n",
        "def insert_(s):\n",
        "  return s[-2:]*4\n",
        "\n",
        "print(insert_('Gojo'))"
      ],
      "metadata": {
        "id": "4Y5UN9_h1OdX",
        "colab": {
          "base_uri": "https://localhost:8080/"
        },
        "outputId": "1529a076-033b-4278-d229-63e216878be5"
      },
      "execution_count": null,
      "outputs": [
        {
          "output_type": "stream",
          "name": "stdout",
          "text": [
            "jojojojo\n"
          ]
        }
      ]
    },
    {
      "cell_type": "code",
      "source": [
        "#  Write a Python function to get a string made of its first three characters of a specified string. If the length of the string is less than 3 then return the original string. \n",
        "\n",
        "def first_three(s):\n",
        "  if len(s)>2:\n",
        "    return s[:3]\n",
        "  else:\n",
        "    return s\n",
        "print(first_three('hyo'))\n",
        "print(first_three('yuowok'))"
      ],
      "metadata": {
        "id": "LGqfJdYj1OX6",
        "colab": {
          "base_uri": "https://localhost:8080/"
        },
        "outputId": "59b50a88-e29e-4f74-d177-399f75acd12a"
      },
      "execution_count": null,
      "outputs": [
        {
          "output_type": "stream",
          "name": "stdout",
          "text": [
            "hyo\n",
            "yuo\n"
          ]
        }
      ]
    },
    {
      "cell_type": "code",
      "source": [
        "def get_last_part(my_string, char):\n",
        "    my_list = my_string.split(char)\n",
        "    return char.join(my_list[:-1])\n",
        "\n",
        "print(get_last_part('https://www.w3resource.com/python', \"/\"))"
      ],
      "metadata": {
        "id": "6qn154OZ1OSk",
        "colab": {
          "base_uri": "https://localhost:8080/"
        },
        "outputId": "b7088795-e0b4-41f0-fc7e-d5a85565eeed"
      },
      "execution_count": null,
      "outputs": [
        {
          "output_type": "stream",
          "name": "stdout",
          "text": [
            "https://www.w3resource.com\n"
          ]
        }
      ]
    },
    {
      "cell_type": "code",
      "source": [
        "# Write a Python function to reverses a string if it's length is a multiple of 4.\n",
        "\n",
        "def reverse_string(s):\n",
        "  if len(s)%4==0:\n",
        "    l1 = list(s)\n",
        "    l1.reverse()\n",
        "    return ''.join(l1)\n",
        "  else:\n",
        "    return s\n",
        "\n",
        "s =input(\"enter a string \")\n",
        "print(reverse_string(s))"
      ],
      "metadata": {
        "id": "f2fEuK1A1OPw",
        "colab": {
          "base_uri": "https://localhost:8080/"
        },
        "outputId": "82cc58c7-5335-4c0a-893c-ea4decd7bc66"
      },
      "execution_count": null,
      "outputs": [
        {
          "output_type": "stream",
          "name": "stdout",
          "text": [
            "enter a string ghjjk\n",
            "ghjjk\n"
          ]
        }
      ]
    },
    {
      "cell_type": "code",
      "source": [
        "#  Write a Python function to convert a given string to all uppercase if it contains at least 2 uppercase characters in the first 4 characters.\n",
        "\n",
        "def to_upper(my_str):\n",
        "  count = 0\n",
        "  for i in my_str[:4]:\n",
        "    if i.isupper():\n",
        "      count = count+1\n",
        "  if count>1:\n",
        "    return my_str.upper()\n",
        "  else:\n",
        "    return my_str\n"
      ],
      "metadata": {
        "id": "_ORYh75M1OHD"
      },
      "execution_count": null,
      "outputs": []
    },
    {
      "cell_type": "code",
      "source": [
        "my_str = input(\"enter a string \")\n",
        "print(to_upper(my_str))"
      ],
      "metadata": {
        "id": "_mi1WG6d1OC_",
        "colab": {
          "base_uri": "https://localhost:8080/"
        },
        "outputId": "8168cdc9-4765-4616-daf6-ac097792b368"
      },
      "execution_count": null,
      "outputs": [
        {
          "output_type": "stream",
          "name": "stdout",
          "text": [
            "enter a string tojimaru\n",
            "tojimaru\n"
          ]
        }
      ]
    },
    {
      "cell_type": "code",
      "source": [
        "# program to sort a string lexicographically.\n",
        "\n",
        "my_string = input(\"enter a string \")\n",
        "print(''.join(sorted(my_string, key=str.lower)))"
      ],
      "metadata": {
        "id": "5mabzMiL1N_5",
        "colab": {
          "base_uri": "https://localhost:8080/"
        },
        "outputId": "5597fc7b-80c3-4c85-dd69-49acc6277ea0"
      },
      "execution_count": null,
      "outputs": [
        {
          "output_type": "stream",
          "name": "stdout",
          "text": [
            "enter a string denji power\n",
            " deeijnoprw\n"
          ]
        }
      ]
    },
    {
      "cell_type": "code",
      "source": [
        "# Python program to check whether a string starts with specified characters."
      ],
      "metadata": {
        "id": "oH6d_iRC1N88"
      },
      "execution_count": null,
      "outputs": []
    },
    {
      "cell_type": "code",
      "source": [
        "#Python program to print the following floating numbers upto 2 decimal places.\n",
        "\n",
        "my_float = float(input(\"Enter numbers in dotted\"))\n",
        "print(\"This is the dotted %.2f\" % my_float)"
      ],
      "metadata": {
        "id": "Ypoh2z6e1N6G",
        "colab": {
          "base_uri": "https://localhost:8080/"
        },
        "outputId": "cd7fb5f7-e938-4ff9-ec4d-dc856b46b5db"
      },
      "execution_count": null,
      "outputs": [
        {
          "output_type": "stream",
          "name": "stdout",
          "text": [
            "Enter numbers in dotted4.3256\n",
            "This is the dotted 4.33\n"
          ]
        }
      ]
    },
    {
      "cell_type": "code",
      "source": [
        "# Python program to print the following integers with zeros on the left of specified width\n",
        "\n",
        "my_int = input(\"Gimme a integer \")\n",
        "print(my_int.zfill(4))"
      ],
      "metadata": {
        "colab": {
          "base_uri": "https://localhost:8080/"
        },
        "id": "CSCGFHN_rMRX",
        "outputId": "474bff7b-2f32-4052-c515-649732145019"
      },
      "execution_count": 7,
      "outputs": [
        {
          "output_type": "stream",
          "name": "stdout",
          "text": [
            "Gimme a integer 5\n",
            "0005\n"
          ]
        }
      ]
    },
    {
      "cell_type": "code",
      "source": [
        "# Python program to print the following integers with '*' on the right of specified width.\n",
        "\n",
        "my_int = input(\"Gimme a integer \")\n",
        "print('{:*<5}'.format(my_int))"
      ],
      "metadata": {
        "colab": {
          "base_uri": "https://localhost:8080/"
        },
        "id": "z_rrIPgUovux",
        "outputId": "685a6287-a1b2-4f7e-800c-37fd144c7448"
      },
      "execution_count": 13,
      "outputs": [
        {
          "output_type": "stream",
          "name": "stdout",
          "text": [
            "Gimme a integer 6\n",
            "6****\n"
          ]
        }
      ]
    },
    {
      "cell_type": "code",
      "source": [
        "# Python program to display a number with a comma separator.\n",
        "\n",
        "my_int = int(input(\"Gimme a number ASAP! \"))\n",
        "print('{:,}'.format(my_int))"
      ],
      "metadata": {
        "colab": {
          "base_uri": "https://localhost:8080/"
        },
        "id": "Xhl5w1Fbovr8",
        "outputId": "7c63c3d3-bc78-40ee-a763-34c227819d03"
      },
      "execution_count": 15,
      "outputs": [
        {
          "output_type": "stream",
          "name": "stdout",
          "text": [
            "Gimme a number ASAP! 3\n",
            "3\n"
          ]
        }
      ]
    },
    {
      "cell_type": "code",
      "source": [
        "my_int = int(input(\"enter a number \"))\n",
        "\n",
        "print('{:,}'.format(my_int))"
      ],
      "metadata": {
        "colab": {
          "base_uri": "https://localhost:8080/"
        },
        "id": "mOaB_kN6ovou",
        "outputId": "da66d239-a178-418d-93e1-568d482672ec"
      },
      "execution_count": 20,
      "outputs": [
        {
          "output_type": "stream",
          "name": "stdout",
          "text": [
            "enter a number 4000000\n",
            "4,000,000\n"
          ]
        }
      ]
    },
    {
      "cell_type": "code",
      "source": [],
      "metadata": {
        "id": "2dYz2WFWovkg"
      },
      "execution_count": null,
      "outputs": []
    },
    {
      "cell_type": "code",
      "source": [],
      "metadata": {
        "id": "leWTrHnnovhw"
      },
      "execution_count": null,
      "outputs": []
    }
  ]
}