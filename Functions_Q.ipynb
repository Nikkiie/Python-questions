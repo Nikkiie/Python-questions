{
  "nbformat": 4,
  "nbformat_minor": 0,
  "metadata": {
    "colab": {
      "provenance": [],
      "authorship_tag": "ABX9TyOxQIZ6KGtUAN1V7sq9kkfR",
      "include_colab_link": true
    },
    "kernelspec": {
      "name": "python3",
      "display_name": "Python 3"
    },
    "language_info": {
      "name": "python"
    }
  },
  "cells": [
    {
      "cell_type": "markdown",
      "metadata": {
        "id": "view-in-github",
        "colab_type": "text"
      },
      "source": [
        "<a href=\"https://colab.research.google.com/github/Nikkiie/Python-questions/blob/main/Functions_Q.ipynb\" target=\"_parent\"><img src=\"https://colab.research.google.com/assets/colab-badge.svg\" alt=\"Open In Colab\"/></a>"
      ]
    },
    {
      "cell_type": "code",
      "execution_count": 1,
      "metadata": {
        "id": "ZW54VWWw5H94",
        "colab": {
          "base_uri": "https://localhost:8080/"
        },
        "outputId": "db32114a-1431-4e31-f3b5-309ae1a4b9fb"
      },
      "outputs": [
        {
          "output_type": "stream",
          "name": "stdout",
          "text": [
            "gnilwob\n"
          ]
        }
      ],
      "source": [
        "# Write a Python program to reverse a string.\n",
        "\n",
        "def rev_str(in_str):\n",
        "  in_str = in_str[::-1]\n",
        "  return in_str\n",
        "\n",
        "s = 'bowling'\n",
        "print(rev_str(s))\n",
        "\n",
        "\n"
      ]
    },
    {
      "cell_type": "code",
      "source": [
        "#Write a Python function to check whether a number is in a given range.\n",
        "\n",
        "def in_range(number, n, m):\n",
        "  if number in range(n,m+1):\n",
        "    return True\n",
        "  else:\n",
        "    return False\n",
        "number = int(input('please enter a number: '))\n",
        "n=0\n",
        "m=11\n",
        "print(in_range(number,n,m))"
      ],
      "metadata": {
        "colab": {
          "base_uri": "https://localhost:8080/"
        },
        "id": "NqWFI8TlZMex",
        "outputId": "27d96a94-1818-4d5b-d2cb-cdd20421f062"
      },
      "execution_count": 7,
      "outputs": [
        {
          "output_type": "stream",
          "name": "stdout",
          "text": [
            "please enter a number: 12\n",
            "False\n"
          ]
        }
      ]
    },
    {
      "cell_type": "code",
      "source": [],
      "metadata": {
        "id": "vI1vQepFZMc1"
      },
      "execution_count": null,
      "outputs": []
    },
    {
      "cell_type": "code",
      "source": [],
      "metadata": {
        "id": "hjXk0eyKZMao"
      },
      "execution_count": null,
      "outputs": []
    },
    {
      "cell_type": "code",
      "source": [],
      "metadata": {
        "id": "QhEzWy4fZMXN"
      },
      "execution_count": null,
      "outputs": []
    },
    {
      "cell_type": "code",
      "source": [],
      "metadata": {
        "id": "je6oAhfjZMSL"
      },
      "execution_count": null,
      "outputs": []
    },
    {
      "cell_type": "code",
      "source": [],
      "metadata": {
        "id": "cXLiBVBnZMPD"
      },
      "execution_count": null,
      "outputs": []
    },
    {
      "cell_type": "code",
      "source": [],
      "metadata": {
        "id": "xPvQOQm4ZML3"
      },
      "execution_count": null,
      "outputs": []
    }
  ]
}