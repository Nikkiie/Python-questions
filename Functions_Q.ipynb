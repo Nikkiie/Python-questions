{
  "nbformat": 4,
  "nbformat_minor": 0,
  "metadata": {
    "colab": {
      "provenance": [],
      "authorship_tag": "ABX9TyN14aL9F/FnhDNgfotpxs9Q",
      "include_colab_link": true
    },
    "kernelspec": {
      "name": "python3",
      "display_name": "Python 3"
    },
    "language_info": {
      "name": "python"
    }
  },
  "cells": [
    {
      "cell_type": "markdown",
      "metadata": {
        "id": "view-in-github",
        "colab_type": "text"
      },
      "source": [
        "<a href=\"https://colab.research.google.com/github/Nikkiie/Python-questions/blob/main/Functions_Q.ipynb\" target=\"_parent\"><img src=\"https://colab.research.google.com/assets/colab-badge.svg\" alt=\"Open In Colab\"/></a>"
      ]
    },
    {
      "cell_type": "code",
      "execution_count": null,
      "metadata": {
        "id": "ZW54VWWw5H94",
        "colab": {
          "base_uri": "https://localhost:8080/"
        },
        "outputId": "db32114a-1431-4e31-f3b5-309ae1a4b9fb"
      },
      "outputs": [
        {
          "output_type": "stream",
          "name": "stdout",
          "text": [
            "gnilwob\n"
          ]
        }
      ],
      "source": [
        "# Write a Python program to reverse a string.\n",
        "\n",
        "def rev_str(in_str):\n",
        "  in_str = in_str[::-1]\n",
        "  return in_str\n",
        "\n",
        "s = 'bowling'\n",
        "print(rev_str(s))\n",
        "\n",
        "\n"
      ]
    },
    {
      "cell_type": "code",
      "source": [
        "#Write a Python function to check whether a number is in a given range.\n",
        "\n",
        "def in_range(number, n, m):\n",
        "  if number in range(n,m+1):\n",
        "    return True\n",
        "  else:\n",
        "    return False\n",
        "number = int(input('please enter a number: '))\n",
        "n=0\n",
        "m=11\n",
        "print(in_range(number,n,m))"
      ],
      "metadata": {
        "colab": {
          "base_uri": "https://localhost:8080/"
        },
        "id": "NqWFI8TlZMex",
        "outputId": "27d96a94-1818-4d5b-d2cb-cdd20421f062"
      },
      "execution_count": null,
      "outputs": [
        {
          "output_type": "stream",
          "name": "stdout",
          "text": [
            "please enter a number: 12\n",
            "False\n"
          ]
        }
      ]
    },
    {
      "cell_type": "code",
      "source": [
        "# Python function to calculate the factorial of a number\n",
        "\n",
        "def Calfact(num):\n",
        "  result = 1\n",
        "  for i in range(n,0,-1):\n",
        "    result = result*i\n",
        "  return result\n",
        "n =  int(input('Enter a number: '))\n",
        "print(\"Factorial of\", n, \"is\", Calfact(n))\n",
        " "
      ],
      "metadata": {
        "id": "vI1vQepFZMc1",
        "colab": {
          "base_uri": "https://localhost:8080/"
        },
        "outputId": "21ded8d2-a413-4304-982c-dfe9f4f933a1"
      },
      "execution_count": null,
      "outputs": [
        {
          "output_type": "stream",
          "name": "stdout",
          "text": [
            "Enter a number: 6\n",
            "Factorial of 6 is 720\n"
          ]
        }
      ]
    },
    {
      "cell_type": "code",
      "source": [
        "#Python function that takes a list and returns a new list with unique elements of the first list. \n",
        "\n",
        "def uniques(l):\n",
        "  unique = []\n",
        "  for i in l:\n",
        "    if i not in unique:\n",
        "      unique.append(i)\n",
        "  return unique\n",
        "\n",
        "l = [1,2,3,3,3,3,4,5]\n",
        "print(uniques(l))\n"
      ],
      "metadata": {
        "id": "hjXk0eyKZMao",
        "colab": {
          "base_uri": "https://localhost:8080/"
        },
        "outputId": "bbf21c45-5e27-4a16-cf44-b3ff3af4f461"
      },
      "execution_count": null,
      "outputs": [
        {
          "output_type": "stream",
          "name": "stdout",
          "text": [
            "[1, 2, 3, 4, 5]\n"
          ]
        }
      ]
    },
    {
      "cell_type": "code",
      "source": [
        "#  Python function that takes a number as a parameter and check the number is prime or not.\n",
        "\n",
        "def prime(num):\n",
        "  if num == 1:\n",
        "    return True\n",
        "  for i in range(2,num):\n",
        "    if num%2==0:\n",
        "      return False\n",
        "  return True\n",
        "number = int(input('please enter a number: '))\n",
        "if prime(number):\n",
        "  print('its prime')\n",
        "else:\n",
        "  print('its optimus')\n"
      ],
      "metadata": {
        "id": "QhEzWy4fZMXN",
        "colab": {
          "base_uri": "https://localhost:8080/"
        },
        "outputId": "63dbbfbe-5884-4ee2-c882-1d01827a829e"
      },
      "execution_count": null,
      "outputs": [
        {
          "output_type": "stream",
          "name": "stdout",
          "text": [
            "please enter a number: 4\n",
            "its optimus\n"
          ]
        }
      ]
    },
    {
      "cell_type": "code",
      "source": [
        "#Python function to check whether a number is perfect or not.\n",
        "\n",
        "def prime(num):\n",
        " result = 0\n",
        "\n",
        " for i in range(1, num):\n",
        "   if num%i == 0:\n",
        "     result = result+i\n",
        " if result == num:\n",
        "    return True\n",
        " else:\n",
        "    return False\n",
        " \n",
        "num =  int(input(\"Enter the number, I know you can :) \"))\n",
        "if prime(num):\n",
        "  print(\"is perfect no\")\n",
        "else:\n",
        "   print(\"is not a perfect no\")"
      ],
      "metadata": {
        "id": "je6oAhfjZMSL",
        "colab": {
          "base_uri": "https://localhost:8080/"
        },
        "outputId": "0d3356d7-4b8c-4000-dad6-a9aaa4fafd83"
      },
      "execution_count": null,
      "outputs": [
        {
          "output_type": "stream",
          "name": "stdout",
          "text": [
            "Enter the number, I know you can :) 8\n",
            "is not a perfect no\n"
          ]
        }
      ]
    },
    {
      "cell_type": "code",
      "source": [
        "# Python program that accepts a hyphen-separated sequence of words as input and prints the words in a hyphen-separated sequence after sorting them alphabetically.\n",
        "\n",
        "def hyphen(words):\n",
        "  l1 = words.split('-')\n",
        "  l1.sort()\n",
        "  return '-'.join(l1)\n",
        "my_string = 'green-red-yellow-black-white'\n",
        "print(hyphen(my_string))\n",
        "\n",
        "  "
      ],
      "metadata": {
        "id": "cXLiBVBnZMPD",
        "colab": {
          "base_uri": "https://localhost:8080/"
        },
        "outputId": "f6689ef4-f35b-40fd-f765-02649b3261c4"
      },
      "execution_count": 1,
      "outputs": [
        {
          "output_type": "stream",
          "name": "stdout",
          "text": [
            "black-green-red-white-yellow\n"
          ]
        }
      ]
    },
    {
      "cell_type": "code",
      "source": [
        "# Python function to check whether a string is a pangram or not.\n",
        "'''Note : Pangrams are words or sentences containing every letter of the\n",
        "alphabet at least once.'''\n",
        "\n",
        "def pangram(s):\n",
        "  alphabet = ''\n",
        "  for letter in s.lower():\n",
        "    if letter.isalpha() and letter not in alphabet:\n",
        "      alphabet = alphabet + letter\n",
        "  alphabet = ''.join(sorted(alphabet))\n",
        "  if alphabet == 'abcdefghijklmnopqrstuvwxyz':\n",
        "    return True\n",
        "  else:\n",
        "    return False\n",
        "print(pangram(\"The quick brown fox jumps over the lazy dog\"))"
      ],
      "metadata": {
        "id": "xPvQOQm4ZML3",
        "colab": {
          "base_uri": "https://localhost:8080/"
        },
        "outputId": "30e61608-c51f-459f-d759-44973b97bd12"
      },
      "execution_count": 4,
      "outputs": [
        {
          "output_type": "stream",
          "name": "stdout",
          "text": [
            "False\n"
          ]
        }
      ]
    },
    {
      "cell_type": "code",
      "source": [],
      "metadata": {
        "id": "Xi03YUjX26Oh"
      },
      "execution_count": null,
      "outputs": []
    },
    {
      "cell_type": "code",
      "source": [],
      "metadata": {
        "id": "19_4x98A26K-"
      },
      "execution_count": null,
      "outputs": []
    },
    {
      "cell_type": "code",
      "source": [],
      "metadata": {
        "id": "iKYhIWsv26IJ"
      },
      "execution_count": null,
      "outputs": []
    },
    {
      "cell_type": "code",
      "source": [],
      "metadata": {
        "id": "kqrFdN5L26Fy"
      },
      "execution_count": null,
      "outputs": []
    },
    {
      "cell_type": "code",
      "source": [],
      "metadata": {
        "id": "J74AdV6x26Cq"
      },
      "execution_count": null,
      "outputs": []
    },
    {
      "cell_type": "code",
      "source": [],
      "metadata": {
        "id": "CAnBsrR625_l"
      },
      "execution_count": null,
      "outputs": []
    },
    {
      "cell_type": "code",
      "source": [],
      "metadata": {
        "id": "-o7eZKol258W"
      },
      "execution_count": null,
      "outputs": []
    }
  ]
}