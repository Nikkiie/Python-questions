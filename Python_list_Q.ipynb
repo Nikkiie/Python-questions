{
  "nbformat": 4,
  "nbformat_minor": 0,
  "metadata": {
    "colab": {
      "provenance": [],
      "authorship_tag": "ABX9TyPKosI3io8X9GxTawXnfcOu",
      "include_colab_link": true
    },
    "kernelspec": {
      "name": "python3",
      "display_name": "Python 3"
    },
    "language_info": {
      "name": "python"
    }
  },
  "cells": [
    {
      "cell_type": "markdown",
      "metadata": {
        "id": "view-in-github",
        "colab_type": "text"
      },
      "source": [
        "<a href=\"https://colab.research.google.com/github/Nikkiie/Python-questions/blob/main/Python_list_Q.ipynb\" target=\"_parent\"><img src=\"https://colab.research.google.com/assets/colab-badge.svg\" alt=\"Open In Colab\"/></a>"
      ]
    },
    {
      "cell_type": "markdown",
      "source": [
        "LIST QUESTIONS\n"
      ],
      "metadata": {
        "id": "s8yq3l6lBffa"
      }
    },
    {
      "cell_type": "code",
      "execution_count": null,
      "metadata": {
        "id": "2ujIm62eBJHz"
      },
      "outputs": [],
      "source": [
        "# To find length of a list\n",
        "\n",
        "l1 = [20,88,99,5,0,33,7]\n",
        "count = 0\n",
        "\n",
        "for i in l1:\n",
        "  count = count + 1\n",
        "print(\"Length of list is\", count)\n"
      ]
    },
    {
      "cell_type": "code",
      "source": [
        "# Check if element exists in list in Python\n",
        "\n",
        "l1 = [1, 6, 3, 5, 3, 4]\n",
        "num = int(input('Enter any number:'))\n",
        "\n",
        "if num in l1:\n",
        "  print(\"It exists\")\n",
        "else:\n",
        "    print(\"It does not exist\")\n",
        "\n"
      ],
      "metadata": {
        "colab": {
          "base_uri": "https://localhost:8080/"
        },
        "id": "tDbW8M-zCOlx",
        "outputId": "54a1743e-939c-49de-d833-3539828c75d5"
      },
      "execution_count": null,
      "outputs": [
        {
          "output_type": "stream",
          "name": "stdout",
          "text": [
            "Enter any number:7\n",
            "It does not exist\n"
          ]
        }
      ]
    },
    {
      "cell_type": "code",
      "source": [
        "# Python program to swap two elements in a list\n",
        "\n",
        "list1 = [88,90,77,4,66]\n",
        "pos1,pos2 = 0,2\n",
        "\n",
        "list1[pos1],list1[pos2] = list1[pos2],list1[pos1]\n",
        "print(list1)"
      ],
      "metadata": {
        "colab": {
          "base_uri": "https://localhost:8080/"
        },
        "id": "aLx3gGeFCOj8",
        "outputId": "033e510d-3991-4d5c-e61a-84294857f515"
      },
      "execution_count": null,
      "outputs": [
        {
          "output_type": "stream",
          "name": "stdout",
          "text": [
            "[77, 90, 88, 4, 66]\n"
          ]
        }
      ]
    },
    {
      "cell_type": "code",
      "source": [
        "# Python program to interchange first and last elements in a list\n",
        "\n",
        "l1 = [1,2,45,67,66,0]\n",
        "i = l1[0]\n",
        "l1[0] = l1[len(l1)-1]\n",
        "l1[len(l1)-1] = i\n",
        "print(l1)"
      ],
      "metadata": {
        "colab": {
          "base_uri": "https://localhost:8080/"
        },
        "id": "kz89JyOvCOh1",
        "outputId": "18d4483c-aa90-45b1-fc68-622fdb03fc9b"
      },
      "execution_count": null,
      "outputs": [
        {
          "output_type": "stream",
          "name": "stdout",
          "text": [
            "[0, 2, 45, 67, 66, 1]\n"
          ]
        }
      ]
    },
    {
      "cell_type": "code",
      "source": [
        "#Reversing a list \n",
        "list1 = [2,34,5,6,6]\n",
        "l = list1[::-1]\n",
        "l\n",
        "\n",
        "# Solution 2\n",
        "list1 = [2,34,5,6,6]\n",
        "list1.reverse()\n",
        "list1"
      ],
      "metadata": {
        "id": "Mqg16sSXCOeo",
        "colab": {
          "base_uri": "https://localhost:8080/"
        },
        "outputId": "be419439-67f2-4218-fa48-2b8409cfcfe1"
      },
      "execution_count": null,
      "outputs": [
        {
          "output_type": "execute_result",
          "data": {
            "text/plain": [
              "[6, 6, 5, 34, 2]"
            ]
          },
          "metadata": {},
          "execution_count": 4
        }
      ]
    },
    {
      "cell_type": "code",
      "source": [
        "# Different ways to clear a list in Python\n",
        "\n",
        "list1 = [2,34,5,6,6]\n",
        "list1.clear()\n",
        "list1\n",
        "\n",
        "# Solution 2\n",
        "list1 = [2,34,5,6,6]\n",
        "list1 *= 0\n",
        "print(list1)"
      ],
      "metadata": {
        "id": "Z9fzGWIrCOay",
        "colab": {
          "base_uri": "https://localhost:8080/"
        },
        "outputId": "27ab0707-ef46-4894-8b18-d112ae7107a4"
      },
      "execution_count": null,
      "outputs": [
        {
          "output_type": "stream",
          "name": "stdout",
          "text": [
            "[]\n"
          ]
        }
      ]
    },
    {
      "cell_type": "code",
      "source": [
        "# program to find the sum of all the elements in the list.\n",
        "\n",
        "list1 = [2,34,5,6,6]\n",
        "total = 0\n",
        "\n",
        "for i in range(0, len(list1)):\n",
        "  total = total + list1[i]\n",
        "\n",
        "print(\"Total is\", total)\n",
        "\n",
        "# Solution 2\n",
        "\n",
        "list1 = [2,34,5,6,6]\n",
        "total = sum(list1)\n",
        "print(total)\n"
      ],
      "metadata": {
        "id": "OpaKksNpCOYZ",
        "colab": {
          "base_uri": "https://localhost:8080/"
        },
        "outputId": "120a4711-f6e3-48f6-eda2-5fd4b8893723"
      },
      "execution_count": null,
      "outputs": [
        {
          "output_type": "stream",
          "name": "stdout",
          "text": [
            "Total is 53\n",
            "53\n"
          ]
        }
      ]
    },
    {
      "cell_type": "code",
      "source": [
        "# Multiply all numbers in the list\n",
        "\n",
        "list1 = [1, 2, 3]\n",
        "result = 1\n",
        "for i in list1:\n",
        "  result = result * i\n",
        "\n",
        "print(result)\n",
        "\n",
        "# Solution 2\n",
        "\n",
        "def multiply(listt):\n",
        "  result = 1\n",
        "  for i in listt:\n",
        "    result = result * i\n",
        "\n",
        "  return result\n",
        "num = [3,4]\n",
        "print(multiply(num))\n",
        "\n"
      ],
      "metadata": {
        "id": "xow2PLxPCOVk",
        "colab": {
          "base_uri": "https://localhost:8080/"
        },
        "outputId": "9147a858-8b61-45e1-d259-3b90611de9c7"
      },
      "execution_count": null,
      "outputs": [
        {
          "output_type": "stream",
          "name": "stdout",
          "text": [
            "6\n",
            "12\n"
          ]
        }
      ]
    },
    {
      "cell_type": "code",
      "source": [
        "# program to find smallest number in a list\n",
        "\n",
        "list1 = [10, 20, 4, 45, 99]\n",
        "list1.sort()\n",
        "print(\"The smallest number is:\", list1[0])\n",
        "\n",
        "# Solution 2\n",
        "\n",
        "list1 = [10, 20, 4, 45, 99]\n",
        "print(\"The smallest number is:\", min(list1))"
      ],
      "metadata": {
        "id": "PUMvUQszCOTP",
        "colab": {
          "base_uri": "https://localhost:8080/"
        },
        "outputId": "3585cb88-96ef-4bf4-9e88-c00fd6a2f0e6"
      },
      "execution_count": null,
      "outputs": [
        {
          "output_type": "stream",
          "name": "stdout",
          "text": [
            "The smallest number is: 4\n",
            "The smallest number is: 4\n"
          ]
        }
      ]
    },
    {
      "cell_type": "code",
      "source": [
        "#program to find largest number in a list while taking input from user\n",
        "\n",
        "list1 = []\n",
        "num = int(input(\"Enter number of elements in list: \"))\n",
        "\n",
        "for i in range(0, num+1):\n",
        "  ele = int(input(\"Enter the numbers:\"))\n",
        "  list1.append(ele)\n",
        "\n",
        "print(\"The larest number is:\", max(list1))"
      ],
      "metadata": {
        "id": "1o7hEaHQCOQ-"
      },
      "execution_count": null,
      "outputs": []
    },
    {
      "cell_type": "code",
      "source": [
        "#program to find second largest number in a list\n",
        "\n",
        "list1 = [10, 20, 20, 4, 45, 45, 45, 99, 99]\n",
        "list2 = list(set(list1))\n",
        "list2.sort()\n",
        "print(\"The second largest number is\",list2[-2])"
      ],
      "metadata": {
        "id": "JBRmEd9NCOOy",
        "colab": {
          "base_uri": "https://localhost:8080/"
        },
        "outputId": "ada5974c-f378-4913-d719-98eb727de19c"
      },
      "execution_count": null,
      "outputs": [
        {
          "output_type": "stream",
          "name": "stdout",
          "text": [
            "The second largest number is 45\n"
          ]
        }
      ]
    },
    {
      "cell_type": "code",
      "source": [
        "# Python program to print Even Numbers in a List\n",
        "\n",
        "list1 = [10, 21, 4, 45, 66, 93]\n",
        "for num in list1:\n",
        "  if num%2==0:\n",
        "    print(num, end=\" \")"
      ],
      "metadata": {
        "id": "da04d796COM0",
        "colab": {
          "base_uri": "https://localhost:8080/"
        },
        "outputId": "227a76da-94f4-4a72-f676-26a1b0603e08"
      },
      "execution_count": null,
      "outputs": [
        {
          "output_type": "stream",
          "name": "stdout",
          "text": [
            "10 4 66 "
          ]
        }
      ]
    },
    {
      "cell_type": "code",
      "source": [
        "# Python program to print odd Numbers in a List\n",
        "\n",
        "list1 = [10, 21, 4, 45, 66, 93]\n",
        "for num in list1:\n",
        "  if num%2==1:\n",
        "    print(num, end=\" \")"
      ],
      "metadata": {
        "id": "br0HeO9pCOJ8",
        "colab": {
          "base_uri": "https://localhost:8080/"
        },
        "outputId": "ebd353a5-e948-4d35-a7f1-3f22ce1ce1a9"
      },
      "execution_count": null,
      "outputs": [
        {
          "output_type": "stream",
          "name": "stdout",
          "text": [
            "21 45 93 "
          ]
        }
      ]
    },
    {
      "cell_type": "code",
      "source": [
        "# Python program to print Even Numbers in given range\n",
        "\n",
        "start = int(input(\"Enter the starting number:\"))\n",
        "end = int(input(\"Enter the last number:\"))\n",
        "\n",
        "for num in range(start,end+1):\n",
        "  if num%2==0:\n",
        "    print(num, end=\" \")"
      ],
      "metadata": {
        "id": "1OEXJc2CCOF9",
        "colab": {
          "base_uri": "https://localhost:8080/"
        },
        "outputId": "487e98c0-2c3d-49b3-dbef-98ec89b7e950"
      },
      "execution_count": null,
      "outputs": [
        {
          "output_type": "stream",
          "name": "stdout",
          "text": [
            "Enter the starting number:4\n",
            "Enter the last number:9\n",
            "4 6 8 "
          ]
        }
      ]
    },
    {
      "cell_type": "code",
      "source": [
        "# program to print positive numbers in a list\n",
        "\n",
        "list1 = [12, -7, 5, 64, -14]\n",
        "for i in list1:\n",
        " if i<0:\n",
        "  list1.remove(i)\n",
        "\n",
        "print(list1)"
      ],
      "metadata": {
        "id": "WJzlR4iVCOCY",
        "colab": {
          "base_uri": "https://localhost:8080/"
        },
        "outputId": "41d26473-425c-4f67-f87c-7b94dfb1d93d"
      },
      "execution_count": null,
      "outputs": [
        {
          "output_type": "stream",
          "name": "stdout",
          "text": [
            "[12, 5, 64]\n"
          ]
        }
      ]
    },
    {
      "cell_type": "code",
      "source": [
        "# Remove empty List from List\n",
        "\n",
        "test_list = [5, 6, [], 3, [], [], 9]\n",
        "emp_list  = list(filter(None, test_list))\n",
        "print(emp_list)\n",
        "\n",
        "# Solution 2\n",
        "test_list = [5, 6, [], 3, [], [], 9]\n",
        "emp = [ele for ele in test_list if ele != []]\n",
        "print(emp)"
      ],
      "metadata": {
        "id": "BAa2TMfTCN_s",
        "colab": {
          "base_uri": "https://localhost:8080/"
        },
        "outputId": "07adb21c-8520-4a7a-a5e4-13a1c5a2f632"
      },
      "execution_count": null,
      "outputs": [
        {
          "output_type": "stream",
          "name": "stdout",
          "text": [
            "[5, 6, 3, 9]\n",
            "[5, 6, 3, 9]\n"
          ]
        }
      ]
    },
    {
      "cell_type": "code",
      "source": [
        "# Python program to remove empty tuples from a list\n",
        "\n",
        "tup = [(), ('ram','15','8'), (), ('laxman', 'sita'),('krishna', 'akbar', '45'), ('',''),()]\n",
        "rem = [ele for ele in tup if ele]\n",
        "print(rem)"
      ],
      "metadata": {
        "id": "INt1qynxj12P",
        "colab": {
          "base_uri": "https://localhost:8080/"
        },
        "outputId": "4ec248ff-ce53-4d41-95f9-165c958f019a"
      },
      "execution_count": null,
      "outputs": [
        {
          "output_type": "stream",
          "name": "stdout",
          "text": [
            "[('ram', '15', '8'), ('laxman', 'sita'), ('krishna', 'akbar', '45'), ('', '')]\n"
          ]
        }
      ]
    },
    {
      "cell_type": "code",
      "source": [
        "# Cloning or Copying a list\n",
        "\n",
        "def clone(list1):\n",
        "  copy = []\n",
        "  copy.extend(list1)\n",
        "  return copy\n",
        "\n",
        "list1 = [4, 8, 2, 10, 15, 18]\n",
        "list2 = clone(list1)\n",
        "print(\"Original List:\", list1)\n",
        "print(\"After Cloning:\", list2)\n"
      ],
      "metadata": {
        "id": "BzSkF5nQj1yl"
      },
      "execution_count": null,
      "outputs": []
    },
    {
      "cell_type": "code",
      "source": [
        "# Count occurrences of an element in a list\n",
        "\n",
        "def counting(listt,x):\n",
        "  count = 0\n",
        "  for val in listt:\n",
        "    if (val == x):\n",
        "      count = count + 1\n",
        "  return count\n",
        "\n",
        "list1 = [8, 6, 8, 10, 8, 20, 10, 8, 8]\n",
        "x = 8\n",
        "print('{} has occurred {} times'.format(x,counting(list1, x)))"
      ],
      "metadata": {
        "id": "8fos4vtuj1vn",
        "colab": {
          "base_uri": "https://localhost:8080/"
        },
        "outputId": "58583db9-5f34-42aa-fd83-61107706a34f"
      },
      "execution_count": null,
      "outputs": [
        {
          "output_type": "stream",
          "name": "stdout",
          "text": [
            "8 has occurred 5 times\n"
          ]
        }
      ]
    },
    {
      "cell_type": "code",
      "source": [
        "#Find index of maximum item in list\n",
        "\n",
        "num = [30, 200, 65, 88, 98, 500, 34]\n",
        "inn = max(num)\n",
        "print('Index of max is', num.index(inn)) "
      ],
      "metadata": {
        "id": "MEKyUmLFj1pb",
        "colab": {
          "base_uri": "https://localhost:8080/"
        },
        "outputId": "6591d32b-fb27-410f-ddd7-d38e6468914c"
      },
      "execution_count": null,
      "outputs": [
        {
          "output_type": "stream",
          "name": "stdout",
          "text": [
            "Index of max is 5\n"
          ]
        }
      ]
    },
    {
      "cell_type": "code",
      "source": [
        "# program to delete the last element from the list\n",
        "\n",
        "num = ['gvjv', 'bjeadb', 'nljv']\n",
        "p = num.pop()\n",
        "num\n",
        "\n",
        "\n",
        "# solution 2\n",
        "\n",
        "num = num[::-1]\n",
        "num"
      ],
      "metadata": {
        "id": "u8C1ZyO9j1ma",
        "colab": {
          "base_uri": "https://localhost:8080/"
        },
        "outputId": "563c1558-ecbd-4dc7-dd5d-4d5bf94e6051"
      },
      "execution_count": 4,
      "outputs": [
        {
          "output_type": "execute_result",
          "data": {
            "text/plain": [
              "['gvjv', 'bjeadb']"
            ]
          },
          "metadata": {},
          "execution_count": 4
        }
      ]
    },
    {
      "cell_type": "code",
      "source": [
        "#Program to Square Each Odd Number in a List using List Comprehension\n",
        "\n",
        "l = [4, 10, 5, 3, 3]\n",
        "com = [i*i for i in l if i%2==1]\n",
        "print(com)"
      ],
      "metadata": {
        "id": "0UV3ZHufj1jf",
        "colab": {
          "base_uri": "https://localhost:8080/"
        },
        "outputId": "3bdc38a8-c09a-486d-811b-b462afe5d2a5"
      },
      "execution_count": 5,
      "outputs": [
        {
          "output_type": "stream",
          "name": "stdout",
          "text": [
            "[25, 9, 9]\n"
          ]
        }
      ]
    },
    {
      "cell_type": "code",
      "source": [
        "#Find Index containing String in List\n",
        "\n",
        "list1 = ['sravan', 98, 'harsha', 'jyothika','deepika', 78, 90, 'ramya']\n",
        "for i in list1:\n",
        "  if (type(i)==str):\n",
        "    print(list1.index(i))"
      ],
      "metadata": {
        "id": "Xw7-qIyMj1gl",
        "colab": {
          "base_uri": "https://localhost:8080/"
        },
        "outputId": "2a40f079-b9e6-4604-cdfc-55a98953a8fc"
      },
      "execution_count": 6,
      "outputs": [
        {
          "output_type": "stream",
          "name": "stdout",
          "text": [
            "0\n",
            "2\n",
            "3\n",
            "4\n",
            "7\n"
          ]
        }
      ]
    },
    {
      "cell_type": "code",
      "source": [],
      "metadata": {
        "id": "l8dsCpSbj1dr"
      },
      "execution_count": null,
      "outputs": []
    },
    {
      "cell_type": "code",
      "source": [],
      "metadata": {
        "id": "V5VKJcENj1aI"
      },
      "execution_count": null,
      "outputs": []
    }
  ]
}