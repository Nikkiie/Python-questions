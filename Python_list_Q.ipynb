{
  "nbformat": 4,
  "nbformat_minor": 0,
  "metadata": {
    "colab": {
      "provenance": [],
      "authorship_tag": "ABX9TyPwHJQdtWB/DLYzmn+ZG7dG",
      "include_colab_link": true
    },
    "kernelspec": {
      "name": "python3",
      "display_name": "Python 3"
    },
    "language_info": {
      "name": "python"
    }
  },
  "cells": [
    {
      "cell_type": "markdown",
      "metadata": {
        "id": "view-in-github",
        "colab_type": "text"
      },
      "source": [
        "<a href=\"https://colab.research.google.com/github/Nikkiie/Python-questions/blob/main/Python_list_Q.ipynb\" target=\"_parent\"><img src=\"https://colab.research.google.com/assets/colab-badge.svg\" alt=\"Open In Colab\"/></a>"
      ]
    },
    {
      "cell_type": "markdown",
      "source": [
        "LIST QUESTIONS\n"
      ],
      "metadata": {
        "id": "s8yq3l6lBffa"
      }
    },
    {
      "cell_type": "code",
      "execution_count": null,
      "metadata": {
        "id": "2ujIm62eBJHz"
      },
      "outputs": [],
      "source": [
        "# To find length of a list\n",
        "\n",
        "l1 = [20,88,99,5,0,33,7]\n",
        "count = 0\n",
        "\n",
        "for i in l1:\n",
        "  count = count + 1\n",
        "print(\"Length of list is\", count)\n"
      ]
    },
    {
      "cell_type": "code",
      "source": [
        "# Check if element exists in list in Python\n",
        "\n",
        "l1 = [1, 6, 3, 5, 3, 4]\n",
        "num = int(input('Enter any number:'))\n",
        "\n",
        "if num in l1:\n",
        "  print(\"It exists\")\n",
        "else:\n",
        "    print(\"It does not exist\")\n",
        "\n"
      ],
      "metadata": {
        "colab": {
          "base_uri": "https://localhost:8080/"
        },
        "id": "tDbW8M-zCOlx",
        "outputId": "54a1743e-939c-49de-d833-3539828c75d5"
      },
      "execution_count": 4,
      "outputs": [
        {
          "output_type": "stream",
          "name": "stdout",
          "text": [
            "Enter any number:7\n",
            "It does not exist\n"
          ]
        }
      ]
    },
    {
      "cell_type": "code",
      "source": [
        "# Python program to swap two elements in a list\n",
        "\n",
        "list1 = [88,90,77,4,66]\n",
        "pos1,pos2 = 0,2\n",
        "\n",
        "list1[pos1],list1[pos2] = list1[pos2],list1[pos1]\n",
        "print(list1)"
      ],
      "metadata": {
        "colab": {
          "base_uri": "https://localhost:8080/"
        },
        "id": "aLx3gGeFCOj8",
        "outputId": "033e510d-3991-4d5c-e61a-84294857f515"
      },
      "execution_count": 5,
      "outputs": [
        {
          "output_type": "stream",
          "name": "stdout",
          "text": [
            "[77, 90, 88, 4, 66]\n"
          ]
        }
      ]
    },
    {
      "cell_type": "code",
      "source": [
        "# Python program to interchange first and last elements in a list\n",
        "\n",
        "l1 = [1,2,45,67,66,0]\n",
        "i = l1[0]\n",
        "l1[0] = l1[len(l1)-1]\n",
        "l1[len(l1)-1] = i\n",
        "print(l1)"
      ],
      "metadata": {
        "colab": {
          "base_uri": "https://localhost:8080/"
        },
        "id": "kz89JyOvCOh1",
        "outputId": "18d4483c-aa90-45b1-fc68-622fdb03fc9b"
      },
      "execution_count": 6,
      "outputs": [
        {
          "output_type": "stream",
          "name": "stdout",
          "text": [
            "[0, 2, 45, 67, 66, 1]\n"
          ]
        }
      ]
    },
    {
      "cell_type": "code",
      "source": [],
      "metadata": {
        "id": "Mqg16sSXCOeo"
      },
      "execution_count": null,
      "outputs": []
    },
    {
      "cell_type": "code",
      "source": [],
      "metadata": {
        "id": "Z9fzGWIrCOay"
      },
      "execution_count": null,
      "outputs": []
    },
    {
      "cell_type": "code",
      "source": [],
      "metadata": {
        "id": "OpaKksNpCOYZ"
      },
      "execution_count": null,
      "outputs": []
    },
    {
      "cell_type": "code",
      "source": [],
      "metadata": {
        "id": "xow2PLxPCOVk"
      },
      "execution_count": null,
      "outputs": []
    },
    {
      "cell_type": "code",
      "source": [],
      "metadata": {
        "id": "PUMvUQszCOTP"
      },
      "execution_count": null,
      "outputs": []
    },
    {
      "cell_type": "code",
      "source": [],
      "metadata": {
        "id": "1o7hEaHQCOQ-"
      },
      "execution_count": null,
      "outputs": []
    },
    {
      "cell_type": "code",
      "source": [],
      "metadata": {
        "id": "JBRmEd9NCOOy"
      },
      "execution_count": null,
      "outputs": []
    },
    {
      "cell_type": "code",
      "source": [],
      "metadata": {
        "id": "da04d796COM0"
      },
      "execution_count": null,
      "outputs": []
    },
    {
      "cell_type": "code",
      "source": [],
      "metadata": {
        "id": "br0HeO9pCOJ8"
      },
      "execution_count": null,
      "outputs": []
    },
    {
      "cell_type": "code",
      "source": [],
      "metadata": {
        "id": "1OEXJc2CCOF9"
      },
      "execution_count": null,
      "outputs": []
    },
    {
      "cell_type": "code",
      "source": [],
      "metadata": {
        "id": "WJzlR4iVCOCY"
      },
      "execution_count": null,
      "outputs": []
    },
    {
      "cell_type": "code",
      "source": [],
      "metadata": {
        "id": "BAa2TMfTCN_s"
      },
      "execution_count": null,
      "outputs": []
    }
  ]
}