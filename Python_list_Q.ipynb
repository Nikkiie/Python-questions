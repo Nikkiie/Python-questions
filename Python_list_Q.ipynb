{
  "nbformat": 4,
  "nbformat_minor": 0,
  "metadata": {
    "colab": {
      "provenance": [],
      "authorship_tag": "ABX9TyMziKuhmZvMyk6F2NZHExY3",
      "include_colab_link": true
    },
    "kernelspec": {
      "name": "python3",
      "display_name": "Python 3"
    },
    "language_info": {
      "name": "python"
    }
  },
  "cells": [
    {
      "cell_type": "markdown",
      "metadata": {
        "id": "view-in-github",
        "colab_type": "text"
      },
      "source": [
        "<a href=\"https://colab.research.google.com/github/Nikkiie/Python-questions/blob/main/Python_list_Q.ipynb\" target=\"_parent\"><img src=\"https://colab.research.google.com/assets/colab-badge.svg\" alt=\"Open In Colab\"/></a>"
      ]
    },
    {
      "cell_type": "markdown",
      "source": [
        "LIST QUESTIONS\n"
      ],
      "metadata": {
        "id": "s8yq3l6lBffa"
      }
    },
    {
      "cell_type": "code",
      "execution_count": null,
      "metadata": {
        "id": "2ujIm62eBJHz"
      },
      "outputs": [],
      "source": [
        "# To find length of a list\n",
        "\n",
        "l1 = [20,88,99,5,0,33,7]\n",
        "count = 0\n",
        "\n",
        "for i in l1:\n",
        "  count = count + 1\n",
        "print(\"Length of list is\", count)\n"
      ]
    },
    {
      "cell_type": "code",
      "source": [
        "# Check if element exists in list in Python\n",
        "\n",
        "l1 = [1, 6, 3, 5, 3, 4]\n",
        "num = int(input('Enter any number:'))\n",
        "\n",
        "if num in l1:\n",
        "  print(\"It exists\")\n",
        "else:\n",
        "    print(\"It does not exist\")\n",
        "\n"
      ],
      "metadata": {
        "colab": {
          "base_uri": "https://localhost:8080/"
        },
        "id": "tDbW8M-zCOlx",
        "outputId": "54a1743e-939c-49de-d833-3539828c75d5"
      },
      "execution_count": null,
      "outputs": [
        {
          "output_type": "stream",
          "name": "stdout",
          "text": [
            "Enter any number:7\n",
            "It does not exist\n"
          ]
        }
      ]
    },
    {
      "cell_type": "code",
      "source": [
        "# Python program to swap two elements in a list\n",
        "\n",
        "list1 = [88,90,77,4,66]\n",
        "pos1,pos2 = 0,2\n",
        "\n",
        "list1[pos1],list1[pos2] = list1[pos2],list1[pos1]\n",
        "print(list1)"
      ],
      "metadata": {
        "colab": {
          "base_uri": "https://localhost:8080/"
        },
        "id": "aLx3gGeFCOj8",
        "outputId": "033e510d-3991-4d5c-e61a-84294857f515"
      },
      "execution_count": null,
      "outputs": [
        {
          "output_type": "stream",
          "name": "stdout",
          "text": [
            "[77, 90, 88, 4, 66]\n"
          ]
        }
      ]
    },
    {
      "cell_type": "code",
      "source": [
        "# Python program to interchange first and last elements in a list\n",
        "\n",
        "l1 = [1,2,45,67,66,0]\n",
        "i = l1[0]\n",
        "l1[0] = l1[len(l1)-1]\n",
        "l1[len(l1)-1] = i\n",
        "print(l1)"
      ],
      "metadata": {
        "colab": {
          "base_uri": "https://localhost:8080/"
        },
        "id": "kz89JyOvCOh1",
        "outputId": "18d4483c-aa90-45b1-fc68-622fdb03fc9b"
      },
      "execution_count": null,
      "outputs": [
        {
          "output_type": "stream",
          "name": "stdout",
          "text": [
            "[0, 2, 45, 67, 66, 1]\n"
          ]
        }
      ]
    },
    {
      "cell_type": "code",
      "source": [
        "#Reversing a list \n",
        "list1 = [2,34,5,6,6]\n",
        "l = list1[::-1]\n",
        "l\n",
        "\n",
        "# Solution 2\n",
        "list1 = [2,34,5,6,6]\n",
        "list1.reverse()\n",
        "list1"
      ],
      "metadata": {
        "id": "Mqg16sSXCOeo",
        "colab": {
          "base_uri": "https://localhost:8080/"
        },
        "outputId": "be419439-67f2-4218-fa48-2b8409cfcfe1"
      },
      "execution_count": 4,
      "outputs": [
        {
          "output_type": "execute_result",
          "data": {
            "text/plain": [
              "[6, 6, 5, 34, 2]"
            ]
          },
          "metadata": {},
          "execution_count": 4
        }
      ]
    },
    {
      "cell_type": "code",
      "source": [
        "# Different ways to clear a list in Python\n",
        "\n",
        "list1 = [2,34,5,6,6]\n",
        "list1.clear()\n",
        "list1\n",
        "\n",
        "# Solution 2\n",
        "list1 = [2,34,5,6,6]\n",
        "list1 *= 0\n",
        "print(list1)"
      ],
      "metadata": {
        "id": "Z9fzGWIrCOay",
        "colab": {
          "base_uri": "https://localhost:8080/"
        },
        "outputId": "27ab0707-ef46-4894-8b18-d112ae7107a4"
      },
      "execution_count": 8,
      "outputs": [
        {
          "output_type": "stream",
          "name": "stdout",
          "text": [
            "[]\n"
          ]
        }
      ]
    },
    {
      "cell_type": "code",
      "source": [
        "# program to find the sum of all the elements in the list.\n",
        "\n",
        "list1 = [2,34,5,6,6]\n",
        "total = 0\n",
        "\n",
        "for i in range(0, len(list1)):\n",
        "  total = total + list1[i]\n",
        "\n",
        "print(\"Total is\", total)\n",
        "\n",
        "# Solution 2\n",
        "\n",
        "list1 = [2,34,5,6,6]\n",
        "total = sum(list1)\n",
        "print(total)\n"
      ],
      "metadata": {
        "id": "OpaKksNpCOYZ",
        "colab": {
          "base_uri": "https://localhost:8080/"
        },
        "outputId": "120a4711-f6e3-48f6-eda2-5fd4b8893723"
      },
      "execution_count": 10,
      "outputs": [
        {
          "output_type": "stream",
          "name": "stdout",
          "text": [
            "Total is 53\n",
            "53\n"
          ]
        }
      ]
    },
    {
      "cell_type": "code",
      "source": [
        "# Multiply all numbers in the list\n",
        "\n",
        "list1 = [1, 2, 3]\n",
        "result = 1\n",
        "for i in list1:\n",
        "  result = result * i\n",
        "\n",
        "print(result)\n",
        "\n",
        "# Solution 2\n",
        "\n",
        "def multiply(listt):\n",
        "  result = 1\n",
        "  for i in listt:\n",
        "    result = result * i\n",
        "\n",
        "  return result\n",
        "num = [3,4]\n",
        "print(multiply(num))\n",
        "\n"
      ],
      "metadata": {
        "id": "xow2PLxPCOVk",
        "colab": {
          "base_uri": "https://localhost:8080/"
        },
        "outputId": "9147a858-8b61-45e1-d259-3b90611de9c7"
      },
      "execution_count": 14,
      "outputs": [
        {
          "output_type": "stream",
          "name": "stdout",
          "text": [
            "6\n",
            "12\n"
          ]
        }
      ]
    },
    {
      "cell_type": "code",
      "source": [
        "# program to find smallest number in a list\n",
        "\n",
        "list1 = [10, 20, 4, 45, 99]\n",
        "list1.sort()\n",
        "print(\"The smallest number is:\", list1[0])\n",
        "\n",
        "# Solution 2\n",
        "\n",
        "list1 = [10, 20, 4, 45, 99]\n",
        "print(\"The smallest number is:\", min(list1))"
      ],
      "metadata": {
        "id": "PUMvUQszCOTP",
        "colab": {
          "base_uri": "https://localhost:8080/"
        },
        "outputId": "3585cb88-96ef-4bf4-9e88-c00fd6a2f0e6"
      },
      "execution_count": 17,
      "outputs": [
        {
          "output_type": "stream",
          "name": "stdout",
          "text": [
            "The smallest number is: 4\n",
            "The smallest number is: 4\n"
          ]
        }
      ]
    },
    {
      "cell_type": "code",
      "source": [
        "#program to find largest number in a list while taking input from user\n",
        "\n",
        "list1 = []\n",
        "num = int(input(\"Enter number of elements in list: \"))\n",
        "\n",
        "for i in range(0, num+1):\n",
        "  ele = int(input(\"Enter the numbers:\"))\n",
        "  list1.append(ele)\n",
        "\n",
        "print(\"The larest number is:\", max(list1))"
      ],
      "metadata": {
        "id": "1o7hEaHQCOQ-"
      },
      "execution_count": null,
      "outputs": []
    },
    {
      "cell_type": "code",
      "source": [],
      "metadata": {
        "id": "JBRmEd9NCOOy"
      },
      "execution_count": null,
      "outputs": []
    },
    {
      "cell_type": "code",
      "source": [],
      "metadata": {
        "id": "da04d796COM0"
      },
      "execution_count": null,
      "outputs": []
    },
    {
      "cell_type": "code",
      "source": [],
      "metadata": {
        "id": "br0HeO9pCOJ8"
      },
      "execution_count": null,
      "outputs": []
    },
    {
      "cell_type": "code",
      "source": [],
      "metadata": {
        "id": "1OEXJc2CCOF9"
      },
      "execution_count": null,
      "outputs": []
    },
    {
      "cell_type": "code",
      "source": [],
      "metadata": {
        "id": "WJzlR4iVCOCY"
      },
      "execution_count": null,
      "outputs": []
    },
    {
      "cell_type": "code",
      "source": [],
      "metadata": {
        "id": "BAa2TMfTCN_s"
      },
      "execution_count": null,
      "outputs": []
    }
  ]
}