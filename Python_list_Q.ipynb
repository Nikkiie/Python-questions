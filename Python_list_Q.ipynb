{
  "nbformat": 4,
  "nbformat_minor": 0,
  "metadata": {
    "colab": {
      "provenance": [],
      "authorship_tag": "ABX9TyPFbbpfVHNhWCdJNPr5W1NQ",
      "include_colab_link": true
    },
    "kernelspec": {
      "name": "python3",
      "display_name": "Python 3"
    },
    "language_info": {
      "name": "python"
    }
  },
  "cells": [
    {
      "cell_type": "markdown",
      "metadata": {
        "id": "view-in-github",
        "colab_type": "text"
      },
      "source": [
        "<a href=\"https://colab.research.google.com/github/Nikkiie/Python-questions/blob/main/Python_list_Q.ipynb\" target=\"_parent\"><img src=\"https://colab.research.google.com/assets/colab-badge.svg\" alt=\"Open In Colab\"/></a>"
      ]
    },
    {
      "cell_type": "markdown",
      "source": [
        "LIST QUESTIONS\n"
      ],
      "metadata": {
        "id": "s8yq3l6lBffa"
      }
    },
    {
      "cell_type": "code",
      "execution_count": null,
      "metadata": {
        "id": "2ujIm62eBJHz"
      },
      "outputs": [],
      "source": [
        "# To find length of a list\n",
        "\n",
        "l1 = [20,88,99,5,0,33,7]\n",
        "count = 0\n",
        "\n",
        "for i in l1:\n",
        "  count = count + 1\n",
        "print(\"Length of list is\", count)\n"
      ]
    },
    {
      "cell_type": "code",
      "source": [
        "# Check if element exists in list in Python\n",
        "\n",
        "l1 = [1, 6, 3, 5, 3, 4]\n",
        "num = int(input('Enter any number:'))\n",
        "\n",
        "if num in l1:\n",
        "  print(\"It exists\")\n",
        "else:\n",
        "    print(\"It does not exist\")\n",
        "\n"
      ],
      "metadata": {
        "colab": {
          "base_uri": "https://localhost:8080/"
        },
        "id": "tDbW8M-zCOlx",
        "outputId": "54a1743e-939c-49de-d833-3539828c75d5"
      },
      "execution_count": null,
      "outputs": [
        {
          "output_type": "stream",
          "name": "stdout",
          "text": [
            "Enter any number:7\n",
            "It does not exist\n"
          ]
        }
      ]
    },
    {
      "cell_type": "code",
      "source": [
        "# Python program to swap two elements in a list\n",
        "\n",
        "list1 = [88,90,77,4,66]\n",
        "pos1,pos2 = 0,2\n",
        "\n",
        "list1[pos1],list1[pos2] = list1[pos2],list1[pos1]\n",
        "print(list1)"
      ],
      "metadata": {
        "colab": {
          "base_uri": "https://localhost:8080/"
        },
        "id": "aLx3gGeFCOj8",
        "outputId": "033e510d-3991-4d5c-e61a-84294857f515"
      },
      "execution_count": null,
      "outputs": [
        {
          "output_type": "stream",
          "name": "stdout",
          "text": [
            "[77, 90, 88, 4, 66]\n"
          ]
        }
      ]
    },
    {
      "cell_type": "code",
      "source": [
        "# Python program to interchange first and last elements in a list\n",
        "\n",
        "l1 = [1,2,45,67,66,0]\n",
        "i = l1[0]\n",
        "l1[0] = l1[len(l1)-1]\n",
        "l1[len(l1)-1] = i\n",
        "print(l1)"
      ],
      "metadata": {
        "colab": {
          "base_uri": "https://localhost:8080/"
        },
        "id": "kz89JyOvCOh1",
        "outputId": "18d4483c-aa90-45b1-fc68-622fdb03fc9b"
      },
      "execution_count": null,
      "outputs": [
        {
          "output_type": "stream",
          "name": "stdout",
          "text": [
            "[0, 2, 45, 67, 66, 1]\n"
          ]
        }
      ]
    },
    {
      "cell_type": "code",
      "source": [
        "#Reversing a list \n",
        "list1 = [2,34,5,6,6]\n",
        "l = list1[::-1]\n",
        "l\n",
        "\n",
        "# Solution 2\n",
        "list1 = [2,34,5,6,6]\n",
        "list1.reverse()\n",
        "list1"
      ],
      "metadata": {
        "id": "Mqg16sSXCOeo",
        "colab": {
          "base_uri": "https://localhost:8080/"
        },
        "outputId": "be419439-67f2-4218-fa48-2b8409cfcfe1"
      },
      "execution_count": null,
      "outputs": [
        {
          "output_type": "execute_result",
          "data": {
            "text/plain": [
              "[6, 6, 5, 34, 2]"
            ]
          },
          "metadata": {},
          "execution_count": 4
        }
      ]
    },
    {
      "cell_type": "code",
      "source": [
        "# Different ways to clear a list in Python\n",
        "\n",
        "list1 = [2,34,5,6,6]\n",
        "list1.clear()\n",
        "list1\n",
        "\n",
        "# Solution 2\n",
        "list1 = [2,34,5,6,6]\n",
        "list1 *= 0\n",
        "print(list1)"
      ],
      "metadata": {
        "id": "Z9fzGWIrCOay",
        "colab": {
          "base_uri": "https://localhost:8080/"
        },
        "outputId": "27ab0707-ef46-4894-8b18-d112ae7107a4"
      },
      "execution_count": null,
      "outputs": [
        {
          "output_type": "stream",
          "name": "stdout",
          "text": [
            "[]\n"
          ]
        }
      ]
    },
    {
      "cell_type": "code",
      "source": [
        "# program to find the sum of all the elements in the list.\n",
        "\n",
        "list1 = [2,34,5,6,6]\n",
        "total = 0\n",
        "\n",
        "for i in range(0, len(list1)):\n",
        "  total = total * list1[i]\n",
        "\n",
        "print(\"Total is\", total)\n",
        "\n",
        "# Solution 2\n",
        "\n",
        "list1 = [2,34,5,6,6]\n",
        "total = sum(list1)\n",
        "print(total)\n"
      ],
      "metadata": {
        "id": "OpaKksNpCOYZ",
        "colab": {
          "base_uri": "https://localhost:8080/"
        },
        "outputId": "c9c83aea-77d2-4ad8-d3f4-c267107b191d"
      },
      "execution_count": null,
      "outputs": [
        {
          "output_type": "stream",
          "name": "stdout",
          "text": [
            "Total is 0\n",
            "53\n"
          ]
        }
      ]
    },
    {
      "cell_type": "code",
      "source": [
        "# Multiply all numbers in the list\n",
        "\n",
        "list1 = [1, 2, 3]\n",
        "result = 1\n",
        "for i in list1:\n",
        "  result = result * i\n",
        "\n",
        "print(result)\n",
        "\n",
        "# Solution 2\n",
        "\n",
        "def multiply(listt):\n",
        "  result = 1\n",
        "  for i in listt:\n",
        "    result = result * i\n",
        "\n",
        "  return result\n",
        "num = [3,4]\n",
        "print(multiply(num))\n",
        "\n"
      ],
      "metadata": {
        "id": "xow2PLxPCOVk",
        "colab": {
          "base_uri": "https://localhost:8080/"
        },
        "outputId": "9147a858-8b61-45e1-d259-3b90611de9c7"
      },
      "execution_count": null,
      "outputs": [
        {
          "output_type": "stream",
          "name": "stdout",
          "text": [
            "6\n",
            "12\n"
          ]
        }
      ]
    },
    {
      "cell_type": "code",
      "source": [
        "# program to find smallest number in a list\n",
        "\n",
        "list1 = [10, 20, 4, 45, 99]\n",
        "list1.sort()\n",
        "print(\"The smallest number is:\", list1[0])\n",
        "\n",
        "# Solution 2\n",
        "\n",
        "list1 = [10, 20, 4, 45, 99]\n",
        "print(\"The smallest number is:\", min(list1))"
      ],
      "metadata": {
        "id": "PUMvUQszCOTP",
        "colab": {
          "base_uri": "https://localhost:8080/"
        },
        "outputId": "3585cb88-96ef-4bf4-9e88-c00fd6a2f0e6"
      },
      "execution_count": null,
      "outputs": [
        {
          "output_type": "stream",
          "name": "stdout",
          "text": [
            "The smallest number is: 4\n",
            "The smallest number is: 4\n"
          ]
        }
      ]
    },
    {
      "cell_type": "code",
      "source": [
        "#program to find largest number in a list while taking input from user\n",
        "\n",
        "list1 = []\n",
        "num = int(input(\"Enter number of elements in list: \"))\n",
        "\n",
        "for i in range(0, num+1):\n",
        "  ele = int(input(\"Enter the numbers:\"))\n",
        "  list1.append(ele)\n",
        "\n",
        "print(\"The larest number is:\", max(list1))"
      ],
      "metadata": {
        "id": "1o7hEaHQCOQ-"
      },
      "execution_count": null,
      "outputs": []
    },
    {
      "cell_type": "code",
      "source": [
        "#program to find second largest number in a list\n",
        "\n",
        "list1 = [10, 20, 20, 4, 45, 45, 45, 99, 99]\n",
        "list2 = list(set(list1))\n",
        "list2.sort()\n",
        "print(\"The second largest number is\",list2[-2])"
      ],
      "metadata": {
        "id": "JBRmEd9NCOOy",
        "colab": {
          "base_uri": "https://localhost:8080/"
        },
        "outputId": "ada5974c-f378-4913-d719-98eb727de19c"
      },
      "execution_count": null,
      "outputs": [
        {
          "output_type": "stream",
          "name": "stdout",
          "text": [
            "The second largest number is 45\n"
          ]
        }
      ]
    },
    {
      "cell_type": "code",
      "source": [
        "# Python program to print Even Numbers in a List\n",
        "\n",
        "list1 = [10, 21, 4, 45, 66, 93]\n",
        "for num in list1:\n",
        "  if num%2==0:\n",
        "    print(num, end=\" \")"
      ],
      "metadata": {
        "id": "da04d796COM0",
        "colab": {
          "base_uri": "https://localhost:8080/"
        },
        "outputId": "227a76da-94f4-4a72-f676-26a1b0603e08"
      },
      "execution_count": null,
      "outputs": [
        {
          "output_type": "stream",
          "name": "stdout",
          "text": [
            "10 4 66 "
          ]
        }
      ]
    },
    {
      "cell_type": "code",
      "source": [
        "# Python program to print odd Numbers in a List\n",
        "\n",
        "list1 = [10, 21, 4, 45, 66, 93]\n",
        "for num in list1:\n",
        "  if num%2==1:\n",
        "    print(num, end=\" \")"
      ],
      "metadata": {
        "id": "br0HeO9pCOJ8",
        "colab": {
          "base_uri": "https://localhost:8080/"
        },
        "outputId": "ebd353a5-e948-4d35-a7f1-3f22ce1ce1a9"
      },
      "execution_count": null,
      "outputs": [
        {
          "output_type": "stream",
          "name": "stdout",
          "text": [
            "21 45 93 "
          ]
        }
      ]
    },
    {
      "cell_type": "code",
      "source": [
        "# Python program to print Even Numbers in given range\n",
        "\n",
        "start = int(input(\"Enter the starting number:\"))\n",
        "end = int(input(\"Enter the last number:\"))\n",
        "\n",
        "for num in range(start,end+1):\n",
        "  if num%2==0:\n",
        "    print(num, end=\" \")"
      ],
      "metadata": {
        "id": "1OEXJc2CCOF9",
        "colab": {
          "base_uri": "https://localhost:8080/"
        },
        "outputId": "487e98c0-2c3d-49b3-dbef-98ec89b7e950"
      },
      "execution_count": null,
      "outputs": [
        {
          "output_type": "stream",
          "name": "stdout",
          "text": [
            "Enter the starting number:4\n",
            "Enter the last number:9\n",
            "4 6 8 "
          ]
        }
      ]
    },
    {
      "cell_type": "code",
      "source": [
        "# program to print positive numbers in a list\n",
        "\n",
        "list1 = [12, -7, 5, 64, -14]\n",
        "for i in list1:\n",
        " if i<0:\n",
        "  list1.remove(i)\n",
        "\n",
        "print(list1)"
      ],
      "metadata": {
        "id": "WJzlR4iVCOCY",
        "colab": {
          "base_uri": "https://localhost:8080/"
        },
        "outputId": "41d26473-425c-4f67-f87c-7b94dfb1d93d"
      },
      "execution_count": null,
      "outputs": [
        {
          "output_type": "stream",
          "name": "stdout",
          "text": [
            "[12, 5, 64]\n"
          ]
        }
      ]
    },
    {
      "cell_type": "code",
      "source": [
        "# Remove empty List from List\n",
        "\n",
        "test_list = [5, 6, [], 3, [], [], 9]\n",
        "emp_list  = list(filter(None, test_list))\n",
        "print(emp_list)\n",
        "\n",
        "# Solution 2\n",
        "test_list = [5, 6, [], 3, [], [], 9]\n",
        "emp = [ele for ele in test_list if ele != []]\n",
        "print(emp)"
      ],
      "metadata": {
        "id": "BAa2TMfTCN_s",
        "colab": {
          "base_uri": "https://localhost:8080/"
        },
        "outputId": "07adb21c-8520-4a7a-a5e4-13a1c5a2f632"
      },
      "execution_count": null,
      "outputs": [
        {
          "output_type": "stream",
          "name": "stdout",
          "text": [
            "[5, 6, 3, 9]\n",
            "[5, 6, 3, 9]\n"
          ]
        }
      ]
    },
    {
      "cell_type": "code",
      "source": [
        "# Python program to remove empty tuples from a list\n",
        "\n",
        "tup = [(), ('ram','15','8'), (), ('laxman', 'sita'),('krishna', 'akbar', '45'), ('',''),()]\n",
        "rem = [ele for ele in tup if ele]\n",
        "print(rem)"
      ],
      "metadata": {
        "id": "INt1qynxj12P",
        "colab": {
          "base_uri": "https://localhost:8080/"
        },
        "outputId": "4ec248ff-ce53-4d41-95f9-165c958f019a"
      },
      "execution_count": null,
      "outputs": [
        {
          "output_type": "stream",
          "name": "stdout",
          "text": [
            "[('ram', '15', '8'), ('laxman', 'sita'), ('krishna', 'akbar', '45'), ('', '')]\n"
          ]
        }
      ]
    },
    {
      "cell_type": "code",
      "source": [
        "# Cloning or Copying a list\n",
        "\n",
        "def clone(list1):\n",
        "  copy = []\n",
        "  copy.extend(list1)\n",
        "  return copy\n",
        "\n",
        "list1 = [4, 8, 2, 10, 15, 18]\n",
        "list2 = clone(list1)\n",
        "print(\"Original List:\", list1)\n",
        "print(\"After Cloning:\", list2)\n"
      ],
      "metadata": {
        "id": "BzSkF5nQj1yl"
      },
      "execution_count": null,
      "outputs": []
    },
    {
      "cell_type": "code",
      "source": [
        "# Count occurrences of an element in a list\n",
        "\n",
        "def counting(listt,x):\n",
        "  count = 0\n",
        "  for val in listt:\n",
        "    if (val == x):\n",
        "      count = count + 1\n",
        "  return count\n",
        "\n",
        "list1 = [8, 6, 8, 10, 8, 20, 10, 8, 8]\n",
        "x = 8\n",
        "print('{} has occurred {} times'.format(x,counting(list1, x)))"
      ],
      "metadata": {
        "id": "8fos4vtuj1vn",
        "colab": {
          "base_uri": "https://localhost:8080/"
        },
        "outputId": "58583db9-5f34-42aa-fd83-61107706a34f"
      },
      "execution_count": null,
      "outputs": [
        {
          "output_type": "stream",
          "name": "stdout",
          "text": [
            "8 has occurred 5 times\n"
          ]
        }
      ]
    },
    {
      "cell_type": "code",
      "source": [
        "#Find index of maximum item in list\n",
        "\n",
        "num = [30, 200, 65, 88, 98, 500, 34]\n",
        "inn = max(num)\n",
        "print('Index of max is', num.index(inn)) "
      ],
      "metadata": {
        "id": "MEKyUmLFj1pb",
        "colab": {
          "base_uri": "https://localhost:8080/"
        },
        "outputId": "6591d32b-fb27-410f-ddd7-d38e6468914c"
      },
      "execution_count": null,
      "outputs": [
        {
          "output_type": "stream",
          "name": "stdout",
          "text": [
            "Index of max is 5\n"
          ]
        }
      ]
    },
    {
      "cell_type": "code",
      "source": [
        "# program to delete the last element from the list\n",
        "\n",
        "num = ['gvjv', 'bjeadb', 'nljv']\n",
        "p = num.pop()\n",
        "num\n",
        "\n",
        "\n",
        "# solution 2\n",
        "\n",
        "num = num[::-1]\n",
        "num"
      ],
      "metadata": {
        "id": "u8C1ZyO9j1ma",
        "colab": {
          "base_uri": "https://localhost:8080/"
        },
        "outputId": "563c1558-ecbd-4dc7-dd5d-4d5bf94e6051"
      },
      "execution_count": null,
      "outputs": [
        {
          "output_type": "execute_result",
          "data": {
            "text/plain": [
              "['gvjv', 'bjeadb']"
            ]
          },
          "metadata": {},
          "execution_count": 4
        }
      ]
    },
    {
      "cell_type": "code",
      "source": [
        "#Program to Square Each Odd Number in a List using List Comprehension\n",
        "\n",
        "l = [4, 10, 5, 3, 3]\n",
        "com = [i*i for i in l if i%2==1]\n",
        "print(com)"
      ],
      "metadata": {
        "id": "0UV3ZHufj1jf",
        "colab": {
          "base_uri": "https://localhost:8080/"
        },
        "outputId": "3bdc38a8-c09a-486d-811b-b462afe5d2a5"
      },
      "execution_count": null,
      "outputs": [
        {
          "output_type": "stream",
          "name": "stdout",
          "text": [
            "[25, 9, 9]\n"
          ]
        }
      ]
    },
    {
      "cell_type": "code",
      "source": [
        "#Find Index containing String in List\n",
        "\n",
        "list1 = ['sravan', 98, 'harsha', 'jyothika','deepika', 78, 90, 'ramya']\n",
        "for i in list1:\n",
        "  if (type(i)==str):\n",
        "    print(list1.index(i))"
      ],
      "metadata": {
        "id": "Xw7-qIyMj1gl",
        "colab": {
          "base_uri": "https://localhost:8080/"
        },
        "outputId": "2a40f079-b9e6-4604-cdfc-55a98953a8fc"
      },
      "execution_count": null,
      "outputs": [
        {
          "output_type": "stream",
          "name": "stdout",
          "text": [
            "0\n",
            "2\n",
            "3\n",
            "4\n",
            "7\n"
          ]
        }
      ]
    },
    {
      "cell_type": "code",
      "source": [
        "#Convert list of dictionaries to dictionary of lists\n",
        "\n",
        "data = [\n",
        "    {'name': 'sravan', 'subjects': ['java', 'python']},\n",
        "    {'name': 'bobby', 'subjects': ['c/cpp', 'java']},\n",
        "    {'name': 'ojsawi', 'subjects': ['iot', 'cloud']},\n",
        "    {'name': 'rohith', 'subjects': ['php', 'os']},\n",
        "    {'name': 'gnanesh', 'subjects': ['html', 'sql']}]\n",
        "\n",
        "dict_of_list = {}\n",
        "for item in data:\n",
        "  save = item['name']\n",
        "  dict_of_list[save] = item\n",
        "dict_of_list"
      ],
      "metadata": {
        "id": "l8dsCpSbj1dr",
        "colab": {
          "base_uri": "https://localhost:8080/"
        },
        "outputId": "02a65ed7-3158-4772-9abc-dfa3ceea72ae"
      },
      "execution_count": null,
      "outputs": [
        {
          "output_type": "execute_result",
          "data": {
            "text/plain": [
              "{'sravan': {'name': 'sravan', 'subjects': ['java', 'python']},\n",
              " 'bobby': {'name': 'bobby', 'subjects': ['c/cpp', 'java']},\n",
              " 'ojsawi': {'name': 'ojsawi', 'subjects': ['iot', 'cloud']},\n",
              " 'rohith': {'name': 'rohith', 'subjects': ['php', 'os']},\n",
              " 'gnanesh': {'name': 'gnanesh', 'subjects': ['html', 'sql']}}"
            ]
          },
          "metadata": {},
          "execution_count": 3
        }
      ]
    },
    {
      "cell_type": "code",
      "source": [
        "#Concatenate two list of lists Row-wise\n",
        "test_list1 = [[4, 3, 5, ], [1, 2, 3], [3, 7, 4]]\n",
        "test_list2 = [[1, 3], [9, 3, 5, 7], [8]]\n",
        "\n",
        "for i in range(0, len(test_list1)):\n",
        "  test_list1[i].extend(test_list2[i])\n",
        "print(str(test_list1))"
      ],
      "metadata": {
        "id": "V5VKJcENj1aI",
        "colab": {
          "base_uri": "https://localhost:8080/"
        },
        "outputId": "4c665bd6-380f-4161-f7e2-6bb42794911e"
      },
      "execution_count": null,
      "outputs": [
        {
          "output_type": "stream",
          "name": "stdout",
          "text": [
            "[[4, 3, 5, 1, 3], [1, 2, 3, 9, 3, 5, 7], [3, 7, 4, 8]]\n"
          ]
        }
      ]
    },
    {
      "cell_type": "code",
      "source": [
        "#Write a Python program to count the number of strings where the string length is 2 or more and the first and last character  are same from a given list of strings. \n",
        "\n",
        "list1 = ['abc', 'xyz', 'aba', '1221', 'yaky']\n",
        "out = 0\n",
        "for i in list1:\n",
        "  if len(i)>1:\n",
        "    if i[0]==i[len(i)-1]:\n",
        "      out = out +1\n",
        "print(out)"
      ],
      "metadata": {
        "id": "doX37qxEvSdp",
        "colab": {
          "base_uri": "https://localhost:8080/"
        },
        "outputId": "ec07b447-80c2-4f0a-8606-6a64f6192313"
      },
      "execution_count": null,
      "outputs": [
        {
          "output_type": "stream",
          "name": "stdout",
          "text": [
            "3\n"
          ]
        }
      ]
    },
    {
      "cell_type": "code",
      "source": [
        "#Write a Python program to get a list, sorted in increasing order by the last element in each tuple from a given list of non-empty tuples.\n",
        "\n",
        "list1 = [(2, 5), (1, 2), (4, 4), (2, 3), (2, 1)]\n",
        "sorted_list = sorted(list1, key = lambda x: x[1])\n",
        "sorted_list"
      ],
      "metadata": {
        "id": "Hr-LnaiRvSYS",
        "colab": {
          "base_uri": "https://localhost:8080/"
        },
        "outputId": "61fc5318-cb24-4879-c637-9cba3c3ee33d"
      },
      "execution_count": null,
      "outputs": [
        {
          "output_type": "execute_result",
          "data": {
            "text/plain": [
              "[(2, 1), (1, 2), (2, 3), (4, 4), (2, 5)]"
            ]
          },
          "metadata": {},
          "execution_count": 17
        }
      ]
    },
    {
      "cell_type": "code",
      "source": [
        "# Write a Python program to find the list of words that are longer than n from a given list of words\n",
        "\n",
        "def longer_words(words,n):\n",
        "  long_words = []\n",
        "  for word in words:\n",
        "    if len(word)>n:\n",
        "      long_words.append(word)\n",
        "  return long_words\n",
        "\n",
        "list1 = ['gojo', 'sukuna', 'kit', 'levi', 'jok']\n",
        "print(longer_words(list1,3))\n",
        "\n"
      ],
      "metadata": {
        "id": "-H5MiUw6vSWN",
        "colab": {
          "base_uri": "https://localhost:8080/"
        },
        "outputId": "b67bc0dd-788b-429f-f02a-f4b03e77d11a"
      },
      "execution_count": null,
      "outputs": [
        {
          "output_type": "stream",
          "name": "stdout",
          "text": [
            "['gojo', 'sukuna', 'levi']\n"
          ]
        }
      ]
    },
    {
      "cell_type": "code",
      "source": [
        "#Write a Python function that takes two lists and returns True if they have at least one common member\n",
        "\n",
        "list_one = [1, 2, 3, 4, 5]\n",
        "list_two = [8, 9, 5, 10, 11]\n",
        "\n",
        "def common_num(l1,l2):\n",
        "  for i in l1:\n",
        "    if i in l2:\n",
        "      return True\n",
        "  else:\n",
        "    return False\n",
        "\n",
        "\n",
        "print(common_num(list_one,list_two))"
      ],
      "metadata": {
        "id": "jRyQ6w-VvST4",
        "colab": {
          "base_uri": "https://localhost:8080/"
        },
        "outputId": "c4677227-e5dc-43c9-86e7-080d648a7115"
      },
      "execution_count": null,
      "outputs": [
        {
          "output_type": "stream",
          "name": "stdout",
          "text": [
            "True\n"
          ]
        }
      ]
    },
    {
      "cell_type": "code",
      "source": [
        "#  Write a Python program to print a specified list after removing the 0th, 4th and 5th elements\n",
        "\n",
        "l1 = ['Red', 'Green', 'White', 'Black', 'Pink', 'Yellow']\n",
        "l2 = []\n",
        "\n",
        "for i, j in enumerate(l1):\n",
        "  if i not in [0, 4, 5]:\n",
        "    l2.append(j)\n",
        "l2"
      ],
      "metadata": {
        "id": "sN8B0egVvSR9",
        "colab": {
          "base_uri": "https://localhost:8080/"
        },
        "outputId": "653305c7-a4c4-40d2-f83b-5a5b08569423"
      },
      "execution_count": null,
      "outputs": [
        {
          "output_type": "execute_result",
          "data": {
            "text/plain": [
              "['Green', 'White', 'Black']"
            ]
          },
          "metadata": {},
          "execution_count": 12
        }
      ]
    },
    {
      "cell_type": "code",
      "source": [
        "# Write a Python program to generate a 3*4*6 3D array whose each element is *.\n",
        "\n"
      ],
      "metadata": {
        "id": "u7me9ps_vSPy",
        "colab": {
          "base_uri": "https://localhost:8080/"
        },
        "outputId": "eb51c4f8-b221-458c-a063-ffa8735b4dbd"
      },
      "execution_count": null,
      "outputs": [
        {
          "output_type": "stream",
          "name": "stdout",
          "text": [
            "[[['*', '*', '*', '*', '*', '*'], ['*', '*', '*', '*', '*', '*'], ['*', '*', '*', '*', '*', '*'], ['*', '*', '*', '*', '*', '*']], [['*', '*', '*', '*', '*', '*'], ['*', '*', '*', '*', '*', '*'], ['*', '*', '*', '*', '*', '*'], ['*', '*', '*', '*', '*', '*']], [['*', '*', '*', '*', '*', '*'], ['*', '*', '*', '*', '*', '*'], ['*', '*', '*', '*', '*', '*'], ['*', '*', '*', '*', '*', '*']]]\n"
          ]
        }
      ]
    },
    {
      "cell_type": "code",
      "source": [
        "# Write a Python program to print the numbers of a specified list fter removing even numbers from it\n",
        "\n",
        "\n",
        "my_list = [1, 2, 3, 4, 5]\n",
        "spec_list = [x for x in my_list if x%2 ==1]\n",
        "spec_list"
      ],
      "metadata": {
        "id": "J2tzpMkivSNs",
        "colab": {
          "base_uri": "https://localhost:8080/"
        },
        "outputId": "467ceaf8-02cf-4ff1-f4cb-c57c82ff1fea"
      },
      "execution_count": null,
      "outputs": [
        {
          "output_type": "execute_result",
          "data": {
            "text/plain": [
              "[1, 3, 5]"
            ]
          },
          "metadata": {},
          "execution_count": 14
        }
      ]
    },
    {
      "cell_type": "code",
      "source": [
        "# Write a Python program to shuffle and print a specified list.\n",
        "\n",
        "from random import shuffle\n",
        "\n",
        "l1 = [8, 6, 0, 3, 7]\n",
        "shuffle(l1)\n",
        "l1"
      ],
      "metadata": {
        "id": "kn5P-Y1XvSLn",
        "colab": {
          "base_uri": "https://localhost:8080/"
        },
        "outputId": "0d561666-bd45-46b0-d759-c7f822cb21b0"
      },
      "execution_count": null,
      "outputs": [
        {
          "output_type": "execute_result",
          "data": {
            "text/plain": [
              "[7, 8, 0, 6, 3]"
            ]
          },
          "metadata": {},
          "execution_count": 15
        }
      ]
    },
    {
      "cell_type": "code",
      "source": [
        "# Write a Python program to generate and print a list of firstand last 5 elements where the values are square of numbers between 1 and 30 (both included).\n",
        "\n",
        "l1 = [x**2 for x in range(1,31)]\n",
        "print(l1[:5], l1[-5:])"
      ],
      "metadata": {
        "id": "vghEdDbnvSH5",
        "colab": {
          "base_uri": "https://localhost:8080/"
        },
        "outputId": "2f2891c3-4cdd-48be-f4f9-2f824b6bcb8e"
      },
      "execution_count": null,
      "outputs": [
        {
          "output_type": "stream",
          "name": "stdout",
          "text": [
            "[1, 4, 9, 16, 25] [676, 729, 784, 841, 900]\n"
          ]
        }
      ]
    },
    {
      "cell_type": "code",
      "source": [
        "# Write a Python program to generate and print a list except for the first 5 elements, where the values are square of numbers between 1 and 30 (both included).\n",
        "\n",
        "l1 = [x**2 for x in range(1,31)]\n",
        "print(l1[5:])\n"
      ],
      "metadata": {
        "id": "vVMSGrZ2vSDh",
        "colab": {
          "base_uri": "https://localhost:8080/"
        },
        "outputId": "e694c0c7-92b7-46c1-d3c9-128247353b06"
      },
      "execution_count": null,
      "outputs": [
        {
          "output_type": "stream",
          "name": "stdout",
          "text": [
            "[36, 49, 64, 81, 100, 121, 144, 169, 196, 225, 256, 289, 324, 361, 400, 441, 484, 529, 576, 625, 676, 729, 784, 841, 900]\n"
          ]
        }
      ]
    },
    {
      "cell_type": "code",
      "source": [
        "# Write a Python program to generate all permutations of a list in Python.\n",
        "import itertools\n",
        "\n",
        "l1 = [2,5,6]\n",
        "print(list(itertools.permutations(l1)))"
      ],
      "metadata": {
        "id": "OdRuAPk3h830",
        "colab": {
          "base_uri": "https://localhost:8080/"
        },
        "outputId": "aa919a79-d319-42d5-9cb8-758bdedcdd79"
      },
      "execution_count": null,
      "outputs": [
        {
          "output_type": "stream",
          "name": "stdout",
          "text": [
            "[(2, 5, 6), (2, 6, 5), (5, 2, 6), (5, 6, 2), (6, 2, 5), (6, 5, 2)]\n"
          ]
        }
      ]
    },
    {
      "cell_type": "code",
      "source": [
        "# Write a Python program to get the difference between the two lists.\n",
        "\n",
        "l1 = [1,2,3,4,5,6,\"Eren\"]\n",
        "l2 = [4,5,6,7,8]\n",
        "\n",
        "l3 = list(set(l1) - set(l2))\n",
        "print(l3)"
      ],
      "metadata": {
        "id": "xe1LHMAMh81D",
        "colab": {
          "base_uri": "https://localhost:8080/"
        },
        "outputId": "5bd39f44-ce82-496c-b85d-2a743a7c4400"
      },
      "execution_count": null,
      "outputs": [
        {
          "output_type": "stream",
          "name": "stdout",
          "text": [
            "[1, 2, 3, 'Eren']\n"
          ]
        }
      ]
    },
    {
      "cell_type": "code",
      "source": [
        "# Write a Python program access the index of a list.\n",
        "\n",
        "l1 = [1, 2, 3, 4, 5]\n",
        "for index, value in enumerate (l1):\n",
        "  print(index)\n"
      ],
      "metadata": {
        "id": "ma1q1h0Yh8vO",
        "colab": {
          "base_uri": "https://localhost:8080/"
        },
        "outputId": "67e80ec9-d731-4633-82b4-1c316f2f564d"
      },
      "execution_count": null,
      "outputs": [
        {
          "output_type": "stream",
          "name": "stdout",
          "text": [
            "0\n",
            "1\n",
            "2\n",
            "3\n",
            "4\n"
          ]
        }
      ]
    },
    {
      "cell_type": "code",
      "source": [
        "#Write a Python program to find the index of an item in a specified list.\n",
        "\n",
        "list_ = [1, 2, 3, 4, 5]\n",
        "index_ = list_.index(5)\n",
        "index_"
      ],
      "metadata": {
        "colab": {
          "base_uri": "https://localhost:8080/"
        },
        "id": "zd_jlGn-eTcw",
        "outputId": "a1d1a418-1a52-4080-f23b-c3ba9d9fa4df"
      },
      "execution_count": null,
      "outputs": [
        {
          "output_type": "execute_result",
          "data": {
            "text/plain": [
              "4"
            ]
          },
          "metadata": {},
          "execution_count": 29
        }
      ]
    },
    {
      "cell_type": "code",
      "source": [
        "# Write a Python program to convert a list of characters into a string.\n",
        "\n",
        "list_ = ['1', '2', '3', '4', '5']\n",
        "str_ = ''.join(list_)\n",
        "str_"
      ],
      "metadata": {
        "id": "_n_9UKLHh8sC",
        "colab": {
          "base_uri": "https://localhost:8080/",
          "height": 35
        },
        "outputId": "128499e2-0eac-44d8-fc66-b73c82e2ce2d"
      },
      "execution_count": null,
      "outputs": [
        {
          "output_type": "execute_result",
          "data": {
            "text/plain": [
              "'12345'"
            ],
            "application/vnd.google.colaboratory.intrinsic+json": {
              "type": "string"
            }
          },
          "metadata": {},
          "execution_count": 25
        }
      ]
    },
    {
      "cell_type": "code",
      "source": [
        "# Write a Python program to flatten a shallow list.\n",
        "\n",
        "l1 = [[1, 2], [3, 4], [5]]\n",
        "new_list = []\n",
        "for i in l1:\n",
        "  for j in i:\n",
        "    new_list.append(j)\n",
        "\n",
        "new_list\n"
      ],
      "metadata": {
        "id": "pZYgz4KOh8mI",
        "colab": {
          "base_uri": "https://localhost:8080/"
        },
        "outputId": "d9aff753-e4a7-4962-a023-211c9784d142"
      },
      "execution_count": null,
      "outputs": [
        {
          "output_type": "execute_result",
          "data": {
            "text/plain": [
              "[1, 2, 3, 4, 5]"
            ]
          },
          "metadata": {},
          "execution_count": 32
        }
      ]
    },
    {
      "cell_type": "code",
      "source": [
        "# Write a Python program to append a list to the second list.\n",
        "\n",
        "l1 = [1, 2, 3, 4, 5, 6, 'you']\n",
        "l2 = [1, \"make\", 3, 'orange', 5]\n",
        "\n",
        "l3 = (l1) + (l2)\n",
        "l3\n"
      ],
      "metadata": {
        "id": "pV9XZ4vMh8jd",
        "colab": {
          "base_uri": "https://localhost:8080/"
        },
        "outputId": "fd214e72-7202-41ff-d72d-57911fb6672c"
      },
      "execution_count": null,
      "outputs": [
        {
          "output_type": "execute_result",
          "data": {
            "text/plain": [
              "[1, 2, 3, 4, 5, 6, 'you', 1, 'make', 3, 'orange', 5]"
            ]
          },
          "metadata": {},
          "execution_count": 34
        }
      ]
    },
    {
      "cell_type": "code",
      "source": [
        "# Write a Python program to select an item randomly from a list.\n",
        "import random\n",
        "\n",
        "l1 = [6,7,8,9,0,9]\n",
        "l_choice = random.choice(l1)\n",
        "l_choice"
      ],
      "metadata": {
        "id": "AGyEoKATh8hM",
        "colab": {
          "base_uri": "https://localhost:8080/"
        },
        "outputId": "26398478-011c-48e2-c747-216e7024099e"
      },
      "execution_count": null,
      "outputs": [
        {
          "output_type": "execute_result",
          "data": {
            "text/plain": [
              "8"
            ]
          },
          "metadata": {},
          "execution_count": 43
        }
      ]
    },
    {
      "cell_type": "code",
      "source": [
        "# Write a python program to check whether two lists are circularly identical."
      ],
      "metadata": {
        "id": "eRKO8nUkh8cd"
      },
      "execution_count": null,
      "outputs": []
    },
    {
      "cell_type": "code",
      "source": [
        "# Write a Python program to find the second largest number in a list.\n",
        "l1 = [1, 2, 3, 4, 5]\n",
        "l2 = sorted(l1)\n",
        "print(l2[-2])"
      ],
      "metadata": {
        "id": "JYsl3SMVh8Z7",
        "colab": {
          "base_uri": "https://localhost:8080/"
        },
        "outputId": "cb3e6548-33e6-4c30-df99-4dd1cbf95886"
      },
      "execution_count": null,
      "outputs": [
        {
          "output_type": "stream",
          "name": "stdout",
          "text": [
            "4\n"
          ]
        }
      ]
    },
    {
      "cell_type": "code",
      "source": [
        "# Write a Python program to find the second smallest number in a list.\n",
        "\n",
        "l1 = [1, 0, 3, 4, 5]\n",
        "l2 = sorted(l1)\n",
        "print(l2[1])"
      ],
      "metadata": {
        "id": "EBkN-D4Mh8TP",
        "colab": {
          "base_uri": "https://localhost:8080/"
        },
        "outputId": "0b3f38e2-4b4f-4d62-ef67-b1b4b8dc34f9"
      },
      "execution_count": null,
      "outputs": [
        {
          "output_type": "stream",
          "name": "stdout",
          "text": [
            "1\n"
          ]
        }
      ]
    },
    {
      "cell_type": "code",
      "source": [
        "# Write a Python program to get unique values from a list.\n",
        "\n",
        "my_list = [1, 2, 3, 4, 5, 1, 2, 3, 4, 5]\n",
        "print(set(my_list))\n"
      ],
      "metadata": {
        "id": "zL4NBph_h8PE",
        "colab": {
          "base_uri": "https://localhost:8080/"
        },
        "outputId": "367cbb9d-978f-4b3a-9143-be2664b8f9ba"
      },
      "execution_count": null,
      "outputs": [
        {
          "output_type": "stream",
          "name": "stdout",
          "text": [
            "{1, 2, 3, 4, 5}\n"
          ]
        }
      ]
    },
    {
      "cell_type": "code",
      "source": [
        "# Write a Python program to get the frequency of the elements in a list. freq = the number of times it exists in a list\n",
        "\n",
        "l1 = [1, 2, 3, 4, 5, 1, 2, 3, 4, 5, 5, 5, 18,'green']\n",
        "freq_l1 = []\n",
        "\n",
        "for i in set(l1):\n",
        "  freq_l1.append((i,l1.count(i)))\n",
        "print(freq_l1)"
      ],
      "metadata": {
        "id": "k9AI2iX8h8Mn",
        "colab": {
          "base_uri": "https://localhost:8080/"
        },
        "outputId": "4688a612-1d2e-4c41-8d63-1dae153f7626"
      },
      "execution_count": null,
      "outputs": [
        {
          "output_type": "stream",
          "name": "stdout",
          "text": [
            "[(1, 2), (2, 2), (3, 2), (4, 2), (5, 4), ('green', 1), (18, 1)]\n"
          ]
        }
      ]
    },
    {
      "cell_type": "code",
      "source": [
        "# Write a Python program to check whether a list contains a sublist.\n",
        "\n",
        "l1 = [1, 2, 3, 4, 5]\n",
        "sub_l1 = [2, 3]\n",
        "\n",
        "if ''.join(map(str,sub_l1)) in ''.join(map(str,l1)):\n",
        "  print('true')\n",
        "else:\n",
        "  print('false')"
      ],
      "metadata": {
        "id": "cwre0w0Eh77D",
        "colab": {
          "base_uri": "https://localhost:8080/"
        },
        "outputId": "131d6ceb-4a40-44e5-92ac-0c30fd7a4faf"
      },
      "execution_count": null,
      "outputs": [
        {
          "output_type": "stream",
          "name": "stdout",
          "text": [
            "true\n"
          ]
        }
      ]
    },
    {
      "cell_type": "code",
      "source": [
        "# Write a Python program to create a list by concatenating a given list which range goes from 1 to n. \n",
        "\n",
        "l1 = ['o','p']\n",
        "n = 6\n",
        "new_l = []\n",
        "\n",
        "for i in range(1, n+1):\n",
        "  for elem in l1:\n",
        "    new_l.append(str(elem) + str(i))\n",
        "\n",
        "print(new_l)"
      ],
      "metadata": {
        "id": "A5lwUWUMl1ck",
        "colab": {
          "base_uri": "https://localhost:8080/"
        },
        "outputId": "facf7eba-6cf5-401a-af41-52d14003ecd2"
      },
      "execution_count": null,
      "outputs": [
        {
          "output_type": "stream",
          "name": "stdout",
          "text": [
            "['o1', 'p1', 'o2', 'p2', 'o3', 'p3', 'o4', 'p4', 'o5', 'p5', 'o6', 'p6']\n"
          ]
        }
      ]
    },
    {
      "cell_type": "code",
      "source": [
        "# Write a Python program to find common items from two lists.\n",
        "\n",
        "l1 = [1, 2, 3, 4, 5, 'red']\n",
        "l2 = ['yellow', 'red', 'blue', 2, 5]\n",
        "l3 = []\n",
        "\n",
        "for i in l1:\n",
        "  if i in l2:\n",
        "    l3.append(i)\n",
        "\n",
        "print(l3)"
      ],
      "metadata": {
        "id": "lewbXPGfl1aJ",
        "colab": {
          "base_uri": "https://localhost:8080/"
        },
        "outputId": "08f676c0-1cd2-4a78-df60-edc0df521029"
      },
      "execution_count": null,
      "outputs": [
        {
          "output_type": "stream",
          "name": "stdout",
          "text": [
            "[2, 5, 'red']\n"
          ]
        }
      ]
    },
    {
      "cell_type": "code",
      "source": [
        "# Write a Python program to change the position of every n-th value with the (n+1)th in a list. \n",
        "\n",
        "l = [0, 1, 2, 3, 4, 5]\n",
        "n = 2\n",
        "\n",
        "new_l = []\n",
        "for i in range(0, len(l),n):\n",
        "  new_l.append(l[i+1])\n",
        "  new_l.append(l[i])\n",
        "\n",
        "print(new_l)"
      ],
      "metadata": {
        "id": "q1cbUTKCl1XU",
        "colab": {
          "base_uri": "https://localhost:8080/"
        },
        "outputId": "f018f997-8281-4655-b9c3-33ee9e4cc9fa"
      },
      "execution_count": null,
      "outputs": [
        {
          "output_type": "stream",
          "name": "stdout",
          "text": [
            "[1, 0, 3, 2, 5, 4]\n"
          ]
        }
      ]
    },
    {
      "cell_type": "code",
      "source": [
        "# Write a Python program to convert a list of multiple integers into a single integer.\n",
        "\n",
        "my_list = [0, 1, 2, 3, 4, 5]\n",
        "\n",
        "if my_list[0]==0:\n",
        "  my_list.pop(0)\n",
        "my_list\n",
        "\n",
        "single_int = int(''.join(map(str,my_list)))\n",
        "single_int"
      ],
      "metadata": {
        "id": "JVGIHRZUl1Kq",
        "colab": {
          "base_uri": "https://localhost:8080/"
        },
        "outputId": "64b09259-3d3d-4f8f-eb09-fc756d3c4166"
      },
      "execution_count": null,
      "outputs": [
        {
          "output_type": "execute_result",
          "data": {
            "text/plain": [
              "12345"
            ]
          },
          "metadata": {},
          "execution_count": 9
        }
      ]
    },
    {
      "cell_type": "code",
      "source": [
        "# Write a Python program to find missing and additional values in two lists. Sample data : Missing values in second list: b,a,c Additional values in second list: g,h\n",
        "\n",
        "l1 = [1, 2, 3, 4, 'x', 'a', 'b', 'c']\n",
        "l2 = [1, 2, 3, 'x', 'g', 'h']\n",
        "\n",
        "print('Missing', set(l1)-set(l2))\n",
        "print('Additional', set(l2)-set(l1))"
      ],
      "metadata": {
        "id": "cDSZ8_vtl1Eo",
        "colab": {
          "base_uri": "https://localhost:8080/"
        },
        "outputId": "c384099e-4965-4fea-e38d-31509b9bba37"
      },
      "execution_count": null,
      "outputs": [
        {
          "output_type": "stream",
          "name": "stdout",
          "text": [
            "Missing {'b', 'c', 4, 'a'}\n",
            "Additional {'h', 'g'}\n"
          ]
        }
      ]
    },
    {
      "cell_type": "code",
      "source": [
        "#  Write a Python program to split a list into different variables.\n",
        "\n",
        "my_list = [1, 2, 'a']\n",
        "\n",
        "x,y,z = my_list\n",
        "\n",
        "print(x)\n",
        "print(y)\n",
        "print(z)"
      ],
      "metadata": {
        "id": "x8o_ULSJl1Bt",
        "colab": {
          "base_uri": "https://localhost:8080/"
        },
        "outputId": "1e66140f-2681-4890-814b-9c0bb6195872"
      },
      "execution_count": null,
      "outputs": [
        {
          "output_type": "stream",
          "name": "stdout",
          "text": [
            "1\n",
            "2\n",
            "a\n"
          ]
        }
      ]
    },
    {
      "cell_type": "code",
      "source": [
        "#  Write a Python program to generate groups of five consecutive numbers in a list (list of consecutive numbers grouped in lists of 5).\n",
        "\n",
        "\n",
        "my_list = [[(5*x + y) for y in range(1,6)] for x in range(5)]\n",
        "print(my_list)"
      ],
      "metadata": {
        "id": "kwOazPayl0_C",
        "colab": {
          "base_uri": "https://localhost:8080/"
        },
        "outputId": "7443adec-3ceb-4d5d-cc57-8ec2e8706216"
      },
      "execution_count": null,
      "outputs": [
        {
          "output_type": "stream",
          "name": "stdout",
          "text": [
            "[[1, 2, 3, 4, 5], [6, 7, 8, 9, 10], [11, 12, 13, 14, 15], [16, 17, 18, 19, 20], [21, 22, 23, 24, 25]]\n"
          ]
        }
      ]
    },
    {
      "cell_type": "code",
      "source": [
        "# Write a Python program to convert a pair of values into a sorted unique array. (list of tuples to sorted list of values).\n",
        "\n",
        "my_list = [(7, 0), (1, 2), (7, 8), (4, 3), (6, 9), (3, 4)]\n",
        "new_list = []\n",
        "for x in my_list:\n",
        "    for y in x:\n",
        "        new_list.append(y)\n",
        "new_set = set(new_list)\n",
        "print(sorted(new_set))"
      ],
      "metadata": {
        "id": "c_lYroQJl05t",
        "colab": {
          "base_uri": "https://localhost:8080/"
        },
        "outputId": "5b23ea91-333a-49cd-8c5f-ab35a8ea600e"
      },
      "execution_count": null,
      "outputs": [
        {
          "output_type": "stream",
          "name": "stdout",
          "text": [
            "[0, 1, 2, 3, 4, 6, 7, 8, 9]\n"
          ]
        }
      ]
    },
    {
      "cell_type": "code",
      "source": [
        "#  Write a Python program to select the odd items of a list.\n",
        "my_list = [0, 1, 2, 3, 4, 5, 6, 7, 8]\n",
        "l1 = [i for i in my_list if i%2==1]\n",
        "print(l1)"
      ],
      "metadata": {
        "id": "DWMDxpkSl02k",
        "colab": {
          "base_uri": "https://localhost:8080/"
        },
        "outputId": "4ce68a07-ae93-4093-f87c-d3b3e0504889"
      },
      "execution_count": null,
      "outputs": [
        {
          "output_type": "stream",
          "name": "stdout",
          "text": [
            "[1, 3, 5, 7]\n"
          ]
        }
      ]
    },
    {
      "cell_type": "code",
      "source": [
        "# Write a Python program to insert an element before each element of a list.\n",
        "\n",
        "l1 = [0, 1, 2, 3, 4, 5]\n",
        "element = 'x'\n",
        "for i in range(0, len(l1)*2,2):\n",
        "  l1.insert(i,element)\n",
        "print(l1)"
      ],
      "metadata": {
        "id": "TzN2a6Ejl0zJ",
        "colab": {
          "base_uri": "https://localhost:8080/"
        },
        "outputId": "137d6b5b-0591-4a13-f2e8-8349dfdf990e"
      },
      "execution_count": null,
      "outputs": [
        {
          "output_type": "stream",
          "name": "stdout",
          "text": [
            "['x', 0, 'x', 1, 'x', 2, 'x', 3, 'x', 4, 'x', 5]\n"
          ]
        }
      ]
    },
    {
      "cell_type": "code",
      "source": [
        "# Write a Python program to print a nested lists (each list on a new line) using the print() function.\n",
        "\n",
        "my_list = [ [7, 0],  [1, 2],  [7, 8],  [4, 3],  [6, 9],  [3, 4]]\n",
        "for i in my_list:\n",
        "  print(i)"
      ],
      "metadata": {
        "id": "rwg1Penyl0vy"
      },
      "execution_count": null,
      "outputs": []
    },
    {
      "cell_type": "code",
      "source": [
        "# Write a Python program to convert list to list of dictionaries.\n",
        "\n",
        "names = [\"Black\", \"Red\", \"Maroon\", \"Yellow\"]\n",
        "codes = [\"#000000\", \"#FF0000\", \"#800000\", \"#FFFF00\"]\n",
        "color_dict = [dict(color_name = x, color_code = y) for (x,y) in zip (names,codes)]\n",
        "print(color_dict)"
      ],
      "metadata": {
        "id": "0J-Fkgc8l0sx",
        "colab": {
          "base_uri": "https://localhost:8080/"
        },
        "outputId": "62c1d596-0376-4f37-9162-7e5c831e4bf9"
      },
      "execution_count": null,
      "outputs": [
        {
          "output_type": "stream",
          "name": "stdout",
          "text": [
            "[{'color_name': 'Black', 'color_code': '#000000'}, {'color_name': 'Red', 'color_code': '#FF0000'}, {'color_name': 'Maroon', 'color_code': '#800000'}, {'color_name': 'Yellow', 'color_code': '#FFFF00'}]\n"
          ]
        }
      ]
    },
    {
      "cell_type": "code",
      "source": [
        "# Write a Python program to concatenate elements of a list.\n",
        "\n",
        "my_list = [1, 2, 3, 4, 5, 'a']\n",
        "s = ''.join(map(str,my_list))\n",
        "s"
      ],
      "metadata": {
        "colab": {
          "base_uri": "https://localhost:8080/",
          "height": 35
        },
        "id": "vZaf0arxAK01",
        "outputId": "9cc8b4ee-0b11-49bd-ec0b-5208b45f7192"
      },
      "execution_count": null,
      "outputs": [
        {
          "output_type": "execute_result",
          "data": {
            "text/plain": [
              "'12345a'"
            ],
            "application/vnd.google.colaboratory.intrinsic+json": {
              "type": "string"
            }
          },
          "metadata": {},
          "execution_count": 4
        }
      ]
    },
    {
      "cell_type": "code",
      "source": [
        "#  Write a Python program to remove key values pairs from a list of dictionary\n",
        "my_list = [{'x': 1, 'y': 2},\n",
        "           {'x': 3, 'y': 4},\n",
        "           {'x': 5, 'y': 6}]\n",
        "\n",
        "for i in my_list:\n",
        "  del(i['x'])\n",
        "\n",
        "print(my_list)"
      ],
      "metadata": {
        "colab": {
          "base_uri": "https://localhost:8080/"
        },
        "id": "-jLXcC69AKyN",
        "outputId": "14e72249-ced8-41c7-a5fe-73e0758f6ee5"
      },
      "execution_count": 2,
      "outputs": [
        {
          "output_type": "stream",
          "name": "stdout",
          "text": [
            "[{'y': 2}, {'y': 4}, {'y': 6}]\n"
          ]
        }
      ]
    },
    {
      "cell_type": "code",
      "source": [
        "#  Write a Python program to compute the similarity between two lists.\n",
        "\n",
        "lst_one = [\"red\", \"orange\", \"green\", \"blue\", \"white\"]\n",
        "lst_two = [\"black\", \"yellow\", \"green\", \"blue\"]\n",
        "\n",
        "print(list(set(lst_one) - set(lst_two)))  \n",
        "print(list(set(lst_two) - set(lst_one)))"
      ],
      "metadata": {
        "id": "vGefg9rXAKvf",
        "colab": {
          "base_uri": "https://localhost:8080/"
        },
        "outputId": "52320213-94cf-476d-debd-106a9a25b03b"
      },
      "execution_count": 6,
      "outputs": [
        {
          "output_type": "stream",
          "name": "stdout",
          "text": [
            "['red', 'white', 'orange']\n",
            "['black', 'yellow']\n"
          ]
        }
      ]
    },
    {
      "cell_type": "code",
      "source": [
        "my_str = 'anime'\n",
        "\n",
        "# list of letters\n",
        "my_list = list(my_str)\n",
        "print(my_list)\n",
        "\n",
        "# list of words\n",
        "my_list = my_str.split()\n",
        "print(my_list)"
      ],
      "metadata": {
        "id": "n54CM_8oAKp7",
        "colab": {
          "base_uri": "https://localhost:8080/"
        },
        "outputId": "67b8488a-a39b-4540-cb12-304114341b63"
      },
      "execution_count": 11,
      "outputs": [
        {
          "output_type": "stream",
          "name": "stdout",
          "text": [
            "['a', 'n', 'i', 'm', 'e']\n",
            "['anime']\n"
          ]
        }
      ]
    },
    {
      "cell_type": "code",
      "source": [
        "# Python program to replace the last element in a list with another list. \n",
        "#Sample data : [1, 3, 5, 7, 9, 10], [2, 4, 6, 8]\n",
        "#Expected Output: [1, 3, 5, 7, 9, 2, 4, 6, 8]\n",
        "\n",
        "lst_1 = [1, 3, 5, 7, 9, 10]\n",
        "lst_2 = [2, 4, 6, 8]\n",
        "\n",
        "lst_1[len(lst_1)-1:] = lst_2\n",
        "lst_1"
      ],
      "metadata": {
        "id": "Ce8kPlPSAKlQ",
        "colab": {
          "base_uri": "https://localhost:8080/"
        },
        "outputId": "00696987-de2f-4a2b-deb3-397da0c0c557"
      },
      "execution_count": 22,
      "outputs": [
        {
          "output_type": "execute_result",
          "data": {
            "text/plain": [
              "[1, 3, 5, 7, 9, 2, 4, 6, 8]"
            ]
          },
          "metadata": {},
          "execution_count": 22
        }
      ]
    },
    {
      "cell_type": "code",
      "source": [
        "# Python program to check if the n-th element exists in a given list.\n",
        "\n",
        "my_lst = [1, 3, 5, 7, 9, 10]\n",
        "n = 1\n",
        "\n",
        "if len(my_lst)>n:\n",
        "  print(\"Yup! {}-th is there\".format(n), my_lst)\n",
        "else:\n",
        "  print(\"Nope! {}-th is not there\".format(n), my_lst)"
      ],
      "metadata": {
        "id": "X-IKTpsZAKbk",
        "colab": {
          "base_uri": "https://localhost:8080/"
        },
        "outputId": "2b9b9408-165d-4cfa-82db-01d51fffdfd5"
      },
      "execution_count": 37,
      "outputs": [
        {
          "output_type": "stream",
          "name": "stdout",
          "text": [
            "Yup! 1-th is there [1, 3, 5, 7, 9, 10]\n"
          ]
        }
      ]
    },
    {
      "cell_type": "markdown",
      "source": [
        "## Resources from: geeks for geeks,\n",
        "##                 w3school\n"
      ],
      "metadata": {
        "id": "ZwrsqFMBhqBY"
      }
    }
  ]
}