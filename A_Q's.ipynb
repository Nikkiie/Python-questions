{
  "nbformat": 4,
  "nbformat_minor": 0,
  "metadata": {
    "colab": {
      "provenance": [],
      "authorship_tag": "ABX9TyPFRhtsydRlWFtq54s9xpW0",
      "include_colab_link": true
    },
    "kernelspec": {
      "name": "python3",
      "display_name": "Python 3"
    },
    "language_info": {
      "name": "python"
    }
  },
  "cells": [
    {
      "cell_type": "markdown",
      "metadata": {
        "id": "view-in-github",
        "colab_type": "text"
      },
      "source": [
        "<a href=\"https://colab.research.google.com/github/Nikkiie/Python-questions/blob/main/A_Q's.ipynb\" target=\"_parent\"><img src=\"https://colab.research.google.com/assets/colab-badge.svg\" alt=\"Open In Colab\"/></a>"
      ]
    },
    {
      "cell_type": "markdown",
      "source": [
        "**Star pattern**"
      ],
      "metadata": {
        "id": "uR1BJ7fxsWYG"
      }
    },
    {
      "cell_type": "code",
      "execution_count": 9,
      "metadata": {
        "colab": {
          "base_uri": "https://localhost:8080/"
        },
        "id": "vMWuzsS7sN2-",
        "outputId": "f3486bcb-812e-4430-998b-cfc62e04d2e2"
      },
      "outputs": [
        {
          "output_type": "stream",
          "name": "stdout",
          "text": [
            "        * \n",
            "      * * \n",
            "    * * * \n",
            "  * * * * \n",
            "* * * * * \n"
          ]
        }
      ],
      "source": [
        "def pattern(N):\n",
        "  nst = 1\n",
        "  nsp = N-1\n",
        "\n",
        "  for i in range(1,N+1):\n",
        "    #for space\n",
        "    for csp in range(1, nsp+1):\n",
        "      print(\" \",end= \" \")\n",
        "    #for star\n",
        "    for cst in range(1, nst+1):\n",
        "      print(\"*\", end= \" \")\n",
        "\n",
        "    nst +=1\n",
        "    nsp -=1\n",
        "    print()\n",
        "\n",
        "pattern(5)"
      ]
    },
    {
      "cell_type": "code",
      "source": [
        "def pattern(N):\n",
        "  nst = N\n",
        "  nsp = 0\n",
        "\n",
        "  for i in range(1, N+1):\n",
        "   #for space\n",
        "   for csp in range(1, nsp+1):\n",
        "     print(\" \", end=\" \")\n",
        "   #for star\n",
        "   for cst in range(1, nst+1):\n",
        "      print(\"*\", end= \" \")\n",
        "\n",
        "\n",
        "   nst -=1\n",
        "   nsp +=1\n",
        "   print()\n",
        "\n",
        "pattern(5)"
      ],
      "metadata": {
        "colab": {
          "base_uri": "https://localhost:8080/"
        },
        "id": "Td52Ij0bsVXe",
        "outputId": "979fcf5b-0338-40e4-98d7-f21edddd256a"
      },
      "execution_count": 22,
      "outputs": [
        {
          "output_type": "stream",
          "name": "stdout",
          "text": [
            "* * * * * \n",
            "  * * * * \n",
            "    * * * \n",
            "      * * \n",
            "        * \n"
          ]
        }
      ]
    },
    {
      "cell_type": "code",
      "source": [],
      "metadata": {
        "id": "tq-YivqasVUB"
      },
      "execution_count": null,
      "outputs": []
    },
    {
      "cell_type": "code",
      "source": [],
      "metadata": {
        "id": "HfyCqCdhsVRU"
      },
      "execution_count": null,
      "outputs": []
    },
    {
      "cell_type": "code",
      "source": [],
      "metadata": {
        "id": "sk0CT8w8sVOg"
      },
      "execution_count": null,
      "outputs": []
    },
    {
      "cell_type": "code",
      "source": [],
      "metadata": {
        "id": "q51I2dZYsVLx"
      },
      "execution_count": null,
      "outputs": []
    },
    {
      "cell_type": "code",
      "source": [],
      "metadata": {
        "id": "CVM9Pa2hsVJJ"
      },
      "execution_count": null,
      "outputs": []
    },
    {
      "cell_type": "code",
      "source": [],
      "metadata": {
        "id": "-C48rCMKsVGa"
      },
      "execution_count": null,
      "outputs": []
    },
    {
      "cell_type": "code",
      "source": [],
      "metadata": {
        "id": "Px5424Y1sVDs"
      },
      "execution_count": null,
      "outputs": []
    }
  ]
}