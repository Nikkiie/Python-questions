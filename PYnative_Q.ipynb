{
  "nbformat": 4,
  "nbformat_minor": 0,
  "metadata": {
    "colab": {
      "provenance": [],
      "authorship_tag": "ABX9TyPY6037R8b/lS0Ixslnfwq1",
      "include_colab_link": true
    },
    "kernelspec": {
      "name": "python3",
      "display_name": "Python 3"
    },
    "language_info": {
      "name": "python"
    }
  },
  "cells": [
    {
      "cell_type": "markdown",
      "metadata": {
        "id": "view-in-github",
        "colab_type": "text"
      },
      "source": [
        "<a href=\"https://colab.research.google.com/github/Nikkiie/Python-questions/blob/main/PYnative_Q.ipynb\" target=\"_parent\"><img src=\"https://colab.research.google.com/assets/colab-badge.svg\" alt=\"Open In Colab\"/></a>"
      ]
    },
    {
      "cell_type": "markdown",
      "source": [
        "STRING-Q"
      ],
      "metadata": {
        "id": "h-JkR72r1HOG"
      }
    },
    {
      "cell_type": "code",
      "execution_count": null,
      "metadata": {
        "colab": {
          "base_uri": "https://localhost:8080/"
        },
        "id": "zJOOp4Nd098j",
        "outputId": "acf97f1b-f2d9-4404-e614-500b5731ba15"
      },
      "outputs": [
        {
          "output_type": "stream",
          "name": "stdout",
          "text": [
            "New String: mgb\n"
          ]
        }
      ],
      "source": [
        "# Write a program to create a new string made of an input string’s first, middle, and last character.\n",
        "\n",
        "s = 'mongodb'\n",
        "res = s[0]\n",
        "l = len(s)\n",
        "div = int(l/2)\n",
        "res = res + s[div]\n",
        "res = res + s[-1]\n",
        "print(\"New String:\", res)\n"
      ]
    },
    {
      "cell_type": "code",
      "source": [
        "# Write a program to create a new string made of the middle three characters of an input string.\n",
        "\n",
        "s = 'mongodb'\n",
        "l = len(s)\n",
        "div = int(l/2)\n",
        "div"
      ],
      "metadata": {
        "colab": {
          "base_uri": "https://localhost:8080/"
        },
        "id": "GazoWWsP1pwm",
        "outputId": "293c3a26-f6a2-478d-8290-96c0c24bfd75"
      },
      "execution_count": null,
      "outputs": [
        {
          "output_type": "execute_result",
          "data": {
            "text/plain": [
              "3"
            ]
          },
          "metadata": {},
          "execution_count": 6
        }
      ]
    },
    {
      "cell_type": "code",
      "source": [
        "# Given two strings, s1 and s2. Write a program to create a new string s3 by appending s2 in the middle of s1.\n",
        "\n",
        "s1 = \"Ault\"\n",
        "s2 = \"Kelly\"\n",
        "\n",
        "s3 = int(len(s1)/2)\n",
        "x = s1[:s3:]\n",
        "x = x + s2\n",
        "x = x + s1[s3:]\n",
        "print(x)"
      ],
      "metadata": {
        "id": "7vckhoU11puL",
        "colab": {
          "base_uri": "https://localhost:8080/"
        },
        "outputId": "f1de4f3e-40cf-4352-b3c6-aae260c93c06"
      },
      "execution_count": null,
      "outputs": [
        {
          "output_type": "stream",
          "name": "stdout",
          "text": [
            "AuKellylt\n"
          ]
        }
      ]
    },
    {
      "cell_type": "code",
      "source": [
        "# Given two strings, s1 and s2, write a program to return a new string made of s1 and s2’s first, middle, and last characters.???\n",
        "\n",
        "s1 = \"America\"\n",
        "s2 = \"Japan\"\n",
        "\n",
        "s3 = int(len(s1)/2)\n",
        "x = s1[:s3:]"
      ],
      "metadata": {
        "id": "3bIBZu_s1prT"
      },
      "execution_count": null,
      "outputs": []
    },
    {
      "cell_type": "code",
      "source": [
        "# Arrange string characters such that lowercase letters should come first\n",
        "\n",
        "s1 = \"PyNaTiveyuLO\"\n",
        "lower = []\n",
        "upper = []\n",
        "for i in s1:\n",
        "  if i.islower():\n",
        "    lower.append(i)\n",
        "  else:\n",
        "    upper.append(i)\n",
        "\n",
        "print(''.join(lower+upper))\n",
        "  \n",
        "\n"
      ],
      "metadata": {
        "id": "PxSuUdQl1poP",
        "colab": {
          "base_uri": "https://localhost:8080/"
        },
        "outputId": "2045f44e-328a-438a-857f-aed9ffa36bc7"
      },
      "execution_count": null,
      "outputs": [
        {
          "output_type": "stream",
          "name": "stdout",
          "text": [
            "yaiveyuPNTLO\n"
          ]
        }
      ]
    },
    {
      "cell_type": "code",
      "source": [
        "# Count all letters, digits, and special symbols from a given string\n",
        "\n",
        "s1 = \"P@#yn26at&^&i5ve\"\n",
        "Chars = 0 \n",
        "Digits = 0\n",
        "Symbol =0\n",
        "\n",
        "for ch in s1:\n",
        "  if ch.isalpha():\n",
        "    Chars +=1\n",
        "  elif ch.isdigit():\n",
        "    Digits +=1\n",
        "  else:\n",
        "    Symbol +=1\n",
        "\n",
        "print(Chars)\n",
        "print(Digits)\n",
        "print(Symbol)"
      ],
      "metadata": {
        "id": "KU8W0BKU1pls",
        "colab": {
          "base_uri": "https://localhost:8080/"
        },
        "outputId": "65331b84-a2ce-42ed-a94c-31bddf42fa9c"
      },
      "execution_count": null,
      "outputs": [
        {
          "output_type": "stream",
          "name": "stdout",
          "text": [
            "8\n",
            "3\n",
            "5\n"
          ]
        }
      ]
    },
    {
      "cell_type": "code",
      "source": [
        "'''Write a program to check if two strings are balanced. \n",
        "For example, strings s1 and s2 are balanced if all the characters in the s1 are present in s2. The character’s position doesn’t matter'''\n",
        "\n",
        "s1 = \"Ynt\"\n",
        "s2 = \"PYnative\"\n",
        "flag = True\n",
        "for i in s1:\n",
        "  if i in s2:\n",
        "    continue\n",
        "  else:\n",
        "    flag = False\n",
        "print(flag)"
      ],
      "metadata": {
        "id": "Ut8PrBxv1pjB",
        "colab": {
          "base_uri": "https://localhost:8080/"
        },
        "outputId": "28ee7ac0-758e-4451-dd04-b30db2067326"
      },
      "execution_count": null,
      "outputs": [
        {
          "output_type": "stream",
          "name": "stdout",
          "text": [
            "True\n"
          ]
        }
      ]
    },
    {
      "cell_type": "code",
      "source": [
        "#Write a program to find all occurrences of “USA” in a given string ignoring the case.\n",
        "\n",
        "s1 = \"Welcome to USA. usa awesome, isn't it?\"\n",
        "wrd = 'usa'\n",
        "s = s1.lower()\n",
        "count = s.count(wrd)\n",
        "print(count)\n"
      ],
      "metadata": {
        "id": "-WvSj-M21pf_",
        "colab": {
          "base_uri": "https://localhost:8080/"
        },
        "outputId": "81f06262-9f9b-4355-d065-229e2f1d7c89"
      },
      "execution_count": null,
      "outputs": [
        {
          "output_type": "stream",
          "name": "stdout",
          "text": [
            "2\n"
          ]
        }
      ]
    },
    {
      "cell_type": "code",
      "source": [
        "#Given a string s1, write a program to return the sum and average of the digits that appear in the string, ignoring all other characters.\n",
        "\n",
        "s1 = \"PYnative29@#8496\"\n",
        "tot = 0\n",
        "count = 0\n",
        "for num in s1:\n",
        "  if num.isdigit():\n",
        "    tot = tot + int(num)\n",
        "    count = count +1\n",
        "    avg = tot/count\n",
        "print(\"Sum is:\", tot, \"Average is \", avg)"
      ],
      "metadata": {
        "colab": {
          "base_uri": "https://localhost:8080/"
        },
        "id": "EFgp2Y8J7yQf",
        "outputId": "0731fa06-bcab-4c34-c3f7-627e5b399a50"
      },
      "execution_count": null,
      "outputs": [
        {
          "output_type": "stream",
          "name": "stdout",
          "text": [
            "Sum is: 38 Average is  6.333333333333333\n"
          ]
        }
      ]
    },
    {
      "cell_type": "code",
      "source": [
        "# Write a program to count occurrences of all characters within a string\n",
        "\n",
        "s1 = \"Apple\"\n",
        "chr_dict = dict()\n",
        "\n",
        "for ch in s1:\n",
        "  count = s1.count(ch)\n",
        "  chr_dict[ch]=count\n",
        "print('Result:', chr_dict)"
      ],
      "metadata": {
        "colab": {
          "base_uri": "https://localhost:8080/"
        },
        "id": "YuV9yDyz7yOE",
        "outputId": "19fee953-425e-41bc-adc2-55188ac19e00"
      },
      "execution_count": null,
      "outputs": [
        {
          "output_type": "stream",
          "name": "stdout",
          "text": [
            "Result: {'A': 1, 'p': 2, 'l': 1, 'e': 1}\n"
          ]
        }
      ]
    },
    {
      "cell_type": "code",
      "source": [
        "#Reverse a given string\n",
        "\n",
        "s1 = \"Apple\"\n",
        "s2 = s1[::-1]\n",
        "print(s2)"
      ],
      "metadata": {
        "colab": {
          "base_uri": "https://localhost:8080/"
        },
        "id": "H0PS7s6v7yLu",
        "outputId": "f5e24a89-b1ea-4181-bd05-70585bb01d02"
      },
      "execution_count": null,
      "outputs": [
        {
          "output_type": "stream",
          "name": "stdout",
          "text": [
            "elppA\n"
          ]
        }
      ]
    },
    {
      "cell_type": "code",
      "source": [
        "#Write a program to find the last position of a substring “Emma” in a given string.\n",
        "\n",
        "s1 = \"Emma is a data scientist who knows Python. Emma works at google.\"\n",
        "s2 = s1.rfind('Emma')\n",
        "print(\"Last occurrence of Emma starts at index:\", s2)\n"
      ],
      "metadata": {
        "id": "GfwL9BmT1pZy",
        "colab": {
          "base_uri": "https://localhost:8080/"
        },
        "outputId": "5efa24f9-681b-4153-8073-9cc61b26ddf2"
      },
      "execution_count": null,
      "outputs": [
        {
          "output_type": "stream",
          "name": "stdout",
          "text": [
            "Last occurrence of Emma starts at index: 43\n"
          ]
        }
      ]
    },
    {
      "cell_type": "code",
      "source": [
        "# Write a program to split a given string on hyphens and display each substring.\n",
        "s1 = \"Emma-is-a-data-scientist\"\n",
        "s2 = s1.split(\"-\")\n",
        "for s in s2:\n",
        "  print(s)\n",
        "\n"
      ],
      "metadata": {
        "id": "56e_7l-2EQXU",
        "colab": {
          "base_uri": "https://localhost:8080/"
        },
        "outputId": "d488bd9d-3e35-4860-d2ef-4ddc5582e71f"
      },
      "execution_count": 2,
      "outputs": [
        {
          "output_type": "stream",
          "name": "stdout",
          "text": [
            "Emma\n",
            "is\n",
            "a\n",
            "data\n",
            "scientist\n"
          ]
        }
      ]
    },
    {
      "cell_type": "code",
      "source": [
        "# Remove empty strings from a list of strings\n",
        "\n",
        "#s1 = [\"Emma\", \"Jon\", \"\", \"Kelly\", None, \"Eric\", \"\"]\n",
        "#s2 = [i for i in s1 if i]\n",
        "#print(s2)\n",
        "\n",
        "# using filter\n",
        "\n",
        "s2 = list(filter(None, s1))\n",
        "print(s2)"
      ],
      "metadata": {
        "id": "xGeXXouhEQUS",
        "colab": {
          "base_uri": "https://localhost:8080/"
        },
        "outputId": "1260f34a-1d54-433b-81bb-8d584ae67fab"
      },
      "execution_count": 4,
      "outputs": [
        {
          "output_type": "stream",
          "name": "stdout",
          "text": [
            "['Emma', 'Jon', 'Kelly', 'Eric']\n"
          ]
        }
      ]
    },
    {
      "cell_type": "code",
      "source": [
        "#Remove special symbols / punctuation from a string\n",
        "import re\n",
        "\n",
        "s1 = \"/*Jon is @developer & musician\"\n",
        "res = re.sub(r'[^\\w\\s]', '', s1)\n",
        "print(res)"
      ],
      "metadata": {
        "id": "dhnbz5gREQSS",
        "colab": {
          "base_uri": "https://localhost:8080/"
        },
        "outputId": "a554d04f-ef1e-4d18-93a7-8fc00324204b"
      },
      "execution_count": 6,
      "outputs": [
        {
          "output_type": "stream",
          "name": "stdout",
          "text": [
            "Jon is developer  musician\n"
          ]
        }
      ]
    },
    {
      "cell_type": "code",
      "source": [
        "# Removal all characters from a string except integers\n",
        "\n",
        "str1 = 'I am 25 years and 10 months old'\n",
        "print(\"Original string is\", str1)\n",
        "\n",
        "# Retain Numbers in String\n",
        "# Using list comprehension + join() + isdigit()\n",
        "res = \"\".join([item for item in str1 if item.isdigit()])\n",
        "\n",
        "print(res)"
      ],
      "metadata": {
        "id": "I4Nt85BLEQDj"
      },
      "execution_count": null,
      "outputs": []
    },
    {
      "cell_type": "code",
      "source": [
        "# Write a program to find words with both alphabets and numbers from an input string.\n",
        "\n",
        "s1 = \"Emma25 is Data scientist50 and AI Expert\"\n",
        "res = []\n",
        "temp = s1.split()\n",
        "\n",
        "for item in temp:\n",
        "  if any(ch.isalpha() for ch in item) and any(ch.isdigit() for ch in item):\n",
        "    res.append(item)\n",
        "for i in res:\n",
        "    print(i)\n"
      ],
      "metadata": {
        "id": "T2S2JCefEQAM",
        "colab": {
          "base_uri": "https://localhost:8080/"
        },
        "outputId": "9168c6e8-555d-41b4-b052-44e640aae1d7"
      },
      "execution_count": 13,
      "outputs": [
        {
          "output_type": "stream",
          "name": "stdout",
          "text": [
            "Emma25\n",
            "scientist50\n"
          ]
        }
      ]
    },
    {
      "cell_type": "code",
      "source": [
        "# Replace each special symbol with # in the following string\n",
        "import string\n",
        "s1 = '/*Jon is @developer & musician!!'\n",
        "replace_ch = '#'\n",
        "\n",
        "for ch in string.punctuation:\n",
        "  s1 = s1.replace(ch, replace_ch)\n",
        "print(s1)\n"
      ],
      "metadata": {
        "id": "gk7ksV75EP8t",
        "colab": {
          "base_uri": "https://localhost:8080/"
        },
        "outputId": "39640e91-f6ff-4694-eeb2-6de21bc864e8"
      },
      "execution_count": 14,
      "outputs": [
        {
          "output_type": "stream",
          "name": "stdout",
          "text": [
            "##Jon is #developer # musician##\n"
          ]
        }
      ]
    },
    {
      "cell_type": "code",
      "source": [],
      "metadata": {
        "id": "wSZ1FesPP0Xw"
      },
      "execution_count": null,
      "outputs": []
    },
    {
      "cell_type": "code",
      "source": [],
      "metadata": {
        "id": "hpoyF4LwP0UH"
      },
      "execution_count": null,
      "outputs": []
    },
    {
      "cell_type": "code",
      "source": [],
      "metadata": {
        "id": "jFrY7sukP0Rd"
      },
      "execution_count": null,
      "outputs": []
    },
    {
      "cell_type": "code",
      "source": [],
      "metadata": {
        "id": "8jSUnlLeP0M-"
      },
      "execution_count": null,
      "outputs": []
    },
    {
      "cell_type": "code",
      "source": [],
      "metadata": {
        "id": "USK1YPNmP0I4"
      },
      "execution_count": null,
      "outputs": []
    },
    {
      "cell_type": "code",
      "source": [],
      "metadata": {
        "id": "C3uy23jJP0GU"
      },
      "execution_count": null,
      "outputs": []
    },
    {
      "cell_type": "code",
      "source": [],
      "metadata": {
        "id": "rk76sHQjP0Dd"
      },
      "execution_count": null,
      "outputs": []
    },
    {
      "cell_type": "code",
      "source": [],
      "metadata": {
        "id": "RwhyhhyzP0Ac"
      },
      "execution_count": null,
      "outputs": []
    }
  ]
}