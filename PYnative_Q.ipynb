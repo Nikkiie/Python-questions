{
  "nbformat": 4,
  "nbformat_minor": 0,
  "metadata": {
    "colab": {
      "provenance": [],
      "authorship_tag": "ABX9TyN7XUDuRVnBd0E74mv+veZu",
      "include_colab_link": true
    },
    "kernelspec": {
      "name": "python3",
      "display_name": "Python 3"
    },
    "language_info": {
      "name": "python"
    }
  },
  "cells": [
    {
      "cell_type": "markdown",
      "metadata": {
        "id": "view-in-github",
        "colab_type": "text"
      },
      "source": [
        "<a href=\"https://colab.research.google.com/github/Nikkiie/Python-questions/blob/main/PYnative_Q.ipynb\" target=\"_parent\"><img src=\"https://colab.research.google.com/assets/colab-badge.svg\" alt=\"Open In Colab\"/></a>"
      ]
    },
    {
      "cell_type": "markdown",
      "source": [
        "STRING-Q"
      ],
      "metadata": {
        "id": "h-JkR72r1HOG"
      }
    },
    {
      "cell_type": "code",
      "execution_count": 5,
      "metadata": {
        "colab": {
          "base_uri": "https://localhost:8080/"
        },
        "id": "zJOOp4Nd098j",
        "outputId": "acf97f1b-f2d9-4404-e614-500b5731ba15"
      },
      "outputs": [
        {
          "output_type": "stream",
          "name": "stdout",
          "text": [
            "New String: mgb\n"
          ]
        }
      ],
      "source": [
        "# Write a program to create a new string made of an input string’s first, middle, and last character.\n",
        "\n",
        "s = 'mongodb'\n",
        "res = s[0]\n",
        "l = len(s)\n",
        "div = int(l/2)\n",
        "res = res + s[div]\n",
        "res = res + s[-1]\n",
        "print(\"New String:\", res)\n"
      ]
    },
    {
      "cell_type": "code",
      "source": [
        "# Write a program to create a new string made of the middle three characters of an input string.\n",
        "\n",
        "s = 'mongodb'\n",
        "l = len(s)\n",
        "div = int(l/2)\n",
        "div"
      ],
      "metadata": {
        "colab": {
          "base_uri": "https://localhost:8080/"
        },
        "id": "GazoWWsP1pwm",
        "outputId": "293c3a26-f6a2-478d-8290-96c0c24bfd75"
      },
      "execution_count": 6,
      "outputs": [
        {
          "output_type": "execute_result",
          "data": {
            "text/plain": [
              "3"
            ]
          },
          "metadata": {},
          "execution_count": 6
        }
      ]
    },
    {
      "cell_type": "code",
      "source": [],
      "metadata": {
        "id": "7vckhoU11puL"
      },
      "execution_count": null,
      "outputs": []
    },
    {
      "cell_type": "code",
      "source": [],
      "metadata": {
        "id": "3bIBZu_s1prT"
      },
      "execution_count": null,
      "outputs": []
    },
    {
      "cell_type": "code",
      "source": [],
      "metadata": {
        "id": "PxSuUdQl1poP"
      },
      "execution_count": null,
      "outputs": []
    },
    {
      "cell_type": "code",
      "source": [],
      "metadata": {
        "id": "KU8W0BKU1pls"
      },
      "execution_count": null,
      "outputs": []
    },
    {
      "cell_type": "code",
      "source": [],
      "metadata": {
        "id": "Ut8PrBxv1pjB"
      },
      "execution_count": null,
      "outputs": []
    },
    {
      "cell_type": "code",
      "source": [],
      "metadata": {
        "id": "-WvSj-M21pf_"
      },
      "execution_count": null,
      "outputs": []
    },
    {
      "cell_type": "code",
      "source": [],
      "metadata": {
        "id": "TER6TZbF1pc1"
      },
      "execution_count": null,
      "outputs": []
    },
    {
      "cell_type": "code",
      "source": [],
      "metadata": {
        "id": "GfwL9BmT1pZy"
      },
      "execution_count": null,
      "outputs": []
    },
    {
      "cell_type": "code",
      "source": [],
      "metadata": {
        "id": "WMoNdYLq1pXT"
      },
      "execution_count": null,
      "outputs": []
    },
    {
      "cell_type": "code",
      "source": [],
      "metadata": {
        "id": "24bJu22d1pUs"
      },
      "execution_count": null,
      "outputs": []
    }
  ]
}