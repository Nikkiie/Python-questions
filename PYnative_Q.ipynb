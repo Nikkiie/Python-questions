{
  "nbformat": 4,
  "nbformat_minor": 0,
  "metadata": {
    "colab": {
      "provenance": [],
      "authorship_tag": "ABX9TyNMmS/8yx1eBSfkTcj9Y07V",
      "include_colab_link": true
    },
    "kernelspec": {
      "name": "python3",
      "display_name": "Python 3"
    },
    "language_info": {
      "name": "python"
    }
  },
  "cells": [
    {
      "cell_type": "markdown",
      "metadata": {
        "id": "view-in-github",
        "colab_type": "text"
      },
      "source": [
        "<a href=\"https://colab.research.google.com/github/Nikkiie/Python-questions/blob/main/PYnative_Q.ipynb\" target=\"_parent\"><img src=\"https://colab.research.google.com/assets/colab-badge.svg\" alt=\"Open In Colab\"/></a>"
      ]
    },
    {
      "cell_type": "markdown",
      "source": [
        "**Exercise for Beginners**"
      ],
      "metadata": {
        "id": "lfF6pYtgddEp"
      }
    },
    {
      "cell_type": "code",
      "source": [
        "#Given two integer numbers return their product only if the product is equal to or lower than 1000, else return their sum.\n",
        "# my way\n",
        "'''\n",
        "n1 = 40\n",
        "n2 = 30\n",
        "\n",
        "if n1*n2 <= 1000:\n",
        "  print(n1*n2)\n",
        "else:\n",
        "  print(n1+n2)'''\n",
        "\n",
        "#using function\n",
        "\n",
        "def func(n1,n2):\n",
        "  pro = n1*n2\n",
        "  sum = n1+n2\n",
        "  if pro <= 1000:\n",
        "    return pro\n",
        "  else:\n",
        "   return sum\n",
        "\n",
        "print(func(20,30))"
      ],
      "metadata": {
        "colab": {
          "base_uri": "https://localhost:8080/"
        },
        "id": "W9ewRs46dcwI",
        "outputId": "573bb9f9-2f82-4de2-8570-b60aa2a5a205"
      },
      "execution_count": null,
      "outputs": [
        {
          "output_type": "stream",
          "name": "stdout",
          "text": [
            "600\n"
          ]
        }
      ]
    },
    {
      "cell_type": "code",
      "source": [
        "#Write a program to iterate the first 10 numbers and in each iteration, print the sum of the current and previous number.\n",
        "\n",
        "num = 0\n",
        "for i in range(0,10):\n",
        "  sum = num+i\n",
        "  print(\"Current Number\", i, \"Previous Number \", num, \" Sum: \", sum)\n",
        "  num = i"
      ],
      "metadata": {
        "colab": {
          "base_uri": "https://localhost:8080/"
        },
        "id": "fmo57aRfdcr7",
        "outputId": "49ecc41d-da6d-4afd-854e-a499c1325030"
      },
      "execution_count": null,
      "outputs": [
        {
          "output_type": "stream",
          "name": "stdout",
          "text": [
            "Current Number 0 Previous Number  0  Sum:  0\n",
            "Current Number 1 Previous Number  0  Sum:  1\n",
            "Current Number 2 Previous Number  1  Sum:  3\n",
            "Current Number 3 Previous Number  2  Sum:  5\n",
            "Current Number 4 Previous Number  3  Sum:  7\n",
            "Current Number 5 Previous Number  4  Sum:  9\n",
            "Current Number 6 Previous Number  5  Sum:  11\n",
            "Current Number 7 Previous Number  6  Sum:  13\n",
            "Current Number 8 Previous Number  7  Sum:  15\n",
            "Current Number 9 Previous Number  8  Sum:  17\n"
          ]
        }
      ]
    },
    {
      "cell_type": "code",
      "source": [
        "#Write a program to accept a string from the user and display characters that are present at an even index number.\n",
        "\n",
        "g = input('Enter a string:::)))')\n",
        "length = len(g)\n",
        "for i in range(0,length-1,2):\n",
        "  print(g[i])\n"
      ],
      "metadata": {
        "colab": {
          "base_uri": "https://localhost:8080/"
        },
        "id": "MNzAwss3dcpb",
        "outputId": "dfdf4868-61ee-4814-9a3f-75a04cf6795a"
      },
      "execution_count": null,
      "outputs": [
        {
          "output_type": "stream",
          "name": "stdout",
          "text": [
            "Enter a stringtruionj\n",
            "t\n",
            "u\n",
            "o\n"
          ]
        }
      ]
    },
    {
      "cell_type": "code",
      "source": [
        "#Write a program to remove characters from a string starting from zero up to n and return a new string??????\n",
        "\n",
        "remove_chars= \"pynative\"\n",
        "n = 12\n",
        "\n",
        "if n< len(remove_chars):\n",
        "  s = remove_chars[4:]\n",
        "print(s)"
      ],
      "metadata": {
        "id": "JpZEDn_RdcmS",
        "colab": {
          "base_uri": "https://localhost:8080/"
        },
        "outputId": "bff8e16d-ab90-41d3-8c84-a73b261567d6"
      },
      "execution_count": null,
      "outputs": [
        {
          "output_type": "stream",
          "name": "stdout",
          "text": [
            "tive\n"
          ]
        }
      ]
    },
    {
      "cell_type": "code",
      "source": [
        "# Write a function to return True if the first and last number of a given list is same. If numbers are different then return False.\n",
        "\n",
        "def fir_last(numList):\n",
        "  first_num = numList[0]\n",
        "  last_num = numList[-1]\n",
        "\n",
        "  if first_num==last_num:\n",
        "    return True\n",
        "  else:\n",
        "    return False\n",
        "\n",
        "num_x = [10, 20, 30, 40, 10]\n",
        "print(\"result is\", fir_last(num_x))\n",
        "\n",
        "num_y = [75, 65, 35, 75, 30]\n",
        "print(\"result is\", fir_last(num_y))\n",
        "\n",
        "\n"
      ],
      "metadata": {
        "id": "YLrVXd7vdcfm",
        "colab": {
          "base_uri": "https://localhost:8080/"
        },
        "outputId": "eb188230-ed2c-4432-9c4b-ba9702528f90"
      },
      "execution_count": null,
      "outputs": [
        {
          "output_type": "stream",
          "name": "stdout",
          "text": [
            "result is True\n",
            "result is False\n"
          ]
        }
      ]
    },
    {
      "cell_type": "code",
      "source": [
        "#Iterate the given list of numbers and print only those numbers which are divisible by 5\n",
        "\n",
        "l1= [10, 20, 33, 46, 55]\n",
        "for i in l1:\n",
        "  if i%5==0:\n",
        "    print(i)"
      ],
      "metadata": {
        "id": "d2r6Hxw-dcb8",
        "colab": {
          "base_uri": "https://localhost:8080/"
        },
        "outputId": "e16afb79-0878-4032-b293-703497d49f4c"
      },
      "execution_count": null,
      "outputs": [
        {
          "output_type": "stream",
          "name": "stdout",
          "text": [
            "10\n",
            "20\n",
            "55\n"
          ]
        }
      ]
    },
    {
      "cell_type": "code",
      "source": [
        "# Write a program to find how many times substring “Emma” appears in the given string.\n",
        "\n",
        "x = \"Emma is good developer. Emma is a writer\"\n",
        "c = x.count('Emma')\n",
        "print(c)\n"
      ],
      "metadata": {
        "id": "AApDH_PqdbjX",
        "colab": {
          "base_uri": "https://localhost:8080/"
        },
        "outputId": "9bac7a2b-dff5-40c0-c076-b2b08f676b3e"
      },
      "execution_count": 5,
      "outputs": [
        {
          "output_type": "stream",
          "name": "stdout",
          "text": [
            "2\n"
          ]
        }
      ]
    },
    {
      "cell_type": "code",
      "source": [
        "n = int(input('Enter a number: '))\n",
        "for i in range(1,n+1):\n",
        "  for j in range(1,i+1):\n",
        "    print(i, end='')\n",
        "  print()"
      ],
      "metadata": {
        "id": "DO03WTxTdbgA"
      },
      "execution_count": null,
      "outputs": []
    },
    {
      "cell_type": "code",
      "source": [
        "#Write a program to check if the given number is a palindrome number.\n",
        "\n",
        "num = int(input(\"Enter some number\"))\n",
        "s = num[::-1]\n",
        "for i in num:\n",
        "  if num == s:\n",
        "    print(\"palindrome\")\n",
        "  else:\n",
        "    print('not')"
      ],
      "metadata": {
        "id": "yN7peQhMdbcN",
        "colab": {
          "base_uri": "https://localhost:8080/",
          "height": 252
        },
        "outputId": "6ed18ae9-25a4-4187-a04f-ce5e15473b63"
      },
      "execution_count": 7,
      "outputs": [
        {
          "name": "stdout",
          "output_type": "stream",
          "text": [
            "Enter some number676\n"
          ]
        },
        {
          "output_type": "error",
          "ename": "TypeError",
          "evalue": "ignored",
          "traceback": [
            "\u001b[0;31m---------------------------------------------------------------------------\u001b[0m",
            "\u001b[0;31mTypeError\u001b[0m                                 Traceback (most recent call last)",
            "\u001b[0;32m<ipython-input-7-0c6e9e39a17a>\u001b[0m in \u001b[0;36m<module>\u001b[0;34m\u001b[0m\n\u001b[1;32m      2\u001b[0m \u001b[0;34m\u001b[0m\u001b[0m\n\u001b[1;32m      3\u001b[0m \u001b[0mnum\u001b[0m \u001b[0;34m=\u001b[0m \u001b[0mint\u001b[0m\u001b[0;34m(\u001b[0m\u001b[0minput\u001b[0m\u001b[0;34m(\u001b[0m\u001b[0;34m\"Enter some number\"\u001b[0m\u001b[0;34m)\u001b[0m\u001b[0;34m)\u001b[0m\u001b[0;34m\u001b[0m\u001b[0;34m\u001b[0m\u001b[0m\n\u001b[0;32m----> 4\u001b[0;31m \u001b[0ms\u001b[0m \u001b[0;34m=\u001b[0m \u001b[0mnum\u001b[0m\u001b[0;34m[\u001b[0m\u001b[0;34m:\u001b[0m\u001b[0;34m:\u001b[0m\u001b[0;34m-\u001b[0m\u001b[0;36m1\u001b[0m\u001b[0;34m]\u001b[0m\u001b[0;34m\u001b[0m\u001b[0;34m\u001b[0m\u001b[0m\n\u001b[0m\u001b[1;32m      5\u001b[0m \u001b[0;32mfor\u001b[0m \u001b[0mi\u001b[0m \u001b[0;32min\u001b[0m \u001b[0mnum\u001b[0m\u001b[0;34m:\u001b[0m\u001b[0;34m\u001b[0m\u001b[0;34m\u001b[0m\u001b[0m\n\u001b[1;32m      6\u001b[0m   \u001b[0;32mif\u001b[0m \u001b[0mnum\u001b[0m \u001b[0;34m==\u001b[0m \u001b[0ms\u001b[0m\u001b[0;34m:\u001b[0m\u001b[0;34m\u001b[0m\u001b[0;34m\u001b[0m\u001b[0m\n",
            "\u001b[0;31mTypeError\u001b[0m: 'int' object is not subscriptable"
          ]
        }
      ]
    },
    {
      "cell_type": "code",
      "source": [],
      "metadata": {
        "id": "xt4rEkZ3dbYz"
      },
      "execution_count": null,
      "outputs": []
    },
    {
      "cell_type": "code",
      "source": [],
      "metadata": {
        "id": "8mwo_KcZdbVl"
      },
      "execution_count": null,
      "outputs": []
    },
    {
      "cell_type": "markdown",
      "source": [
        "STRING-Q"
      ],
      "metadata": {
        "id": "h-JkR72r1HOG"
      }
    },
    {
      "cell_type": "code",
      "execution_count": null,
      "metadata": {
        "colab": {
          "base_uri": "https://localhost:8080/"
        },
        "id": "zJOOp4Nd098j",
        "outputId": "acf97f1b-f2d9-4404-e614-500b5731ba15"
      },
      "outputs": [
        {
          "output_type": "stream",
          "name": "stdout",
          "text": [
            "New String: mgb\n"
          ]
        }
      ],
      "source": [
        "# Write a program to create a new string made of an input string’s first, middle, and last character.\n",
        "\n",
        "s = 'mongodb'\n",
        "res = s[0]\n",
        "l = len(s)\n",
        "div = int(l/2)\n",
        "res = res + s[div]\n",
        "res = res + s[-1]\n",
        "print(\"New String:\", res)\n"
      ]
    },
    {
      "cell_type": "code",
      "source": [
        "# Write a program to create a new string made of the middle three characters of an input string.\n",
        "\n",
        "s = 'mongodb'\n",
        "l = len(s)\n",
        "div = int(l/2)\n",
        "div"
      ],
      "metadata": {
        "colab": {
          "base_uri": "https://localhost:8080/"
        },
        "id": "GazoWWsP1pwm",
        "outputId": "293c3a26-f6a2-478d-8290-96c0c24bfd75"
      },
      "execution_count": null,
      "outputs": [
        {
          "output_type": "execute_result",
          "data": {
            "text/plain": [
              "3"
            ]
          },
          "metadata": {},
          "execution_count": 6
        }
      ]
    },
    {
      "cell_type": "code",
      "source": [
        "# Given two strings, s1 and s2. Write a program to create a new string s3 by appending s2 in the middle of s1.\n",
        "\n",
        "s1 = \"Ault\"\n",
        "s2 = \"Kelly\"\n",
        "\n",
        "s3 = int(len(s1)/2)\n",
        "x = s1[:s3:]\n",
        "x = x + s2\n",
        "x = x + s1[s3:]\n",
        "print(x)"
      ],
      "metadata": {
        "id": "7vckhoU11puL",
        "colab": {
          "base_uri": "https://localhost:8080/"
        },
        "outputId": "f1de4f3e-40cf-4352-b3c6-aae260c93c06"
      },
      "execution_count": null,
      "outputs": [
        {
          "output_type": "stream",
          "name": "stdout",
          "text": [
            "AuKellylt\n"
          ]
        }
      ]
    },
    {
      "cell_type": "code",
      "source": [
        "# Given two strings, s1 and s2, write a program to return a new string made of s1 and s2’s first, middle, and last characters.???\n",
        "\n",
        "s1 = \"America\"\n",
        "s2 = \"Japan\"\n",
        "\n",
        "s3 = int(len(s1)/2)\n",
        "x = s1[:s3:]"
      ],
      "metadata": {
        "id": "3bIBZu_s1prT"
      },
      "execution_count": null,
      "outputs": []
    },
    {
      "cell_type": "code",
      "source": [
        "# Arrange string characters such that lowercase letters should come first\n",
        "\n",
        "s1 = \"PyNaTiveyuLO\"\n",
        "lower = []\n",
        "upper = []\n",
        "for i in s1:\n",
        "  if i.islower():\n",
        "    lower.append(i)\n",
        "  else:\n",
        "    upper.append(i)\n",
        "\n",
        "print(''.join(lower+upper))\n",
        "  \n",
        "\n"
      ],
      "metadata": {
        "id": "PxSuUdQl1poP",
        "colab": {
          "base_uri": "https://localhost:8080/"
        },
        "outputId": "2045f44e-328a-438a-857f-aed9ffa36bc7"
      },
      "execution_count": null,
      "outputs": [
        {
          "output_type": "stream",
          "name": "stdout",
          "text": [
            "yaiveyuPNTLO\n"
          ]
        }
      ]
    },
    {
      "cell_type": "code",
      "source": [
        "# Count all letters, digits, and special symbols from a given string\n",
        "\n",
        "s1 = \"P@#yn26at&^&i5ve\"\n",
        "Chars = 0 \n",
        "Digits = 0\n",
        "Symbol =0\n",
        "\n",
        "for ch in s1:\n",
        "  if ch.isalpha():\n",
        "    Chars +=1\n",
        "  elif ch.isdigit():\n",
        "    Digits +=1\n",
        "  else:\n",
        "    Symbol +=1\n",
        "\n",
        "print(Chars)\n",
        "print(Digits)\n",
        "print(Symbol)"
      ],
      "metadata": {
        "id": "KU8W0BKU1pls",
        "colab": {
          "base_uri": "https://localhost:8080/"
        },
        "outputId": "65331b84-a2ce-42ed-a94c-31bddf42fa9c"
      },
      "execution_count": null,
      "outputs": [
        {
          "output_type": "stream",
          "name": "stdout",
          "text": [
            "8\n",
            "3\n",
            "5\n"
          ]
        }
      ]
    },
    {
      "cell_type": "code",
      "source": [
        "'''Write a program to check if two strings are balanced. \n",
        "For example, strings s1 and s2 are balanced if all the characters in the s1 are present in s2. The character’s position doesn’t matter'''\n",
        "\n",
        "s1 = \"Ynt\"\n",
        "s2 = \"PYnative\"\n",
        "flag = True\n",
        "for i in s1:\n",
        "  if i in s2:\n",
        "    continue\n",
        "  else:\n",
        "    flag = False\n",
        "print(flag)"
      ],
      "metadata": {
        "id": "Ut8PrBxv1pjB",
        "colab": {
          "base_uri": "https://localhost:8080/"
        },
        "outputId": "28ee7ac0-758e-4451-dd04-b30db2067326"
      },
      "execution_count": null,
      "outputs": [
        {
          "output_type": "stream",
          "name": "stdout",
          "text": [
            "True\n"
          ]
        }
      ]
    },
    {
      "cell_type": "code",
      "source": [
        "#Write a program to find all occurrences of “USA” in a given string ignoring the case.\n",
        "\n",
        "s1 = \"Welcome to USA. usa awesome, isn't it?\"\n",
        "wrd = 'usa'\n",
        "s = s1.lower()\n",
        "count = s.count(wrd)\n",
        "print(count)\n"
      ],
      "metadata": {
        "id": "-WvSj-M21pf_",
        "colab": {
          "base_uri": "https://localhost:8080/"
        },
        "outputId": "81f06262-9f9b-4355-d065-229e2f1d7c89"
      },
      "execution_count": null,
      "outputs": [
        {
          "output_type": "stream",
          "name": "stdout",
          "text": [
            "2\n"
          ]
        }
      ]
    },
    {
      "cell_type": "code",
      "source": [
        "#Given a string s1, write a program to return the sum and average of the digits that appear in the string, ignoring all other characters.\n",
        "\n",
        "s1 = \"PYnative29@#8496\"\n",
        "tot = 0\n",
        "count = 0\n",
        "for num in s1:\n",
        "  if num.isdigit():\n",
        "    tot = tot + int(num)\n",
        "    count = count +1\n",
        "    avg = tot/count\n",
        "print(\"Sum is:\", tot, \"Average is \", avg)"
      ],
      "metadata": {
        "colab": {
          "base_uri": "https://localhost:8080/"
        },
        "id": "EFgp2Y8J7yQf",
        "outputId": "0731fa06-bcab-4c34-c3f7-627e5b399a50"
      },
      "execution_count": null,
      "outputs": [
        {
          "output_type": "stream",
          "name": "stdout",
          "text": [
            "Sum is: 38 Average is  6.333333333333333\n"
          ]
        }
      ]
    },
    {
      "cell_type": "code",
      "source": [
        "# Write a program to count occurrences of all characters within a string\n",
        "\n",
        "s1 = \"Apple\"\n",
        "chr_dict = dict()\n",
        "\n",
        "for ch in s1:\n",
        "  count = s1.count(ch)\n",
        "  chr_dict[ch]=count\n",
        "print('Result:', chr_dict)"
      ],
      "metadata": {
        "colab": {
          "base_uri": "https://localhost:8080/"
        },
        "id": "YuV9yDyz7yOE",
        "outputId": "19fee953-425e-41bc-adc2-55188ac19e00"
      },
      "execution_count": null,
      "outputs": [
        {
          "output_type": "stream",
          "name": "stdout",
          "text": [
            "Result: {'A': 1, 'p': 2, 'l': 1, 'e': 1}\n"
          ]
        }
      ]
    },
    {
      "cell_type": "code",
      "source": [
        "#Reverse a given string\n",
        "\n",
        "s1 = \"Apple\"\n",
        "s2 = s1[::-1]\n",
        "print(s2)"
      ],
      "metadata": {
        "colab": {
          "base_uri": "https://localhost:8080/"
        },
        "id": "H0PS7s6v7yLu",
        "outputId": "f5e24a89-b1ea-4181-bd05-70585bb01d02"
      },
      "execution_count": null,
      "outputs": [
        {
          "output_type": "stream",
          "name": "stdout",
          "text": [
            "elppA\n"
          ]
        }
      ]
    },
    {
      "cell_type": "code",
      "source": [
        "#Write a program to find the last position of a substring “Emma” in a given string.\n",
        "\n",
        "s1 = \"Emma is a data scientist who knows Python. Emma works at google.\"\n",
        "s2 = s1.rfind('Emma')\n",
        "print(\"Last occurrence of Emma starts at index:\", s2)\n"
      ],
      "metadata": {
        "id": "GfwL9BmT1pZy",
        "colab": {
          "base_uri": "https://localhost:8080/"
        },
        "outputId": "5efa24f9-681b-4153-8073-9cc61b26ddf2"
      },
      "execution_count": null,
      "outputs": [
        {
          "output_type": "stream",
          "name": "stdout",
          "text": [
            "Last occurrence of Emma starts at index: 43\n"
          ]
        }
      ]
    },
    {
      "cell_type": "code",
      "source": [
        "# Write a program to split a given string on hyphens and display each substring.\n",
        "s1 = \"Emma-is-a-data-scientist\"\n",
        "s2 = s1.split(\"-\")\n",
        "for s in s2:\n",
        "  print(s)\n",
        "\n"
      ],
      "metadata": {
        "id": "56e_7l-2EQXU",
        "colab": {
          "base_uri": "https://localhost:8080/"
        },
        "outputId": "d488bd9d-3e35-4860-d2ef-4ddc5582e71f"
      },
      "execution_count": null,
      "outputs": [
        {
          "output_type": "stream",
          "name": "stdout",
          "text": [
            "Emma\n",
            "is\n",
            "a\n",
            "data\n",
            "scientist\n"
          ]
        }
      ]
    },
    {
      "cell_type": "code",
      "source": [
        "# Remove empty strings from a list of strings\n",
        "\n",
        "#s1 = [\"Emma\", \"Jon\", \"\", \"Kelly\", None, \"Eric\", \"\"]\n",
        "#s2 = [i for i in s1 if i]\n",
        "#print(s2)\n",
        "\n",
        "# using filter\n",
        "\n",
        "s2 = list(filter(None, s1))\n",
        "print(s2)"
      ],
      "metadata": {
        "id": "xGeXXouhEQUS",
        "colab": {
          "base_uri": "https://localhost:8080/"
        },
        "outputId": "1260f34a-1d54-433b-81bb-8d584ae67fab"
      },
      "execution_count": null,
      "outputs": [
        {
          "output_type": "stream",
          "name": "stdout",
          "text": [
            "['Emma', 'Jon', 'Kelly', 'Eric']\n"
          ]
        }
      ]
    },
    {
      "cell_type": "code",
      "source": [
        "#Remove special symbols / punctuation from a string\n",
        "import re\n",
        "\n",
        "s1 = \"/*Jon is @developer & musician\"\n",
        "res = re.sub(r'[^\\w\\s]', '', s1)\n",
        "print(res)"
      ],
      "metadata": {
        "id": "dhnbz5gREQSS",
        "colab": {
          "base_uri": "https://localhost:8080/"
        },
        "outputId": "a554d04f-ef1e-4d18-93a7-8fc00324204b"
      },
      "execution_count": null,
      "outputs": [
        {
          "output_type": "stream",
          "name": "stdout",
          "text": [
            "Jon is developer  musician\n"
          ]
        }
      ]
    },
    {
      "cell_type": "code",
      "source": [
        "# Removal all characters from a string except integers\n",
        "\n",
        "str1 = 'I am 25 years and 10 months old'\n",
        "print(\"Original string is\", str1)\n",
        "\n",
        "# Retain Numbers in String\n",
        "# Using list comprehension + join() + isdigit()\n",
        "res = \"\".join([item for item in str1 if item.isdigit()])\n",
        "\n",
        "print(res)"
      ],
      "metadata": {
        "id": "I4Nt85BLEQDj"
      },
      "execution_count": null,
      "outputs": []
    },
    {
      "cell_type": "code",
      "source": [
        "# Write a program to find words with both alphabets and numbers from an input string.\n",
        "\n",
        "s1 = \"Emma25 is Data scientist50 and AI Expert\"\n",
        "res = []\n",
        "temp = s1.split()\n",
        "\n",
        "for item in temp:\n",
        "  if any(ch.isalpha() for ch in item) and any(ch.isdigit() for ch in item):\n",
        "    res.append(item)\n",
        "for i in res:\n",
        "    print(i)\n"
      ],
      "metadata": {
        "id": "T2S2JCefEQAM",
        "colab": {
          "base_uri": "https://localhost:8080/"
        },
        "outputId": "9168c6e8-555d-41b4-b052-44e640aae1d7"
      },
      "execution_count": null,
      "outputs": [
        {
          "output_type": "stream",
          "name": "stdout",
          "text": [
            "Emma25\n",
            "scientist50\n"
          ]
        }
      ]
    },
    {
      "cell_type": "code",
      "source": [
        "# Replace each special symbol with # in the following string\n",
        "import string\n",
        "s1 = '/*Jon is @developer & musician!!'\n",
        "replace_ch = '#'\n",
        "\n",
        "for ch in string.punctuation:\n",
        "  s1 = s1.replace(ch, replace_ch)\n",
        "print(s1)\n"
      ],
      "metadata": {
        "id": "gk7ksV75EP8t",
        "colab": {
          "base_uri": "https://localhost:8080/"
        },
        "outputId": "39640e91-f6ff-4694-eeb2-6de21bc864e8"
      },
      "execution_count": null,
      "outputs": [
        {
          "output_type": "stream",
          "name": "stdout",
          "text": [
            "##Jon is #developer # musician##\n"
          ]
        }
      ]
    },
    {
      "cell_type": "markdown",
      "source": [
        "**List-Q**"
      ],
      "metadata": {
        "id": "qKr4-V6bWPBJ"
      }
    },
    {
      "cell_type": "code",
      "source": [
        "# Reverse a list in Python\n",
        "\n",
        "l1 = [100, 200, 300, 400, 500]\n",
        "l2 = l1[::-1]\n",
        "l2\n",
        "\n",
        "# using reverse func\n",
        "l1.reverse()\n",
        "l1"
      ],
      "metadata": {
        "id": "wSZ1FesPP0Xw",
        "colab": {
          "base_uri": "https://localhost:8080/"
        },
        "outputId": "45a820aa-f925-4115-8fd2-075a13a89663"
      },
      "execution_count": null,
      "outputs": [
        {
          "output_type": "execute_result",
          "data": {
            "text/plain": [
              "[500, 400, 300, 200, 100]"
            ]
          },
          "metadata": {},
          "execution_count": 2
        }
      ]
    },
    {
      "cell_type": "code",
      "source": [
        "#Given a list of numbers. write a program to turn every item of a list into its square.\n",
        "\n",
        "num = [1, 2, 3, 4, 5, 6, 7]\n",
        "ls = [i*i for i in num]\n",
        "ls"
      ],
      "metadata": {
        "id": "jFrY7sukP0Rd",
        "colab": {
          "base_uri": "https://localhost:8080/"
        },
        "outputId": "ec318e2b-b0dd-42a3-ee8b-7d9bf9ec4843"
      },
      "execution_count": null,
      "outputs": [
        {
          "output_type": "execute_result",
          "data": {
            "text/plain": [
              "[1, 4, 9, 16, 25, 36, 49]"
            ]
          },
          "metadata": {},
          "execution_count": 7
        }
      ]
    },
    {
      "cell_type": "code",
      "source": [
        "# Concatenate two lists index-wise\n",
        "\n",
        "l1 = [\"M\", \"na\", \"i\", \"Ke\"]\n",
        "l2 = [\"y\", \"me\", \"s\", \"lly\"]\n",
        "\n",
        "l3 = [i+j for i, j in zip(l1,l2)]\n",
        "print(l3)"
      ],
      "metadata": {
        "id": "hpoyF4LwP0UH",
        "colab": {
          "base_uri": "https://localhost:8080/"
        },
        "outputId": "a82f3aba-6649-4fee-b210-cad82554d102"
      },
      "execution_count": null,
      "outputs": [
        {
          "output_type": "stream",
          "name": "stdout",
          "text": [
            "['My', 'name', 'is', 'Kelly']\n"
          ]
        }
      ]
    },
    {
      "cell_type": "code",
      "source": [
        "'''Concatenate two lists in the following order\n",
        "['Hello Dear', 'Hello Sir', 'take Dear', 'take Sir']'''\n",
        "\n",
        "l1 = [\"Hello \", \"take \"]\n",
        "l2 = [\"Dear\", \"Sir\"]\n",
        "\n",
        "l3 = [i+j for i in l1 for j in l2]\n",
        "l3"
      ],
      "metadata": {
        "id": "8jSUnlLeP0M-",
        "colab": {
          "base_uri": "https://localhost:8080/"
        },
        "outputId": "67b88e8a-77ea-4de0-d730-bd741fa3c61a"
      },
      "execution_count": null,
      "outputs": [
        {
          "output_type": "execute_result",
          "data": {
            "text/plain": [
              "['Hello Dear', 'Hello Sir', 'take Dear', 'take Sir']"
            ]
          },
          "metadata": {},
          "execution_count": 8
        }
      ]
    },
    {
      "cell_type": "code",
      "source": [
        "'''Given a two Python list. Write a program to iterate both lists simultaneously and display items from\n",
        " list1 in original order and items from list2 in reverse order'''\n",
        "\n",
        "l1 = [10, 20, 30, 40]\n",
        "l2 = [100, 200, 300, 400]\n",
        "for i,j in zip(l1,l2[::-1]):\n",
        "  print(i,j)"
      ],
      "metadata": {
        "id": "USK1YPNmP0I4",
        "colab": {
          "base_uri": "https://localhost:8080/"
        },
        "outputId": "bb7b3c2d-8798-4886-f165-5c619937a333"
      },
      "execution_count": null,
      "outputs": [
        {
          "output_type": "stream",
          "name": "stdout",
          "text": [
            "10 400\n",
            "20 300\n",
            "30 200\n",
            "40 100\n"
          ]
        }
      ]
    },
    {
      "cell_type": "code",
      "source": [
        "#Remove empty strings from the list of strings\n",
        "\n",
        "list1 = [\"Mike\", \"\", \"Emma\", \"Kelly\", \"\", \"Brad\"]\n",
        "#l2 = [i for i in list1 if i]\n",
        "#l2\n",
        "\n",
        "#using filter\n",
        "\n",
        "res = list(filter(None,list1))\n",
        "print(res)"
      ],
      "metadata": {
        "id": "C3uy23jJP0GU",
        "colab": {
          "base_uri": "https://localhost:8080/"
        },
        "outputId": "7df6b7b3-9d3d-44a4-e421-ea675f4d5523"
      },
      "execution_count": null,
      "outputs": [
        {
          "output_type": "stream",
          "name": "stdout",
          "text": [
            "['Mike', 'Emma', 'Kelly', 'Brad']\n"
          ]
        }
      ]
    },
    {
      "cell_type": "code",
      "source": [
        "#Write a program to add item 7000 after 6000 in the following Python List\n",
        "\n",
        "l1 = [10, 20, [300, 400, [5000, 6000], 500], 30, 40]\n",
        "l1[2][2].append(7000)\n",
        "l1"
      ],
      "metadata": {
        "id": "rk76sHQjP0Dd",
        "colab": {
          "base_uri": "https://localhost:8080/"
        },
        "outputId": "b858eeaa-69b1-49e5-a7d6-fb1c60aee919"
      },
      "execution_count": null,
      "outputs": [
        {
          "output_type": "execute_result",
          "data": {
            "text/plain": [
              "[10, 20, [300, 400, [5000, 6000, 7000], 500], 30, 40]"
            ]
          },
          "metadata": {},
          "execution_count": 5
        }
      ]
    },
    {
      "cell_type": "code",
      "source": [
        "#You have given a nested list. Write a program to extend it by adding the sublist [\"h\", \"i\", \"j\"] \n",
        "\n",
        "l1 = [\"a\", \"b\", [\"c\", [\"d\", \"e\", [\"f\", \"g\"], \"k\"], \"l\"], \"m\", \"n\"]\n",
        "sub_list = [\"h\", \"i\", \"j\"]\n",
        "l1[2][1][2].extend(sub_list)\n",
        "l1"
      ],
      "metadata": {
        "id": "RwhyhhyzP0Ac",
        "colab": {
          "base_uri": "https://localhost:8080/"
        },
        "outputId": "4129fc78-db0e-4c26-9dd9-225d50550f1c"
      },
      "execution_count": null,
      "outputs": [
        {
          "output_type": "execute_result",
          "data": {
            "text/plain": [
              "['a', 'b', ['c', ['d', 'e', ['f', 'g', 'h', 'i', 'j'], 'k'], 'l'], 'm', 'n']"
            ]
          },
          "metadata": {},
          "execution_count": 9
        }
      ]
    },
    {
      "cell_type": "code",
      "source": [
        "#Write a program to find value 20 in the list, and if it is present, replace it with 200. Only update the first occurrence of an item\n",
        "\n",
        "l1 = [5, 10, 15, 20, 25, 50, 20]\n",
        "ind = l1.index(20)\n",
        "l1[ind]= 200\n",
        "print(l1)"
      ],
      "metadata": {
        "colab": {
          "base_uri": "https://localhost:8080/"
        },
        "id": "8G9OSyMjv7wi",
        "outputId": "3c4472eb-0dca-42a7-844e-a52fc3c1fece"
      },
      "execution_count": null,
      "outputs": [
        {
          "output_type": "stream",
          "name": "stdout",
          "text": [
            "[5, 10, 15, 200, 25, 50, 20]\n"
          ]
        }
      ]
    },
    {
      "cell_type": "code",
      "source": [
        "#Given a Python list, write a program to remove all occurrences of item 20.\n",
        "\n",
        "l1 = [5, 20, 15, 20, 25, 50, 20]\n",
        "for num in l1:\n",
        "  if num == 20:\n",
        "    l1.remove(20)\n",
        "print(l1)\n",
        "\n",
        "# using while\n",
        "\n",
        "while 20 in l1:\n",
        "  l1.remove(20)\n",
        "print(l1)\n",
        "\n"
      ],
      "metadata": {
        "colab": {
          "base_uri": "https://localhost:8080/"
        },
        "id": "Qtiw0Ce7v7tS",
        "outputId": "03019b2b-321e-44d2-fecb-5b7e51c019e2"
      },
      "execution_count": null,
      "outputs": [
        {
          "output_type": "stream",
          "name": "stdout",
          "text": [
            "[5, 15, 25, 50]\n",
            "[5, 15, 25, 50]\n"
          ]
        }
      ]
    },
    {
      "cell_type": "code",
      "source": [],
      "metadata": {
        "id": "kcS_2Abnv7qL"
      },
      "execution_count": null,
      "outputs": []
    },
    {
      "cell_type": "code",
      "source": [],
      "metadata": {
        "id": "_zKQOzcfv7nP"
      },
      "execution_count": null,
      "outputs": []
    }
  ]
}