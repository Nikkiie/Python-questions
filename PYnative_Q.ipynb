{
  "nbformat": 4,
  "nbformat_minor": 0,
  "metadata": {
    "colab": {
      "provenance": [],
      "mount_file_id": "1Eg5g_9joBrotYkbSFKQLDTbxIIM28KIl",
      "authorship_tag": "ABX9TyNvAQ4l/RLatXgW64x803FS",
      "include_colab_link": true
    },
    "kernelspec": {
      "name": "python3",
      "display_name": "Python 3"
    },
    "language_info": {
      "name": "python"
    }
  },
  "cells": [
    {
      "cell_type": "markdown",
      "metadata": {
        "id": "view-in-github",
        "colab_type": "text"
      },
      "source": [
        "<a href=\"https://colab.research.google.com/github/Nikkiie/Python-questions/blob/main/PYnative_Q.ipynb\" target=\"_parent\"><img src=\"https://colab.research.google.com/assets/colab-badge.svg\" alt=\"Open In Colab\"/></a>"
      ]
    },
    {
      "cell_type": "markdown",
      "source": [
        "**Exercise for Beginners**"
      ],
      "metadata": {
        "id": "lfF6pYtgddEp"
      }
    },
    {
      "cell_type": "code",
      "source": [
        "#Given two integer numbers return their product only if the product is equal to or lower than 1000, else return their sum.\n",
        "# my way\n",
        "'''\n",
        "n1 = 40\n",
        "n2 = 30\n",
        "\n",
        "if n1*n2 <= 1000:\n",
        "  print(n1*n2)\n",
        "else:\n",
        "  print(n1+n2)'''\n",
        "\n",
        "#using function\n",
        "\n",
        "def func(n1,n2):\n",
        "  pro = n1*n2\n",
        "  sum = n1+n2\n",
        "  if pro <= 1000:\n",
        "    return pro\n",
        "  else:\n",
        "   return sum\n",
        "\n",
        "print(func(20,30))"
      ],
      "metadata": {
        "colab": {
          "base_uri": "https://localhost:8080/"
        },
        "id": "W9ewRs46dcwI",
        "outputId": "573bb9f9-2f82-4de2-8570-b60aa2a5a205"
      },
      "execution_count": null,
      "outputs": [
        {
          "output_type": "stream",
          "name": "stdout",
          "text": [
            "600\n"
          ]
        }
      ]
    },
    {
      "cell_type": "code",
      "source": [
        "#Write a program to iterate the first 10 numbers and in each iteration, print the sum of the current and previous number.\n",
        "\n",
        "num = 0\n",
        "for i in range(0,10):\n",
        "  sum = num+i\n",
        "  print(\"Current Number\", i, \"Previous Number \", num, \" Sum: \", sum)\n",
        "  num = i"
      ],
      "metadata": {
        "colab": {
          "base_uri": "https://localhost:8080/"
        },
        "id": "fmo57aRfdcr7",
        "outputId": "49ecc41d-da6d-4afd-854e-a499c1325030"
      },
      "execution_count": null,
      "outputs": [
        {
          "output_type": "stream",
          "name": "stdout",
          "text": [
            "Current Number 0 Previous Number  0  Sum:  0\n",
            "Current Number 1 Previous Number  0  Sum:  1\n",
            "Current Number 2 Previous Number  1  Sum:  3\n",
            "Current Number 3 Previous Number  2  Sum:  5\n",
            "Current Number 4 Previous Number  3  Sum:  7\n",
            "Current Number 5 Previous Number  4  Sum:  9\n",
            "Current Number 6 Previous Number  5  Sum:  11\n",
            "Current Number 7 Previous Number  6  Sum:  13\n",
            "Current Number 8 Previous Number  7  Sum:  15\n",
            "Current Number 9 Previous Number  8  Sum:  17\n"
          ]
        }
      ]
    },
    {
      "cell_type": "code",
      "source": [
        "#Write a program to accept a string from the user and display characters that are present at an even index number.\n",
        "\n",
        "g = input('Enter a string:::)))')\n",
        "length = len(g)\n",
        "for i in range(0,length-1,2):\n",
        "  print(g[i])\n"
      ],
      "metadata": {
        "colab": {
          "base_uri": "https://localhost:8080/"
        },
        "id": "MNzAwss3dcpb",
        "outputId": "dfdf4868-61ee-4814-9a3f-75a04cf6795a"
      },
      "execution_count": null,
      "outputs": [
        {
          "output_type": "stream",
          "name": "stdout",
          "text": [
            "Enter a stringtruionj\n",
            "t\n",
            "u\n",
            "o\n"
          ]
        }
      ]
    },
    {
      "cell_type": "code",
      "source": [
        "#Write a program to remove characters from a string starting from zero up to n and return a new string??????\n",
        "\n",
        "remove_chars= \"pynative\"\n",
        "n = 12\n",
        "\n",
        "if n< len(remove_chars):\n",
        "  s = remove_chars[4:]\n",
        "print(s)"
      ],
      "metadata": {
        "id": "JpZEDn_RdcmS",
        "colab": {
          "base_uri": "https://localhost:8080/"
        },
        "outputId": "bff8e16d-ab90-41d3-8c84-a73b261567d6"
      },
      "execution_count": null,
      "outputs": [
        {
          "output_type": "stream",
          "name": "stdout",
          "text": [
            "tive\n"
          ]
        }
      ]
    },
    {
      "cell_type": "code",
      "source": [
        "# Write a function to return True if the first and last number of a given list is same. If numbers are different then return False.\n",
        "\n",
        "def fir_last(numList):\n",
        "  first_num = numList[0]\n",
        "  last_num = numList[-1]\n",
        "\n",
        "  if first_num==last_num:\n",
        "    return True\n",
        "  else:\n",
        "    return False\n",
        "\n",
        "num_x = [10, 20, 30, 40, 10]\n",
        "print(\"result is\", fir_last(num_x))\n",
        "\n",
        "num_y = [75, 65, 35, 75, 30]\n",
        "print(\"result is\", fir_last(num_y))\n",
        "\n",
        "\n"
      ],
      "metadata": {
        "id": "YLrVXd7vdcfm",
        "colab": {
          "base_uri": "https://localhost:8080/"
        },
        "outputId": "eb188230-ed2c-4432-9c4b-ba9702528f90"
      },
      "execution_count": null,
      "outputs": [
        {
          "output_type": "stream",
          "name": "stdout",
          "text": [
            "result is True\n",
            "result is False\n"
          ]
        }
      ]
    },
    {
      "cell_type": "code",
      "source": [
        "#Iterate the given list of numbers and print only those numbers which are divisible by 5\n",
        "\n",
        "l1= [10, 20, 33, 46, 55]\n",
        "for i in l1:\n",
        "  if i%5==0:\n",
        "    print(i)"
      ],
      "metadata": {
        "id": "d2r6Hxw-dcb8",
        "colab": {
          "base_uri": "https://localhost:8080/"
        },
        "outputId": "e16afb79-0878-4032-b293-703497d49f4c"
      },
      "execution_count": null,
      "outputs": [
        {
          "output_type": "stream",
          "name": "stdout",
          "text": [
            "10\n",
            "20\n",
            "55\n"
          ]
        }
      ]
    },
    {
      "cell_type": "code",
      "source": [
        "# Write a program to find how many times substring “Emma” appears in the given string.\n",
        "\n",
        "x = \"Emma is good developer. Emma is a writer\"\n",
        "c = x.count('Emma')\n",
        "print(c)\n"
      ],
      "metadata": {
        "id": "AApDH_PqdbjX",
        "colab": {
          "base_uri": "https://localhost:8080/"
        },
        "outputId": "9bac7a2b-dff5-40c0-c076-b2b08f676b3e"
      },
      "execution_count": null,
      "outputs": [
        {
          "output_type": "stream",
          "name": "stdout",
          "text": [
            "2\n"
          ]
        }
      ]
    },
    {
      "cell_type": "code",
      "source": [
        "n = int(input('Enter a number: '))\n",
        "for i in range(1,n+1):\n",
        "  for j in range(1,i+1):\n",
        "    print(i, end='')\n",
        "  print()"
      ],
      "metadata": {
        "id": "DO03WTxTdbgA"
      },
      "execution_count": null,
      "outputs": []
    },
    {
      "cell_type": "code",
      "source": [
        "#Write a program to check if the given number is a palindrome number.\n",
        "\n",
        "num = input(\"Enter a number\")\n",
        "if num == num[::-1]:\n",
        "    print(\"Yes its a palindrome\")\n",
        "else:\n",
        "    print(\"No, its not a palindrome\")"
      ],
      "metadata": {
        "id": "yN7peQhMdbcN",
        "colab": {
          "base_uri": "https://localhost:8080/"
        },
        "outputId": "389cd7f2-8ac4-4e8c-d614-20481c882252"
      },
      "execution_count": null,
      "outputs": [
        {
          "output_type": "stream",
          "name": "stdout",
          "text": [
            "Enter a number6789\n",
            "No, its not a palindrome\n"
          ]
        }
      ]
    },
    {
      "cell_type": "code",
      "source": [
        "'''Given a two list of numbers, write a program to create a new list such that the new list\n",
        " should contain odd numbers from the first list and even numbers from the second list.'''\n",
        "\n",
        "l1 = [10, 20, 25, 30, 77, 35]\n",
        "l2 = [40, 45, 60, 75, 90]\n",
        "l3 = []\n",
        "for i in l1:\n",
        "  if i%2==1:\n",
        "    l3.append(i)\n",
        "for i in l2:\n",
        "  if i%2==0:\n",
        "    l3.append(i)\n",
        "print(l3)\n",
        "      \n",
        "  "
      ],
      "metadata": {
        "id": "xt4rEkZ3dbYz",
        "colab": {
          "base_uri": "https://localhost:8080/"
        },
        "outputId": "2863ab0b-cf4c-4924-acd7-22b97f9dd3a7"
      },
      "execution_count": null,
      "outputs": [
        {
          "output_type": "stream",
          "name": "stdout",
          "text": [
            "[25, 77, 35, 40, 60, 90]\n"
          ]
        }
      ]
    },
    {
      "cell_type": "code",
      "source": [
        "# Write a Program to extract each digit from an integer in the reverse order.\n",
        "\n",
        "number = 7536\n",
        "print(\"Given number\", number)\n",
        "while number > 0:\n",
        "    # get the last digit\n",
        "    digit = number % 10\n",
        "    # remove the last digit and repeat the loop\n",
        "    number = number // 10\n",
        "    print(digit, end=\" \")\n",
        "\n"
      ],
      "metadata": {
        "id": "8mwo_KcZdbVl",
        "colab": {
          "base_uri": "https://localhost:8080/"
        },
        "outputId": "f35b57d9-3f59-4cc0-dcc4-ec1010dcb0e8"
      },
      "execution_count": null,
      "outputs": [
        {
          "output_type": "stream",
          "name": "stdout",
          "text": [
            "Given number 7536\n",
            "6 3 5 7 "
          ]
        }
      ]
    },
    {
      "cell_type": "code",
      "source": [
        "#Print multiplication table form 1 to 10\n",
        "for i in range(1,11):\n",
        "  for j in range(1,11):\n",
        "    print(i*j, end = ' ')\n",
        "  print(\"\\t\\t\")"
      ],
      "metadata": {
        "colab": {
          "base_uri": "https://localhost:8080/"
        },
        "id": "0Fr7MltTWYWp",
        "outputId": "1ccee434-065e-473e-bb78-ab0ce6e8fa40"
      },
      "execution_count": null,
      "outputs": [
        {
          "output_type": "stream",
          "name": "stdout",
          "text": [
            "1 2 3 4 5 6 7 8 9 10 \t\t\n",
            "2 4 6 8 10 12 14 16 18 20 \t\t\n",
            "3 6 9 12 15 18 21 24 27 30 \t\t\n",
            "4 8 12 16 20 24 28 32 36 40 \t\t\n",
            "5 10 15 20 25 30 35 40 45 50 \t\t\n",
            "6 12 18 24 30 36 42 48 54 60 \t\t\n",
            "7 14 21 28 35 42 49 56 63 70 \t\t\n",
            "8 16 24 32 40 48 56 64 72 80 \t\t\n",
            "9 18 27 36 45 54 63 72 81 90 \t\t\n",
            "10 20 30 40 50 60 70 80 90 100 \t\t\n"
          ]
        }
      ]
    },
    {
      "cell_type": "code",
      "source": [],
      "metadata": {
        "id": "YpZ9yLH-WZZJ"
      },
      "execution_count": null,
      "outputs": []
    },
    {
      "cell_type": "code",
      "source": [],
      "metadata": {
        "id": "8nt4nZGbWZVp"
      },
      "execution_count": null,
      "outputs": []
    },
    {
      "cell_type": "code",
      "source": [],
      "metadata": {
        "id": "2ZqQlnuXWZR_"
      },
      "execution_count": null,
      "outputs": []
    },
    {
      "cell_type": "markdown",
      "source": [
        "STRING-Q"
      ],
      "metadata": {
        "id": "h-JkR72r1HOG"
      }
    },
    {
      "cell_type": "code",
      "execution_count": null,
      "metadata": {
        "colab": {
          "base_uri": "https://localhost:8080/"
        },
        "id": "zJOOp4Nd098j",
        "outputId": "acf97f1b-f2d9-4404-e614-500b5731ba15"
      },
      "outputs": [
        {
          "output_type": "stream",
          "name": "stdout",
          "text": [
            "New String: mgb\n"
          ]
        }
      ],
      "source": [
        "# Write a program to create a new string made of an input string’s first, middle, and last character.\n",
        "\n",
        "s = 'mongodb'\n",
        "res = s[0]\n",
        "l = len(s)\n",
        "div = int(l/2)\n",
        "res = res + s[div]\n",
        "res = res + s[-1]\n",
        "print(\"New String:\", res)\n"
      ]
    },
    {
      "cell_type": "code",
      "source": [
        "# Write a program to create a new string made of the middle three characters of an input string.\n",
        "\n",
        "s = 'mongodb'\n",
        "l = len(s)\n",
        "div = int(l/2)\n",
        "div"
      ],
      "metadata": {
        "colab": {
          "base_uri": "https://localhost:8080/"
        },
        "id": "GazoWWsP1pwm",
        "outputId": "293c3a26-f6a2-478d-8290-96c0c24bfd75"
      },
      "execution_count": null,
      "outputs": [
        {
          "output_type": "execute_result",
          "data": {
            "text/plain": [
              "3"
            ]
          },
          "metadata": {},
          "execution_count": 6
        }
      ]
    },
    {
      "cell_type": "code",
      "source": [
        "# Given two strings, s1 and s2. Write a program to create a new string s3 by appending s2 in the middle of s1.\n",
        "\n",
        "s1 = \"Ault\"\n",
        "s2 = \"Kelly\"\n",
        "\n",
        "s3 = int(len(s1)/2)\n",
        "x = s1[:s3:]\n",
        "x = x + s2\n",
        "x = x + s1[s3:]\n",
        "print(x)"
      ],
      "metadata": {
        "id": "7vckhoU11puL",
        "colab": {
          "base_uri": "https://localhost:8080/"
        },
        "outputId": "f1de4f3e-40cf-4352-b3c6-aae260c93c06"
      },
      "execution_count": null,
      "outputs": [
        {
          "output_type": "stream",
          "name": "stdout",
          "text": [
            "AuKellylt\n"
          ]
        }
      ]
    },
    {
      "cell_type": "code",
      "source": [
        "# Given two strings, s1 and s2, write a program to return a new string made of s1 and s2’s first, middle, and last characters.???\n",
        "\n",
        "s1 = \"America\"\n",
        "s2 = \"Japan\"\n",
        "\n",
        "s3 = int(len(s1)/2)\n",
        "x = s1[:s3:]"
      ],
      "metadata": {
        "id": "3bIBZu_s1prT"
      },
      "execution_count": null,
      "outputs": []
    },
    {
      "cell_type": "code",
      "source": [
        "# Arrange string characters such that lowercase letters should come first\n",
        "\n",
        "s1 = \"PyNaTiveyuLO\"\n",
        "lower = []\n",
        "upper = []\n",
        "for i in s1:\n",
        "  if i.islower():\n",
        "    lower.append(i)\n",
        "  else:\n",
        "    upper.append(i)\n",
        "\n",
        "print(''.join(lower+upper))\n",
        "  \n",
        "\n"
      ],
      "metadata": {
        "id": "PxSuUdQl1poP",
        "colab": {
          "base_uri": "https://localhost:8080/"
        },
        "outputId": "2045f44e-328a-438a-857f-aed9ffa36bc7"
      },
      "execution_count": null,
      "outputs": [
        {
          "output_type": "stream",
          "name": "stdout",
          "text": [
            "yaiveyuPNTLO\n"
          ]
        }
      ]
    },
    {
      "cell_type": "code",
      "source": [
        "# Count all letters, digits, and special symbols from a given string\n",
        "\n",
        "s1 = \"P@#yn26at&^&i5ve\"\n",
        "Chars = 0 \n",
        "Digits = 0\n",
        "Symbol =0\n",
        "\n",
        "for ch in s1:\n",
        "  if ch.isalpha():\n",
        "    Chars +=1\n",
        "  elif ch.isdigit():\n",
        "    Digits +=1\n",
        "  else:\n",
        "    Symbol +=1\n",
        "\n",
        "print(Chars)\n",
        "print(Digits)\n",
        "print(Symbol)"
      ],
      "metadata": {
        "id": "KU8W0BKU1pls",
        "colab": {
          "base_uri": "https://localhost:8080/"
        },
        "outputId": "65331b84-a2ce-42ed-a94c-31bddf42fa9c"
      },
      "execution_count": null,
      "outputs": [
        {
          "output_type": "stream",
          "name": "stdout",
          "text": [
            "8\n",
            "3\n",
            "5\n"
          ]
        }
      ]
    },
    {
      "cell_type": "code",
      "source": [
        "'''Write a program to check if two strings are balanced. \n",
        "For example, strings s1 and s2 are balanced if all the characters in the s1 are present in s2. The character’s position doesn’t matter'''\n",
        "\n",
        "s1 = \"Ynt\"\n",
        "s2 = \"PYnative\"\n",
        "flag = True\n",
        "for i in s1:\n",
        "  if i in s2:\n",
        "    continue\n",
        "  else:\n",
        "    flag = False\n",
        "print(flag)"
      ],
      "metadata": {
        "id": "Ut8PrBxv1pjB",
        "colab": {
          "base_uri": "https://localhost:8080/"
        },
        "outputId": "28ee7ac0-758e-4451-dd04-b30db2067326"
      },
      "execution_count": null,
      "outputs": [
        {
          "output_type": "stream",
          "name": "stdout",
          "text": [
            "True\n"
          ]
        }
      ]
    },
    {
      "cell_type": "code",
      "source": [
        "#Write a program to find all occurrences of “USA” in a given string ignoring the case.\n",
        "\n",
        "s1 = \"Welcome to USA. usa awesome, isn't it?\"\n",
        "wrd = 'usa'\n",
        "s = s1.lower()\n",
        "count = s.count(wrd)\n",
        "print(count)\n"
      ],
      "metadata": {
        "id": "-WvSj-M21pf_",
        "colab": {
          "base_uri": "https://localhost:8080/"
        },
        "outputId": "81f06262-9f9b-4355-d065-229e2f1d7c89"
      },
      "execution_count": null,
      "outputs": [
        {
          "output_type": "stream",
          "name": "stdout",
          "text": [
            "2\n"
          ]
        }
      ]
    },
    {
      "cell_type": "code",
      "source": [
        "#Given a string s1, write a program to return the sum and average of the digits that appear in the string, ignoring all other characters.\n",
        "\n",
        "s1 = \"PYnative29@#8496\"\n",
        "tot = 0\n",
        "count = 0\n",
        "for num in s1:\n",
        "  if num.isdigit():\n",
        "    tot = tot + int(num)\n",
        "    count = count +1\n",
        "    avg = tot/count\n",
        "print(\"Sum is:\", tot, \"Average is \", avg)"
      ],
      "metadata": {
        "colab": {
          "base_uri": "https://localhost:8080/"
        },
        "id": "EFgp2Y8J7yQf",
        "outputId": "0731fa06-bcab-4c34-c3f7-627e5b399a50"
      },
      "execution_count": null,
      "outputs": [
        {
          "output_type": "stream",
          "name": "stdout",
          "text": [
            "Sum is: 38 Average is  6.333333333333333\n"
          ]
        }
      ]
    },
    {
      "cell_type": "code",
      "source": [
        "# Write a program to count occurrences of all characters within a string\n",
        "\n",
        "s1 = \"Apple\"\n",
        "chr_dict = dict()\n",
        "\n",
        "for ch in s1:\n",
        "  count = s1.count(ch)\n",
        "  chr_dict[ch]=count\n",
        "print('Result:', chr_dict)"
      ],
      "metadata": {
        "colab": {
          "base_uri": "https://localhost:8080/"
        },
        "id": "YuV9yDyz7yOE",
        "outputId": "19fee953-425e-41bc-adc2-55188ac19e00"
      },
      "execution_count": null,
      "outputs": [
        {
          "output_type": "stream",
          "name": "stdout",
          "text": [
            "Result: {'A': 1, 'p': 2, 'l': 1, 'e': 1}\n"
          ]
        }
      ]
    },
    {
      "cell_type": "code",
      "source": [
        "#Reverse a given string\n",
        "\n",
        "s1 = \"Apple\"\n",
        "s2 = s1[::-1]\n",
        "print(s2)"
      ],
      "metadata": {
        "colab": {
          "base_uri": "https://localhost:8080/"
        },
        "id": "H0PS7s6v7yLu",
        "outputId": "f5e24a89-b1ea-4181-bd05-70585bb01d02"
      },
      "execution_count": null,
      "outputs": [
        {
          "output_type": "stream",
          "name": "stdout",
          "text": [
            "elppA\n"
          ]
        }
      ]
    },
    {
      "cell_type": "code",
      "source": [
        "#Write a program to find the last position of a substring “Emma” in a given string.\n",
        "\n",
        "s1 = \"Emma is a data scientist who knows Python. Emma works at google.\"\n",
        "s2 = s1.rfind('Emma')\n",
        "print(\"Last occurrence of Emma starts at index:\", s2)\n"
      ],
      "metadata": {
        "id": "GfwL9BmT1pZy",
        "colab": {
          "base_uri": "https://localhost:8080/"
        },
        "outputId": "5efa24f9-681b-4153-8073-9cc61b26ddf2"
      },
      "execution_count": null,
      "outputs": [
        {
          "output_type": "stream",
          "name": "stdout",
          "text": [
            "Last occurrence of Emma starts at index: 43\n"
          ]
        }
      ]
    },
    {
      "cell_type": "code",
      "source": [
        "# Write a program to split a given string on hyphens and display each substring.\n",
        "s1 = \"Emma-is-a-data-scientist\"\n",
        "s2 = s1.split(\"-\")\n",
        "for s in s2:\n",
        "  print(s)\n",
        "\n"
      ],
      "metadata": {
        "id": "56e_7l-2EQXU",
        "colab": {
          "base_uri": "https://localhost:8080/"
        },
        "outputId": "d488bd9d-3e35-4860-d2ef-4ddc5582e71f"
      },
      "execution_count": null,
      "outputs": [
        {
          "output_type": "stream",
          "name": "stdout",
          "text": [
            "Emma\n",
            "is\n",
            "a\n",
            "data\n",
            "scientist\n"
          ]
        }
      ]
    },
    {
      "cell_type": "code",
      "source": [
        "# Remove empty strings from a list of strings\n",
        "\n",
        "#s1 = [\"Emma\", \"Jon\", \"\", \"Kelly\", None, \"Eric\", \"\"]\n",
        "#s2 = [i for i in s1 if i]\n",
        "#print(s2)\n",
        "\n",
        "# using filter\n",
        "\n",
        "s2 = list(filter(None, s1))\n",
        "print(s2)"
      ],
      "metadata": {
        "id": "xGeXXouhEQUS",
        "colab": {
          "base_uri": "https://localhost:8080/"
        },
        "outputId": "1260f34a-1d54-433b-81bb-8d584ae67fab"
      },
      "execution_count": null,
      "outputs": [
        {
          "output_type": "stream",
          "name": "stdout",
          "text": [
            "['Emma', 'Jon', 'Kelly', 'Eric']\n"
          ]
        }
      ]
    },
    {
      "cell_type": "code",
      "source": [
        "#Remove special symbols / punctuation from a string\n",
        "import re\n",
        "\n",
        "s1 = \"/*Jon is @developer & musician\"\n",
        "res = re.sub(r'[^\\w\\s]', '', s1)\n",
        "print(res)"
      ],
      "metadata": {
        "id": "dhnbz5gREQSS",
        "colab": {
          "base_uri": "https://localhost:8080/"
        },
        "outputId": "a554d04f-ef1e-4d18-93a7-8fc00324204b"
      },
      "execution_count": null,
      "outputs": [
        {
          "output_type": "stream",
          "name": "stdout",
          "text": [
            "Jon is developer  musician\n"
          ]
        }
      ]
    },
    {
      "cell_type": "code",
      "source": [
        "# Removal all characters from a string except integers\n",
        "\n",
        "str1 = 'I am 25 years and 10 months old'\n",
        "print(\"Original string is\", str1)\n",
        "\n",
        "# Retain Numbers in String\n",
        "# Using list comprehension + join() + isdigit()\n",
        "res = \"\".join([item for item in str1 if item.isdigit()])\n",
        "\n",
        "print(res)"
      ],
      "metadata": {
        "id": "I4Nt85BLEQDj"
      },
      "execution_count": null,
      "outputs": []
    },
    {
      "cell_type": "code",
      "source": [
        "# Write a program to find words with both alphabets and numbers from an input string.\n",
        "\n",
        "s1 = \"Emma25 is Data scientist50 and AI Expert\"\n",
        "res = []\n",
        "temp = s1.split()\n",
        "\n",
        "for item in temp:\n",
        "  if any(ch.isalpha() for ch in item) and any(ch.isdigit() for ch in item):\n",
        "    res.append(item)\n",
        "for i in res:\n",
        "    print(i)\n"
      ],
      "metadata": {
        "id": "T2S2JCefEQAM",
        "colab": {
          "base_uri": "https://localhost:8080/"
        },
        "outputId": "9168c6e8-555d-41b4-b052-44e640aae1d7"
      },
      "execution_count": null,
      "outputs": [
        {
          "output_type": "stream",
          "name": "stdout",
          "text": [
            "Emma25\n",
            "scientist50\n"
          ]
        }
      ]
    },
    {
      "cell_type": "code",
      "source": [
        "# Replace each special symbol with # in the following string\n",
        "import string\n",
        "s1 = '/*Jon is @developer & musician!!'\n",
        "replace_ch = '#'\n",
        "\n",
        "for ch in string.punctuation:\n",
        "  s1 = s1.replace(ch, replace_ch)\n",
        "print(s1)\n"
      ],
      "metadata": {
        "id": "gk7ksV75EP8t",
        "colab": {
          "base_uri": "https://localhost:8080/"
        },
        "outputId": "39640e91-f6ff-4694-eeb2-6de21bc864e8"
      },
      "execution_count": null,
      "outputs": [
        {
          "output_type": "stream",
          "name": "stdout",
          "text": [
            "##Jon is #developer # musician##\n"
          ]
        }
      ]
    },
    {
      "cell_type": "markdown",
      "source": [
        "**List-Q**"
      ],
      "metadata": {
        "id": "qKr4-V6bWPBJ"
      }
    },
    {
      "cell_type": "code",
      "source": [
        "# Reverse a list in Python\n",
        "\n",
        "l1 = [100, 200, 300, 400, 500]\n",
        "l2 = l1[::-1]\n",
        "l2\n",
        "\n",
        "# using reverse func\n",
        "l1.reverse()\n",
        "l1"
      ],
      "metadata": {
        "id": "wSZ1FesPP0Xw",
        "colab": {
          "base_uri": "https://localhost:8080/"
        },
        "outputId": "45a820aa-f925-4115-8fd2-075a13a89663"
      },
      "execution_count": null,
      "outputs": [
        {
          "output_type": "execute_result",
          "data": {
            "text/plain": [
              "[500, 400, 300, 200, 100]"
            ]
          },
          "metadata": {},
          "execution_count": 2
        }
      ]
    },
    {
      "cell_type": "code",
      "source": [
        "#Given a list of numbers. write a program to turn every item of a list into its square.\n",
        "\n",
        "num = [1, 2, 3, 4, 5, 6, 7]\n",
        "ls = [i*i for i in num]\n",
        "ls"
      ],
      "metadata": {
        "id": "jFrY7sukP0Rd",
        "colab": {
          "base_uri": "https://localhost:8080/"
        },
        "outputId": "ec318e2b-b0dd-42a3-ee8b-7d9bf9ec4843"
      },
      "execution_count": null,
      "outputs": [
        {
          "output_type": "execute_result",
          "data": {
            "text/plain": [
              "[1, 4, 9, 16, 25, 36, 49]"
            ]
          },
          "metadata": {},
          "execution_count": 7
        }
      ]
    },
    {
      "cell_type": "code",
      "source": [
        "# Concatenate two lists index-wise\n",
        "\n",
        "l1 = [\"M\", \"na\", \"i\", \"Ke\"]\n",
        "l2 = [\"y\", \"me\", \"s\", \"lly\"]\n",
        "\n",
        "l3 = [i+j for i, j in zip(l1,l2)]\n",
        "print(l3)"
      ],
      "metadata": {
        "id": "hpoyF4LwP0UH",
        "colab": {
          "base_uri": "https://localhost:8080/"
        },
        "outputId": "a82f3aba-6649-4fee-b210-cad82554d102"
      },
      "execution_count": null,
      "outputs": [
        {
          "output_type": "stream",
          "name": "stdout",
          "text": [
            "['My', 'name', 'is', 'Kelly']\n"
          ]
        }
      ]
    },
    {
      "cell_type": "code",
      "source": [
        "'''Concatenate two lists in the following order\n",
        "['Hello Dear', 'Hello Sir', 'take Dear', 'take Sir']'''\n",
        "\n",
        "l1 = [\"Hello \", \"take \"]\n",
        "l2 = [\"Dear\", \"Sir\"]\n",
        "\n",
        "l3 = [i+j for i in l1 for j in l2]\n",
        "l3"
      ],
      "metadata": {
        "id": "8jSUnlLeP0M-",
        "colab": {
          "base_uri": "https://localhost:8080/"
        },
        "outputId": "67b88e8a-77ea-4de0-d730-bd741fa3c61a"
      },
      "execution_count": null,
      "outputs": [
        {
          "output_type": "execute_result",
          "data": {
            "text/plain": [
              "['Hello Dear', 'Hello Sir', 'take Dear', 'take Sir']"
            ]
          },
          "metadata": {},
          "execution_count": 8
        }
      ]
    },
    {
      "cell_type": "code",
      "source": [
        "'''Given a two Python list. Write a program to iterate both lists simultaneously and display items from\n",
        " list1 in original order and items from list2 in reverse order'''\n",
        "\n",
        "l1 = [10, 20, 30, 40]\n",
        "l2 = [100, 200, 300, 400]\n",
        "for i,j in zip(l1,l2[::-1]):\n",
        "  print(i,j)"
      ],
      "metadata": {
        "id": "USK1YPNmP0I4",
        "colab": {
          "base_uri": "https://localhost:8080/"
        },
        "outputId": "bb7b3c2d-8798-4886-f165-5c619937a333"
      },
      "execution_count": null,
      "outputs": [
        {
          "output_type": "stream",
          "name": "stdout",
          "text": [
            "10 400\n",
            "20 300\n",
            "30 200\n",
            "40 100\n"
          ]
        }
      ]
    },
    {
      "cell_type": "code",
      "source": [
        "#Remove empty strings from the list of strings\n",
        "\n",
        "list1 = [\"Mike\", \"\", \"Emma\", \"Kelly\", \"\", \"Brad\"]\n",
        "#l2 = [i for i in list1 if i]\n",
        "#l2\n",
        "\n",
        "#using filter\n",
        "\n",
        "res = list(filter(None,list1))\n",
        "print(res)"
      ],
      "metadata": {
        "id": "C3uy23jJP0GU",
        "colab": {
          "base_uri": "https://localhost:8080/"
        },
        "outputId": "7df6b7b3-9d3d-44a4-e421-ea675f4d5523"
      },
      "execution_count": null,
      "outputs": [
        {
          "output_type": "stream",
          "name": "stdout",
          "text": [
            "['Mike', 'Emma', 'Kelly', 'Brad']\n"
          ]
        }
      ]
    },
    {
      "cell_type": "code",
      "source": [
        "#Write a program to add item 7000 after 6000 in the following Python List\n",
        "\n",
        "l1 = [10, 20, [300, 400, [5000, 6000], 500], 30, 40]\n",
        "l1[2][2].append(7000)\n",
        "l1"
      ],
      "metadata": {
        "id": "rk76sHQjP0Dd",
        "colab": {
          "base_uri": "https://localhost:8080/"
        },
        "outputId": "b858eeaa-69b1-49e5-a7d6-fb1c60aee919"
      },
      "execution_count": null,
      "outputs": [
        {
          "output_type": "execute_result",
          "data": {
            "text/plain": [
              "[10, 20, [300, 400, [5000, 6000, 7000], 500], 30, 40]"
            ]
          },
          "metadata": {},
          "execution_count": 5
        }
      ]
    },
    {
      "cell_type": "code",
      "source": [
        "#You have given a nested list. Write a program to extend it by adding the sublist [\"h\", \"i\", \"j\"] \n",
        "\n",
        "l1 = [\"a\", \"b\", [\"c\", [\"d\", \"e\", [\"f\", \"g\"], \"k\"], \"l\"], \"m\", \"n\"]\n",
        "sub_list = [\"h\", \"i\", \"j\"]\n",
        "l1[2][1][2].extend(sub_list)\n",
        "l1"
      ],
      "metadata": {
        "id": "RwhyhhyzP0Ac",
        "colab": {
          "base_uri": "https://localhost:8080/"
        },
        "outputId": "4129fc78-db0e-4c26-9dd9-225d50550f1c"
      },
      "execution_count": null,
      "outputs": [
        {
          "output_type": "execute_result",
          "data": {
            "text/plain": [
              "['a', 'b', ['c', ['d', 'e', ['f', 'g', 'h', 'i', 'j'], 'k'], 'l'], 'm', 'n']"
            ]
          },
          "metadata": {},
          "execution_count": 9
        }
      ]
    },
    {
      "cell_type": "code",
      "source": [
        "#Write a program to find value 20 in the list, and if it is present, replace it with 200. Only update the first occurrence of an item\n",
        "\n",
        "l1 = [5, 10, 15, 20, 25, 50, 20]\n",
        "ind = l1.index(20)\n",
        "l1[ind]= 200\n",
        "print(l1)"
      ],
      "metadata": {
        "colab": {
          "base_uri": "https://localhost:8080/"
        },
        "id": "8G9OSyMjv7wi",
        "outputId": "3c4472eb-0dca-42a7-844e-a52fc3c1fece"
      },
      "execution_count": null,
      "outputs": [
        {
          "output_type": "stream",
          "name": "stdout",
          "text": [
            "[5, 10, 15, 200, 25, 50, 20]\n"
          ]
        }
      ]
    },
    {
      "cell_type": "code",
      "source": [
        "#Given a Python list, write a program to remove all occurrences of item 20.\n",
        "\n",
        "l1 = [5, 20, 15, 20, 25, 50, 20]\n",
        "for num in l1:\n",
        "  if num == 20:\n",
        "    l1.remove(20)\n",
        "print(l1)\n",
        "\n",
        "# using while\n",
        "\n",
        "while 20 in l1:\n",
        "  l1.remove(20)\n",
        "print(l1)\n",
        "\n"
      ],
      "metadata": {
        "colab": {
          "base_uri": "https://localhost:8080/"
        },
        "id": "Qtiw0Ce7v7tS",
        "outputId": "03019b2b-321e-44d2-fecb-5b7e51c019e2"
      },
      "execution_count": null,
      "outputs": [
        {
          "output_type": "stream",
          "name": "stdout",
          "text": [
            "[5, 15, 25, 50]\n",
            "[5, 15, 25, 50]\n"
          ]
        }
      ]
    },
    {
      "cell_type": "markdown",
      "source": [
        "**Pandas Exercise**"
      ],
      "metadata": {
        "id": "JG0AroeoKyCm"
      }
    },
    {
      "cell_type": "code",
      "source": [
        "import pandas as pd\n",
        "df = pd.read_csv('/content/drive/MyDrive/Practice Q/Automobile_data.csv')"
      ],
      "metadata": {
        "id": "7cVhMuNBL5mY"
      },
      "execution_count": null,
      "outputs": []
    },
    {
      "cell_type": "code",
      "source": [
        "#From the given dataset print the first and last five rows\n",
        "\n",
        "df.head(5)\n",
        "df.tail(5)"
      ],
      "metadata": {
        "id": "kcS_2Abnv7qL",
        "colab": {
          "base_uri": "https://localhost:8080/",
          "height": 206
        },
        "outputId": "62eef9af-2bcc-43e9-f997-63b7cdaad4f1"
      },
      "execution_count": null,
      "outputs": [
        {
          "output_type": "execute_result",
          "data": {
            "text/plain": [
              "    index     company body-style  wheel-base  length engine-type  \\\n",
              "56     81  volkswagen      sedan        97.3   171.7         ohc   \n",
              "57     82  volkswagen      sedan        97.3   171.7         ohc   \n",
              "58     86  volkswagen      sedan        97.3   171.7         ohc   \n",
              "59     87       volvo      sedan       104.3   188.8         ohc   \n",
              "60     88       volvo      wagon       104.3   188.8         ohc   \n",
              "\n",
              "   num-of-cylinders  horsepower  average-mileage    price  \n",
              "56             four          85               27   7975.0  \n",
              "57             four          52               37   7995.0  \n",
              "58             four         100               26   9995.0  \n",
              "59             four         114               23  12940.0  \n",
              "60             four         114               23  13415.0  "
            ],
            "text/html": [
              "\n",
              "  <div id=\"df-89e1b7c1-c167-439c-9a06-48963abad7c7\">\n",
              "    <div class=\"colab-df-container\">\n",
              "      <div>\n",
              "<style scoped>\n",
              "    .dataframe tbody tr th:only-of-type {\n",
              "        vertical-align: middle;\n",
              "    }\n",
              "\n",
              "    .dataframe tbody tr th {\n",
              "        vertical-align: top;\n",
              "    }\n",
              "\n",
              "    .dataframe thead th {\n",
              "        text-align: right;\n",
              "    }\n",
              "</style>\n",
              "<table border=\"1\" class=\"dataframe\">\n",
              "  <thead>\n",
              "    <tr style=\"text-align: right;\">\n",
              "      <th></th>\n",
              "      <th>index</th>\n",
              "      <th>company</th>\n",
              "      <th>body-style</th>\n",
              "      <th>wheel-base</th>\n",
              "      <th>length</th>\n",
              "      <th>engine-type</th>\n",
              "      <th>num-of-cylinders</th>\n",
              "      <th>horsepower</th>\n",
              "      <th>average-mileage</th>\n",
              "      <th>price</th>\n",
              "    </tr>\n",
              "  </thead>\n",
              "  <tbody>\n",
              "    <tr>\n",
              "      <th>56</th>\n",
              "      <td>81</td>\n",
              "      <td>volkswagen</td>\n",
              "      <td>sedan</td>\n",
              "      <td>97.3</td>\n",
              "      <td>171.7</td>\n",
              "      <td>ohc</td>\n",
              "      <td>four</td>\n",
              "      <td>85</td>\n",
              "      <td>27</td>\n",
              "      <td>7975.0</td>\n",
              "    </tr>\n",
              "    <tr>\n",
              "      <th>57</th>\n",
              "      <td>82</td>\n",
              "      <td>volkswagen</td>\n",
              "      <td>sedan</td>\n",
              "      <td>97.3</td>\n",
              "      <td>171.7</td>\n",
              "      <td>ohc</td>\n",
              "      <td>four</td>\n",
              "      <td>52</td>\n",
              "      <td>37</td>\n",
              "      <td>7995.0</td>\n",
              "    </tr>\n",
              "    <tr>\n",
              "      <th>58</th>\n",
              "      <td>86</td>\n",
              "      <td>volkswagen</td>\n",
              "      <td>sedan</td>\n",
              "      <td>97.3</td>\n",
              "      <td>171.7</td>\n",
              "      <td>ohc</td>\n",
              "      <td>four</td>\n",
              "      <td>100</td>\n",
              "      <td>26</td>\n",
              "      <td>9995.0</td>\n",
              "    </tr>\n",
              "    <tr>\n",
              "      <th>59</th>\n",
              "      <td>87</td>\n",
              "      <td>volvo</td>\n",
              "      <td>sedan</td>\n",
              "      <td>104.3</td>\n",
              "      <td>188.8</td>\n",
              "      <td>ohc</td>\n",
              "      <td>four</td>\n",
              "      <td>114</td>\n",
              "      <td>23</td>\n",
              "      <td>12940.0</td>\n",
              "    </tr>\n",
              "    <tr>\n",
              "      <th>60</th>\n",
              "      <td>88</td>\n",
              "      <td>volvo</td>\n",
              "      <td>wagon</td>\n",
              "      <td>104.3</td>\n",
              "      <td>188.8</td>\n",
              "      <td>ohc</td>\n",
              "      <td>four</td>\n",
              "      <td>114</td>\n",
              "      <td>23</td>\n",
              "      <td>13415.0</td>\n",
              "    </tr>\n",
              "  </tbody>\n",
              "</table>\n",
              "</div>\n",
              "      <button class=\"colab-df-convert\" onclick=\"convertToInteractive('df-89e1b7c1-c167-439c-9a06-48963abad7c7')\"\n",
              "              title=\"Convert this dataframe to an interactive table.\"\n",
              "              style=\"display:none;\">\n",
              "        \n",
              "  <svg xmlns=\"http://www.w3.org/2000/svg\" height=\"24px\"viewBox=\"0 0 24 24\"\n",
              "       width=\"24px\">\n",
              "    <path d=\"M0 0h24v24H0V0z\" fill=\"none\"/>\n",
              "    <path d=\"M18.56 5.44l.94 2.06.94-2.06 2.06-.94-2.06-.94-.94-2.06-.94 2.06-2.06.94zm-11 1L8.5 8.5l.94-2.06 2.06-.94-2.06-.94L8.5 2.5l-.94 2.06-2.06.94zm10 10l.94 2.06.94-2.06 2.06-.94-2.06-.94-.94-2.06-.94 2.06-2.06.94z\"/><path d=\"M17.41 7.96l-1.37-1.37c-.4-.4-.92-.59-1.43-.59-.52 0-1.04.2-1.43.59L10.3 9.45l-7.72 7.72c-.78.78-.78 2.05 0 2.83L4 21.41c.39.39.9.59 1.41.59.51 0 1.02-.2 1.41-.59l7.78-7.78 2.81-2.81c.8-.78.8-2.07 0-2.86zM5.41 20L4 18.59l7.72-7.72 1.47 1.35L5.41 20z\"/>\n",
              "  </svg>\n",
              "      </button>\n",
              "      \n",
              "  <style>\n",
              "    .colab-df-container {\n",
              "      display:flex;\n",
              "      flex-wrap:wrap;\n",
              "      gap: 12px;\n",
              "    }\n",
              "\n",
              "    .colab-df-convert {\n",
              "      background-color: #E8F0FE;\n",
              "      border: none;\n",
              "      border-radius: 50%;\n",
              "      cursor: pointer;\n",
              "      display: none;\n",
              "      fill: #1967D2;\n",
              "      height: 32px;\n",
              "      padding: 0 0 0 0;\n",
              "      width: 32px;\n",
              "    }\n",
              "\n",
              "    .colab-df-convert:hover {\n",
              "      background-color: #E2EBFA;\n",
              "      box-shadow: 0px 1px 2px rgba(60, 64, 67, 0.3), 0px 1px 3px 1px rgba(60, 64, 67, 0.15);\n",
              "      fill: #174EA6;\n",
              "    }\n",
              "\n",
              "    [theme=dark] .colab-df-convert {\n",
              "      background-color: #3B4455;\n",
              "      fill: #D2E3FC;\n",
              "    }\n",
              "\n",
              "    [theme=dark] .colab-df-convert:hover {\n",
              "      background-color: #434B5C;\n",
              "      box-shadow: 0px 1px 3px 1px rgba(0, 0, 0, 0.15);\n",
              "      filter: drop-shadow(0px 1px 2px rgba(0, 0, 0, 0.3));\n",
              "      fill: #FFFFFF;\n",
              "    }\n",
              "  </style>\n",
              "\n",
              "      <script>\n",
              "        const buttonEl =\n",
              "          document.querySelector('#df-89e1b7c1-c167-439c-9a06-48963abad7c7 button.colab-df-convert');\n",
              "        buttonEl.style.display =\n",
              "          google.colab.kernel.accessAllowed ? 'block' : 'none';\n",
              "\n",
              "        async function convertToInteractive(key) {\n",
              "          const element = document.querySelector('#df-89e1b7c1-c167-439c-9a06-48963abad7c7');\n",
              "          const dataTable =\n",
              "            await google.colab.kernel.invokeFunction('convertToInteractive',\n",
              "                                                     [key], {});\n",
              "          if (!dataTable) return;\n",
              "\n",
              "          const docLinkHtml = 'Like what you see? Visit the ' +\n",
              "            '<a target=\"_blank\" href=https://colab.research.google.com/notebooks/data_table.ipynb>data table notebook</a>'\n",
              "            + ' to learn more about interactive tables.';\n",
              "          element.innerHTML = '';\n",
              "          dataTable['output_type'] = 'display_data';\n",
              "          await google.colab.output.renderOutput(dataTable, element);\n",
              "          const docLink = document.createElement('div');\n",
              "          docLink.innerHTML = docLinkHtml;\n",
              "          element.appendChild(docLink);\n",
              "        }\n",
              "      </script>\n",
              "    </div>\n",
              "  </div>\n",
              "  "
            ]
          },
          "metadata": {},
          "execution_count": 2
        }
      ]
    },
    {
      "cell_type": "code",
      "source": [
        "df.sum()"
      ],
      "metadata": {
        "id": "J5Y4K98MMqbS"
      },
      "execution_count": null,
      "outputs": []
    },
    {
      "cell_type": "code",
      "source": [
        "#Replace all column values which contain ?, n.a, or NaN.\n",
        "na_values={\n",
        "'price':[\"?\",\"n.a\"],\n",
        "'stroke':[\"?\",\"n.a\"],\n",
        "'horsepower':[\"?\",\"n.a\"],\n",
        "'peak-rpm':[\"?\",\"n.a\"],\n",
        "'average-mileage':[\"?\",\"n.a\"]}\n",
        "print(df)\n"
      ],
      "metadata": {
        "id": "_zKQOzcfv7nP",
        "colab": {
          "base_uri": "https://localhost:8080/"
        },
        "outputId": "85f033da-200c-4acb-d376-faf1b710a769"
      },
      "execution_count": null,
      "outputs": [
        {
          "output_type": "stream",
          "name": "stdout",
          "text": [
            "    index      company   body-style  wheel-base  length engine-type  \\\n",
            "0       0  alfa-romero  convertible        88.6   168.8        dohc   \n",
            "1       1  alfa-romero  convertible        88.6   168.8        dohc   \n",
            "2       2  alfa-romero    hatchback        94.5   171.2        ohcv   \n",
            "3       3         audi        sedan        99.8   176.6         ohc   \n",
            "4       4         audi        sedan        99.4   176.6         ohc   \n",
            "..    ...          ...          ...         ...     ...         ...   \n",
            "56     81   volkswagen        sedan        97.3   171.7         ohc   \n",
            "57     82   volkswagen        sedan        97.3   171.7         ohc   \n",
            "58     86   volkswagen        sedan        97.3   171.7         ohc   \n",
            "59     87        volvo        sedan       104.3   188.8         ohc   \n",
            "60     88        volvo        wagon       104.3   188.8         ohc   \n",
            "\n",
            "   num-of-cylinders  horsepower  average-mileage    price  \n",
            "0              four         111               21  13495.0  \n",
            "1              four         111               21  16500.0  \n",
            "2               six         154               19  16500.0  \n",
            "3              four         102               24  13950.0  \n",
            "4              five         115               18  17450.0  \n",
            "..              ...         ...              ...      ...  \n",
            "56             four          85               27   7975.0  \n",
            "57             four          52               37   7995.0  \n",
            "58             four         100               26   9995.0  \n",
            "59             four         114               23  12940.0  \n",
            "60             four         114               23  13415.0  \n",
            "\n",
            "[61 rows x 10 columns]\n"
          ]
        }
      ]
    },
    {
      "cell_type": "code",
      "source": [
        "#Print most expensive car’s company name and price.\n",
        "\n",
        "df = df[['company','price']][df.price==df['price'].max()]\n",
        "df"
      ],
      "metadata": {
        "colab": {
          "base_uri": "https://localhost:8080/",
          "height": 81
        },
        "id": "PzafgzbZNgQj",
        "outputId": "a35a6389-a2b4-4650-bae8-da2c38e5c295"
      },
      "execution_count": null,
      "outputs": [
        {
          "output_type": "execute_result",
          "data": {
            "text/plain": [
              "          company    price\n",
              "35  mercedes-benz  45400.0"
            ],
            "text/html": [
              "\n",
              "  <div id=\"df-30760a03-35ad-4a77-871d-6198e6063dc2\">\n",
              "    <div class=\"colab-df-container\">\n",
              "      <div>\n",
              "<style scoped>\n",
              "    .dataframe tbody tr th:only-of-type {\n",
              "        vertical-align: middle;\n",
              "    }\n",
              "\n",
              "    .dataframe tbody tr th {\n",
              "        vertical-align: top;\n",
              "    }\n",
              "\n",
              "    .dataframe thead th {\n",
              "        text-align: right;\n",
              "    }\n",
              "</style>\n",
              "<table border=\"1\" class=\"dataframe\">\n",
              "  <thead>\n",
              "    <tr style=\"text-align: right;\">\n",
              "      <th></th>\n",
              "      <th>company</th>\n",
              "      <th>price</th>\n",
              "    </tr>\n",
              "  </thead>\n",
              "  <tbody>\n",
              "    <tr>\n",
              "      <th>35</th>\n",
              "      <td>mercedes-benz</td>\n",
              "      <td>45400.0</td>\n",
              "    </tr>\n",
              "  </tbody>\n",
              "</table>\n",
              "</div>\n",
              "      <button class=\"colab-df-convert\" onclick=\"convertToInteractive('df-30760a03-35ad-4a77-871d-6198e6063dc2')\"\n",
              "              title=\"Convert this dataframe to an interactive table.\"\n",
              "              style=\"display:none;\">\n",
              "        \n",
              "  <svg xmlns=\"http://www.w3.org/2000/svg\" height=\"24px\"viewBox=\"0 0 24 24\"\n",
              "       width=\"24px\">\n",
              "    <path d=\"M0 0h24v24H0V0z\" fill=\"none\"/>\n",
              "    <path d=\"M18.56 5.44l.94 2.06.94-2.06 2.06-.94-2.06-.94-.94-2.06-.94 2.06-2.06.94zm-11 1L8.5 8.5l.94-2.06 2.06-.94-2.06-.94L8.5 2.5l-.94 2.06-2.06.94zm10 10l.94 2.06.94-2.06 2.06-.94-2.06-.94-.94-2.06-.94 2.06-2.06.94z\"/><path d=\"M17.41 7.96l-1.37-1.37c-.4-.4-.92-.59-1.43-.59-.52 0-1.04.2-1.43.59L10.3 9.45l-7.72 7.72c-.78.78-.78 2.05 0 2.83L4 21.41c.39.39.9.59 1.41.59.51 0 1.02-.2 1.41-.59l7.78-7.78 2.81-2.81c.8-.78.8-2.07 0-2.86zM5.41 20L4 18.59l7.72-7.72 1.47 1.35L5.41 20z\"/>\n",
              "  </svg>\n",
              "      </button>\n",
              "      \n",
              "  <style>\n",
              "    .colab-df-container {\n",
              "      display:flex;\n",
              "      flex-wrap:wrap;\n",
              "      gap: 12px;\n",
              "    }\n",
              "\n",
              "    .colab-df-convert {\n",
              "      background-color: #E8F0FE;\n",
              "      border: none;\n",
              "      border-radius: 50%;\n",
              "      cursor: pointer;\n",
              "      display: none;\n",
              "      fill: #1967D2;\n",
              "      height: 32px;\n",
              "      padding: 0 0 0 0;\n",
              "      width: 32px;\n",
              "    }\n",
              "\n",
              "    .colab-df-convert:hover {\n",
              "      background-color: #E2EBFA;\n",
              "      box-shadow: 0px 1px 2px rgba(60, 64, 67, 0.3), 0px 1px 3px 1px rgba(60, 64, 67, 0.15);\n",
              "      fill: #174EA6;\n",
              "    }\n",
              "\n",
              "    [theme=dark] .colab-df-convert {\n",
              "      background-color: #3B4455;\n",
              "      fill: #D2E3FC;\n",
              "    }\n",
              "\n",
              "    [theme=dark] .colab-df-convert:hover {\n",
              "      background-color: #434B5C;\n",
              "      box-shadow: 0px 1px 3px 1px rgba(0, 0, 0, 0.15);\n",
              "      filter: drop-shadow(0px 1px 2px rgba(0, 0, 0, 0.3));\n",
              "      fill: #FFFFFF;\n",
              "    }\n",
              "  </style>\n",
              "\n",
              "      <script>\n",
              "        const buttonEl =\n",
              "          document.querySelector('#df-30760a03-35ad-4a77-871d-6198e6063dc2 button.colab-df-convert');\n",
              "        buttonEl.style.display =\n",
              "          google.colab.kernel.accessAllowed ? 'block' : 'none';\n",
              "\n",
              "        async function convertToInteractive(key) {\n",
              "          const element = document.querySelector('#df-30760a03-35ad-4a77-871d-6198e6063dc2');\n",
              "          const dataTable =\n",
              "            await google.colab.kernel.invokeFunction('convertToInteractive',\n",
              "                                                     [key], {});\n",
              "          if (!dataTable) return;\n",
              "\n",
              "          const docLinkHtml = 'Like what you see? Visit the ' +\n",
              "            '<a target=\"_blank\" href=https://colab.research.google.com/notebooks/data_table.ipynb>data table notebook</a>'\n",
              "            + ' to learn more about interactive tables.';\n",
              "          element.innerHTML = '';\n",
              "          dataTable['output_type'] = 'display_data';\n",
              "          await google.colab.output.renderOutput(dataTable, element);\n",
              "          const docLink = document.createElement('div');\n",
              "          docLink.innerHTML = docLinkHtml;\n",
              "          element.appendChild(docLink);\n",
              "        }\n",
              "      </script>\n",
              "    </div>\n",
              "  </div>\n",
              "  "
            ]
          },
          "metadata": {},
          "execution_count": 6
        }
      ]
    },
    {
      "cell_type": "code",
      "source": [
        "#Count total cars per company\n",
        "df['company'].value_counts()"
      ],
      "metadata": {
        "colab": {
          "base_uri": "https://localhost:8080/"
        },
        "id": "gjZHiHy7RH-q",
        "outputId": "61924fcd-c6a1-4b0b-fdc3-cce0a7af8bbd"
      },
      "execution_count": null,
      "outputs": [
        {
          "output_type": "execute_result",
          "data": {
            "text/plain": [
              "toyota           7\n",
              "bmw              6\n",
              "mazda            5\n",
              "nissan           5\n",
              "audi             4\n",
              "mercedes-benz    4\n",
              "mitsubishi       4\n",
              "volkswagen       4\n",
              "alfa-romero      3\n",
              "chevrolet        3\n",
              "honda            3\n",
              "isuzu            3\n",
              "jaguar           3\n",
              "porsche          3\n",
              "dodge            2\n",
              "volvo            2\n",
              "Name: company, dtype: int64"
            ]
          },
          "metadata": {},
          "execution_count": 2
        }
      ]
    },
    {
      "cell_type": "code",
      "source": [
        "#Find each company’s Higesht price car\n",
        "\n",
        "car = df.groupby('company')\n",
        "pDf = car['company','price'].max()\n",
        "pDf"
      ],
      "metadata": {
        "colab": {
          "base_uri": "https://localhost:8080/",
          "height": 617
        },
        "id": "6XmhnRKcRH7I",
        "outputId": "3c4c1f54-e992-47f3-faf5-51909cc2f2c4"
      },
      "execution_count": null,
      "outputs": [
        {
          "output_type": "stream",
          "name": "stderr",
          "text": [
            "<ipython-input-3-d8ee33692fd2>:4: FutureWarning: Indexing with multiple keys (implicitly converted to a tuple of keys) will be deprecated, use a list instead.\n",
            "  pDf = car['company','price'].max()\n"
          ]
        },
        {
          "output_type": "execute_result",
          "data": {
            "text/plain": [
              "                     company    price\n",
              "company                              \n",
              "alfa-romero      alfa-romero  16500.0\n",
              "audi                    audi  18920.0\n",
              "bmw                      bmw  41315.0\n",
              "chevrolet          chevrolet   6575.0\n",
              "dodge                  dodge   6377.0\n",
              "honda                  honda  12945.0\n",
              "isuzu                  isuzu   6785.0\n",
              "jaguar                jaguar  36000.0\n",
              "mazda                  mazda  18344.0\n",
              "mercedes-benz  mercedes-benz  45400.0\n",
              "mitsubishi        mitsubishi   8189.0\n",
              "nissan                nissan  13499.0\n",
              "porsche              porsche  37028.0\n",
              "toyota                toyota  15750.0\n",
              "volkswagen        volkswagen   9995.0\n",
              "volvo                  volvo  13415.0"
            ],
            "text/html": [
              "\n",
              "  <div id=\"df-9315da9e-7f8d-4c20-90b0-1fef3ea98705\">\n",
              "    <div class=\"colab-df-container\">\n",
              "      <div>\n",
              "<style scoped>\n",
              "    .dataframe tbody tr th:only-of-type {\n",
              "        vertical-align: middle;\n",
              "    }\n",
              "\n",
              "    .dataframe tbody tr th {\n",
              "        vertical-align: top;\n",
              "    }\n",
              "\n",
              "    .dataframe thead th {\n",
              "        text-align: right;\n",
              "    }\n",
              "</style>\n",
              "<table border=\"1\" class=\"dataframe\">\n",
              "  <thead>\n",
              "    <tr style=\"text-align: right;\">\n",
              "      <th></th>\n",
              "      <th>company</th>\n",
              "      <th>price</th>\n",
              "    </tr>\n",
              "    <tr>\n",
              "      <th>company</th>\n",
              "      <th></th>\n",
              "      <th></th>\n",
              "    </tr>\n",
              "  </thead>\n",
              "  <tbody>\n",
              "    <tr>\n",
              "      <th>alfa-romero</th>\n",
              "      <td>alfa-romero</td>\n",
              "      <td>16500.0</td>\n",
              "    </tr>\n",
              "    <tr>\n",
              "      <th>audi</th>\n",
              "      <td>audi</td>\n",
              "      <td>18920.0</td>\n",
              "    </tr>\n",
              "    <tr>\n",
              "      <th>bmw</th>\n",
              "      <td>bmw</td>\n",
              "      <td>41315.0</td>\n",
              "    </tr>\n",
              "    <tr>\n",
              "      <th>chevrolet</th>\n",
              "      <td>chevrolet</td>\n",
              "      <td>6575.0</td>\n",
              "    </tr>\n",
              "    <tr>\n",
              "      <th>dodge</th>\n",
              "      <td>dodge</td>\n",
              "      <td>6377.0</td>\n",
              "    </tr>\n",
              "    <tr>\n",
              "      <th>honda</th>\n",
              "      <td>honda</td>\n",
              "      <td>12945.0</td>\n",
              "    </tr>\n",
              "    <tr>\n",
              "      <th>isuzu</th>\n",
              "      <td>isuzu</td>\n",
              "      <td>6785.0</td>\n",
              "    </tr>\n",
              "    <tr>\n",
              "      <th>jaguar</th>\n",
              "      <td>jaguar</td>\n",
              "      <td>36000.0</td>\n",
              "    </tr>\n",
              "    <tr>\n",
              "      <th>mazda</th>\n",
              "      <td>mazda</td>\n",
              "      <td>18344.0</td>\n",
              "    </tr>\n",
              "    <tr>\n",
              "      <th>mercedes-benz</th>\n",
              "      <td>mercedes-benz</td>\n",
              "      <td>45400.0</td>\n",
              "    </tr>\n",
              "    <tr>\n",
              "      <th>mitsubishi</th>\n",
              "      <td>mitsubishi</td>\n",
              "      <td>8189.0</td>\n",
              "    </tr>\n",
              "    <tr>\n",
              "      <th>nissan</th>\n",
              "      <td>nissan</td>\n",
              "      <td>13499.0</td>\n",
              "    </tr>\n",
              "    <tr>\n",
              "      <th>porsche</th>\n",
              "      <td>porsche</td>\n",
              "      <td>37028.0</td>\n",
              "    </tr>\n",
              "    <tr>\n",
              "      <th>toyota</th>\n",
              "      <td>toyota</td>\n",
              "      <td>15750.0</td>\n",
              "    </tr>\n",
              "    <tr>\n",
              "      <th>volkswagen</th>\n",
              "      <td>volkswagen</td>\n",
              "      <td>9995.0</td>\n",
              "    </tr>\n",
              "    <tr>\n",
              "      <th>volvo</th>\n",
              "      <td>volvo</td>\n",
              "      <td>13415.0</td>\n",
              "    </tr>\n",
              "  </tbody>\n",
              "</table>\n",
              "</div>\n",
              "      <button class=\"colab-df-convert\" onclick=\"convertToInteractive('df-9315da9e-7f8d-4c20-90b0-1fef3ea98705')\"\n",
              "              title=\"Convert this dataframe to an interactive table.\"\n",
              "              style=\"display:none;\">\n",
              "        \n",
              "  <svg xmlns=\"http://www.w3.org/2000/svg\" height=\"24px\"viewBox=\"0 0 24 24\"\n",
              "       width=\"24px\">\n",
              "    <path d=\"M0 0h24v24H0V0z\" fill=\"none\"/>\n",
              "    <path d=\"M18.56 5.44l.94 2.06.94-2.06 2.06-.94-2.06-.94-.94-2.06-.94 2.06-2.06.94zm-11 1L8.5 8.5l.94-2.06 2.06-.94-2.06-.94L8.5 2.5l-.94 2.06-2.06.94zm10 10l.94 2.06.94-2.06 2.06-.94-2.06-.94-.94-2.06-.94 2.06-2.06.94z\"/><path d=\"M17.41 7.96l-1.37-1.37c-.4-.4-.92-.59-1.43-.59-.52 0-1.04.2-1.43.59L10.3 9.45l-7.72 7.72c-.78.78-.78 2.05 0 2.83L4 21.41c.39.39.9.59 1.41.59.51 0 1.02-.2 1.41-.59l7.78-7.78 2.81-2.81c.8-.78.8-2.07 0-2.86zM5.41 20L4 18.59l7.72-7.72 1.47 1.35L5.41 20z\"/>\n",
              "  </svg>\n",
              "      </button>\n",
              "      \n",
              "  <style>\n",
              "    .colab-df-container {\n",
              "      display:flex;\n",
              "      flex-wrap:wrap;\n",
              "      gap: 12px;\n",
              "    }\n",
              "\n",
              "    .colab-df-convert {\n",
              "      background-color: #E8F0FE;\n",
              "      border: none;\n",
              "      border-radius: 50%;\n",
              "      cursor: pointer;\n",
              "      display: none;\n",
              "      fill: #1967D2;\n",
              "      height: 32px;\n",
              "      padding: 0 0 0 0;\n",
              "      width: 32px;\n",
              "    }\n",
              "\n",
              "    .colab-df-convert:hover {\n",
              "      background-color: #E2EBFA;\n",
              "      box-shadow: 0px 1px 2px rgba(60, 64, 67, 0.3), 0px 1px 3px 1px rgba(60, 64, 67, 0.15);\n",
              "      fill: #174EA6;\n",
              "    }\n",
              "\n",
              "    [theme=dark] .colab-df-convert {\n",
              "      background-color: #3B4455;\n",
              "      fill: #D2E3FC;\n",
              "    }\n",
              "\n",
              "    [theme=dark] .colab-df-convert:hover {\n",
              "      background-color: #434B5C;\n",
              "      box-shadow: 0px 1px 3px 1px rgba(0, 0, 0, 0.15);\n",
              "      filter: drop-shadow(0px 1px 2px rgba(0, 0, 0, 0.3));\n",
              "      fill: #FFFFFF;\n",
              "    }\n",
              "  </style>\n",
              "\n",
              "      <script>\n",
              "        const buttonEl =\n",
              "          document.querySelector('#df-9315da9e-7f8d-4c20-90b0-1fef3ea98705 button.colab-df-convert');\n",
              "        buttonEl.style.display =\n",
              "          google.colab.kernel.accessAllowed ? 'block' : 'none';\n",
              "\n",
              "        async function convertToInteractive(key) {\n",
              "          const element = document.querySelector('#df-9315da9e-7f8d-4c20-90b0-1fef3ea98705');\n",
              "          const dataTable =\n",
              "            await google.colab.kernel.invokeFunction('convertToInteractive',\n",
              "                                                     [key], {});\n",
              "          if (!dataTable) return;\n",
              "\n",
              "          const docLinkHtml = 'Like what you see? Visit the ' +\n",
              "            '<a target=\"_blank\" href=https://colab.research.google.com/notebooks/data_table.ipynb>data table notebook</a>'\n",
              "            + ' to learn more about interactive tables.';\n",
              "          element.innerHTML = '';\n",
              "          dataTable['output_type'] = 'display_data';\n",
              "          await google.colab.output.renderOutput(dataTable, element);\n",
              "          const docLink = document.createElement('div');\n",
              "          docLink.innerHTML = docLinkHtml;\n",
              "          element.appendChild(docLink);\n",
              "        }\n",
              "      </script>\n",
              "    </div>\n",
              "  </div>\n",
              "  "
            ]
          },
          "metadata": {},
          "execution_count": 3
        }
      ]
    },
    {
      "cell_type": "code",
      "source": [
        "#Find the average mileage of each car making company\n",
        "car = df.groupby('company')\n",
        "pDf = car['company','average-mileage'].mean()\n",
        "pDf"
      ],
      "metadata": {
        "colab": {
          "base_uri": "https://localhost:8080/",
          "height": 617
        },
        "id": "b5996xOVRH3O",
        "outputId": "9f058cf4-3149-4965-89a9-36b3dc9055f9"
      },
      "execution_count": null,
      "outputs": [
        {
          "output_type": "stream",
          "name": "stderr",
          "text": [
            "<ipython-input-2-088cb0c0c6cd>:3: FutureWarning: Indexing with multiple keys (implicitly converted to a tuple of keys) will be deprecated, use a list instead.\n",
            "  pDf = car['company','average-mileage'].mean()\n"
          ]
        },
        {
          "output_type": "execute_result",
          "data": {
            "text/plain": [
              "               average-mileage\n",
              "company                       \n",
              "alfa-romero          20.333333\n",
              "audi                 20.000000\n",
              "bmw                  19.000000\n",
              "chevrolet            41.000000\n",
              "dodge                31.000000\n",
              "honda                26.333333\n",
              "isuzu                33.333333\n",
              "jaguar               14.333333\n",
              "mazda                28.000000\n",
              "mercedes-benz        18.000000\n",
              "mitsubishi           29.500000\n",
              "nissan               31.400000\n",
              "porsche              17.000000\n",
              "toyota               28.714286\n",
              "volkswagen           31.750000\n",
              "volvo                23.000000"
            ],
            "text/html": [
              "\n",
              "  <div id=\"df-4fe55db5-cdb7-4e22-8d94-7175c79704a8\">\n",
              "    <div class=\"colab-df-container\">\n",
              "      <div>\n",
              "<style scoped>\n",
              "    .dataframe tbody tr th:only-of-type {\n",
              "        vertical-align: middle;\n",
              "    }\n",
              "\n",
              "    .dataframe tbody tr th {\n",
              "        vertical-align: top;\n",
              "    }\n",
              "\n",
              "    .dataframe thead th {\n",
              "        text-align: right;\n",
              "    }\n",
              "</style>\n",
              "<table border=\"1\" class=\"dataframe\">\n",
              "  <thead>\n",
              "    <tr style=\"text-align: right;\">\n",
              "      <th></th>\n",
              "      <th>average-mileage</th>\n",
              "    </tr>\n",
              "    <tr>\n",
              "      <th>company</th>\n",
              "      <th></th>\n",
              "    </tr>\n",
              "  </thead>\n",
              "  <tbody>\n",
              "    <tr>\n",
              "      <th>alfa-romero</th>\n",
              "      <td>20.333333</td>\n",
              "    </tr>\n",
              "    <tr>\n",
              "      <th>audi</th>\n",
              "      <td>20.000000</td>\n",
              "    </tr>\n",
              "    <tr>\n",
              "      <th>bmw</th>\n",
              "      <td>19.000000</td>\n",
              "    </tr>\n",
              "    <tr>\n",
              "      <th>chevrolet</th>\n",
              "      <td>41.000000</td>\n",
              "    </tr>\n",
              "    <tr>\n",
              "      <th>dodge</th>\n",
              "      <td>31.000000</td>\n",
              "    </tr>\n",
              "    <tr>\n",
              "      <th>honda</th>\n",
              "      <td>26.333333</td>\n",
              "    </tr>\n",
              "    <tr>\n",
              "      <th>isuzu</th>\n",
              "      <td>33.333333</td>\n",
              "    </tr>\n",
              "    <tr>\n",
              "      <th>jaguar</th>\n",
              "      <td>14.333333</td>\n",
              "    </tr>\n",
              "    <tr>\n",
              "      <th>mazda</th>\n",
              "      <td>28.000000</td>\n",
              "    </tr>\n",
              "    <tr>\n",
              "      <th>mercedes-benz</th>\n",
              "      <td>18.000000</td>\n",
              "    </tr>\n",
              "    <tr>\n",
              "      <th>mitsubishi</th>\n",
              "      <td>29.500000</td>\n",
              "    </tr>\n",
              "    <tr>\n",
              "      <th>nissan</th>\n",
              "      <td>31.400000</td>\n",
              "    </tr>\n",
              "    <tr>\n",
              "      <th>porsche</th>\n",
              "      <td>17.000000</td>\n",
              "    </tr>\n",
              "    <tr>\n",
              "      <th>toyota</th>\n",
              "      <td>28.714286</td>\n",
              "    </tr>\n",
              "    <tr>\n",
              "      <th>volkswagen</th>\n",
              "      <td>31.750000</td>\n",
              "    </tr>\n",
              "    <tr>\n",
              "      <th>volvo</th>\n",
              "      <td>23.000000</td>\n",
              "    </tr>\n",
              "  </tbody>\n",
              "</table>\n",
              "</div>\n",
              "      <button class=\"colab-df-convert\" onclick=\"convertToInteractive('df-4fe55db5-cdb7-4e22-8d94-7175c79704a8')\"\n",
              "              title=\"Convert this dataframe to an interactive table.\"\n",
              "              style=\"display:none;\">\n",
              "        \n",
              "  <svg xmlns=\"http://www.w3.org/2000/svg\" height=\"24px\"viewBox=\"0 0 24 24\"\n",
              "       width=\"24px\">\n",
              "    <path d=\"M0 0h24v24H0V0z\" fill=\"none\"/>\n",
              "    <path d=\"M18.56 5.44l.94 2.06.94-2.06 2.06-.94-2.06-.94-.94-2.06-.94 2.06-2.06.94zm-11 1L8.5 8.5l.94-2.06 2.06-.94-2.06-.94L8.5 2.5l-.94 2.06-2.06.94zm10 10l.94 2.06.94-2.06 2.06-.94-2.06-.94-.94-2.06-.94 2.06-2.06.94z\"/><path d=\"M17.41 7.96l-1.37-1.37c-.4-.4-.92-.59-1.43-.59-.52 0-1.04.2-1.43.59L10.3 9.45l-7.72 7.72c-.78.78-.78 2.05 0 2.83L4 21.41c.39.39.9.59 1.41.59.51 0 1.02-.2 1.41-.59l7.78-7.78 2.81-2.81c.8-.78.8-2.07 0-2.86zM5.41 20L4 18.59l7.72-7.72 1.47 1.35L5.41 20z\"/>\n",
              "  </svg>\n",
              "      </button>\n",
              "      \n",
              "  <style>\n",
              "    .colab-df-container {\n",
              "      display:flex;\n",
              "      flex-wrap:wrap;\n",
              "      gap: 12px;\n",
              "    }\n",
              "\n",
              "    .colab-df-convert {\n",
              "      background-color: #E8F0FE;\n",
              "      border: none;\n",
              "      border-radius: 50%;\n",
              "      cursor: pointer;\n",
              "      display: none;\n",
              "      fill: #1967D2;\n",
              "      height: 32px;\n",
              "      padding: 0 0 0 0;\n",
              "      width: 32px;\n",
              "    }\n",
              "\n",
              "    .colab-df-convert:hover {\n",
              "      background-color: #E2EBFA;\n",
              "      box-shadow: 0px 1px 2px rgba(60, 64, 67, 0.3), 0px 1px 3px 1px rgba(60, 64, 67, 0.15);\n",
              "      fill: #174EA6;\n",
              "    }\n",
              "\n",
              "    [theme=dark] .colab-df-convert {\n",
              "      background-color: #3B4455;\n",
              "      fill: #D2E3FC;\n",
              "    }\n",
              "\n",
              "    [theme=dark] .colab-df-convert:hover {\n",
              "      background-color: #434B5C;\n",
              "      box-shadow: 0px 1px 3px 1px rgba(0, 0, 0, 0.15);\n",
              "      filter: drop-shadow(0px 1px 2px rgba(0, 0, 0, 0.3));\n",
              "      fill: #FFFFFF;\n",
              "    }\n",
              "  </style>\n",
              "\n",
              "      <script>\n",
              "        const buttonEl =\n",
              "          document.querySelector('#df-4fe55db5-cdb7-4e22-8d94-7175c79704a8 button.colab-df-convert');\n",
              "        buttonEl.style.display =\n",
              "          google.colab.kernel.accessAllowed ? 'block' : 'none';\n",
              "\n",
              "        async function convertToInteractive(key) {\n",
              "          const element = document.querySelector('#df-4fe55db5-cdb7-4e22-8d94-7175c79704a8');\n",
              "          const dataTable =\n",
              "            await google.colab.kernel.invokeFunction('convertToInteractive',\n",
              "                                                     [key], {});\n",
              "          if (!dataTable) return;\n",
              "\n",
              "          const docLinkHtml = 'Like what you see? Visit the ' +\n",
              "            '<a target=\"_blank\" href=https://colab.research.google.com/notebooks/data_table.ipynb>data table notebook</a>'\n",
              "            + ' to learn more about interactive tables.';\n",
              "          element.innerHTML = '';\n",
              "          dataTable['output_type'] = 'display_data';\n",
              "          await google.colab.output.renderOutput(dataTable, element);\n",
              "          const docLink = document.createElement('div');\n",
              "          docLink.innerHTML = docLinkHtml;\n",
              "          element.appendChild(docLink);\n",
              "        }\n",
              "      </script>\n",
              "    </div>\n",
              "  </div>\n",
              "  "
            ]
          },
          "metadata": {},
          "execution_count": 2
        }
      ]
    },
    {
      "cell_type": "code",
      "source": [
        "#Sort all cars by Price column\n",
        "\n",
        "car = car.sort_values(by=['price', 'horsepower'], ascending = False)\n",
        "car.head(5)"
      ],
      "metadata": {
        "colab": {
          "base_uri": "https://localhost:8080/",
          "height": 339
        },
        "id": "v4YD_MdJRHq2",
        "outputId": "63cc12a8-9f00-42e4-b248-b68073e1e382"
      },
      "execution_count": null,
      "outputs": [
        {
          "output_type": "error",
          "ename": "AttributeError",
          "evalue": "ignored",
          "traceback": [
            "\u001b[0;31m---------------------------------------------------------------------------\u001b[0m",
            "\u001b[0;31mAttributeError\u001b[0m                            Traceback (most recent call last)",
            "\u001b[0;32m<ipython-input-3-f8fa05b7379b>\u001b[0m in \u001b[0;36m<module>\u001b[0;34m\u001b[0m\n\u001b[1;32m      1\u001b[0m \u001b[0;31m#Sort all cars by Price column\u001b[0m\u001b[0;34m\u001b[0m\u001b[0;34m\u001b[0m\u001b[0;34m\u001b[0m\u001b[0m\n\u001b[1;32m      2\u001b[0m \u001b[0;34m\u001b[0m\u001b[0m\n\u001b[0;32m----> 3\u001b[0;31m \u001b[0mcar\u001b[0m \u001b[0;34m=\u001b[0m \u001b[0mcar\u001b[0m\u001b[0;34m.\u001b[0m\u001b[0msort_values\u001b[0m\u001b[0;34m(\u001b[0m\u001b[0mby\u001b[0m\u001b[0;34m=\u001b[0m\u001b[0;34m[\u001b[0m\u001b[0;34m'price'\u001b[0m\u001b[0;34m,\u001b[0m \u001b[0;34m'horsepower'\u001b[0m\u001b[0;34m]\u001b[0m\u001b[0;34m,\u001b[0m \u001b[0mascending\u001b[0m \u001b[0;34m=\u001b[0m \u001b[0;32mFalse\u001b[0m\u001b[0;34m)\u001b[0m\u001b[0;34m\u001b[0m\u001b[0;34m\u001b[0m\u001b[0m\n\u001b[0m\u001b[1;32m      4\u001b[0m \u001b[0mcar\u001b[0m\u001b[0;34m.\u001b[0m\u001b[0mhead\u001b[0m\u001b[0;34m(\u001b[0m\u001b[0;36m5\u001b[0m\u001b[0;34m)\u001b[0m\u001b[0;34m\u001b[0m\u001b[0;34m\u001b[0m\u001b[0m\n",
            "\u001b[0;32m/usr/local/lib/python3.8/dist-packages/pandas/core/groupby/groupby.py\u001b[0m in \u001b[0;36m__getattr__\u001b[0;34m(self, attr)\u001b[0m\n\u001b[1;32m    909\u001b[0m             \u001b[0;32mreturn\u001b[0m \u001b[0mself\u001b[0m\u001b[0;34m[\u001b[0m\u001b[0mattr\u001b[0m\u001b[0;34m]\u001b[0m\u001b[0;34m\u001b[0m\u001b[0;34m\u001b[0m\u001b[0m\n\u001b[1;32m    910\u001b[0m \u001b[0;34m\u001b[0m\u001b[0m\n\u001b[0;32m--> 911\u001b[0;31m         raise AttributeError(\n\u001b[0m\u001b[1;32m    912\u001b[0m             \u001b[0;34mf\"'{type(self).__name__}' object has no attribute '{attr}'\"\u001b[0m\u001b[0;34m\u001b[0m\u001b[0;34m\u001b[0m\u001b[0m\n\u001b[1;32m    913\u001b[0m         )\n",
            "\u001b[0;31mAttributeError\u001b[0m: 'DataFrameGroupBy' object has no attribute 'sort_values'"
          ]
        }
      ]
    },
    {
      "cell_type": "code",
      "source": [
        "GermanCars = {'Company': ['Ford', 'Mercedes', 'BMV', 'Audi'], 'Price': [23845, 171995, 135925 , 71400]}\n",
        "df1 = pd.DataFrame.from_dict(GermanCars)\n",
        "japaneseCars = {'Company': ['Toyota', 'Honda', 'Nissan', 'Mitsubishi '], 'Price': [29995, 23600, 61500 , 58900]}\n",
        "df2 = pd.DataFrame.from_dict(japaneseCars)\n",
        "\n",
        "car = pd.concat([df1,df2], keys=[\"Germany\", \"Japan\"])\n",
        "car"
      ],
      "metadata": {
        "colab": {
          "base_uri": "https://localhost:8080/",
          "height": 300
        },
        "id": "QMCKE4h_RHni",
        "outputId": "23c54c3f-6359-46c6-95ce-53442c8bd208"
      },
      "execution_count": null,
      "outputs": [
        {
          "output_type": "execute_result",
          "data": {
            "text/plain": [
              "               Company   Price\n",
              "Germany 0         Ford   23845\n",
              "        1     Mercedes  171995\n",
              "        2          BMV  135925\n",
              "        3         Audi   71400\n",
              "Japan   0       Toyota   29995\n",
              "        1        Honda   23600\n",
              "        2       Nissan   61500\n",
              "        3  Mitsubishi    58900"
            ],
            "text/html": [
              "\n",
              "  <div id=\"df-4caecdec-4ad1-4b98-b77c-8300d4aa9e73\">\n",
              "    <div class=\"colab-df-container\">\n",
              "      <div>\n",
              "<style scoped>\n",
              "    .dataframe tbody tr th:only-of-type {\n",
              "        vertical-align: middle;\n",
              "    }\n",
              "\n",
              "    .dataframe tbody tr th {\n",
              "        vertical-align: top;\n",
              "    }\n",
              "\n",
              "    .dataframe thead th {\n",
              "        text-align: right;\n",
              "    }\n",
              "</style>\n",
              "<table border=\"1\" class=\"dataframe\">\n",
              "  <thead>\n",
              "    <tr style=\"text-align: right;\">\n",
              "      <th></th>\n",
              "      <th></th>\n",
              "      <th>Company</th>\n",
              "      <th>Price</th>\n",
              "    </tr>\n",
              "  </thead>\n",
              "  <tbody>\n",
              "    <tr>\n",
              "      <th rowspan=\"4\" valign=\"top\">Germany</th>\n",
              "      <th>0</th>\n",
              "      <td>Ford</td>\n",
              "      <td>23845</td>\n",
              "    </tr>\n",
              "    <tr>\n",
              "      <th>1</th>\n",
              "      <td>Mercedes</td>\n",
              "      <td>171995</td>\n",
              "    </tr>\n",
              "    <tr>\n",
              "      <th>2</th>\n",
              "      <td>BMV</td>\n",
              "      <td>135925</td>\n",
              "    </tr>\n",
              "    <tr>\n",
              "      <th>3</th>\n",
              "      <td>Audi</td>\n",
              "      <td>71400</td>\n",
              "    </tr>\n",
              "    <tr>\n",
              "      <th rowspan=\"4\" valign=\"top\">Japan</th>\n",
              "      <th>0</th>\n",
              "      <td>Toyota</td>\n",
              "      <td>29995</td>\n",
              "    </tr>\n",
              "    <tr>\n",
              "      <th>1</th>\n",
              "      <td>Honda</td>\n",
              "      <td>23600</td>\n",
              "    </tr>\n",
              "    <tr>\n",
              "      <th>2</th>\n",
              "      <td>Nissan</td>\n",
              "      <td>61500</td>\n",
              "    </tr>\n",
              "    <tr>\n",
              "      <th>3</th>\n",
              "      <td>Mitsubishi</td>\n",
              "      <td>58900</td>\n",
              "    </tr>\n",
              "  </tbody>\n",
              "</table>\n",
              "</div>\n",
              "      <button class=\"colab-df-convert\" onclick=\"convertToInteractive('df-4caecdec-4ad1-4b98-b77c-8300d4aa9e73')\"\n",
              "              title=\"Convert this dataframe to an interactive table.\"\n",
              "              style=\"display:none;\">\n",
              "        \n",
              "  <svg xmlns=\"http://www.w3.org/2000/svg\" height=\"24px\"viewBox=\"0 0 24 24\"\n",
              "       width=\"24px\">\n",
              "    <path d=\"M0 0h24v24H0V0z\" fill=\"none\"/>\n",
              "    <path d=\"M18.56 5.44l.94 2.06.94-2.06 2.06-.94-2.06-.94-.94-2.06-.94 2.06-2.06.94zm-11 1L8.5 8.5l.94-2.06 2.06-.94-2.06-.94L8.5 2.5l-.94 2.06-2.06.94zm10 10l.94 2.06.94-2.06 2.06-.94-2.06-.94-.94-2.06-.94 2.06-2.06.94z\"/><path d=\"M17.41 7.96l-1.37-1.37c-.4-.4-.92-.59-1.43-.59-.52 0-1.04.2-1.43.59L10.3 9.45l-7.72 7.72c-.78.78-.78 2.05 0 2.83L4 21.41c.39.39.9.59 1.41.59.51 0 1.02-.2 1.41-.59l7.78-7.78 2.81-2.81c.8-.78.8-2.07 0-2.86zM5.41 20L4 18.59l7.72-7.72 1.47 1.35L5.41 20z\"/>\n",
              "  </svg>\n",
              "      </button>\n",
              "      \n",
              "  <style>\n",
              "    .colab-df-container {\n",
              "      display:flex;\n",
              "      flex-wrap:wrap;\n",
              "      gap: 12px;\n",
              "    }\n",
              "\n",
              "    .colab-df-convert {\n",
              "      background-color: #E8F0FE;\n",
              "      border: none;\n",
              "      border-radius: 50%;\n",
              "      cursor: pointer;\n",
              "      display: none;\n",
              "      fill: #1967D2;\n",
              "      height: 32px;\n",
              "      padding: 0 0 0 0;\n",
              "      width: 32px;\n",
              "    }\n",
              "\n",
              "    .colab-df-convert:hover {\n",
              "      background-color: #E2EBFA;\n",
              "      box-shadow: 0px 1px 2px rgba(60, 64, 67, 0.3), 0px 1px 3px 1px rgba(60, 64, 67, 0.15);\n",
              "      fill: #174EA6;\n",
              "    }\n",
              "\n",
              "    [theme=dark] .colab-df-convert {\n",
              "      background-color: #3B4455;\n",
              "      fill: #D2E3FC;\n",
              "    }\n",
              "\n",
              "    [theme=dark] .colab-df-convert:hover {\n",
              "      background-color: #434B5C;\n",
              "      box-shadow: 0px 1px 3px 1px rgba(0, 0, 0, 0.15);\n",
              "      filter: drop-shadow(0px 1px 2px rgba(0, 0, 0, 0.3));\n",
              "      fill: #FFFFFF;\n",
              "    }\n",
              "  </style>\n",
              "\n",
              "      <script>\n",
              "        const buttonEl =\n",
              "          document.querySelector('#df-4caecdec-4ad1-4b98-b77c-8300d4aa9e73 button.colab-df-convert');\n",
              "        buttonEl.style.display =\n",
              "          google.colab.kernel.accessAllowed ? 'block' : 'none';\n",
              "\n",
              "        async function convertToInteractive(key) {\n",
              "          const element = document.querySelector('#df-4caecdec-4ad1-4b98-b77c-8300d4aa9e73');\n",
              "          const dataTable =\n",
              "            await google.colab.kernel.invokeFunction('convertToInteractive',\n",
              "                                                     [key], {});\n",
              "          if (!dataTable) return;\n",
              "\n",
              "          const docLinkHtml = 'Like what you see? Visit the ' +\n",
              "            '<a target=\"_blank\" href=https://colab.research.google.com/notebooks/data_table.ipynb>data table notebook</a>'\n",
              "            + ' to learn more about interactive tables.';\n",
              "          element.innerHTML = '';\n",
              "          dataTable['output_type'] = 'display_data';\n",
              "          await google.colab.output.renderOutput(dataTable, element);\n",
              "          const docLink = document.createElement('div');\n",
              "          docLink.innerHTML = docLinkHtml;\n",
              "          element.appendChild(docLink);\n",
              "        }\n",
              "      </script>\n",
              "    </div>\n",
              "  </div>\n",
              "  "
            ]
          },
          "metadata": {},
          "execution_count": 4
        }
      ]
    },
    {
      "cell_type": "code",
      "source": [
        "#Merge two data frames using the following condition\n",
        "Car_Price = {'Company': ['Toyota', 'Honda', 'BMV', 'Audi'], 'Price': [23845, 17995, 135925 , 71400]}\n",
        "carPriceDf = pd.DataFrame.from_dict(Car_Price)\n",
        "\n",
        "car_Horsepower = {'Company': ['Toyota', 'Honda', 'BMV', 'Audi'], 'horsepower': [141, 80, 182 , 160]}\n",
        "carsHorsepowerDf = pd.DataFrame.from_dict(car_Horsepower)\n",
        "\n",
        "carsDf = pd.merge(carPriceDf, carsHorsepowerDf, on=\"Company\")\n",
        "carsDf"
      ],
      "metadata": {
        "id": "KBt67p_gRHkX"
      },
      "execution_count": null,
      "outputs": []
    },
    {
      "cell_type": "markdown",
      "source": [
        "# **Input and Output Exercise**"
      ],
      "metadata": {
        "id": "dj-IVfsRZ-8r"
      }
    },
    {
      "cell_type": "code",
      "source": [
        "#Display three string “Name”, “Is”, “James” as “Name**Is**James”\n",
        "\n",
        "print('Name', 'is', 'James', sep='**')"
      ],
      "metadata": {
        "id": "yWXcG9O9RHhU",
        "colab": {
          "base_uri": "https://localhost:8080/"
        },
        "outputId": "37186e20-459a-43e0-9a41-7737bd3f3c8a"
      },
      "execution_count": 1,
      "outputs": [
        {
          "output_type": "stream",
          "name": "stdout",
          "text": [
            "Name**is**James\n"
          ]
        }
      ]
    },
    {
      "cell_type": "code",
      "source": [
        "#Convert Decimal number to octal using print() output formatting\n",
        "\n",
        "n = 8\n",
        "print('%o' % n)"
      ],
      "metadata": {
        "id": "VVBpPB5uRHeC",
        "colab": {
          "base_uri": "https://localhost:8080/"
        },
        "outputId": "cc11a2ae-df0d-43f5-823b-0a848b8b06bb"
      },
      "execution_count": 4,
      "outputs": [
        {
          "output_type": "stream",
          "name": "stdout",
          "text": [
            "10\n"
          ]
        }
      ]
    },
    {
      "cell_type": "code",
      "source": [
        "# Convert Decimal number to octal using print() output formatting\n",
        "\n",
        "num = 458.541315\n",
        "print('%.2f'% n)"
      ],
      "metadata": {
        "id": "z-p4wljtNgGa",
        "colab": {
          "base_uri": "https://localhost:8080/"
        },
        "outputId": "616dc1ad-11c4-4018-e785-bf52822be7fd"
      },
      "execution_count": 6,
      "outputs": [
        {
          "output_type": "stream",
          "name": "stdout",
          "text": [
            "8.00\n"
          ]
        }
      ]
    },
    {
      "cell_type": "code",
      "source": [
        "# Accept a list of 5 float numbers as an input from the user\n",
        "\n",
        "numbers = []\n",
        "for i in range(0,5):\n",
        "  print(\"Enter number at location\", i, \":\")\n",
        "  item = float(input())\n",
        "  numbers.append(item)\n",
        "print(\"User List:\", numbers)"
      ],
      "metadata": {
        "colab": {
          "base_uri": "https://localhost:8080/"
        },
        "id": "sdAo8fxwbhs1",
        "outputId": "5cead399-384f-422d-cb11-21450513169b"
      },
      "execution_count": 7,
      "outputs": [
        {
          "output_type": "stream",
          "name": "stdout",
          "text": [
            "Enter number at location 0 :\n",
            "5\n",
            "Enter number at location 1 :\n",
            "9.0\n",
            "Enter number at location 2 :\n",
            "8.7\n",
            "Enter number at location 3 :\n",
            "7.7\n",
            "Enter number at location 4 :\n",
            "0.0\n",
            "User List: [5.0, 9.0, 8.7, 7.7, 0.0]\n"
          ]
        }
      ]
    },
    {
      "cell_type": "code",
      "source": [],
      "metadata": {
        "id": "QOqQI2UbbhpH"
      },
      "execution_count": null,
      "outputs": []
    },
    {
      "cell_type": "code",
      "source": [],
      "metadata": {
        "id": "AnCTKh4KbhlL"
      },
      "execution_count": null,
      "outputs": []
    },
    {
      "cell_type": "code",
      "source": [],
      "metadata": {
        "id": "1d_IQq7Gbhhj"
      },
      "execution_count": null,
      "outputs": []
    },
    {
      "cell_type": "code",
      "source": [],
      "metadata": {
        "id": "LhAzN63fbhei"
      },
      "execution_count": null,
      "outputs": []
    },
    {
      "cell_type": "code",
      "source": [],
      "metadata": {
        "id": "ZGTzejl3bhbv"
      },
      "execution_count": null,
      "outputs": []
    },
    {
      "cell_type": "code",
      "source": [],
      "metadata": {
        "id": "SJJ2sho_bhYU"
      },
      "execution_count": null,
      "outputs": []
    },
    {
      "cell_type": "code",
      "source": [],
      "metadata": {
        "id": "G5-CSAFkbhUL"
      },
      "execution_count": null,
      "outputs": []
    },
    {
      "cell_type": "code",
      "source": [],
      "metadata": {
        "id": "LFz5q8DIbhIY"
      },
      "execution_count": null,
      "outputs": []
    }
  ]
}