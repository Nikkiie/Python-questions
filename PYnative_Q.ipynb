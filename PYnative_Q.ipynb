{
  "nbformat": 4,
  "nbformat_minor": 0,
  "metadata": {
    "colab": {
      "provenance": [],
      "authorship_tag": "ABX9TyPpDYI5Zf4HjpyulL7XBrPk",
      "include_colab_link": true
    },
    "kernelspec": {
      "name": "python3",
      "display_name": "Python 3"
    },
    "language_info": {
      "name": "python"
    }
  },
  "cells": [
    {
      "cell_type": "markdown",
      "metadata": {
        "id": "view-in-github",
        "colab_type": "text"
      },
      "source": [
        "<a href=\"https://colab.research.google.com/github/Nikkiie/Python-questions/blob/main/PYnative_Q.ipynb\" target=\"_parent\"><img src=\"https://colab.research.google.com/assets/colab-badge.svg\" alt=\"Open In Colab\"/></a>"
      ]
    },
    {
      "cell_type": "markdown",
      "source": [
        "STRING-Q"
      ],
      "metadata": {
        "id": "h-JkR72r1HOG"
      }
    },
    {
      "cell_type": "code",
      "execution_count": null,
      "metadata": {
        "colab": {
          "base_uri": "https://localhost:8080/"
        },
        "id": "zJOOp4Nd098j",
        "outputId": "acf97f1b-f2d9-4404-e614-500b5731ba15"
      },
      "outputs": [
        {
          "output_type": "stream",
          "name": "stdout",
          "text": [
            "New String: mgb\n"
          ]
        }
      ],
      "source": [
        "# Write a program to create a new string made of an input string’s first, middle, and last character.\n",
        "\n",
        "s = 'mongodb'\n",
        "res = s[0]\n",
        "l = len(s)\n",
        "div = int(l/2)\n",
        "res = res + s[div]\n",
        "res = res + s[-1]\n",
        "print(\"New String:\", res)\n"
      ]
    },
    {
      "cell_type": "code",
      "source": [
        "# Write a program to create a new string made of the middle three characters of an input string.\n",
        "\n",
        "s = 'mongodb'\n",
        "l = len(s)\n",
        "div = int(l/2)\n",
        "div"
      ],
      "metadata": {
        "colab": {
          "base_uri": "https://localhost:8080/"
        },
        "id": "GazoWWsP1pwm",
        "outputId": "293c3a26-f6a2-478d-8290-96c0c24bfd75"
      },
      "execution_count": null,
      "outputs": [
        {
          "output_type": "execute_result",
          "data": {
            "text/plain": [
              "3"
            ]
          },
          "metadata": {},
          "execution_count": 6
        }
      ]
    },
    {
      "cell_type": "code",
      "source": [
        "# Given two strings, s1 and s2. Write a program to create a new string s3 by appending s2 in the middle of s1.\n",
        "\n",
        "s1 = \"Ault\"\n",
        "s2 = \"Kelly\"\n",
        "\n",
        "s3 = int(len(s1)/2)\n",
        "x = s1[:s3:]\n",
        "x = x + s2\n",
        "x = x + s1[s3:]\n",
        "print(x)"
      ],
      "metadata": {
        "id": "7vckhoU11puL",
        "colab": {
          "base_uri": "https://localhost:8080/"
        },
        "outputId": "f1de4f3e-40cf-4352-b3c6-aae260c93c06"
      },
      "execution_count": 3,
      "outputs": [
        {
          "output_type": "stream",
          "name": "stdout",
          "text": [
            "AuKellylt\n"
          ]
        }
      ]
    },
    {
      "cell_type": "code",
      "source": [
        "# Given two strings, s1 and s2, write a program to return a new string made of s1 and s2’s first, middle, and last characters.???\n",
        "\n",
        "s1 = \"America\"\n",
        "s2 = \"Japan\"\n",
        "\n",
        "s3 = int(len(s1)/2)\n",
        "x = s1[:s3:]"
      ],
      "metadata": {
        "id": "3bIBZu_s1prT"
      },
      "execution_count": null,
      "outputs": []
    },
    {
      "cell_type": "code",
      "source": [
        "# Arrange string characters such that lowercase letters should come first\n",
        "\n",
        "s1 = \"PyNaTiveyuLO\"\n",
        "lower = []\n",
        "upper = []\n",
        "for i in s1:\n",
        "  if i.islower():\n",
        "    lower.append(i)\n",
        "  else:\n",
        "    upper.append(i)\n",
        "\n",
        "print(''.join(lower+upper))\n",
        "  \n",
        "\n"
      ],
      "metadata": {
        "id": "PxSuUdQl1poP",
        "colab": {
          "base_uri": "https://localhost:8080/"
        },
        "outputId": "2045f44e-328a-438a-857f-aed9ffa36bc7"
      },
      "execution_count": 6,
      "outputs": [
        {
          "output_type": "stream",
          "name": "stdout",
          "text": [
            "yaiveyuPNTLO\n"
          ]
        }
      ]
    },
    {
      "cell_type": "code",
      "source": [
        "# Count all letters, digits, and special symbols from a given string\n",
        "\n",
        "s1 = \"P@#yn26at&^&i5ve\"\n",
        "Chars = 0 \n",
        "Digits = 0\n",
        "Symbol =0\n",
        "\n",
        "for ch in s1:\n",
        "  if ch.isalpha():\n",
        "    Chars +=1\n",
        "  elif ch.isdigit():\n",
        "    Digits +=1\n",
        "  else:\n",
        "    Symbol +=1\n",
        "\n",
        "print(Chars)\n",
        "print(Digits)\n",
        "print(Symbol)"
      ],
      "metadata": {
        "id": "KU8W0BKU1pls",
        "colab": {
          "base_uri": "https://localhost:8080/"
        },
        "outputId": "65331b84-a2ce-42ed-a94c-31bddf42fa9c"
      },
      "execution_count": 13,
      "outputs": [
        {
          "output_type": "stream",
          "name": "stdout",
          "text": [
            "8\n",
            "3\n",
            "5\n"
          ]
        }
      ]
    },
    {
      "cell_type": "code",
      "source": [
        "'''Write a program to check if two strings are balanced. \n",
        "For example, strings s1 and s2 are balanced if all the characters in the s1 are present in s2. The character’s position doesn’t matter'''\n",
        "\n",
        "s1 = \"Ynt\"\n",
        "s2 = \"PYnative\"\n",
        "flag = True\n",
        "for i in s1:\n",
        "  if i in s2:\n",
        "    continue\n",
        "  else:\n",
        "    flag = False\n",
        "print(flag)"
      ],
      "metadata": {
        "id": "Ut8PrBxv1pjB",
        "colab": {
          "base_uri": "https://localhost:8080/"
        },
        "outputId": "28ee7ac0-758e-4451-dd04-b30db2067326"
      },
      "execution_count": 20,
      "outputs": [
        {
          "output_type": "stream",
          "name": "stdout",
          "text": [
            "True\n"
          ]
        }
      ]
    },
    {
      "cell_type": "code",
      "source": [],
      "metadata": {
        "id": "-WvSj-M21pf_"
      },
      "execution_count": null,
      "outputs": []
    },
    {
      "cell_type": "code",
      "source": [],
      "metadata": {
        "id": "TER6TZbF1pc1"
      },
      "execution_count": null,
      "outputs": []
    },
    {
      "cell_type": "code",
      "source": [],
      "metadata": {
        "id": "GfwL9BmT1pZy"
      },
      "execution_count": null,
      "outputs": []
    },
    {
      "cell_type": "code",
      "source": [],
      "metadata": {
        "id": "WMoNdYLq1pXT"
      },
      "execution_count": null,
      "outputs": []
    },
    {
      "cell_type": "code",
      "source": [],
      "metadata": {
        "id": "24bJu22d1pUs"
      },
      "execution_count": null,
      "outputs": []
    }
  ]
}