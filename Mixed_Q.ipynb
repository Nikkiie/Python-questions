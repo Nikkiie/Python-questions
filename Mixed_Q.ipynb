{
  "nbformat": 4,
  "nbformat_minor": 0,
  "metadata": {
    "colab": {
      "provenance": [],
      "authorship_tag": "ABX9TyPGKalVlYzzIT45Evo9IwOp",
      "include_colab_link": true
    },
    "kernelspec": {
      "name": "python3",
      "display_name": "Python 3"
    },
    "language_info": {
      "name": "python"
    }
  },
  "cells": [
    {
      "cell_type": "markdown",
      "metadata": {
        "id": "view-in-github",
        "colab_type": "text"
      },
      "source": [
        "<a href=\"https://colab.research.google.com/github/Nikkiie/Python-questions/blob/main/Mixed_Q.ipynb\" target=\"_parent\"><img src=\"https://colab.research.google.com/assets/colab-badge.svg\" alt=\"Open In Colab\"/></a>"
      ]
    },
    {
      "cell_type": "code",
      "execution_count": 2,
      "metadata": {
        "colab": {
          "base_uri": "https://localhost:8080/"
        },
        "id": "oga-HGK_-dXb",
        "outputId": "7ceee412-e531-4d60-983f-facbb273143b"
      },
      "outputs": [
        {
          "output_type": "stream",
          "name": "stdout",
          "text": [
            "Gimme some digits: 7\n",
            "Gimme some digits: 7\n",
            "Sum is =  14\n"
          ]
        }
      ],
      "source": [
        "# program to add two numbers: \n",
        "\n",
        "one = int(input('Gimme some digits: '))\n",
        "two = int(input('Gimme some digits: '))\n",
        "\n",
        "s = one + two\n",
        "print('Sum is = ', s)"
      ]
    },
    {
      "cell_type": "code",
      "source": [
        "# To print max number\n",
        "\n",
        "def maximum(a,b):\n",
        "  if a>b:\n",
        "    return a\n",
        "  else:\n",
        "    return b\n",
        "\n",
        "print('The maximum number is: ', maximum(8,3))"
      ],
      "metadata": {
        "colab": {
          "base_uri": "https://localhost:8080/"
        },
        "id": "28h54c3_-lzs",
        "outputId": "c8d30060-4a68-4a40-b641-62a63ec9b995"
      },
      "execution_count": 4,
      "outputs": [
        {
          "output_type": "stream",
          "name": "stdout",
          "text": [
            "The maximum number is:  8\n"
          ]
        }
      ]
    },
    {
      "cell_type": "code",
      "source": [
        "#To find max of 3 numbers\n",
        "n1 = int(input(\"Enter the number:\"))\n",
        "n2 = int(input(\"Enter the number:\"))\n",
        "n3 = int(input(\"Enter the number:\"))\n",
        "\n",
        "if n1>n2 and n1>n3:\n",
        "  largest = n1\n",
        "elif n2>n1 and n2>n3:\n",
        "  largest = n2\n",
        "else:\n",
        "  largest = n3\n",
        "\n",
        "print('Largest among above is:', largest)\n"
      ],
      "metadata": {
        "colab": {
          "base_uri": "https://localhost:8080/"
        },
        "id": "k8sUCsxS-lw1",
        "outputId": "b75b859d-8118-4be2-8152-5f28c7206036"
      },
      "execution_count": 5,
      "outputs": [
        {
          "output_type": "stream",
          "name": "stdout",
          "text": [
            "Enter the number:6\n",
            "Enter the number:8\n",
            "Enter the number:9\n",
            "Largest among above is: 9\n"
          ]
        }
      ]
    },
    {
      "cell_type": "code",
      "source": [
        "# 2> To find factorial\n",
        "\n",
        "def simple_int(p,r,t):\n",
        "  print('The principal is:', p)\n",
        "  print('The rate is:', r)\n",
        "  print('The time is:', t)\n",
        "  si = (p*r*t)/100\n",
        "  print('The simple int is ',si)\n",
        "  return si\n",
        "\n",
        "simple_int(2,3,4)"
      ],
      "metadata": {
        "colab": {
          "base_uri": "https://localhost:8080/"
        },
        "id": "OKRNk7xj-luE",
        "outputId": "27b50a4e-1a6a-4cb0-c53a-ab00d3c0f78b"
      },
      "execution_count": 8,
      "outputs": [
        {
          "output_type": "stream",
          "name": "stdout",
          "text": [
            "The principal is: 2\n",
            "The rate is: 3\n",
            "The time is: 4\n",
            "The simple int is  0.24\n"
          ]
        },
        {
          "output_type": "execute_result",
          "data": {
            "text/plain": [
              "0.24"
            ]
          },
          "metadata": {},
          "execution_count": 8
        }
      ]
    },
    {
      "cell_type": "code",
      "source": [],
      "metadata": {
        "id": "w2G2gK6X-lrc"
      },
      "execution_count": null,
      "outputs": []
    },
    {
      "cell_type": "code",
      "source": [],
      "metadata": {
        "id": "iGhPcnjk-lo9"
      },
      "execution_count": null,
      "outputs": []
    },
    {
      "cell_type": "code",
      "source": [],
      "metadata": {
        "id": "gmkKhm2--lmN"
      },
      "execution_count": null,
      "outputs": []
    },
    {
      "cell_type": "code",
      "source": [],
      "metadata": {
        "id": "94TM8YxV-ljo"
      },
      "execution_count": null,
      "outputs": []
    },
    {
      "cell_type": "code",
      "source": [],
      "metadata": {
        "id": "RL2xz6JS-lhD"
      },
      "execution_count": null,
      "outputs": []
    },
    {
      "cell_type": "code",
      "source": [],
      "metadata": {
        "id": "I3tzNl28-lef"
      },
      "execution_count": null,
      "outputs": []
    },
    {
      "cell_type": "code",
      "source": [],
      "metadata": {
        "id": "AIN5BAV8-lZ1"
      },
      "execution_count": null,
      "outputs": []
    },
    {
      "cell_type": "code",
      "source": [],
      "metadata": {
        "id": "HtUmgLiI-lWm"
      },
      "execution_count": null,
      "outputs": []
    },
    {
      "cell_type": "code",
      "source": [],
      "metadata": {
        "id": "wCXQrdDF-lTJ"
      },
      "execution_count": null,
      "outputs": []
    }
  ]
}