{
  "nbformat": 4,
  "nbformat_minor": 0,
  "metadata": {
    "colab": {
      "provenance": [],
      "authorship_tag": "ABX9TyOR8d4uTgHFojjuTWaldJbO",
      "include_colab_link": true
    },
    "kernelspec": {
      "name": "python3",
      "display_name": "Python 3"
    },
    "language_info": {
      "name": "python"
    }
  },
  "cells": [
    {
      "cell_type": "markdown",
      "metadata": {
        "id": "view-in-github",
        "colab_type": "text"
      },
      "source": [
        "<a href=\"https://colab.research.google.com/github/Nikkiie/Python-questions/blob/main/Mixed_Q.ipynb\" target=\"_parent\"><img src=\"https://colab.research.google.com/assets/colab-badge.svg\" alt=\"Open In Colab\"/></a>"
      ]
    },
    {
      "cell_type": "code",
      "execution_count": null,
      "metadata": {
        "colab": {
          "base_uri": "https://localhost:8080/"
        },
        "id": "oga-HGK_-dXb",
        "outputId": "7ceee412-e531-4d60-983f-facbb273143b"
      },
      "outputs": [
        {
          "output_type": "stream",
          "name": "stdout",
          "text": [
            "Gimme some digits: 7\n",
            "Gimme some digits: 7\n",
            "Sum is =  14\n"
          ]
        }
      ],
      "source": [
        "# program to add two numbers: \n",
        "\n",
        "one = int(input('Gimme some digits: '))\n",
        "two = int(input('Gimme some digits: '))\n",
        "\n",
        "s = one + two\n",
        "print('Sum is = ', s)"
      ]
    },
    {
      "cell_type": "code",
      "source": [
        "# To print max number\n",
        "\n",
        "def maximum(a,b):\n",
        "  if a>b:\n",
        "    return a\n",
        "  else:\n",
        "    return b\n",
        "\n",
        "print('The maximum number is: ', maximum(8,3))"
      ],
      "metadata": {
        "colab": {
          "base_uri": "https://localhost:8080/"
        },
        "id": "28h54c3_-lzs",
        "outputId": "c8d30060-4a68-4a40-b641-62a63ec9b995"
      },
      "execution_count": null,
      "outputs": [
        {
          "output_type": "stream",
          "name": "stdout",
          "text": [
            "The maximum number is:  8\n"
          ]
        }
      ]
    },
    {
      "cell_type": "code",
      "source": [
        "#To find max of 3 numbers\n",
        "n1 = int(input(\"Enter the number:\"))\n",
        "n2 = int(input(\"Enter the number:\"))\n",
        "n3 = int(input(\"Enter the number:\"))\n",
        "\n",
        "if n1>n2 and n1>n3:\n",
        "  largest = n1\n",
        "elif n2>n1 and n2>n3:\n",
        "  largest = n2\n",
        "else:\n",
        "  largest = n3\n",
        "\n",
        "print('Largest among above is:', largest)\n"
      ],
      "metadata": {
        "colab": {
          "base_uri": "https://localhost:8080/"
        },
        "id": "k8sUCsxS-lw1",
        "outputId": "b75b859d-8118-4be2-8152-5f28c7206036"
      },
      "execution_count": null,
      "outputs": [
        {
          "output_type": "stream",
          "name": "stdout",
          "text": [
            "Enter the number:6\n",
            "Enter the number:8\n",
            "Enter the number:9\n",
            "Largest among above is: 9\n"
          ]
        }
      ]
    },
    {
      "cell_type": "code",
      "source": [
        "#  To find S.I\n",
        "\n",
        "def simple_int(p,r,t):\n",
        "  print('The principal is:', p)\n",
        "  print('The rate is:', r)\n",
        "  print('The time is:', t)\n",
        "  si = (p*r*t)/100\n",
        "  print('The simple int is ',si)\n",
        "  return si\n",
        "\n",
        "simple_int(2,3,4)"
      ],
      "metadata": {
        "colab": {
          "base_uri": "https://localhost:8080/"
        },
        "id": "OKRNk7xj-luE",
        "outputId": "27b50a4e-1a6a-4cb0-c53a-ab00d3c0f78b"
      },
      "execution_count": null,
      "outputs": [
        {
          "output_type": "stream",
          "name": "stdout",
          "text": [
            "The principal is: 2\n",
            "The rate is: 3\n",
            "The time is: 4\n",
            "The simple int is  0.24\n"
          ]
        },
        {
          "output_type": "execute_result",
          "data": {
            "text/plain": [
              "0.24"
            ]
          },
          "metadata": {},
          "execution_count": 8
        }
      ]
    },
    {
      "cell_type": "code",
      "source": [
        "# To find factorial ??\n",
        "\n",
        "n = int(input('Enter a number: '))\n",
        "result = 1 # this will hold final output\n",
        "for i in range(n, 0,-1): # we want n in backward, where starting is n ending is 0 and stepping is -1\n",
        "  result = result*i\n",
        "print(\"Factorial of\", n, \"is\", result)"
      ],
      "metadata": {
        "id": "w2G2gK6X-lrc",
        "colab": {
          "base_uri": "https://localhost:8080/"
        },
        "outputId": "73c58a25-94a1-4908-b1c5-43e116605146"
      },
      "execution_count": null,
      "outputs": [
        {
          "output_type": "stream",
          "name": "stdout",
          "text": [
            "Enter a number: 5\n",
            "Factorial of 5 is 120\n"
          ]
        }
      ]
    },
    {
      "cell_type": "code",
      "source": [
        "#To swap the numbers\n",
        "\n",
        "a = int(input(\"Enter the number:\"))\n",
        "b = int(input(\"Enter the number:\"))\n",
        "\n",
        "c = a\n",
        "a = b\n",
        "b = c\n",
        "\n",
        "print(\"After swapping\")\n",
        "print(\"The value of a is\", a)\n",
        "print(\"The value of b is\", b)"
      ],
      "metadata": {
        "id": "iGhPcnjk-lo9",
        "colab": {
          "base_uri": "https://localhost:8080/"
        },
        "outputId": "06098201-bab0-4c4b-ee41-8334d861c540"
      },
      "execution_count": null,
      "outputs": [
        {
          "output_type": "stream",
          "name": "stdout",
          "text": [
            "Enter the number:0\n",
            "Enter the number:9\n",
            "After swapping\n",
            "The value of a is 9\n",
            "The value of b is 0\n"
          ]
        }
      ]
    },
    {
      "cell_type": "code",
      "source": [
        "#To swap the numbers without the third variable\n",
        "\n",
        "a = int(input(\"Enter the number:\"))\n",
        "b = int(input(\"Enter the number:\"))\n",
        "\n",
        "a = a+b\n",
        "b = a-b\n",
        "a = a-b\n",
        "\n",
        "print(\"After swapping\")\n",
        "print(\"The value of a is\", a)\n",
        "print(\"The value of b is\", b)"
      ],
      "metadata": {
        "id": "gmkKhm2--lmN",
        "colab": {
          "base_uri": "https://localhost:8080/"
        },
        "outputId": "e3bdc40c-4a36-4911-edaa-07c7855761ea"
      },
      "execution_count": null,
      "outputs": [
        {
          "output_type": "stream",
          "name": "stdout",
          "text": [
            "Enter the number:66\n",
            "Enter the number:90\n",
            "After swapping\n",
            "The value of a is 90\n",
            "The value of b is 66\n"
          ]
        }
      ]
    },
    {
      "cell_type": "code",
      "source": [
        "# To find C.I\n",
        "\n",
        "def C_I(p,r,t):\n",
        "  amount = p*(pow((1+r/100),t))\n",
        "  compound_interest = amount-p\n",
        "  print(\"Compound Interest is\", compound_interest)\n",
        "\n",
        "C_I(10000,10.25,5)\n"
      ],
      "metadata": {
        "id": "94TM8YxV-ljo",
        "colab": {
          "base_uri": "https://localhost:8080/"
        },
        "outputId": "ec5057c9-0d92-4782-e049-913946f73a0d"
      },
      "execution_count": null,
      "outputs": [
        {
          "output_type": "stream",
          "name": "stdout",
          "text": [
            "Compound Interest is 6288.946267774416\n"
          ]
        }
      ]
    },
    {
      "cell_type": "code",
      "source": [
        "#Program to find area of circle\n",
        "\n",
        "r = int(input(\"Enter area in number:\"))\n",
        "formula = r*r*3.14\n",
        "\n",
        "print(\"Area of circle is:\", formula)"
      ],
      "metadata": {
        "id": "RL2xz6JS-lhD",
        "colab": {
          "base_uri": "https://localhost:8080/"
        },
        "outputId": "54d63612-fc24-4560-d00f-0542509eb075"
      },
      "execution_count": null,
      "outputs": [
        {
          "output_type": "stream",
          "name": "stdout",
          "text": [
            "Enter area in number:3\n",
            "Area of circle is: 28.26\n"
          ]
        }
      ]
    },
    {
      "cell_type": "code",
      "source": [
        "# To check entered number is prime or not - a number that can be divided exactly only by itself and 1, for example 7, 17 and 41\n",
        "\n",
        "num = int(input(\"Enter the number:\"))\n",
        "if num > 1:\n",
        "  for i in range(2, num):\n",
        "    if (num%2) == 0:\n",
        "      print(num, \"is NOT a PRIME number\")\n",
        "      break\n",
        "    else:\n",
        "      print(num, 'is a prime number')\n",
        "      break\n",
        "else:\n",
        "  print(num, \"IT is NOT a PRIME number\") "
      ],
      "metadata": {
        "id": "I3tzNl28-lef",
        "colab": {
          "base_uri": "https://localhost:8080/"
        },
        "outputId": "d5b91bfb-19fb-4559-853a-888169fe382f"
      },
      "execution_count": null,
      "outputs": [
        {
          "output_type": "stream",
          "name": "stdout",
          "text": [
            "Enter the number:10\n",
            "10 is NOT a PRIME number\n"
          ]
        }
      ]
    },
    {
      "cell_type": "code",
      "source": [
        "# To print prime numbers\n",
        "\n",
        "lower = int(input(\"Enter the lower number:\"))\n",
        "upper = int(input(\"Enter the upper number:\"))\n",
        "\n",
        "for i in range(lower, upper+1):\n",
        "  if i>1:\n",
        "    for j in range(2, i):\n",
        "      if (i%j)==0:\n",
        "        break\n",
        "      else:\n",
        "        print(i)\n",
        "        break"
      ],
      "metadata": {
        "id": "AIN5BAV8-lZ1",
        "colab": {
          "base_uri": "https://localhost:8080/"
        },
        "outputId": "2a075cad-19c2-4ab1-b309-849ff631e740"
      },
      "execution_count": null,
      "outputs": [
        {
          "output_type": "stream",
          "name": "stdout",
          "text": [
            "Enter the lower number:3\n",
            "Enter the upper number:9\n",
            "3\n",
            "5\n",
            "7\n",
            "9\n"
          ]
        }
      ]
    },
    {
      "cell_type": "code",
      "source": [
        "# Program for Sum of square of first n natural numbers\n",
        "\n",
        "n = int(input(\"Enter the number till u want sum :\"))\n",
        "i = 1\n",
        "sum = 0\n",
        "\n",
        "while i<=n:\n",
        "  sum = sum + (i*i) # i value will change everytime until the condition in while loop satisfies\n",
        "  i = i+1\n",
        "print(sum, 'is sum' )\n",
        "\n",
        "# for cube just multiply i three times----------------------"
      ],
      "metadata": {
        "id": "HtUmgLiI-lWm",
        "colab": {
          "base_uri": "https://localhost:8080/"
        },
        "outputId": "d15e2f8d-8591-40e0-ca3b-bfbff63fc2db"
      },
      "execution_count": null,
      "outputs": [
        {
          "output_type": "stream",
          "name": "stdout",
          "text": [
            "Enter the number till u want sum :2\n",
            "5 is sum\n"
          ]
        }
      ]
    },
    {
      "cell_type": "code",
      "source": [
        "# Python program to print duplicates from a list of integers\n",
        "\n",
        "lis = [1, 2, 1, 2, 3, 4, 5, 1, 1, 2, 5, 6, 7, 8, 9, 9]\n",
        "unq_list = []\n",
        "dup_list = []\n",
        "\n",
        "for i in lis:\n",
        "  if i not in unq_list:\n",
        "    unq_list.append(i)\n",
        "  elif i not in dup_list:\n",
        "    dup_list.append(i)\n",
        "\n",
        "print(dup_list)"
      ],
      "metadata": {
        "id": "wCXQrdDF-lTJ",
        "colab": {
          "base_uri": "https://localhost:8080/"
        },
        "outputId": "61e6f3a5-8628-4ace-f355-e1b047181db6"
      },
      "execution_count": null,
      "outputs": [
        {
          "output_type": "stream",
          "name": "stdout",
          "text": [
            "[1, 2, 5, 9]\n"
          ]
        }
      ]
    },
    {
      "cell_type": "code",
      "source": [
        "#Fibonacci numbers series\n",
        "\n",
        "num =  int(input(\"Enter the number till you want in this series:\"))\n",
        "first = 0\n",
        "second = 1\n",
        "for i in range(num):\n",
        "  print(first) # it prints 0 however times num is given\n",
        "  temp = first\n",
        "  first = second\n",
        "  second = temp + second"
      ],
      "metadata": {
        "colab": {
          "base_uri": "https://localhost:8080/"
        },
        "id": "lA-nnSoOAB-L",
        "outputId": "62254c94-5fd7-4478-d01e-5718ab9020d7"
      },
      "execution_count": null,
      "outputs": [
        {
          "output_type": "stream",
          "name": "stdout",
          "text": [
            "Enter the number till you want in this series:7\n",
            "0\n",
            "1\n",
            "1\n",
            "2\n",
            "3\n",
            "5\n",
            "8\n"
          ]
        }
      ]
    },
    {
      "cell_type": "code",
      "source": [
        "# To check whether number is fibonacci or not\n",
        "\n",
        "import math\n",
        "\n",
        "def PerSq(x):\n",
        "  s = int(math.sqrt(x)) # it gives the sqrt of x, it will give result in flot and so using int we convert it in integer\n",
        "  return s*s == x\n",
        "\n",
        "n = int(input(\"Enter a number: \"))\n",
        "result1 = 5*(n*n)+4 # the given n number after solving should be a perfect sq or atleast one of them i.e -4 one should be per sq\n",
        "result2 = 5*(n*n)-4 # the given n number after solving should be a perfect sq or atleast one of them i.e +4 one should be per sq\n",
        "\n",
        "if PerSq(result1) or PerSq(result2):\n",
        "  print(n, \"is a fibonacci number-impressive\")\n",
        "else:\n",
        "  print(n, \"is not a fibonacci number-duh\")"
      ],
      "metadata": {
        "id": "sWwnjsQ8AB6x",
        "colab": {
          "base_uri": "https://localhost:8080/"
        },
        "outputId": "0b16a51f-f840-47e3-b97c-5e5b213cdd83"
      },
      "execution_count": null,
      "outputs": [
        {
          "output_type": "stream",
          "name": "stdout",
          "text": [
            "Enter a number: 10\n",
            "10 is not a fibonacci number-duh\n"
          ]
        }
      ]
    },
    {
      "cell_type": "code",
      "source": [
        "#. Write a program that will convert celsius value to fahrenheit\n",
        "\n",
        "temp = float(input(\"Enter the temp:\"))\n",
        "fahrenheit = (temp*1.8)+32\n",
        "print(fahrenheit)"
      ],
      "metadata": {
        "id": "MYCFTyaiAB4Q",
        "colab": {
          "base_uri": "https://localhost:8080/"
        },
        "outputId": "87ea06ef-2831-4363-8010-31d1a0a5f102"
      },
      "execution_count": null,
      "outputs": [
        {
          "output_type": "stream",
          "name": "stdout",
          "text": [
            "Enter the temp:5.2\n",
            "41.36\n"
          ]
        }
      ]
    },
    {
      "cell_type": "code",
      "source": [
        "#To check entered number is perfect or not PF:-is a positive integer that is equal to the sum of its proper divisors. The smallest perfect number is 6, which is the sum of 1, 2, and 3.\n",
        "\n",
        "num =  int(input(\"Enter the number, I know you can :) \"))\n",
        "result = 0\n",
        "\n",
        "for i in range(1, num):\n",
        "  if num%i == 0:\n",
        "    result = result+i\n",
        "if result == num:\n",
        "  print(num,\"is perfect no\")\n",
        "else:\n",
        "  print(num,\"is not a perfect no\")\n"
      ],
      "metadata": {
        "id": "cGNmwyBJAB1T",
        "colab": {
          "base_uri": "https://localhost:8080/"
        },
        "outputId": "ab33779e-09a5-4624-fca3-6a870682e1ef"
      },
      "execution_count": null,
      "outputs": [
        {
          "output_type": "stream",
          "name": "stdout",
          "text": [
            "Enter the number, I know you can :)90\n",
            "90 is not a perfect no\n"
          ]
        }
      ]
    },
    {
      "cell_type": "code",
      "source": [
        "#To remove multiple elements from a list\n",
        "\n",
        "listnum = [12, 44, 67, 89]\n",
        "del listnum[0:2]\n",
        "print(listnum)"
      ],
      "metadata": {
        "id": "RoJW3QaVABvj",
        "colab": {
          "base_uri": "https://localhost:8080/"
        },
        "outputId": "e6da5365-a27f-4bc6-8c1e-a6ecf9deb496"
      },
      "execution_count": null,
      "outputs": [
        {
          "output_type": "stream",
          "name": "stdout",
          "text": [
            "[67, 89]\n"
          ]
        }
      ]
    },
    {
      "cell_type": "code",
      "source": [
        "#To count vowels from a sentence\n",
        "\n",
        "sentence = input(\"Enter the sentence:\")\n",
        "sentence1 = sentence.lower()\n",
        "vowel = ['a','e','i','o','u']\n",
        "count = 0\n",
        "\n",
        "for ch in sentence1:\n",
        "  if ch in vowel:\n",
        "    count = count + 1\n",
        "\n",
        "print(\"Number of vowels in given sentence is:\",count)\n",
        "\n"
      ],
      "metadata": {
        "colab": {
          "base_uri": "https://localhost:8080/"
        },
        "id": "Xx00I_4shIQD",
        "outputId": "94f04cea-a3be-425c-9e80-0db26299b3ec"
      },
      "execution_count": null,
      "outputs": [
        {
          "output_type": "stream",
          "name": "stdout",
          "text": [
            "Enter the sentence:cause am the one\n",
            "Number of vowels in given sentence is: 7\n"
          ]
        }
      ]
    },
    {
      "cell_type": "markdown",
      "source": [
        "**String que**"
      ],
      "metadata": {
        "id": "w-VerVvMT-W_"
      }
    },
    {
      "cell_type": "code",
      "source": [
        "# Program to print string whose number are more than 5\n",
        "\n",
        "l1 = ['Apple', \"Grapes\", \"Lemon\", \"pomogrenate\", \"litchi\", \"yoghurt\"]\n",
        "l2 = []\n",
        "l3 = lambda x: len(x)>5\n",
        "\n",
        "for y in l1:\n",
        "  if l3(y)== True:\n",
        "    l2.append(y)\n",
        "print(l2)\n",
        "\n"
      ],
      "metadata": {
        "id": "gK6u47U4hIN2",
        "colab": {
          "base_uri": "https://localhost:8080/"
        },
        "outputId": "b2ef1f54-d0df-4e43-93bf-b7cd39f48c3e"
      },
      "execution_count": null,
      "outputs": [
        {
          "output_type": "stream",
          "name": "stdout",
          "text": [
            "['Grapes', 'pomogrenate', 'litchi', 'yoghurt']\n"
          ]
        }
      ]
    },
    {
      "cell_type": "code",
      "source": [
        "# program to reverse given string\n",
        "'''\n",
        "s = 'nikki'\n",
        "rev = s[::-1]\n",
        "print(rev)\n",
        "'''\n",
        "# without using slicing\n",
        "\n",
        "s = 'nikki'\n",
        "emp = ''\n",
        "i = len(s)-1\n",
        "while i> 0:\n",
        "  emp = emp + s[i]\n",
        "  i = i-1\n",
        "print(emp)"
      ],
      "metadata": {
        "id": "sWjbAMO1hILp",
        "colab": {
          "base_uri": "https://localhost:8080/"
        },
        "outputId": "efc7959a-aed8-4e2e-87f1-44f5dfe391c3"
      },
      "execution_count": null,
      "outputs": [
        {
          "output_type": "stream",
          "name": "stdout",
          "text": [
            "ikki\n"
          ]
        }
      ]
    },
    {
      "cell_type": "code",
      "source": [
        "#program to reverse order of words\n",
        "\n",
        "s = 'Watashi wa saigo anatawa des'\n",
        "l = s.split()\n",
        "l1 = l[::-1]\n",
        "l2 = ' '.join(l1)\n",
        "l2"
      ],
      "metadata": {
        "id": "2Nop2LU9hIJP",
        "colab": {
          "base_uri": "https://localhost:8080/",
          "height": 35
        },
        "outputId": "99d37cc6-4599-4b46-f2d3-b052536d37a3"
      },
      "execution_count": null,
      "outputs": [
        {
          "output_type": "execute_result",
          "data": {
            "text/plain": [
              "'des anatawa saigo wa Watashi'"
            ],
            "application/vnd.google.colaboratory.intrinsic+json": {
              "type": "string"
            }
          },
          "metadata": {},
          "execution_count": 19
        }
      ]
    },
    {
      "cell_type": "code",
      "source": [
        "# to reverse internal content of each word\n",
        "\n",
        "s = \"Anatawa des osomama des shino nu\"\n",
        "l = s.split()\n",
        "l1 = []\n",
        "for word in l:\n",
        "  l1.append(word[::-1])\n",
        "out = ' '.join(l1)\n",
        "print(l1)\n"
      ],
      "metadata": {
        "id": "nJFb7eW2hIGi",
        "colab": {
          "base_uri": "https://localhost:8080/"
        },
        "outputId": "07d3a8b5-05ab-4093-f323-e18f0e4f604c"
      },
      "execution_count": null,
      "outputs": [
        {
          "output_type": "stream",
          "name": "stdout",
          "text": [
            "['awatanA', 'sed', 'amamoso', 'sed', 'onihs', 'un']\n"
          ]
        }
      ]
    },
    {
      "cell_type": "code",
      "source": [
        "#to print char present at even odd seperately\n",
        "\n",
        "string = \"qwerty\"\n",
        "i = 0\n",
        "print(\"Characters present at even index\")\n",
        "while (i<len(string)):\n",
        "  print(string[i])\n",
        "  i = i+2\n",
        "\n",
        "#for odd just change i = 1\n"
      ],
      "metadata": {
        "id": "KWJzRadLhIEU",
        "colab": {
          "base_uri": "https://localhost:8080/"
        },
        "outputId": "97b73efe-82e2-4039-84a2-5c58d502e9a6"
      },
      "execution_count": null,
      "outputs": [
        {
          "output_type": "stream",
          "name": "stdout",
          "text": [
            "Characters present at even index\n",
            "q\n",
            "e\n",
            "t\n"
          ]
        }
      ]
    },
    {
      "cell_type": "code",
      "source": [
        "# to sort char of strings first alpha followed by digits\n",
        "\n",
        "s = 'B3H5j8L0'\n",
        "alphas = []\n",
        "digits = []\n",
        "\n",
        "for ch in s:\n",
        "  if ch.isalpha():\n",
        "    alphas.append(ch)\n",
        "  else:\n",
        "    digits.append(ch)\n",
        "\n",
        "output = ' '.join(sorted(alphas) + sorted(digits))\n",
        "print(output)"
      ],
      "metadata": {
        "id": "Zfp2EXtVhH_5",
        "colab": {
          "base_uri": "https://localhost:8080/"
        },
        "outputId": "553ede45-7130-4ce9-8f4d-0ef35de603eb"
      },
      "execution_count": 3,
      "outputs": [
        {
          "output_type": "stream",
          "name": "stdout",
          "text": [
            "B H L j 0 3 5 8\n"
          ]
        }
      ]
    },
    {
      "cell_type": "code",
      "source": [
        "def s1(**Kwargs):\n",
        "  print(Kwargs)\n",
        "\n",
        "s1(name='Nik', rollno = 100, marks = 900)"
      ],
      "metadata": {
        "colab": {
          "base_uri": "https://localhost:8080/"
        },
        "id": "MqnObGHLXXsO",
        "outputId": "521df456-0541-4299-fe43-58bf437dfc9a"
      },
      "execution_count": 4,
      "outputs": [
        {
          "output_type": "stream",
          "name": "stdout",
          "text": [
            "{'name': 'Nik', 'rollno': 100, 'marks': 900}\n"
          ]
        }
      ]
    },
    {
      "cell_type": "code",
      "source": [
        "# prg for following requirement in = a4b3c2 out = aaaabbbcc\n",
        "\n",
        "s = 'a4b3c2'\n",
        "output = ''\n",
        "\n",
        "for ch in s:\n",
        "  if ch.isalpha():\n",
        "    x = ch\n",
        "  else:\n",
        "    d = int(ch)\n",
        "    output = output + x*d\n",
        "print(''.join(sorted(output)))"
      ],
      "metadata": {
        "colab": {
          "base_uri": "https://localhost:8080/"
        },
        "id": "q2mjDMZZXXpl",
        "outputId": "9181cc93-6078-42bb-b25c-6e7775e86805"
      },
      "execution_count": 5,
      "outputs": [
        {
          "output_type": "stream",
          "name": "stdout",
          "text": [
            "aaaabbbcc\n"
          ]
        }
      ]
    },
    {
      "cell_type": "code",
      "source": [
        "#in = abaabbca  out = 4a3b1c ???\n",
        "\n",
        "s = 'abaabbca'\n",
        "d = {}\n",
        "\n",
        "for ch in s:\n",
        "  d[ch] = d.get(ch, 0)+1\n"
      ],
      "metadata": {
        "id": "VzIP9UJLXXnC"
      },
      "execution_count": null,
      "outputs": []
    },
    {
      "cell_type": "code",
      "source": [
        "# To remove duplicate values from string\n",
        "\n",
        "s = 'asdffgghaeryjkll'\n",
        "output = ''\n",
        "\n",
        "for ch in s:\n",
        "  if ch not in output:\n",
        "    output = output + ch\n",
        "print(output)"
      ],
      "metadata": {
        "colab": {
          "base_uri": "https://localhost:8080/"
        },
        "id": "NgKVv2OBXXjq",
        "outputId": "6e8414f2-0314-4eb7-9b5f-291a3ffc820f"
      },
      "execution_count": 8,
      "outputs": [
        {
          "output_type": "stream",
          "name": "stdout",
          "text": [
            "asdfgheryjkl\n"
          ]
        }
      ]
    },
    {
      "cell_type": "code",
      "source": [
        "#Find no. of occurances of each char present in str\n",
        "\n",
        "s = 'AAVVHHJ'\n",
        "l = []\n",
        "\n",
        "for ch in s:\n",
        "  if ch not in l:\n",
        "    l.append(ch)\n",
        "for ch in sorted(l):\n",
        "  print('{} occurs {} times'.format(ch, s.count(ch)))"
      ],
      "metadata": {
        "colab": {
          "base_uri": "https://localhost:8080/"
        },
        "id": "XtiJLHofXXfx",
        "outputId": "26590fb7-7176-4007-cb1f-3b702c1e1907"
      },
      "execution_count": 9,
      "outputs": [
        {
          "output_type": "stream",
          "name": "stdout",
          "text": [
            "A occurs 2 times\n",
            "H occurs 2 times\n",
            "J occurs 1 times\n",
            "V occurs 2 times\n"
          ]
        }
      ]
    },
    {
      "cell_type": "code",
      "source": [],
      "metadata": {
        "id": "1kS-eSZmXXcb"
      },
      "execution_count": null,
      "outputs": []
    },
    {
      "cell_type": "code",
      "source": [],
      "metadata": {
        "id": "pGJ_l7iAXXZU"
      },
      "execution_count": null,
      "outputs": []
    }
  ]
}