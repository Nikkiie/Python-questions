{
  "nbformat": 4,
  "nbformat_minor": 0,
  "metadata": {
    "colab": {
      "provenance": [],
      "authorship_tag": "ABX9TyPXrN05SBNBpGnZvByqHpfw",
      "include_colab_link": true
    },
    "kernelspec": {
      "name": "python3",
      "display_name": "Python 3"
    },
    "language_info": {
      "name": "python"
    }
  },
  "cells": [
    {
      "cell_type": "markdown",
      "metadata": {
        "id": "view-in-github",
        "colab_type": "text"
      },
      "source": [
        "<a href=\"https://colab.research.google.com/github/Nikkiie/Python-questions/blob/main/Mixed_Q.ipynb\" target=\"_parent\"><img src=\"https://colab.research.google.com/assets/colab-badge.svg\" alt=\"Open In Colab\"/></a>"
      ]
    },
    {
      "cell_type": "markdown",
      "source": [
        "### PY-Q from pynative"
      ],
      "metadata": {
        "id": "LaCaejLyWWZ4"
      }
    },
    {
      "cell_type": "code",
      "source": [
        "# Print First 10 natural numbers using while loop\n",
        "\n",
        "n = 1\n",
        "while n <= 10:\n",
        "  print(n)\n",
        "  n = n+1"
      ],
      "metadata": {
        "id": "5vEX4ydwWVwP"
      },
      "execution_count": null,
      "outputs": []
    },
    {
      "cell_type": "code",
      "source": [
        "# triangle pattern\n",
        "\n",
        "n = int(input('Enter'))\n",
        "for i in range(1, n+1):\n",
        "  for j in range(1, i+1):\n",
        "    print(j,end =' ')\n",
        "  print()\n"
      ],
      "metadata": {
        "id": "xPB7Oth9WVsw"
      },
      "execution_count": null,
      "outputs": []
    },
    {
      "cell_type": "code",
      "source": [
        "# Write a program to accept a number from a user and calculate the sum of all numbers from 1 to a given number\n",
        "\n",
        "n = int(input('Enter'))\n",
        "sum = 0\n",
        "for i in range(1, n+1,1):\n",
        "  sum = sum+i\n",
        "print(sum)\n",
        "\n"
      ],
      "metadata": {
        "colab": {
          "base_uri": "https://localhost:8080/"
        },
        "id": "dJtb_p0pWViR",
        "outputId": "85cf6e76-f27a-48ad-d88b-fe44d42121d0"
      },
      "execution_count": null,
      "outputs": [
        {
          "output_type": "stream",
          "name": "stdout",
          "text": [
            "Enter2\n",
            "3\n"
          ]
        }
      ]
    },
    {
      "cell_type": "code",
      "source": [
        "# Write a program to print multiplication table of a given number\n",
        "\n",
        "n = int(input('Enter a number to get is table-'))\n",
        "for i in range(1, n*1):\n",
        "  "
      ],
      "metadata": {
        "id": "KHz1o7hnWVcY"
      },
      "execution_count": null,
      "outputs": []
    },
    {
      "cell_type": "code",
      "source": [
        "number = int(input('Input a number: '))\n",
        "for i in range(1,11):\n",
        "  p = number*i\n",
        "  print(p)\n",
        "  print('%d x %d = %d' % (number, i,  number*i))\n"
      ],
      "metadata": {
        "id": "qE4RqofhWVYM"
      },
      "execution_count": null,
      "outputs": []
    },
    {
      "cell_type": "code",
      "source": [
        "# Write a program to display only those numbers from a list that satisfy the following conditions\n",
        "'''\n",
        "The number must be divisible by five\n",
        "If the number is greater than 150, then skip it and move to the next number\n",
        "If the number is greater than 500, then stop the loop'''\n",
        "\n",
        "n = [12, 75, 150, 180, 145, 525, 50]\n",
        "for item in n:\n",
        "    if item > 500:\n",
        "        break\n",
        "    elif item > 150:\n",
        "        continue\n",
        "    elif item % 5 == 0:\n",
        "        print(item)\n",
        "\n",
        "\n",
        "   \n"
      ],
      "metadata": {
        "colab": {
          "base_uri": "https://localhost:8080/"
        },
        "id": "2y7kIIJCWVSA",
        "outputId": "2a34d02d-a111-49d7-811d-3e8199be188a"
      },
      "execution_count": null,
      "outputs": [
        {
          "output_type": "stream",
          "name": "stdout",
          "text": [
            "75\n",
            "150\n",
            "145\n"
          ]
        }
      ]
    },
    {
      "cell_type": "code",
      "source": [
        "# Write a program to count the total number of digits in a number using a while loop.\n",
        "\n",
        "number = int(input('Input a number: '))\n",
        "count = 0\n",
        "while number != 0:\n",
        "  number = number //10\n",
        "  count +=1\n",
        "print('Total digits are 'count)\n"
      ],
      "metadata": {
        "id": "OBHQblqRWVPv",
        "colab": {
          "base_uri": "https://localhost:8080/"
        },
        "outputId": "8abd0feb-2a68-4a89-89df-148dd11ba93d"
      },
      "execution_count": null,
      "outputs": [
        {
          "output_type": "stream",
          "name": "stdout",
          "text": [
            "Input a number: 78695\n",
            "5\n"
          ]
        }
      ]
    },
    {
      "cell_type": "code",
      "source": [
        "# Print list in reverse order using a loop\n",
        "\n",
        "l1 = [10, 20, 30, 40, 50]\n",
        "size = reversed(l1)\n",
        "for item in size:\n",
        "  print(item)\n"
      ],
      "metadata": {
        "id": "Qf0rSUmIWVIP",
        "colab": {
          "base_uri": "https://localhost:8080/"
        },
        "outputId": "49abded1-e451-4231-eaa9-eaa86e12e4ce"
      },
      "execution_count": null,
      "outputs": [
        {
          "output_type": "stream",
          "name": "stdout",
          "text": [
            "50\n",
            "40\n",
            "30\n",
            "20\n",
            "10\n"
          ]
        }
      ]
    },
    {
      "cell_type": "code",
      "source": [
        "# Display numbers from -10 to -1 using for loop\n",
        "\n",
        "for i in range(-10,0,1):\n",
        "  print(i)"
      ],
      "metadata": {
        "colab": {
          "base_uri": "https://localhost:8080/"
        },
        "id": "sWRKqz56eIJJ",
        "outputId": "da77922c-c1c1-4da5-90ba-153aa625a247"
      },
      "execution_count": null,
      "outputs": [
        {
          "output_type": "stream",
          "name": "stdout",
          "text": [
            "-10\n",
            "-9\n",
            "-8\n",
            "-7\n",
            "-6\n",
            "-5\n",
            "-4\n",
            "-3\n",
            "-2\n",
            "-1\n"
          ]
        }
      ]
    },
    {
      "cell_type": "code",
      "source": [
        "# Use else block to display a message “Done” after successful execution of for loop\n",
        "\n",
        "for i in range(5):\n",
        "  print(i)\n",
        "else:\n",
        "  print('Done')"
      ],
      "metadata": {
        "id": "zKu4O82TeIFn",
        "colab": {
          "base_uri": "https://localhost:8080/"
        },
        "outputId": "5c9a25f8-9350-47cc-9eb0-a5082f817c29"
      },
      "execution_count": null,
      "outputs": [
        {
          "output_type": "stream",
          "name": "stdout",
          "text": [
            "0\n",
            "1\n",
            "2\n",
            "3\n",
            "4\n",
            "Done\n"
          ]
        }
      ]
    },
    {
      "cell_type": "code",
      "source": [
        "# Write a program to display all prime numbers within a range\n",
        "\n",
        "start = int(input(\"Enter the number:\"))\n",
        "end = int(input(\"Enter the number:\"))\n",
        "\n",
        "for i in range(start, end+1):\n",
        "  if i > 1:\n",
        "    for j in range(2, i):\n",
        "      if i%j==0:\n",
        "        break\n",
        "    else:\n",
        "      print(i, 'is A prime number')"
      ],
      "metadata": {
        "id": "PUAzXwpieIBm",
        "colab": {
          "base_uri": "https://localhost:8080/"
        },
        "outputId": "b97619b7-44c0-4aee-bd09-1e7edcb82f2e"
      },
      "execution_count": null,
      "outputs": [
        {
          "output_type": "stream",
          "name": "stdout",
          "text": [
            "Enter the number:25\n",
            "Enter the number:50\n",
            "29 is A prime number\n",
            "31 is A prime number\n",
            "37 is A prime number\n",
            "41 is A prime number\n",
            "43 is A prime number\n",
            "47 is A prime number\n"
          ]
        }
      ]
    },
    {
      "cell_type": "code",
      "source": [
        "# Display Fibonacci series up to 10 terms\n",
        "\n",
        "num =  int(input(\"Enter the number till you want in this series:\"))\n",
        "first = 0\n",
        "second = 1\n",
        "for i in range(num):\n",
        "  print(first)\n",
        "  temp = first\n",
        "  first = second\n",
        "  second = temp + second\n",
        " "
      ],
      "metadata": {
        "id": "DgkCFhsyeH51"
      },
      "execution_count": null,
      "outputs": []
    },
    {
      "cell_type": "code",
      "source": [
        "# Find the factorial of a given number\n",
        "\n",
        "n = int(input('Enter a number: '))\n",
        "result = 1\n",
        "for i in range(n,0,-1):\n",
        "  result = result*i\n",
        "print(\"Factorial of\", n, \"is\", result)"
      ],
      "metadata": {
        "colab": {
          "base_uri": "https://localhost:8080/"
        },
        "id": "4xGWth016cWj",
        "outputId": "c3872653-6d6b-4193-9246-08b12ad29537"
      },
      "execution_count": null,
      "outputs": [
        {
          "output_type": "stream",
          "name": "stdout",
          "text": [
            "Enter a number: 5\n",
            "Factorial of 5 is 120\n"
          ]
        }
      ]
    },
    {
      "cell_type": "code",
      "source": [
        "# Reverse a given integer number\n",
        "\n",
        "# using slice\n",
        "n = 76542\n",
        "print(str(n)[::-1])\n",
        "\n",
        "# using while???\n",
        "num = 76542\n",
        "reverse_number = 0\n",
        "print(\"Given Number \", num)\n",
        "while num > 0:\n",
        "    reminder = num % 10\n",
        "    reverse_number = (reverse_number * 10) + reminder\n",
        "    num = num // 10\n",
        "print(\"Revere Number \", reverse_number)"
      ],
      "metadata": {
        "colab": {
          "base_uri": "https://localhost:8080/"
        },
        "id": "cEDGmX-l6cP5",
        "outputId": "d4f4751a-4e62-4379-c9c0-45b8a45b9c10"
      },
      "execution_count": null,
      "outputs": [
        {
          "output_type": "stream",
          "name": "stdout",
          "text": [
            "24567\n",
            "Given Number  76542\n",
            "Revere Number  24567\n"
          ]
        }
      ]
    },
    {
      "cell_type": "code",
      "source": [
        "# Use a loop to display elements from a given list present at odd index positions\n",
        "\n",
        "n = [55, 6, 77, 33, 44, 66, 24, 345, 246]\n",
        "\n",
        "for i in n[1::2]:\n",
        "  print(i, end=' ')\n",
        "   "
      ],
      "metadata": {
        "colab": {
          "base_uri": "https://localhost:8080/"
        },
        "id": "2fXtSUK76cMi",
        "outputId": "2241a783-2140-478d-9d2b-c7e699114c5a"
      },
      "execution_count": null,
      "outputs": [
        {
          "output_type": "stream",
          "name": "stdout",
          "text": [
            "6 33 66 345 "
          ]
        }
      ]
    },
    {
      "cell_type": "code",
      "source": [
        "# Calculate the cube of all numbers from 1 to a given number\n",
        "\n",
        "n = int(input('Enter a number till u want cube: '))\n",
        "\n",
        "if n > 1:\n",
        "  for i in range(1, n+1):\n",
        "    print(i*i*i)\n"
      ],
      "metadata": {
        "colab": {
          "base_uri": "https://localhost:8080/"
        },
        "id": "aa-WwXa66cJg",
        "outputId": "63d9e209-25f5-4dcb-a880-1a393834f02c"
      },
      "execution_count": null,
      "outputs": [
        {
          "output_type": "stream",
          "name": "stdout",
          "text": [
            "Enter a number till u want cube: 5\n",
            "1\n",
            "8\n",
            "27\n",
            "64\n",
            "125\n"
          ]
        }
      ]
    },
    {
      "cell_type": "code",
      "source": [
        "'''Write a program to calculate the sum of series up to n term.\n",
        " For example, if n =5 the series will become 2 + 22 + 222 + 2222 + 22222 = 24690'''\n",
        "\n",
        "n = 5\n",
        "start = 2\n",
        "sq = 0\n",
        "\n",
        "for i in range(0, n):\n",
        "  print(start, end = \"+\")\n",
        "  sq = sq+start\n",
        "  start = start *10 + 2\n",
        "print(\"\\nSum of above series is:\", sq)\n"
      ],
      "metadata": {
        "id": "tTxVUnQa6cGC",
        "colab": {
          "base_uri": "https://localhost:8080/"
        },
        "outputId": "32db030b-ae58-46b5-f7d8-87aca41e8a9e"
      },
      "execution_count": 8,
      "outputs": [
        {
          "output_type": "stream",
          "name": "stdout",
          "text": [
            "2+22+222+2222+22222+\n",
            "Sum of above series is: 24690\n"
          ]
        }
      ]
    },
    {
      "cell_type": "code",
      "source": [
        "# start width pattern using the for loop\n",
        "\n",
        "width = int(input('choose pattern width '))\n",
        "for i in range(1, width):\n",
        "  print('*'*i)\n",
        "for i in range(width, 0, -1):\n",
        "  print('*'*i)"
      ],
      "metadata": {
        "colab": {
          "base_uri": "https://localhost:8080/"
        },
        "id": "x-cyW9bpxFcI",
        "outputId": "6c8a1527-ed04-4e17-fb0d-5fb2603291af"
      },
      "execution_count": 10,
      "outputs": [
        {
          "output_type": "stream",
          "name": "stdout",
          "text": [
            "choose pattern width 3\n",
            "*\n",
            "**\n",
            "***\n",
            "**\n",
            "*\n"
          ]
        }
      ]
    },
    {
      "cell_type": "markdown",
      "source": [
        "**Alma q**"
      ],
      "metadata": {
        "id": "0CPZqqrizL5J"
      }
    },
    {
      "cell_type": "code",
      "source": [
        "#prime or not - a number that can be divided exactly only by itself and 1, for example 7, 17 and 41\n",
        "\n",
        "num = int(input(\"Enter the number:\"))\n",
        "if num >1:\n",
        "  for i in range(2, num): # here range is 2 to num bcz we want the num to be checked with 2 rather than 0 or 1 aur the num which we provided.\n",
        "    if (num%2) ==0:\n",
        "      print(num, 'is NOT a prime number')\n",
        "      break\n",
        "  else:\n",
        "    print(num, 'is A prime number')\n",
        "    \n",
        "else:\n",
        "  print(num, 'is not a prime number') # as 1 is not a prime number so this else will give output that it is not a prime number\n",
        "\n"
      ],
      "metadata": {
        "id": "X8ncqTPhjajy",
        "colab": {
          "base_uri": "https://localhost:8080/"
        },
        "outputId": "93b366b7-47ef-425d-affc-c69dbb076490"
      },
      "execution_count": null,
      "outputs": [
        {
          "output_type": "stream",
          "name": "stdout",
          "text": [
            "Enter the number:7\n",
            "7 is A prime number\n"
          ]
        }
      ]
    },
    {
      "cell_type": "code",
      "source": [
        "#Swap 1st and last element in list\n",
        "\n",
        "l1 = [88,90,77,4,66]\n",
        "l2 = l1[0]\n",
        "l1[0] = l1[len(l1)-1]\n",
        "l1[len(l1)-1] = l2\n",
        "print(l1)"
      ],
      "metadata": {
        "id": "h1a8BOy6jqkQ",
        "colab": {
          "base_uri": "https://localhost:8080/"
        },
        "outputId": "2be50f52-e496-4c49-af34-be4c62e84585"
      },
      "execution_count": null,
      "outputs": [
        {
          "output_type": "stream",
          "name": "stdout",
          "text": [
            "[66, 90, 77, 4, 88]\n"
          ]
        }
      ]
    },
    {
      "cell_type": "code",
      "source": [],
      "metadata": {
        "id": "_xfUN6RF2ZqU"
      },
      "execution_count": null,
      "outputs": []
    },
    {
      "cell_type": "code",
      "source": [
        "# python program to double the number in list of numbers\n",
        "\n",
        "numbers = [1, 2, 3, 4, 5]\n",
        "doubled_numbers = [num * 2 for num in numbers]\n",
        "print(doubled_numbers)"
      ],
      "metadata": {
        "colab": {
          "base_uri": "https://localhost:8080/"
        },
        "outputId": "a5543e4b-7d1f-40c2-9503-8269bd340a8a",
        "id": "cr1y63iRCRfw"
      },
      "execution_count": null,
      "outputs": [
        {
          "output_type": "stream",
          "name": "stdout",
          "text": [
            "[2, 4, 6, 8, 10]\n"
          ]
        }
      ]
    },
    {
      "cell_type": "code",
      "source": [
        "#Swap any two element in list\n",
        "\n",
        "list1 = [88,90,77,4,66]\n",
        "p1,p2 = 1,4\n",
        "list1[p1],list1[p2] = list1[p2],list1[p1]\n",
        "print(list1)"
      ],
      "metadata": {
        "id": "UtveMnxQjwju",
        "colab": {
          "base_uri": "https://localhost:8080/"
        },
        "outputId": "6c01c875-263e-4ec8-c4fe-0514c98a86c1"
      },
      "execution_count": null,
      "outputs": [
        {
          "output_type": "stream",
          "name": "stdout",
          "text": [
            "[88, 66, 77, 4, 90]\n"
          ]
        }
      ]
    },
    {
      "cell_type": "code",
      "source": [
        "# Python program to print Even Numbers in a List also for odd\n",
        "\n",
        "l1 = [10, 21, 4, 45, 66, 93]\n",
        "l2 = []\n",
        "for i in l1:\n",
        "  if i%2==0:\n",
        "    l2.append(i)\n",
        "print(l2)\n",
        "\n",
        "# For odd change 0=1"
      ],
      "metadata": {
        "colab": {
          "base_uri": "https://localhost:8080/"
        },
        "id": "QuOrAryy7EhQ",
        "outputId": "84f8474e-484a-41e2-a4dd-dc258ff87730"
      },
      "execution_count": null,
      "outputs": [
        {
          "output_type": "stream",
          "name": "stdout",
          "text": [
            "[21, 45, 93]\n"
          ]
        }
      ]
    },
    {
      "cell_type": "code",
      "source": [
        "#Whether num is even or odd \n",
        "\n",
        "num = int(input('Enter a number'))\n",
        "if num % 2==0:\n",
        "  print('even')\n",
        "else:\n",
        "  print('odd')\n"
      ],
      "metadata": {
        "colab": {
          "base_uri": "https://localhost:8080/"
        },
        "id": "HZvxKUP-7zUT",
        "outputId": "1f315265-8b25-42d2-eba5-0d285c1b9fc7"
      },
      "execution_count": null,
      "outputs": [
        {
          "output_type": "stream",
          "name": "stdout",
          "text": [
            "Enter a number2\n",
            "even\n"
          ]
        }
      ]
    },
    {
      "cell_type": "code",
      "source": [
        "#Sum of element\n",
        "\n",
        "list1 = [2,34,5,6,6,2]\n",
        "tot = 0\n",
        "\n",
        "for i in range(0, len(list1)):\n",
        "  tot = tot + list1[i]\n",
        "\n",
        "print('sum of elements is', tot)"
      ],
      "metadata": {
        "id": "tSY0fqQlkNts"
      },
      "execution_count": null,
      "outputs": []
    },
    {
      "cell_type": "code",
      "source": [
        "list1 = [2,34,5,6,6,2,1]\n",
        "tot = 0\n",
        "\n",
        "for i in range(0, len(list1)):\n",
        "  tot += list1[i]\n",
        "print('sum of elements is', tot)"
      ],
      "metadata": {
        "colab": {
          "base_uri": "https://localhost:8080/"
        },
        "id": "bjgVUbgCmGZR",
        "outputId": "ec40413b-9c11-43fb-b70a-f2478f22bf71"
      },
      "execution_count": null,
      "outputs": [
        {
          "output_type": "stream",
          "name": "stdout",
          "text": [
            "sum of elements is 56\n"
          ]
        }
      ]
    },
    {
      "cell_type": "code",
      "source": [
        "#count occurance of element i list\n",
        "\n",
        "s = [1,2,3,4,4,5,6,5]\n",
        "l = []\n",
        "\n",
        "for ch in s:\n",
        "  if ch not in l:\n",
        "    l.append(ch)\n",
        "for ch in sorted(l):\n",
        "  print('{} occurs {} times'.format(ch, s.count(ch)))"
      ],
      "metadata": {
        "id": "OcAQVBGakT3e",
        "colab": {
          "base_uri": "https://localhost:8080/"
        },
        "outputId": "11015704-e30b-48ba-e848-e4b96b90b538"
      },
      "execution_count": null,
      "outputs": [
        {
          "output_type": "stream",
          "name": "stdout",
          "text": [
            "1 occurs 1 times\n",
            "2 occurs 1 times\n",
            "3 occurs 1 times\n",
            "4 occurs 2 times\n",
            "5 occurs 2 times\n",
            "6 occurs 1 times\n"
          ]
        }
      ]
    },
    {
      "cell_type": "code",
      "source": [
        "#count occurance of element in string\n",
        "\n",
        "s = 'AAVVHHJ'\n",
        "l = []\n",
        "\n",
        "for ch in s:\n",
        "  if ch not in l:\n",
        "    l.append(ch)\n",
        "for ch in sorted(l):\n",
        "  print('{} occurs {} times'.format(ch, s.count(ch)))"
      ],
      "metadata": {
        "colab": {
          "base_uri": "https://localhost:8080/"
        },
        "id": "RV8DHaQBMEpe",
        "outputId": "9b2ed7d0-636b-4268-8766-0a3af2f78ea3"
      },
      "execution_count": null,
      "outputs": [
        {
          "output_type": "stream",
          "name": "stdout",
          "text": [
            "A occurs 2 times\n",
            "H occurs 2 times\n",
            "J occurs 1 times\n",
            "V occurs 2 times\n"
          ]
        }
      ]
    },
    {
      "cell_type": "code",
      "source": [
        "#Reverse a str\n",
        "\n",
        "n = 'Nope'\n",
        "n2 = n[::-1]\n",
        "n2"
      ],
      "metadata": {
        "id": "7VzHkV3qjaYy",
        "colab": {
          "base_uri": "https://localhost:8080/",
          "height": 35
        },
        "outputId": "ade1ad1c-ea38-434d-87cd-59f7b28534b2"
      },
      "execution_count": null,
      "outputs": [
        {
          "output_type": "execute_result",
          "data": {
            "text/plain": [
              "'epoN'"
            ],
            "application/vnd.google.colaboratory.intrinsic+json": {
              "type": "string"
            }
          },
          "metadata": {},
          "execution_count": 20
        }
      ]
    },
    {
      "cell_type": "code",
      "source": [
        "#program to find second largest number in a list\n",
        "\n",
        "list1 = [10, 20, 20, 4, 45, 45, 45, 99, 99]\n",
        "l2 = list(set(list1))\n",
        "l2.sort()\n",
        "print('Second largest is',l2[-2])"
      ],
      "metadata": {
        "colab": {
          "base_uri": "https://localhost:8080/"
        },
        "id": "W3BP7OleFV9V",
        "outputId": "f731df17-f9d9-4a44-affe-b6fb024ee75c"
      },
      "execution_count": null,
      "outputs": [
        {
          "output_type": "stream",
          "name": "stdout",
          "text": [
            "Second largest is 45\n"
          ]
        }
      ]
    },
    {
      "cell_type": "code",
      "source": [
        "#Smallest and largest number\n",
        "\n",
        "l1 = [10,7,8,20,77,5]\n",
        "l1.sort()\n",
        "print(l1[0])\n",
        "print(l1[-1])"
      ],
      "metadata": {
        "id": "XCcQNPuejaSX",
        "colab": {
          "base_uri": "https://localhost:8080/"
        },
        "outputId": "49b40642-c4cc-4686-b535-3a63f5377c07"
      },
      "execution_count": null,
      "outputs": [
        {
          "output_type": "stream",
          "name": "stdout",
          "text": [
            "5\n",
            "77\n"
          ]
        }
      ]
    },
    {
      "cell_type": "code",
      "source": [
        "#Len of list\n",
        "\n",
        "s= [20,88,99,5,0,33,7,90,0,0]\n",
        "count = 0\n",
        "for i in s:\n",
        "  count = count+1\n",
        "print('len of list is', count)\n"
      ],
      "metadata": {
        "id": "taGXU6RljaOx",
        "colab": {
          "base_uri": "https://localhost:8080/"
        },
        "outputId": "b9ca62d9-07bf-4d66-e3ca-d68e6b55834b"
      },
      "execution_count": null,
      "outputs": [
        {
          "output_type": "stream",
          "name": "stdout",
          "text": [
            "len of str is 10\n"
          ]
        }
      ]
    },
    {
      "cell_type": "code",
      "source": [
        "# Len of string\n",
        "\n",
        "s = 'wodoeof'\n",
        "count = 0   \n",
        "for i in s:\n",
        "  count += 1\n",
        "print('len of string is',count)"
      ],
      "metadata": {
        "colab": {
          "base_uri": "https://localhost:8080/"
        },
        "id": "_yn0sLexjUTJ",
        "outputId": "f612e4be-2f0a-48a9-d712-4f92519825a7"
      },
      "execution_count": null,
      "outputs": [
        {
          "output_type": "stream",
          "name": "stdout",
          "text": [
            "len of string is 7\n"
          ]
        }
      ]
    },
    {
      "cell_type": "code",
      "source": [
        "#Sum of len"
      ],
      "metadata": {
        "id": "V2SiLeM1k1Sd"
      },
      "execution_count": null,
      "outputs": []
    },
    {
      "cell_type": "markdown",
      "source": [
        "### Pattern prgs"
      ],
      "metadata": {
        "id": "YQmOGwuwVaHg"
      }
    },
    {
      "cell_type": "code",
      "source": [
        "# To print triangle pattern \n",
        "\n",
        "n = int(input('Enter a number: '))\n",
        "for i in range(1, n+1):\n",
        "  for j in range(1, i+1):\n",
        "    print(j, end='')\n",
        "  print()\n"
      ],
      "metadata": {
        "colab": {
          "base_uri": "https://localhost:8080/"
        },
        "id": "u6qkUS-kVfPM",
        "outputId": "dba12086-ed85-40dd-867c-1c991d4e678a"
      },
      "execution_count": null,
      "outputs": [
        {
          "output_type": "stream",
          "name": "stdout",
          "text": [
            "Enter a number8\n",
            "1\n",
            "12\n",
            "123\n",
            "1234\n",
            "12345\n",
            "123456\n",
            "1234567\n",
            "12345678\n"
          ]
        }
      ]
    },
    {
      "cell_type": "code",
      "source": [
        "n = int(input('Enter a number: '))\n",
        "for i in range(n,0,-1):\n",
        "  for j in range(1, i+1):\n",
        "    print(j, end='')\n",
        "  print()\n"
      ],
      "metadata": {
        "colab": {
          "base_uri": "https://localhost:8080/"
        },
        "id": "B8KE7ixPVfLQ",
        "outputId": "f96f2589-fa6e-48e7-daa0-f62237e256fa"
      },
      "execution_count": null,
      "outputs": [
        {
          "output_type": "stream",
          "name": "stdout",
          "text": [
            "Enter a number: 9\n",
            "123456789\n",
            "12345678\n",
            "1234567\n",
            "123456\n",
            "12345\n",
            "1234\n",
            "123\n",
            "12\n",
            "1\n"
          ]
        }
      ]
    },
    {
      "cell_type": "code",
      "source": [
        "n = int(input('Enter a number: '))\n",
        "for i in range(1,n+1):\n",
        "  for j in range(1,i+1):\n",
        "    print(i, end='')\n",
        "  print()"
      ],
      "metadata": {
        "colab": {
          "base_uri": "https://localhost:8080/"
        },
        "id": "I23stCOnVfIz",
        "outputId": "ada873d1-c822-4657-e122-e135a7b221c2"
      },
      "execution_count": null,
      "outputs": [
        {
          "output_type": "stream",
          "name": "stdout",
          "text": [
            "Enter a number: 5\n",
            "1\n",
            "22\n",
            "333\n",
            "4444\n",
            "55555\n"
          ]
        }
      ]
    },
    {
      "cell_type": "code",
      "execution_count": null,
      "metadata": {
        "colab": {
          "base_uri": "https://localhost:8080/"
        },
        "id": "oga-HGK_-dXb",
        "outputId": "7ceee412-e531-4d60-983f-facbb273143b"
      },
      "outputs": [
        {
          "output_type": "stream",
          "name": "stdout",
          "text": [
            "Gimme some digits: 7\n",
            "Gimme some digits: 7\n",
            "Sum is =  14\n"
          ]
        }
      ],
      "source": [
        "# program to add two numbers: \n",
        "\n",
        "one = int(input('Gimme some digits: '))\n",
        "two = int(input('Gimme some digits: '))\n",
        "\n",
        "s = one + two\n",
        "print('Sum is = ', s)"
      ]
    },
    {
      "cell_type": "code",
      "source": [
        "# To print max number\n",
        "\n",
        "def maximum(a,b):\n",
        "  if a>b:\n",
        "    return a\n",
        "  else:\n",
        "    return b\n",
        "\n",
        "print('The maximum number is: ', maximum(8,3))"
      ],
      "metadata": {
        "colab": {
          "base_uri": "https://localhost:8080/"
        },
        "id": "28h54c3_-lzs",
        "outputId": "c8d30060-4a68-4a40-b641-62a63ec9b995"
      },
      "execution_count": null,
      "outputs": [
        {
          "output_type": "stream",
          "name": "stdout",
          "text": [
            "The maximum number is:  8\n"
          ]
        }
      ]
    },
    {
      "cell_type": "code",
      "source": [
        "#To find max of 3 numbers\n",
        "\n",
        "n1 = int(input(\"Enter the number:\"))\n",
        "n2 = int(input(\"Enter the number:\"))\n",
        "n3 = int(input(\"Enter the number:\"))\n",
        "\n",
        "if n1>n2 and n1>n3:\n",
        "  largest = n1\n",
        "elif n2>n1 and n2>n3:\n",
        "  largest = n2\n",
        "else:\n",
        "  largest = n3\n",
        "\n",
        "print('Largest among above is:', largest)\n"
      ],
      "metadata": {
        "colab": {
          "base_uri": "https://localhost:8080/"
        },
        "id": "k8sUCsxS-lw1",
        "outputId": "b75b859d-8118-4be2-8152-5f28c7206036"
      },
      "execution_count": null,
      "outputs": [
        {
          "output_type": "stream",
          "name": "stdout",
          "text": [
            "Enter the number:6\n",
            "Enter the number:8\n",
            "Enter the number:9\n",
            "Largest among above is: 9\n"
          ]
        }
      ]
    },
    {
      "cell_type": "code",
      "source": [
        "#  To find S.I\n",
        "\n",
        "def simple_int(p,r,t):\n",
        "  print('The principal is:', p)\n",
        "  print('The rate is:', r)\n",
        "  print('The time is:', t)\n",
        "  si = (p*r*t)/100\n",
        "  print('The simple int is ',si)\n",
        "  return si\n",
        "\n",
        "simple_int(100,4,2)"
      ],
      "metadata": {
        "colab": {
          "base_uri": "https://localhost:8080/"
        },
        "id": "OKRNk7xj-luE",
        "outputId": "772c4ec2-c2d4-4da6-9ab3-6eb753a8f109"
      },
      "execution_count": null,
      "outputs": [
        {
          "output_type": "stream",
          "name": "stdout",
          "text": [
            "The principal is: 100\n",
            "The rate is: 4\n",
            "The time is: 2\n",
            "The simple int is  8.0\n"
          ]
        },
        {
          "output_type": "execute_result",
          "data": {
            "text/plain": [
              "8.0"
            ]
          },
          "metadata": {},
          "execution_count": 9
        }
      ]
    },
    {
      "cell_type": "code",
      "source": [
        "# To find factorial of number\n",
        "\n",
        "n = int(input('Enter a number: '))\n",
        "result = 1 # this will hold final output\n",
        "for i in range(n, 0,-1): # we want n in backward, where starting is n ending is 0 and stepping is -1\n",
        "  result = result*i\n",
        "print(\"Factorial of\", n, \"is\", result)"
      ],
      "metadata": {
        "id": "w2G2gK6X-lrc",
        "colab": {
          "base_uri": "https://localhost:8080/"
        },
        "outputId": "592c6fbf-8fa3-4535-cf0d-a5f70767eeee"
      },
      "execution_count": null,
      "outputs": [
        {
          "output_type": "stream",
          "name": "stdout",
          "text": [
            "Enter a number: 3\n",
            "Factorial of 3 is 6\n"
          ]
        }
      ]
    },
    {
      "cell_type": "code",
      "source": [
        "#To swap the numbers\n",
        "\n",
        "a = int(input(\"Enter the number:\"))\n",
        "b = int(input(\"Enter the number:\"))\n",
        "\n",
        "c = a\n",
        "a = b\n",
        "b = c\n",
        "\n",
        "print(\"After swapping\")\n",
        "print(\"The value of a is\", a)\n",
        "print(\"The value of b is\", b)"
      ],
      "metadata": {
        "id": "iGhPcnjk-lo9",
        "colab": {
          "base_uri": "https://localhost:8080/"
        },
        "outputId": "06098201-bab0-4c4b-ee41-8334d861c540"
      },
      "execution_count": null,
      "outputs": [
        {
          "output_type": "stream",
          "name": "stdout",
          "text": [
            "Enter the number:0\n",
            "Enter the number:9\n",
            "After swapping\n",
            "The value of a is 9\n",
            "The value of b is 0\n"
          ]
        }
      ]
    },
    {
      "cell_type": "code",
      "source": [
        "#To swap the numbers without the third variable\n",
        "\n",
        "a = int(input(\"Enter the number:\"))\n",
        "b = int(input(\"Enter the number:\"))\n",
        "\n",
        "a = a+b\n",
        "b = a-b\n",
        "a = a-b\n",
        "\n",
        "print(\"After swapping\")\n",
        "print(\"The value of a is\", a)\n",
        "print(\"The value of b is\", b)"
      ],
      "metadata": {
        "id": "gmkKhm2--lmN",
        "colab": {
          "base_uri": "https://localhost:8080/"
        },
        "outputId": "e3bdc40c-4a36-4911-edaa-07c7855761ea"
      },
      "execution_count": null,
      "outputs": [
        {
          "output_type": "stream",
          "name": "stdout",
          "text": [
            "Enter the number:66\n",
            "Enter the number:90\n",
            "After swapping\n",
            "The value of a is 90\n",
            "The value of b is 66\n"
          ]
        }
      ]
    },
    {
      "cell_type": "code",
      "source": [
        "# To find C.I\n",
        "\n",
        "def C_I(p,r,t):\n",
        "  amount = p*(pow((1+r/100),t))\n",
        "  compound_interest = amount-p\n",
        "  print(\"Compound Interest is\", compound_interest)\n",
        "\n",
        "C_I(10000,10.25,5)\n"
      ],
      "metadata": {
        "id": "94TM8YxV-ljo",
        "colab": {
          "base_uri": "https://localhost:8080/"
        },
        "outputId": "6f1d0a23-43f5-4da7-b01d-bd8def1d9047"
      },
      "execution_count": null,
      "outputs": [
        {
          "output_type": "stream",
          "name": "stdout",
          "text": [
            "Compound Interest is 6288.946267774416\n"
          ]
        }
      ]
    },
    {
      "cell_type": "code",
      "source": [
        "#Program to find area of circle\n",
        "\n",
        "r = int(input(\"Enter area in number:\"))\n",
        "formula = r*r*3.14\n",
        "\n",
        "print(\"Area of circle is:\", formula)"
      ],
      "metadata": {
        "id": "RL2xz6JS-lhD",
        "colab": {
          "base_uri": "https://localhost:8080/"
        },
        "outputId": "54d63612-fc24-4560-d00f-0542509eb075"
      },
      "execution_count": null,
      "outputs": [
        {
          "output_type": "stream",
          "name": "stdout",
          "text": [
            "Enter area in number:3\n",
            "Area of circle is: 28.26\n"
          ]
        }
      ]
    },
    {
      "cell_type": "code",
      "source": [
        "# To check entered number is prime or not - a number that can be divided exactly only by itself and 1, for example 7, 17 and 41\n",
        "\n",
        "num = int(input(\"Enter the number:\"))\n",
        "if num > 1:\n",
        "  for i in range(2, num):\n",
        "    if (num%2) == 0:\n",
        "      print(num, \"is NOT a PRIME number\")\n",
        "      break\n",
        "    else:\n",
        "      print(num, 'is a prime number')\n",
        "      break\n",
        "else:\n",
        "  print(num, \"IT is NOT a PRIME number\") "
      ],
      "metadata": {
        "id": "I3tzNl28-lef",
        "colab": {
          "base_uri": "https://localhost:8080/"
        },
        "outputId": "d5b91bfb-19fb-4559-853a-888169fe382f"
      },
      "execution_count": null,
      "outputs": [
        {
          "output_type": "stream",
          "name": "stdout",
          "text": [
            "Enter the number:10\n",
            "10 is NOT a PRIME number\n"
          ]
        }
      ]
    },
    {
      "cell_type": "code",
      "source": [
        "# To print prime numbers\n",
        "\n",
        "lower = int(input(\"Enter the lower number:\"))\n",
        "upper = int(input(\"Enter the upper number:\"))\n",
        "\n",
        "for i in range(lower, upper+1):\n",
        "  if i>1:\n",
        "    for j in range(2, i):\n",
        "      if (i%j)==0:\n",
        "        break\n",
        "      else:\n",
        "        print(i)\n",
        "        break"
      ],
      "metadata": {
        "id": "AIN5BAV8-lZ1",
        "colab": {
          "base_uri": "https://localhost:8080/"
        },
        "outputId": "2a075cad-19c2-4ab1-b309-849ff631e740"
      },
      "execution_count": null,
      "outputs": [
        {
          "output_type": "stream",
          "name": "stdout",
          "text": [
            "Enter the lower number:3\n",
            "Enter the upper number:9\n",
            "3\n",
            "5\n",
            "7\n",
            "9\n"
          ]
        }
      ]
    },
    {
      "cell_type": "code",
      "source": [
        "# Program for Sum of square of first n natural numbers\n",
        "\n",
        "n = int(input(\"Enter the number till u want sum :\"))\n",
        "i = 1\n",
        "sum = 0\n",
        "\n",
        "while i<=n:\n",
        "  sum = sum + (i*i) # i value will change everytime until the condition in while loop satisfies\n",
        "  i = i+1\n",
        "print(sum, 'is sum' )\n",
        "\n",
        "# for cube just multiply i three times----------------------"
      ],
      "metadata": {
        "id": "HtUmgLiI-lWm",
        "colab": {
          "base_uri": "https://localhost:8080/"
        },
        "outputId": "aa299ffa-a945-4bc1-b09f-a7a7fca3e0db"
      },
      "execution_count": null,
      "outputs": [
        {
          "output_type": "stream",
          "name": "stdout",
          "text": [
            "Enter the number till u want sum :3\n",
            "14 is sum\n"
          ]
        }
      ]
    },
    {
      "cell_type": "code",
      "source": [
        "# Python program to print duplicates from a list of integers\n",
        "\n",
        "lis = [1, 2, 1, 2, 3, 4, 5, 1, 1, 2, 5, 6, 7, 8, 9, 9]\n",
        "unq_list = []\n",
        "dup_list = []\n",
        "\n",
        "for i in lis:\n",
        "  if i not in unq_list:\n",
        "    unq_list.append(i)\n",
        "  elif i not in dup_list:\n",
        "    dup_list.append(i)\n",
        "\n",
        "print(dup_list)"
      ],
      "metadata": {
        "id": "wCXQrdDF-lTJ",
        "colab": {
          "base_uri": "https://localhost:8080/"
        },
        "outputId": "61e6f3a5-8628-4ace-f355-e1b047181db6"
      },
      "execution_count": null,
      "outputs": [
        {
          "output_type": "stream",
          "name": "stdout",
          "text": [
            "[1, 2, 5, 9]\n"
          ]
        }
      ]
    },
    {
      "cell_type": "code",
      "source": [
        "#Fibonacci numbers series\n",
        "\n",
        "num =  int(input(\"Enter the number till you want in this series:\"))\n",
        "first = 0\n",
        "second = 1\n",
        "for i in range(num):\n",
        "  print(first) # it prints 0 however times num is given\n",
        "  temp = first\n",
        "  first = second\n",
        "  second = temp + second"
      ],
      "metadata": {
        "id": "lA-nnSoOAB-L"
      },
      "execution_count": null,
      "outputs": []
    },
    {
      "cell_type": "code",
      "source": [
        "# To check whether number is fibonacci or not\n",
        "\n",
        "import math\n",
        "\n",
        "def PerSq(x):\n",
        "  s = int(math.sqrt(x)) # it gives the sqrt of x, it will give result in flot and so using int we convert it in integer\n",
        "  return s*s == x\n",
        "\n",
        "n = int(input(\"Enter a number: \"))\n",
        "result1 = 5*(n*n)+4 # the given n number after solving should be a perfect sq or atleast one of them i.e -4 one should be per sq\n",
        "result2 = 5*(n*n)-4 # the given n number after solving should be a perfect sq or atleast one of them i.e +4 one should be per sq\n",
        "\n",
        "if PerSq(result1) or PerSq(result2):\n",
        "  print(n, \"is a fibonacci number-impressive\")\n",
        "else:\n",
        "  print(n, \"is not a fibonacci number-duh\")"
      ],
      "metadata": {
        "id": "sWwnjsQ8AB6x",
        "colab": {
          "base_uri": "https://localhost:8080/"
        },
        "outputId": "0b16a51f-f840-47e3-b97c-5e5b213cdd83"
      },
      "execution_count": null,
      "outputs": [
        {
          "output_type": "stream",
          "name": "stdout",
          "text": [
            "Enter a number: 10\n",
            "10 is not a fibonacci number-duh\n"
          ]
        }
      ]
    },
    {
      "cell_type": "code",
      "source": [
        "#. Write a program that will convert celsius value to fahrenheit\n",
        "\n",
        "temp = float(input(\"Enter the temp:\"))\n",
        "fahrenheit = (temp*1.8)+32\n",
        "print(fahrenheit)"
      ],
      "metadata": {
        "id": "MYCFTyaiAB4Q",
        "colab": {
          "base_uri": "https://localhost:8080/"
        },
        "outputId": "87ea06ef-2831-4363-8010-31d1a0a5f102"
      },
      "execution_count": null,
      "outputs": [
        {
          "output_type": "stream",
          "name": "stdout",
          "text": [
            "Enter the temp:5.2\n",
            "41.36\n"
          ]
        }
      ]
    },
    {
      "cell_type": "code",
      "source": [
        "#To check entered number is perfect or not PF:-is a positive integer that is equal to the sum of its proper divisors. The smallest perfect number is 6, which is the sum of 1, 2, and 3.\n",
        "\n",
        "num =  int(input(\"Enter the number, I know you can :) \"))\n",
        "result = 0\n",
        "\n",
        "for i in range(1, num):\n",
        "  if num%i == 0:\n",
        "    result = result+i\n",
        "if result == num:\n",
        "  print(num,\"is perfect no\")\n",
        "else:\n",
        "  print(num,\"is not a perfect no, baka\")\n"
      ],
      "metadata": {
        "id": "cGNmwyBJAB1T",
        "colab": {
          "base_uri": "https://localhost:8080/"
        },
        "outputId": "ab33779e-09a5-4624-fca3-6a870682e1ef"
      },
      "execution_count": null,
      "outputs": [
        {
          "output_type": "stream",
          "name": "stdout",
          "text": [
            "Enter the number, I know you can :)90\n",
            "90 is not a perfect no\n"
          ]
        }
      ]
    },
    {
      "cell_type": "code",
      "source": [
        "#To remove multiple elements from a list\n",
        "\n",
        "listnum = [12, 44, 67, 89]\n",
        "del listnum[0:2]\n",
        "print(listnum)"
      ],
      "metadata": {
        "id": "RoJW3QaVABvj",
        "colab": {
          "base_uri": "https://localhost:8080/"
        },
        "outputId": "e6da5365-a27f-4bc6-8c1e-a6ecf9deb496"
      },
      "execution_count": null,
      "outputs": [
        {
          "output_type": "stream",
          "name": "stdout",
          "text": [
            "[67, 89]\n"
          ]
        }
      ]
    },
    {
      "cell_type": "markdown",
      "source": [
        "**String que**"
      ],
      "metadata": {
        "id": "w-VerVvMT-W_"
      }
    },
    {
      "cell_type": "code",
      "source": [
        "#To count vowels from a sentence\n",
        "\n",
        "sentence = input(\"Enter the sentence:\")\n",
        "sentence1 = sentence.lower()\n",
        "vowel = ['a','e','i','o','u']\n",
        "count = 0\n",
        "\n",
        "for ch in sentence1:\n",
        "  if ch in vowel:\n",
        "    count = count + 1\n",
        "\n",
        "print(\"Number of vowels in given sentence is:\",count)\n",
        "\n"
      ],
      "metadata": {
        "colab": {
          "base_uri": "https://localhost:8080/"
        },
        "id": "Xx00I_4shIQD",
        "outputId": "94f04cea-a3be-425c-9e80-0db26299b3ec"
      },
      "execution_count": null,
      "outputs": [
        {
          "output_type": "stream",
          "name": "stdout",
          "text": [
            "Enter the sentence:cause am the one\n",
            "Number of vowels in given sentence is: 7\n"
          ]
        }
      ]
    },
    {
      "cell_type": "code",
      "source": [
        "# find no of occurances of each vowel present in str\n",
        "\n",
        "s = 'vanguardiumleviosa'\n",
        "vowel = {'a','e','i','o','u'}\n",
        "d = {}\n",
        "\n",
        "for ch in s:\n",
        "  if ch in vowel:\n",
        "    d[ch] = d.get(ch, 0)+1  #???\n",
        "for k,v in sorted(d.items()):\n",
        "  print('{} occurs {} times'.format(k,v))\n",
        "    "
      ],
      "metadata": {
        "colab": {
          "base_uri": "https://localhost:8080/"
        },
        "id": "JG3w4hmngwWF",
        "outputId": "6ef95b5a-70a2-41b8-fa0e-f5deaebe4a0a"
      },
      "execution_count": null,
      "outputs": [
        {
          "output_type": "stream",
          "name": "stdout",
          "text": [
            "a occurs 3 times\n",
            "e occurs 1 times\n",
            "i occurs 2 times\n",
            "o occurs 1 times\n",
            "u occurs 2 times\n"
          ]
        }
      ]
    },
    {
      "cell_type": "code",
      "source": [
        "# Program to print string whose number are more than 5\n",
        "\n",
        "l1 = ['Apple', \"Grapes\", \"Lemon\", \"pomogrenate\", \"litchi\", \"yoghurt\"]\n",
        "l2 = []\n",
        "l3 = lambda x: len(x)>5\n",
        "\n",
        "for y in l1:\n",
        "  if l3(y)== True:\n",
        "    l2.append(y)\n",
        "print(l2)\n",
        "\n"
      ],
      "metadata": {
        "id": "gK6u47U4hIN2",
        "colab": {
          "base_uri": "https://localhost:8080/"
        },
        "outputId": "b2ef1f54-d0df-4e43-93bf-b7cd39f48c3e"
      },
      "execution_count": null,
      "outputs": [
        {
          "output_type": "stream",
          "name": "stdout",
          "text": [
            "['Grapes', 'pomogrenate', 'litchi', 'yoghurt']\n"
          ]
        }
      ]
    },
    {
      "cell_type": "code",
      "source": [
        "# program to reverse given string\n",
        "'''\n",
        "s = 'nikki'\n",
        "rev = s[::-1]\n",
        "print(rev)\n",
        "'''\n",
        "# without using slicing\n",
        "\n",
        "s = 'nikki'\n",
        "emp = ''\n",
        "i = len(s)-1\n",
        "while i> 0:\n",
        "  emp = emp + s[i]\n",
        "  i = i-1\n",
        "print(emp)"
      ],
      "metadata": {
        "id": "sWjbAMO1hILp",
        "colab": {
          "base_uri": "https://localhost:8080/"
        },
        "outputId": "efc7959a-aed8-4e2e-87f1-44f5dfe391c3"
      },
      "execution_count": null,
      "outputs": [
        {
          "output_type": "stream",
          "name": "stdout",
          "text": [
            "ikki\n"
          ]
        }
      ]
    },
    {
      "cell_type": "code",
      "source": [
        "#program to reverse order of words\n",
        "\n",
        "s = 'Watashi wa saigo anatawa des'\n",
        "l = s.split()\n",
        "l1 = l[::-1]\n",
        "l2 = ' '.join(l1)\n",
        "l2"
      ],
      "metadata": {
        "id": "2Nop2LU9hIJP",
        "colab": {
          "base_uri": "https://localhost:8080/",
          "height": 35
        },
        "outputId": "99d37cc6-4599-4b46-f2d3-b052536d37a3"
      },
      "execution_count": null,
      "outputs": [
        {
          "output_type": "execute_result",
          "data": {
            "text/plain": [
              "'des anatawa saigo wa Watashi'"
            ],
            "application/vnd.google.colaboratory.intrinsic+json": {
              "type": "string"
            }
          },
          "metadata": {},
          "execution_count": 19
        }
      ]
    },
    {
      "cell_type": "code",
      "source": [
        "# to reverse internal content of each word\n",
        "\n",
        "s = \"Anatawa des osomama des shino nu\"\n",
        "l = s.split()\n",
        "l1 = []\n",
        "for word in l:\n",
        "  l1.append(word[::-1])\n",
        "out = ' '.join(l1)\n",
        "print(l1)\n"
      ],
      "metadata": {
        "id": "nJFb7eW2hIGi",
        "colab": {
          "base_uri": "https://localhost:8080/"
        },
        "outputId": "07d3a8b5-05ab-4093-f323-e18f0e4f604c"
      },
      "execution_count": null,
      "outputs": [
        {
          "output_type": "stream",
          "name": "stdout",
          "text": [
            "['awatanA', 'sed', 'amamoso', 'sed', 'onihs', 'un']\n"
          ]
        }
      ]
    },
    {
      "cell_type": "code",
      "source": [
        "# to print char present at even odd seperately\n",
        "\n",
        "string = \"qwerty\"\n",
        "i = 1\n",
        "print(\"Characters present at even index\")\n",
        "while (i<len(string)):\n",
        "  print(string[i])\n",
        "  i = i+2\n",
        "\n",
        "#for odd just change i = 1\n"
      ],
      "metadata": {
        "id": "KWJzRadLhIEU",
        "colab": {
          "base_uri": "https://localhost:8080/"
        },
        "outputId": "17fcc866-a63e-41a9-85bf-1287b58a98f7"
      },
      "execution_count": null,
      "outputs": [
        {
          "output_type": "stream",
          "name": "stdout",
          "text": [
            "Characters present at even index\n",
            "w\n",
            "r\n",
            "y\n"
          ]
        }
      ]
    },
    {
      "cell_type": "code",
      "source": [
        "# to sort char of strings first alpha followed by digits\n",
        "\n",
        "s = 'B3H5j8L0'\n",
        "alphas = []\n",
        "digits = []\n",
        "\n",
        "for ch in s:\n",
        "  if ch.isalpha():\n",
        "    alphas.append(ch)\n",
        "  else:\n",
        "    digits.append(ch)\n",
        "\n",
        "output = ' '.join(sorted(alphas) + sorted(digits))\n",
        "print(output)"
      ],
      "metadata": {
        "id": "Zfp2EXtVhH_5",
        "colab": {
          "base_uri": "https://localhost:8080/"
        },
        "outputId": "553ede45-7130-4ce9-8f4d-0ef35de603eb"
      },
      "execution_count": null,
      "outputs": [
        {
          "output_type": "stream",
          "name": "stdout",
          "text": [
            "B H L j 0 3 5 8\n"
          ]
        }
      ]
    },
    {
      "cell_type": "code",
      "source": [
        "def s1(**Kwargs):\n",
        "  print(Kwargs)\n",
        "\n",
        "s1(name='Nik', rollno = 100, marks = 900)"
      ],
      "metadata": {
        "colab": {
          "base_uri": "https://localhost:8080/"
        },
        "id": "MqnObGHLXXsO",
        "outputId": "521df456-0541-4299-fe43-58bf437dfc9a"
      },
      "execution_count": null,
      "outputs": [
        {
          "output_type": "stream",
          "name": "stdout",
          "text": [
            "{'name': 'Nik', 'rollno': 100, 'marks': 900}\n"
          ]
        }
      ]
    },
    {
      "cell_type": "code",
      "source": [
        "# prg for following requirement in = a4b3c2 out = aaaabbbcc\n",
        "\n",
        "s = 'a4b3c2'\n",
        "output = ''\n",
        "\n",
        "for ch in s:\n",
        "  if ch.isalpha():\n",
        "    x = ch\n",
        "  else:\n",
        "    d = int(ch)\n",
        "    output = output + x*d\n",
        "print(''.join(sorted(output)))"
      ],
      "metadata": {
        "colab": {
          "base_uri": "https://localhost:8080/"
        },
        "id": "q2mjDMZZXXpl",
        "outputId": "9181cc93-6078-42bb-b25c-6e7775e86805"
      },
      "execution_count": null,
      "outputs": [
        {
          "output_type": "stream",
          "name": "stdout",
          "text": [
            "aaaabbbcc\n"
          ]
        }
      ]
    },
    {
      "cell_type": "code",
      "source": [
        "# In = a4k3b2   out = aeknbd  ???\n",
        "\n",
        "s = 'a4k3b2'\n",
        "output = ' '\n",
        "\n",
        "for ch in s:\n",
        "  if ch.isalpha():\n",
        "    output = output + ch\n",
        "    x = ch\n",
        "  else:\n",
        "    d = int(ch)"
      ],
      "metadata": {
        "id": "HBgVvBbwk-Z-"
      },
      "execution_count": null,
      "outputs": []
    },
    {
      "cell_type": "code",
      "source": [
        "#in = abaabbca  out = 4a3b1c ???\n",
        "\n",
        "s = 'abaabbca'\n",
        "d = {}\n",
        "\n",
        "for ch in s:\n",
        "  d[ch] = d.get(ch, 0)+1\n"
      ],
      "metadata": {
        "id": "VzIP9UJLXXnC"
      },
      "execution_count": null,
      "outputs": []
    },
    {
      "cell_type": "code",
      "source": [
        "# To remove duplicate values from string\n",
        "\n",
        "s = 'asdffgghaeryjkll'\n",
        "output = ''\n",
        "\n",
        "for ch in s:\n",
        "  if ch not in output:\n",
        "    output = output + ch\n",
        "print(output)"
      ],
      "metadata": {
        "colab": {
          "base_uri": "https://localhost:8080/"
        },
        "id": "NgKVv2OBXXjq",
        "outputId": "6e8414f2-0314-4eb7-9b5f-291a3ffc820f"
      },
      "execution_count": null,
      "outputs": [
        {
          "output_type": "stream",
          "name": "stdout",
          "text": [
            "asdfgheryjkl\n"
          ]
        }
      ]
    },
    {
      "cell_type": "code",
      "source": [
        "s = 'asdffgghaeryjkll'\n",
        "output = ''\n",
        "\n",
        "for ch in s:\n",
        "  if ch not in output:\n",
        "    output += ch\n",
        "print(output)"
      ],
      "metadata": {
        "colab": {
          "base_uri": "https://localhost:8080/"
        },
        "id": "ty_w2UFNZhh3",
        "outputId": "c5678fd7-849f-49a0-a39f-962e1b20a3fb"
      },
      "execution_count": null,
      "outputs": [
        {
          "output_type": "stream",
          "name": "stdout",
          "text": [
            "asdfgheryjkl\n"
          ]
        }
      ]
    },
    {
      "cell_type": "code",
      "source": [
        "#Find no. of occurances of each char present in str\n",
        "\n",
        "s = 'AAVVHHJ'\n",
        "l = []\n",
        "\n",
        "for ch in s:\n",
        "  if ch not in l:\n",
        "    l.append(ch)\n",
        "for ch in sorted(l):\n",
        "  print('{} occurs {} times'.format(ch, s.count(ch)))"
      ],
      "metadata": {
        "colab": {
          "base_uri": "https://localhost:8080/"
        },
        "id": "XtiJLHofXXfx",
        "outputId": "26590fb7-7176-4007-cb1f-3b702c1e1907"
      },
      "execution_count": null,
      "outputs": [
        {
          "output_type": "stream",
          "name": "stdout",
          "text": [
            "A occurs 2 times\n",
            "H occurs 2 times\n",
            "J occurs 1 times\n",
            "V occurs 2 times\n"
          ]
        }
      ]
    },
    {
      "cell_type": "code",
      "source": [
        "#check whether two str are anagrams or not\n",
        "\n",
        "s1 = input('Enter a word')\n",
        "s2 = input('Enter another word, would ya?')\n",
        "\n",
        "if sorted(s1)==sorted(s2):\n",
        "  print('ITS ANAGRAM')\n",
        "else:\n",
        "  print('NOT A ANAGRAM boooo')\n"
      ],
      "metadata": {
        "id": "1kS-eSZmXXcb",
        "colab": {
          "base_uri": "https://localhost:8080/"
        },
        "outputId": "e8e3ebba-1cd7-4036-d5f8-d2c571926d29"
      },
      "execution_count": null,
      "outputs": [
        {
          "output_type": "stream",
          "name": "stdout",
          "text": [
            "Enter a worddog\n",
            "Enter another word, would ya?god\n",
            "ITS ANAGRAM\n"
          ]
        }
      ]
    },
    {
      "cell_type": "markdown",
      "source": [
        "List ques from geeks"
      ],
      "metadata": {
        "id": "tVKrKM3il_-v"
      }
    },
    {
      "cell_type": "code",
      "source": [
        "#Python program to interchange first and last elements in a list\n",
        "\n",
        "l1 = [1,2,45,67,66,0]\n",
        "n = l1[0]\n",
        "l1[0] = l1[len(l1)-1]\n",
        "l1[len(l1)-1] = n\n",
        "print(l1)"
      ],
      "metadata": {
        "colab": {
          "base_uri": "https://localhost:8080/"
        },
        "id": "50x8n8val9om",
        "outputId": "0bdfff0f-abe1-49cd-c865-a28bc5d83d0d"
      },
      "execution_count": null,
      "outputs": [
        {
          "output_type": "stream",
          "name": "stdout",
          "text": [
            "[0, 2, 45, 67, 66, 1]\n"
          ]
        }
      ]
    },
    {
      "cell_type": "code",
      "source": [
        "#Python program to swap two elements in a list\n",
        "\n",
        "list1 = [88,90,77,4,66]\n",
        "pos1,pos2 = 0,3\n",
        "list1[pos1],list1[pos2] = list1[pos2],list1[pos1]\n",
        "print(list1)"
      ],
      "metadata": {
        "id": "pGJ_l7iAXXZU",
        "colab": {
          "base_uri": "https://localhost:8080/"
        },
        "outputId": "76facb5b-b3df-4594-bbcd-fd35e95d79f5"
      },
      "execution_count": null,
      "outputs": [
        {
          "output_type": "stream",
          "name": "stdout",
          "text": [
            "[4, 90, 77, 88, 66]\n"
          ]
        }
      ]
    },
    {
      "cell_type": "code",
      "source": [
        "#Ways to find length of list\n",
        "\n",
        "l1 = [20,88,99,5,0,33,7,90,0,00]\n",
        "count = 0\n",
        "for i in l1:\n",
        "  count = count+1\n",
        "print('Length of list is : ', count)"
      ],
      "metadata": {
        "colab": {
          "base_uri": "https://localhost:8080/"
        },
        "id": "iesZM7Q7oFbu",
        "outputId": "bbbda8d5-aa2f-453d-a970-6ca6004d2eca"
      },
      "execution_count": null,
      "outputs": [
        {
          "output_type": "stream",
          "name": "stdout",
          "text": [
            "Length of list is :  10\n"
          ]
        }
      ]
    },
    {
      "cell_type": "code",
      "source": [
        "#Check if element exists in list in Python\n",
        "\n",
        "l1 = [1, 6, 3, 5, 3, 4]\n",
        "i = 0\n",
        "if i in l1:\n",
        "    print('exists')\n",
        "else:\n",
        "    print('Nope')"
      ],
      "metadata": {
        "id": "oD0NsRkfoFWv",
        "colab": {
          "base_uri": "https://localhost:8080/"
        },
        "outputId": "4d868812-751d-4151-c1b0-ffcd0fd3dc06"
      },
      "execution_count": null,
      "outputs": [
        {
          "output_type": "stream",
          "name": "stdout",
          "text": [
            "Nope\n"
          ]
        }
      ]
    },
    {
      "cell_type": "code",
      "source": [
        "# Different ways to clear a list in Python\n",
        "\n",
        "list1 = [2,34,5,6,6]\n",
        "list1.clear()\n",
        "list1\n",
        "\n",
        "# with *=\n",
        "list1 *=0\n",
        "list1"
      ],
      "metadata": {
        "id": "1PWvG1QKoFTO",
        "colab": {
          "base_uri": "https://localhost:8080/"
        },
        "outputId": "9dcf36b3-5b1b-45a8-cd2b-e743e12de2b4"
      },
      "execution_count": null,
      "outputs": [
        {
          "output_type": "execute_result",
          "data": {
            "text/plain": [
              "[]"
            ]
          },
          "metadata": {},
          "execution_count": 8
        }
      ]
    },
    {
      "cell_type": "code",
      "source": [
        "#Reversing a list \n",
        "\n",
        "list1 = [2,34,5,6,6]\n",
        "l = list1[::-1]\n",
        "l\n",
        "\n",
        "# or with .reverse"
      ],
      "metadata": {
        "id": "LY8wABWcoFPo",
        "colab": {
          "base_uri": "https://localhost:8080/"
        },
        "outputId": "34d828ec-7aa6-40cf-d4d7-e7494ef8f1f1"
      },
      "execution_count": null,
      "outputs": [
        {
          "output_type": "execute_result",
          "data": {
            "text/plain": [
              "[6, 6, 5, 34, 2]"
            ]
          },
          "metadata": {},
          "execution_count": 10
        }
      ]
    },
    {
      "cell_type": "code",
      "source": [
        "#program to find the sum of all the elements in the list.\n",
        "\n",
        "list1 = [2,34,5,6,6,2]\n",
        "tot = 0\n",
        "\n",
        "for i in range(0, len(list1)):\n",
        "  tot = tot + list1[i]\n",
        "\n",
        "print('sum of elements is', tot)\n"
      ],
      "metadata": {
        "id": "8DQr2TL4oFMm",
        "colab": {
          "base_uri": "https://localhost:8080/"
        },
        "outputId": "f7999833-8726-45a0-b036-98eb1ffa3579"
      },
      "execution_count": null,
      "outputs": [
        {
          "output_type": "stream",
          "name": "stdout",
          "text": [
            "sum of elements is 55\n"
          ]
        }
      ]
    },
    {
      "cell_type": "code",
      "source": [
        "#Multiply all numbers in the list\n",
        "'''\n",
        "l1 = [1, 2, 3]\n",
        "result = 1\n",
        "\n",
        "for x in l1:\n",
        "  result = result*x\n",
        "print(result)\n",
        "'''\n",
        "# using function\n",
        "\n",
        "def multiply(x):\n",
        "  result = 1\n",
        "  for i in x:\n",
        "    result = result * i\n",
        "  return result\n",
        "l2 = [1,2,3]\n",
        "print(multiply(l2))"
      ],
      "metadata": {
        "id": "-5nCbDRjoFI7",
        "colab": {
          "base_uri": "https://localhost:8080/"
        },
        "outputId": "b6306db2-a8e0-4329-d901-3302cb101231"
      },
      "execution_count": null,
      "outputs": [
        {
          "output_type": "stream",
          "name": "stdout",
          "text": [
            "6\n"
          ]
        }
      ]
    },
    {
      "cell_type": "code",
      "source": [
        "#program to find smallest number in a list\n",
        "\n",
        "l1 = [10, 20, 4, 45, 99]\n",
        "l1.sort()\n",
        "print(l1[0])\n",
        "\n",
        "# or use min\n"
      ],
      "metadata": {
        "id": "uY0TlQbJ33Uk",
        "colab": {
          "base_uri": "https://localhost:8080/"
        },
        "outputId": "6c248a0f-f155-4f3a-979e-cb13adbb188e"
      },
      "execution_count": null,
      "outputs": [
        {
          "output_type": "stream",
          "name": "stdout",
          "text": [
            "4\n"
          ]
        }
      ]
    },
    {
      "cell_type": "code",
      "source": [
        "#program to find largest number in a list\n",
        "\n",
        "l1 = [10, 20, 4, 100, 45, 99]\n",
        "l1.sort()\n",
        "print(l1[-1])"
      ],
      "metadata": {
        "id": "I5EnDKo233R5",
        "colab": {
          "base_uri": "https://localhost:8080/"
        },
        "outputId": "bc8bad68-3b0f-4432-bd55-e5dc4eeff1c8"
      },
      "execution_count": null,
      "outputs": [
        {
          "output_type": "stream",
          "name": "stdout",
          "text": [
            "100\n"
          ]
        }
      ]
    },
    {
      "cell_type": "code",
      "source": [
        "# program to find largest number in a list while taking input from user  ???\n",
        "\n",
        "num = int(input(\"Enter number of elements in list: \"))\n",
        "list1 = []\n",
        "\n",
        "for i in range(1, num+1):\n",
        "  ele = int(input(\"Enter elements: \"))\n",
        "  list1.append(ele)\n",
        "\n",
        "print(\"Largest element is:\", max(list1))"
      ],
      "metadata": {
        "id": "5KB-J6QI33PQ"
      },
      "execution_count": null,
      "outputs": []
    },
    {
      "cell_type": "code",
      "source": [
        "# Python program to print Even Numbers in a List\n",
        "\n",
        "list1 = [10, 21, 4, 45, 66, 93]\n",
        "l2 = []\n",
        "for num in list1:\n",
        "  if num%2==0:\n",
        "    l2.append(num)\n",
        "print(l2)\n"
      ],
      "metadata": {
        "id": "M8mlTxKc33JT",
        "colab": {
          "base_uri": "https://localhost:8080/"
        },
        "outputId": "7be949f2-3505-4b5e-8084-d9d380d43929"
      },
      "execution_count": null,
      "outputs": [
        {
          "output_type": "stream",
          "name": "stdout",
          "text": [
            "[10, 4, 66]\n"
          ]
        }
      ]
    },
    {
      "cell_type": "code",
      "source": [
        "# Python program to print odd Numbers in a List\n",
        "\n",
        "list1 = [10, 21, 4, 45, 66, 93]\n",
        "l2 = []\n",
        "for num in list1:\n",
        "  if num%2==1:\n",
        "    l2.append(num)\n",
        "print(l2)"
      ],
      "metadata": {
        "id": "c9J3q3Y533F0",
        "colab": {
          "base_uri": "https://localhost:8080/"
        },
        "outputId": "761a7ea6-30eb-40ca-d12a-188a9c4dd47a"
      },
      "execution_count": null,
      "outputs": [
        {
          "output_type": "stream",
          "name": "stdout",
          "text": [
            "[21, 45, 93]\n"
          ]
        }
      ]
    },
    {
      "cell_type": "code",
      "source": [
        "# Python program to print Even Numbers in given range\n",
        "\n",
        "start = int(input(\"Enter the start of range: \"))\n",
        "end = int(input(\"Enter the end of range: \"))\n",
        "\n",
        "for i in range(start, end+1):\n",
        "  if i%2==0:\n",
        "    print(i, end=' ')\n",
        "# for odd change 0 = 1"
      ],
      "metadata": {
        "colab": {
          "base_uri": "https://localhost:8080/"
        },
        "id": "BxNmXUHoE8bc",
        "outputId": "bd433a65-2ead-444f-94e4-84f2d9152adf"
      },
      "execution_count": null,
      "outputs": [
        {
          "output_type": "stream",
          "name": "stdout",
          "text": [
            "Enter the start of range: 2\n",
            "Enter the end of range: 18\n",
            "2 4 6 8 10 12 14 16 18 "
          ]
        }
      ]
    },
    {
      "cell_type": "code",
      "source": [
        "#program to print positive numbers in a list\n",
        "\n",
        "list1 = [12, -7, 5, 64, -14]\n",
        "for i in list1:\n",
        "  if i<0:\n",
        "    list1.remove(i)\n",
        "print(list1)"
      ],
      "metadata": {
        "id": "4OWIeANhE8X7",
        "colab": {
          "base_uri": "https://localhost:8080/"
        },
        "outputId": "10b713ae-fff0-41f0-f2ba-0e7e0920d187"
      },
      "execution_count": null,
      "outputs": [
        {
          "output_type": "stream",
          "name": "stdout",
          "text": [
            "[12, 5, 64]\n"
          ]
        }
      ]
    },
    {
      "cell_type": "code",
      "source": [
        "#program to print all negative numbers in a range\n",
        "\n",
        "start = int(input('Enter the starting number'))\n",
        "end = int(input('Enter the ending number'))\n",
        "\n",
        "for i in range(start, end+1):\n",
        "  if i<0:\n",
        "    print(i, end=' ')"
      ],
      "metadata": {
        "id": "U4gp4bwKE8VB",
        "colab": {
          "base_uri": "https://localhost:8080/"
        },
        "outputId": "91b777aa-f0de-4c76-d90d-d447f24425af"
      },
      "execution_count": null,
      "outputs": [
        {
          "output_type": "stream",
          "name": "stdout",
          "text": [
            "Enter the starting number-9\n",
            "Enter the ending number10\n",
            "-9 -8 -7 -6 -5 -4 -3 -2 -1 "
          ]
        }
      ]
    },
    {
      "cell_type": "code",
      "source": [
        "#Remove empty List from List\n",
        "\n",
        "test_list = [5, 6, [], 3, [], [], 9]\n",
        "result = [elm for elm in test_list if elm!=[]]\n",
        "print(result)\n",
        "\n",
        "# or\n",
        "res = list(filter(None, test_list))\n",
        "print(res)"
      ],
      "metadata": {
        "id": "pAdulXyiE8R_",
        "colab": {
          "base_uri": "https://localhost:8080/"
        },
        "outputId": "7e912e8e-03ee-4f5b-e611-fd15bba3b927"
      },
      "execution_count": null,
      "outputs": [
        {
          "output_type": "stream",
          "name": "stdout",
          "text": [
            "[5, 6, 3, 9]\n",
            "[5, 6, 3, 9]\n"
          ]
        }
      ]
    },
    {
      "cell_type": "code",
      "source": [
        "# Python program to remove empty tuples from a list\n",
        "\n",
        "tup = [(), ('ram','15','8'), (), ('laxman', 'sita'),('krishna', 'akbar', '45'), ('',''),()]\n",
        "remove = [elm for elm in tup if elm]\n",
        "print(remove)"
      ],
      "metadata": {
        "id": "hP-1lKJOE8Oh",
        "colab": {
          "base_uri": "https://localhost:8080/"
        },
        "outputId": "9bfd272d-3787-49b4-b943-196e91cd97c6"
      },
      "execution_count": null,
      "outputs": [
        {
          "output_type": "stream",
          "name": "stdout",
          "text": [
            "[('ram', '15', '8'), ('laxman', 'sita'), ('krishna', 'akbar', '45'), ('', '')]\n"
          ]
        }
      ]
    },
    {
      "cell_type": "code",
      "source": [
        "#Cloning or Copying a list\n",
        "\n",
        "def cloning(l):\n",
        "  copy = []\n",
        "  copy.extend(l)\n",
        "  return copy\n",
        "l1 = [4, 8, 2, 10, 15, 18]\n",
        "l2 = cloning(l1)\n",
        "print(\"Original List:\", l1)\n",
        "print(\"After Cloning:\", l2)"
      ],
      "metadata": {
        "colab": {
          "base_uri": "https://localhost:8080/"
        },
        "id": "ZtPxlUeFtxAs",
        "outputId": "f77b7b1c-99a7-4d95-adba-0709f98c543d"
      },
      "execution_count": null,
      "outputs": [
        {
          "output_type": "stream",
          "name": "stdout",
          "text": [
            "Original List: [4, 8, 2, 10, 15, 18]\n",
            "After Cloning: [4, 8, 2, 10, 15, 18]\n"
          ]
        }
      ]
    },
    {
      "cell_type": "code",
      "source": [
        "#Count occurrences of an element in a list\n",
        "\n",
        "def occur(l,x):\n",
        "  count = 0\n",
        "  for elm in l1:\n",
        "    if (elm==x):\n",
        "      count = count +1\n",
        "    return count\n",
        "    \n",
        "l1 = [8, 6, 8, 10, 8, 20, 10, 8, 8]\n",
        "x = 8\n",
        "print('{} has occured {} times'.format(x,occur(l1, x)))"
      ],
      "metadata": {
        "colab": {
          "base_uri": "https://localhost:8080/"
        },
        "id": "eEFCswGWvikZ",
        "outputId": "155c2eaa-86a8-4ca3-ba6d-90665fb254d9"
      },
      "execution_count": null,
      "outputs": [
        {
          "output_type": "stream",
          "name": "stdout",
          "text": [
            "8 has occured 1 times\n"
          ]
        }
      ]
    },
    {
      "cell_type": "code",
      "source": [
        "# Remove elements larger than a specific value from a list in\n",
        "\n",
        "num = [30, 200, 65, 88, 98, 500, 34]\n",
        "num_select = [i for i in num if i <= 88]\n",
        "num_select"
      ],
      "metadata": {
        "id": "Zc0wREnPPRTR",
        "colab": {
          "base_uri": "https://localhost:8080/"
        },
        "outputId": "2c3f8ffb-1c3a-450b-9aba-a3e9fd39600e"
      },
      "execution_count": null,
      "outputs": [
        {
          "output_type": "execute_result",
          "data": {
            "text/plain": [
              "[30, 65, 88, 34]"
            ]
          },
          "metadata": {},
          "execution_count": 8
        }
      ]
    },
    {
      "cell_type": "code",
      "source": [
        "num = [30, 200, 65, 88, 98, 500, 34]\n",
        "for n in num:\n",
        "  if n > 65:\n",
        "    num.remove(n)\n",
        "print(num)"
      ],
      "metadata": {
        "colab": {
          "base_uri": "https://localhost:8080/"
        },
        "id": "ILo7Xxx8yvfa",
        "outputId": "645d6f64-a097-43d8-d1ce-f3b1426f9d94"
      },
      "execution_count": null,
      "outputs": [
        {
          "output_type": "stream",
          "name": "stdout",
          "text": [
            "[30, 65, 98, 34]\n"
          ]
        }
      ]
    },
    {
      "cell_type": "code",
      "source": [
        "#Find index of maximum item in list\n",
        "\n",
        "num = [30, 200, 65, 88, 98, 500, 34]\n",
        "num_max = max(num)\n",
        "print('Index of max item is', num.index(num_max))"
      ],
      "metadata": {
        "id": "YjfyLQV9PRM-",
        "colab": {
          "base_uri": "https://localhost:8080/"
        },
        "outputId": "f9eed9b4-0e78-4c77-9a4a-3cb715d428d3"
      },
      "execution_count": null,
      "outputs": [
        {
          "output_type": "stream",
          "name": "stdout",
          "text": [
            "Index of max item is 5\n"
          ]
        }
      ]
    },
    {
      "cell_type": "code",
      "source": [
        "# program to delete the last element from the list\n",
        "'''\n",
        "name = [\"Geeks\", \"For\", \"Geeks\"]\n",
        "name_pop = name.pop()\n",
        "name\n",
        "'''\n",
        "# or using slice\n",
        "name_ = [\"Geeks\", \"For\", \"Geeks\"]\n",
        "name = name_[:-1]\n",
        "name"
      ],
      "metadata": {
        "id": "Qj8cj4sDPQbX",
        "colab": {
          "base_uri": "https://localhost:8080/"
        },
        "outputId": "57fe84c0-eaa8-420a-bb90-66d3c3863f6a"
      },
      "execution_count": null,
      "outputs": [
        {
          "output_type": "execute_result",
          "data": {
            "text/plain": [
              "['Geeks', 'For']"
            ]
          },
          "metadata": {},
          "execution_count": 15
        }
      ]
    },
    {
      "cell_type": "code",
      "source": [
        "#Program to Square Each Odd Number in a List using List Comprehension\n",
        "\n",
        "l = [4, 10, 5, 3, 3]\n",
        "l1 = [i*i for i in l if i%2!=0]\n",
        "l1"
      ],
      "metadata": {
        "id": "e74DEq-IPQYl",
        "colab": {
          "base_uri": "https://localhost:8080/"
        },
        "outputId": "e6bfe8a0-0870-4b2b-a453-2eae5dc6edf6"
      },
      "execution_count": null,
      "outputs": [
        {
          "output_type": "execute_result",
          "data": {
            "text/plain": [
              "[25, 9, 9]"
            ]
          },
          "metadata": {},
          "execution_count": 17
        }
      ]
    },
    {
      "cell_type": "code",
      "source": [
        "#program to find the sum of a Sublist??"
      ],
      "metadata": {
        "id": "TUilkFV1PPVr"
      },
      "execution_count": null,
      "outputs": []
    },
    {
      "cell_type": "code",
      "source": [
        "# Remove common elements from two list in Python\n",
        "\n",
        "l1 = ['a', 'b', 'c']\n",
        "l2 = ['a', 'z', 'c']\n",
        "\n",
        "l3 = list(set(l1).symmetric_difference(l2))\n",
        "l3"
      ],
      "metadata": {
        "id": "xeKYXxhlPPSY",
        "colab": {
          "base_uri": "https://localhost:8080/"
        },
        "outputId": "6ab93757-63de-438b-ec03-382d68033312"
      },
      "execution_count": null,
      "outputs": [
        {
          "output_type": "execute_result",
          "data": {
            "text/plain": [
              "['b', 'z']"
            ]
          },
          "metadata": {},
          "execution_count": 2
        }
      ]
    },
    {
      "cell_type": "code",
      "source": [
        "#Only Index which contain String in List\n",
        "\n",
        "list1 = ['sravan', 98, 'harsha', 'jyothika', 'deepika', 78, 90, 'ramya']\n",
        "\n",
        "for i in list1:\n",
        "  if (type(i)==str):\n",
        "    print(list1.index(i))"
      ],
      "metadata": {
        "colab": {
          "base_uri": "https://localhost:8080/"
        },
        "id": "Gc4z3lcQXYoy",
        "outputId": "e5f32183-9973-47ee-c549-d9eadf2275a0"
      },
      "execution_count": null,
      "outputs": [
        {
          "output_type": "stream",
          "name": "stdout",
          "text": [
            "0\n",
            "2\n",
            "3\n",
            "4\n",
            "7\n"
          ]
        }
      ]
    },
    {
      "cell_type": "code",
      "source": [
        "#Convert list of dictionaries to dictionary of lists\n",
        "\n",
        "data = [\n",
        "    {'name': 'sravan', 'subjects': ['java', 'python']},\n",
        "    {'name': 'bobby', 'subjects': ['c/cpp', 'java']},\n",
        "    {'name': 'ojsawi', 'subjects': ['iot', 'cloud']},\n",
        "    {'name': 'rohith', 'subjects': ['php', 'os']},\n",
        "    {'name': 'gnanesh', 'subjects': ['html', 'sql']}]\n",
        "\n",
        "dict_list ={}\n",
        "for item in data:\n",
        "  name = item['name']\n",
        "  dict_list[name] = item\n",
        "dict_list"
      ],
      "metadata": {
        "colab": {
          "base_uri": "https://localhost:8080/"
        },
        "id": "VT5GhaxWXYiP",
        "outputId": "a563a8f2-4cf8-4453-d228-5bf67c4f72cd"
      },
      "execution_count": null,
      "outputs": [
        {
          "output_type": "execute_result",
          "data": {
            "text/plain": [
              "{'sravan': {'name': 'sravan', 'subjects': ['java', 'python']},\n",
              " 'bobby': {'name': 'bobby', 'subjects': ['c/cpp', 'java']},\n",
              " 'ojsawi': {'name': 'ojsawi', 'subjects': ['iot', 'cloud']},\n",
              " 'rohith': {'name': 'rohith', 'subjects': ['php', 'os']},\n",
              " 'gnanesh': {'name': 'gnanesh', 'subjects': ['html', 'sql']}}"
            ]
          },
          "metadata": {},
          "execution_count": 7
        }
      ]
    },
    {
      "cell_type": "code",
      "source": [
        "#Concatenate two list of lists Row-wise\n",
        "\n",
        "test_list1 = [[4, 3, 5, ], [1, 2, 3], [3, 7, 4]]\n",
        "test_list2 = [[1, 3], [9, 3, 5, 7], [8]]\n",
        "\n",
        "for i in range(0, len(test_list1)):\n",
        "  test_list1[i].extend(test_list2[i])\n",
        "print(\"The concatenated Matrix : \" + str(test_list1))"
      ],
      "metadata": {
        "colab": {
          "base_uri": "https://localhost:8080/"
        },
        "id": "iHt6HiAZXYcc",
        "outputId": "09dfffad-530d-4bf5-ce21-97a84c9c775b"
      },
      "execution_count": null,
      "outputs": [
        {
          "output_type": "stream",
          "name": "stdout",
          "text": [
            "The concatenated Matrix : [[4, 3, 5, 1, 3], [1, 2, 3, 9, 3, 5, 7], [3, 7, 4, 8]]\n"
          ]
        }
      ]
    },
    {
      "cell_type": "markdown",
      "source": [
        "### Loops and conditional stat"
      ],
      "metadata": {
        "id": "RKWKpJ32DVZN"
      }
    },
    {
      "cell_type": "code",
      "source": [
        "# Python program to find those numbers which are divisible by 7 and multiple of 5, between 1500 and 2700 (both included).\n",
        "\n",
        "l1 = []\n",
        "for i in range(1500,2701):\n",
        "  if i%7==0 and i%5==0:\n",
        "    l1.append(i)\n",
        "print(l1)\n"
      ],
      "metadata": {
        "id": "JWO_APsjXYZu"
      },
      "execution_count": null,
      "outputs": []
    },
    {
      "cell_type": "code",
      "source": [
        "# python program to double the number in list of numbers\n",
        "\n",
        "numbers = [1, 2, 3, 4, 5]\n",
        "doubled_numbers = [num * 2 for num in numbers]\n",
        "print(doubled_numbers)"
      ],
      "metadata": {
        "colab": {
          "base_uri": "https://localhost:8080/"
        },
        "id": "a_RfV6WfB6DD",
        "outputId": "a5543e4b-7d1f-40c2-9503-8269bd340a8a"
      },
      "execution_count": null,
      "outputs": [
        {
          "output_type": "stream",
          "name": "stdout",
          "text": [
            "[2, 4, 6, 8, 10]\n"
          ]
        }
      ]
    },
    {
      "cell_type": "code",
      "source": [
        "#Python program to convert temperatures to and from celsius, fahrenheit.\n",
        "\n",
        "def c_v(temp,scale_n):\n",
        "  if scale_n == 'C':\n",
        "    converted = temp*9/5+32\n",
        "  elif scale_n == 'F':\n",
        "    converted = (temp-32)*5/9\n",
        "  return converted\n",
        "\n",
        "t = float(input('enter temperature '))\n",
        "s = input('For Fahrenheit press F or C for Celsius:)').upper()\n",
        "\n",
        "if s == 'F':\n",
        "    print('%.0f°F is %.0f in Celsius' % (t, c_v(t, s)))\n",
        "elif s == 'C':\n",
        "    print('%.0f°C is %.0f in Fahrenheit' % (t, c_v(t, s)))\n",
        "    \n"
      ],
      "metadata": {
        "id": "P8WCopfqXYTX",
        "colab": {
          "base_uri": "https://localhost:8080/"
        },
        "outputId": "f9a9b5da-555c-442a-e8c2-26b5467b8a46"
      },
      "execution_count": null,
      "outputs": [
        {
          "output_type": "stream",
          "name": "stdout",
          "text": [
            "enter temperature 83.0\n",
            "For Fahrenheit press F or C for Celsius:)F\n",
            "83°F is 28 in Celsius\n"
          ]
        }
      ]
    },
    {
      "cell_type": "code",
      "source": [
        "#Write a Python program to guess a number between 1 to 9.\n",
        "\n",
        "from random import randint\n",
        "\n",
        "num = randint(1,9)\n",
        "guess = int(input('guess a number between 1 and 9: '))\n",
        "\n",
        "while guess != num:\n",
        "  guess = int(input('you guessed wrong, guess again:( '))\n",
        "\n",
        "print('Yup, you guessed right:)')"
      ],
      "metadata": {
        "id": "8AqYuVOpXYQO"
      },
      "execution_count": null,
      "outputs": []
    },
    {
      "cell_type": "code",
      "source": [
        "# Python program to construct the following pattern, using a nested for loop.\n",
        "\n",
        "width = int(input('choose pattern width '))\n",
        "for i in range(1, width):\n",
        "  print('*'*i)\n",
        "for i in range(width, 0, -1):\n",
        "  print('*'*i)"
      ],
      "metadata": {
        "id": "tYVNzawDXYNI",
        "colab": {
          "base_uri": "https://localhost:8080/"
        },
        "outputId": "fa8a8a76-87f3-4735-856e-e3a971c2e7e9"
      },
      "execution_count": null,
      "outputs": [
        {
          "output_type": "stream",
          "name": "stdout",
          "text": [
            "choose pattern width 6\n",
            "*\n",
            "**\n",
            "***\n",
            "****\n",
            "*****\n",
            "******\n",
            "*****\n",
            "****\n",
            "***\n",
            "**\n",
            "*\n"
          ]
        }
      ]
    },
    {
      "cell_type": "code",
      "source": [
        "# Python program that accepts a word from the user and reverse it.\n",
        "\n",
        "word = input('please enter a word ')\n",
        "word_list = list(word)\n",
        "print(''.join(word_list[::-1]))"
      ],
      "metadata": {
        "colab": {
          "base_uri": "https://localhost:8080/"
        },
        "id": "IWQ8mkz4ImdU",
        "outputId": "0d0da2e5-bf81-4bb1-9661-c040128fb54e"
      },
      "execution_count": null,
      "outputs": [
        {
          "output_type": "stream",
          "name": "stdout",
          "text": [
            "please eneter a word yukh\n",
            "hkuy\n"
          ]
        }
      ]
    },
    {
      "cell_type": "code",
      "source": [
        "# Python program to count the number of even and odd numbers\n",
        "\n",
        "numbers = (1, 2, 3, 4, 5, 6, 7, 8, 9)\n",
        "even_count = 0\n",
        "odd_count = 0\n",
        "\n",
        "for i in numbers:\n",
        "  if i%2==0:\n",
        "    even_count += 1\n",
        "  else:\n",
        "    odd_count +=1\n",
        "print('Number of even numbers: %d' % even_count)\n",
        "print('Number of odd numbers: %d' % odd_count)"
      ],
      "metadata": {
        "colab": {
          "base_uri": "https://localhost:8080/"
        },
        "id": "byzKR2mFImaS",
        "outputId": "d3abb109-ae69-4226-f08d-990de1228b19"
      },
      "execution_count": null,
      "outputs": [
        {
          "output_type": "stream",
          "name": "stdout",
          "text": [
            "Number of even numbers: 4\n",
            "Number of odd numbers: 5\n"
          ]
        }
      ]
    },
    {
      "cell_type": "code",
      "source": [
        "#Python program that prints each item and its corresponding type\n",
        "\n",
        "datalist = [1452, 11.23, 1+2j, True, 'w3resource', (0, -1),\n",
        "            [5, 12], {\"class\":'V', \"section\":'A'}]\n",
        "\n",
        "for i in datalist:\n",
        "  print(i, type(i))"
      ],
      "metadata": {
        "id": "kZQQDk3fImXQ"
      },
      "execution_count": null,
      "outputs": []
    },
    {
      "cell_type": "code",
      "source": [
        "#Python program that prints all the numbers from 0 to 6 except 3 and 6.\n",
        "\n",
        "for i in range(7):\n",
        "  if i==3 or i==6:\n",
        "    continue\n",
        "  print(i, end=' ')"
      ],
      "metadata": {
        "id": "D2v8_ecEImUK",
        "colab": {
          "base_uri": "https://localhost:8080/"
        },
        "outputId": "40fa99bb-4ea9-4b8a-ccdb-97f028ffef49"
      },
      "execution_count": null,
      "outputs": [
        {
          "output_type": "stream",
          "name": "stdout",
          "text": [
            "0 1 2 4 5 "
          ]
        }
      ]
    },
    {
      "cell_type": "code",
      "source": [
        "'''\n",
        "Python program which iterates the integers from 1 to 50. For multiples of three print \"Fizz\" instead of the number and for the multiples of five print \"Buzz\".\n",
        " For numbers which are multiples of both three and five print \"FizzBuzz\".'''\n",
        "\n",
        "for i in range(1,51):\n",
        "  if i%3==0 and i%5==0:\n",
        "    print('FizzBuzz')\n",
        "  elif i%3==0:\n",
        "    print('Fizz')\n",
        "  elif i%5==0:\n",
        "    print('Buzz')\n",
        "  else:\n",
        "    print(i)\n"
      ],
      "metadata": {
        "id": "vbk9y5HgImNv"
      },
      "execution_count": null,
      "outputs": []
    },
    {
      "cell_type": "code",
      "source": [
        "'''\n",
        "Python program which takes two digits m (row) and n (column)\n",
        "as input and generates a two-dimensional array. The element value in the i-th\n",
        "row and j-th column of the array should be i*j. ??? '''\n",
        "\n",
        "rows = 3\n",
        "columns = 4\n",
        "\n",
        "dim = [[column*row for column in range(columns)] for row in range(rows)]\n",
        "print(dim)"
      ],
      "metadata": {
        "colab": {
          "base_uri": "https://localhost:8080/"
        },
        "id": "mnuESPUxS_bh",
        "outputId": "15a66579-3e7a-4830-da4d-84ccfc53d61f"
      },
      "execution_count": null,
      "outputs": [
        {
          "output_type": "stream",
          "name": "stdout",
          "text": [
            "[[0, 0, 0, 0], [0, 1, 2, 3], [0, 2, 4, 6]]\n"
          ]
        }
      ]
    },
    {
      "cell_type": "code",
      "source": [
        "# Python program that accepts a string and calculate the number of digits and letters. \n",
        "\n",
        "str_let = input('enter something: ')\n",
        "digits = 0\n",
        "alpha = 0\n",
        "\n",
        "for i in str_let:\n",
        "  if i.isdigit():\n",
        "    digits += 1\n",
        "  if i.isalpha():\n",
        "    alpha += 1\n",
        "print('There are', digits, 'digits and' ,alpha, 'letter')"
      ],
      "metadata": {
        "colab": {
          "base_uri": "https://localhost:8080/"
        },
        "id": "Y7_sqXpvS_Vq",
        "outputId": "0f51fdf5-9efd-44d3-e7f2-d5ab25643938"
      },
      "execution_count": null,
      "outputs": [
        {
          "output_type": "stream",
          "name": "stdout",
          "text": [
            "enter something: pyt890\n",
            "There are 3 digits and 3 str_let\n"
          ]
        }
      ]
    },
    {
      "cell_type": "code",
      "source": [
        "# Python program to check the validity of password input by users. ???\n",
        "\n",
        "password = input('please enter a valid pasword: ')\n",
        "while True:\n",
        "    length, digits, lowers, uppers, characters = 0, 0, 0, 0, 0\n",
        "    if len(password) > 6 and len(password) < 16:\n",
        "        length = 1\n",
        "    for i in password:\n",
        "        if i.isdigit():\n",
        "            digits = 1\n",
        "            continue\n",
        "        if i.islower():\n",
        "            lowers = 1\n",
        "            continue\n",
        "        if i.isupper():\n",
        "            uppers = 1\n",
        "            continue\n",
        "        if i in '$#@':\n",
        "            characters = 1\n",
        "            continue\n",
        "    rules = [length, digits, lowers, uppers, characters]\n",
        "    if all(rules):\n",
        "        print('your password is good')\n",
        "        break\n",
        "    else:\n",
        "        print('your password is not good, try again')\n",
        "        password = input('please enter a valid pasword: ')"
      ],
      "metadata": {
        "id": "QWX1ywv3S_S2"
      },
      "execution_count": null,
      "outputs": []
    },
    {
      "cell_type": "code",
      "source": [
        "#Python program to convert month name to a number of days. \n",
        "\n",
        "months = ['January', 'February', 'March', 'April', 'May', 'June', 'July',\n",
        "          'August', 'September', 'October', 'November', 'December']\n",
        "month = input('please enter a month ').title() # title() method returns a string where the first character in every word is upper case. \n",
        "if month in months:\n",
        "  if month == 'February':\n",
        "    print('No. of days: 28/29 days')\n",
        "  elif month in ('April', 'June', 'September', 'November'):\n",
        "    print('No. of days: 30 days')\n",
        "  else:\n",
        "    print('No. of days: 31 days')\n",
        "else:\n",
        "    print('Did you even put correct name:|')"
      ],
      "metadata": {
        "id": "UbywwiWeS_MO",
        "colab": {
          "base_uri": "https://localhost:8080/"
        },
        "outputId": "c3955562-9f49-418b-a6bd-718da829a877"
      },
      "execution_count": null,
      "outputs": [
        {
          "output_type": "stream",
          "name": "stdout",
          "text": [
            "please enter a month September\n",
            "No. of days: 30 days\n"
          ]
        }
      ]
    },
    {
      "cell_type": "code",
      "source": [
        "#  Python program to sum of two given integers. However, if the sum is between 15 to 20 it will return 20.\n",
        "\n",
        "int1 = int(input('integer 1: '))\n",
        "int2 = int(input('integer 2: '))\n",
        "\n",
        "def sum_int(i, j):\n",
        "  sum = i+j\n",
        "  if sum in range(15,21):\n",
        "      return 20\n",
        "  else:\n",
        "      return sum\n",
        "print(sum_int(int1,int2))"
      ],
      "metadata": {
        "id": "hPzBKvIrS_GJ",
        "colab": {
          "base_uri": "https://localhost:8080/"
        },
        "outputId": "ec00d294-6385-48af-caf2-a162890c6962"
      },
      "execution_count": null,
      "outputs": [
        {
          "output_type": "stream",
          "name": "stdout",
          "text": [
            "integer 1: 99\n",
            "integer 2: 1\n",
            "100\n"
          ]
        }
      ]
    },
    {
      "cell_type": "code",
      "source": [
        "#Python program to check a triangle is equilateral, isosceles or scalene. \n",
        "'''\n",
        "Note:\n",
        "An equilateral triangle is a triangle in which all three sides are equal.\n",
        "A scalene triangle is a triangle that has three unequal sides.\n",
        "An isosceles triangle is a triangle with (at least) two equal sides.\n",
        "'''\n",
        "\n",
        "x = int(input('x: '))\n",
        "y = int(input('y: '))\n",
        "z = int(input('z: '))\n",
        "\n",
        "if x == y == z:\n",
        "  print('equilateral')\n",
        "elif  x != y != z:\n",
        "    print('scalene')\n",
        "else:\n",
        "    print('isosceles')"
      ],
      "metadata": {
        "id": "88hWcxVCS-_l",
        "colab": {
          "base_uri": "https://localhost:8080/"
        },
        "outputId": "dc9039a7-c77a-4149-e814-efa071ca2da5"
      },
      "execution_count": null,
      "outputs": [
        {
          "output_type": "stream",
          "name": "stdout",
          "text": [
            "x: 4\n",
            "y: 4\n",
            "z: 7\n",
            "isosceles\n"
          ]
        }
      ]
    },
    {
      "cell_type": "code",
      "source": [
        "#Write a Python program to create the multiplication table\n",
        "\n",
        "number = int(input('Input a number: '))\n",
        "for i in range(1,11):\n",
        "  print('%d x %d = %d' % (number, i,  number*i))"
      ],
      "metadata": {
        "id": "ga5x8i39anf5",
        "colab": {
          "base_uri": "https://localhost:8080/"
        },
        "outputId": "fe3fc0c9-ada3-466d-ec31-fe35467238a5"
      },
      "execution_count": null,
      "outputs": [
        {
          "output_type": "stream",
          "name": "stdout",
          "text": [
            "Input a number: 5\n",
            "5 x 1 = 5\n",
            "5 x 2 = 10\n",
            "5 x 3 = 15\n",
            "5 x 4 = 20\n",
            "5 x 5 = 25\n",
            "5 x 6 = 30\n",
            "5 x 7 = 35\n",
            "5 x 8 = 40\n",
            "5 x 9 = 45\n",
            "5 x 10 = 50\n"
          ]
        }
      ]
    },
    {
      "cell_type": "markdown",
      "source": [
        "TUPLE"
      ],
      "metadata": {
        "id": "MHCJG7uqv0ch"
      }
    },
    {
      "cell_type": "code",
      "source": [
        "# Python program to convert a tuple to a string.\n",
        "my_tuple = ('a', 'b')\n",
        "my_string = ''.join(my_tuple)\n",
        "print(my_string)"
      ],
      "metadata": {
        "id": "cf8rhDo_andB",
        "colab": {
          "base_uri": "https://localhost:8080/"
        },
        "outputId": "7962e2f0-1091-42f8-8c94-ebe282d14435"
      },
      "execution_count": null,
      "outputs": [
        {
          "output_type": "stream",
          "name": "stdout",
          "text": [
            "ab\n"
          ]
        }
      ]
    },
    {
      "cell_type": "code",
      "source": [],
      "metadata": {
        "id": "JQS_aWZRanaO"
      },
      "execution_count": null,
      "outputs": []
    },
    {
      "cell_type": "code",
      "source": [],
      "metadata": {
        "id": "YjcaRaF5anWz"
      },
      "execution_count": null,
      "outputs": []
    },
    {
      "cell_type": "code",
      "source": [],
      "metadata": {
        "id": "v1i2cvFQanTM"
      },
      "execution_count": null,
      "outputs": []
    }
  ]
}