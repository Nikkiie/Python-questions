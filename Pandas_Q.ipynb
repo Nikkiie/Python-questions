{
  "nbformat": 4,
  "nbformat_minor": 0,
  "metadata": {
    "colab": {
      "provenance": [],
      "authorship_tag": "ABX9TyMHTt6/IcV0LcPEo4cJ0cUn",
      "include_colab_link": true
    },
    "kernelspec": {
      "name": "python3",
      "display_name": "Python 3"
    },
    "language_info": {
      "name": "python"
    }
  },
  "cells": [
    {
      "cell_type": "markdown",
      "metadata": {
        "id": "view-in-github",
        "colab_type": "text"
      },
      "source": [
        "<a href=\"https://colab.research.google.com/github/Nikkiie/Python-questions/blob/main/Pandas_Q.ipynb\" target=\"_parent\"><img src=\"https://colab.research.google.com/assets/colab-badge.svg\" alt=\"Open In Colab\"/></a>"
      ]
    },
    {
      "cell_type": "markdown",
      "source": [
        "Pandas questions\n"
      ],
      "metadata": {
        "id": "KCPwwP3EssUu"
      }
    },
    {
      "cell_type": "code",
      "source": [
        "import pandas as pd\n",
        "import numpy as np"
      ],
      "metadata": {
        "id": "ojm0cfu76BMf"
      },
      "execution_count": 2,
      "outputs": []
    },
    {
      "cell_type": "code",
      "execution_count": null,
      "metadata": {
        "colab": {
          "base_uri": "https://localhost:8080/"
        },
        "id": "wqZbTOB3sn0g",
        "outputId": "dc285318-b6fe-4f90-dee5-1778617f5605"
      },
      "outputs": [
        {
          "output_type": "execute_result",
          "data": {
            "text/plain": [
              "0    2\n",
              "1    4\n",
              "2    6\n",
              "dtype: int64"
            ]
          },
          "metadata": {},
          "execution_count": 7
        }
      ],
      "source": [
        "# Write a Python program to create and display a one-dimensional array-like object containing an array of data using Pandas module.\n",
        "\n",
        "import pandas as pd\n",
        "\n",
        "d = pd.Series([2,4,6])\n",
        "d"
      ]
    },
    {
      "cell_type": "code",
      "source": [
        "# Write a Python program to convert a Panda module Series to Python list and it's type.\n",
        "\n",
        "import pandas as pd\n",
        "\n",
        "d = pd.Series([2,4,6])\n",
        "print(d)\n",
        "l1 = (d.tolist())\n",
        "l1"
      ],
      "metadata": {
        "colab": {
          "base_uri": "https://localhost:8080/"
        },
        "id": "b0J7wTvFtdj0",
        "outputId": "ecf7d02f-a339-4113-ff96-93984dbf3eb8"
      },
      "execution_count": null,
      "outputs": [
        {
          "output_type": "stream",
          "name": "stdout",
          "text": [
            "0    2\n",
            "1    4\n",
            "2    6\n",
            "dtype: int64\n"
          ]
        },
        {
          "output_type": "execute_result",
          "data": {
            "text/plain": [
              "[2, 4, 6]"
            ]
          },
          "metadata": {},
          "execution_count": 9
        }
      ]
    },
    {
      "cell_type": "code",
      "source": [
        "# Python program to add, subtract, multiple and divide two Pandas Series. \n",
        "\n",
        "x = pd.Series([2, 4, 6, 8, 10])\n",
        "y = pd.Series([1, 3, 5, 7, 9])\n",
        "\n",
        "print(x+y)\n",
        "print(x-y)\n",
        "print(x*y)\n",
        "print(x/y)\n"
      ],
      "metadata": {
        "id": "JIR7vn9PtdhY"
      },
      "execution_count": null,
      "outputs": []
    },
    {
      "cell_type": "code",
      "source": [
        "# Python program to compare the elements of the two Pandas Series. \n",
        "\n",
        "x = pd.Series([2, 3, 3, 8, 10])\n",
        "y = pd.Series([1, 3, 5, 7, 9])\n",
        "\n",
        "print('x is greater than y', x[x>y])\n",
        "print('x is smaller than y', x[x<y])\n",
        "print('x is  equals to y', x[x==y])"
      ],
      "metadata": {
        "id": "9-SkE-nLtdfc",
        "colab": {
          "base_uri": "https://localhost:8080/"
        },
        "outputId": "e5dc2790-094b-4f77-973c-c929583aec31"
      },
      "execution_count": null,
      "outputs": [
        {
          "output_type": "stream",
          "name": "stdout",
          "text": [
            "x is greater than y 0     2\n",
            "3     8\n",
            "4    10\n",
            "dtype: int64\n",
            "x is smaller than y 2    3\n",
            "dtype: int64\n",
            "x is  equals to y 1    3\n",
            "dtype: int64\n"
          ]
        }
      ]
    },
    {
      "cell_type": "code",
      "source": [
        "# Python program to display the following data column wise.\n",
        "\n",
        "d = {'X':[78,85,96,80,86], 'Y':[84,94,89,83,86],'Z':[86,97,96,72,83]}\n",
        "df = pd.DataFrame(d)\n",
        "print(df)"
      ],
      "metadata": {
        "id": "JZS9SitgtdaX",
        "colab": {
          "base_uri": "https://localhost:8080/"
        },
        "outputId": "d7aa16e3-ece5-4d0f-db1d-3ecedbcac1e8"
      },
      "execution_count": null,
      "outputs": [
        {
          "output_type": "stream",
          "name": "stdout",
          "text": [
            "    X   Y   Z\n",
            "0  78  84  86\n",
            "1  85  94  97\n",
            "2  96  89  96\n",
            "3  80  83  72\n",
            "4  86  86  83\n"
          ]
        }
      ]
    },
    {
      "cell_type": "code",
      "source": [
        "#Write a Python program to create and display a DataFrame from a specified dictionary data which has the index labels.\n",
        "xam_data = {'name': ['Anastasia',\n",
        "                      'Dima',\n",
        "                      'Katherine',\n",
        "                      'James',\n",
        "                      'Emily',\n",
        "                      'Michael',\n",
        "                      'Matthew',\n",
        "                      'Laura',\n",
        "                      'Kevin',\n",
        "                      'Jonas'],\n",
        "             'score': [12.5, 9, 16.5, np.nan, 9, 20, 14.5, np.nan, 8, 19],\n",
        "             'attempts': [1, 3, 2, 3, 2, 3, 1, 1, 2, 1],\n",
        "             'qualify': ['yes', 'no', 'yes', 'no', 'no', 'yes', 'yes', 'no', 'no', 'yes']}\n",
        "labels = ['a','b','c','d','e','f','g','h','i','j']\n",
        "df = pd.DataFrame(xam_data,labels)\n",
        "df"
      ],
      "metadata": {
        "id": "db7Gbk3r797N"
      },
      "execution_count": null,
      "outputs": []
    },
    {
      "cell_type": "code",
      "source": [
        "#Write a Python program to display a summary of the basic information about a specified DataFrame and its data.\n",
        "\n",
        "exam_data = {'name': ['Anastasia',\n",
        "                      'Dima',\n",
        "                      'Katherine',\n",
        "                      'James',\n",
        "                      'Emily',\n",
        "                      'Michael',\n",
        "                      'Matthew',\n",
        "                      'Laura',\n",
        "                      'Kevin',\n",
        "                      'Jonas'],\n",
        "             'score': [12.5, 9, 16.5, np.nan, 9, 20, 14.5, np.nan, 8, 19],\n",
        "             'attempts': [1, 3, 2, 3, 2, 3, 1, 1, 2, 1],\n",
        "             'qualify': ['yes', 'no', 'yes', 'no', 'no', 'yes', 'yes', 'no', 'no', 'yes']}\n",
        "labels = ['a', 'b', 'c', 'd', 'e', 'f', 'g', 'h', 'i', 'j']\n",
        "df = pd.DataFrame(exam_data, labels)\n",
        "print(df)\n",
        "print(df.info())\n",
        "print(df.describe(include = 'all'))"
      ],
      "metadata": {
        "id": "_C4TDapV793u"
      },
      "execution_count": null,
      "outputs": []
    },
    {
      "cell_type": "code",
      "source": [
        "#Write a Python program to get the first 3 rows of a given DataFrame.\n",
        "\n",
        "exam_data = {'name': ['Anastasia',\n",
        "                      'Dima',\n",
        "                      'Katherine',\n",
        "                      'James',\n",
        "                      'Emily',\n",
        "                      'Michael',\n",
        "                      'Matthew',\n",
        "                      'Laura',\n",
        "                      'Kevin',\n",
        "                      'Jonas'],\n",
        "             'score': [12.5, 9, 16.5, np.nan, 9, 20, 14.5, np.nan, 8, 19],\n",
        "             'attempts': [1, 3, 2, 3, 2, 3, 1, 1, 2, 1],\n",
        "             'qualify': ['yes', 'no', 'yes', 'no', 'no', 'yes', 'yes', 'no', 'no', 'yes']}\n",
        "labels = ['a', 'b', 'c', 'd', 'e', 'f', 'g', 'h', 'i', 'j']\n",
        "df = pd.DataFrame(exam_data, labels)\n",
        "print(df.iloc[:-3])\n",
        "print(df.loc['d'])"
      ],
      "metadata": {
        "id": "GSeVsSXr790Z"
      },
      "execution_count": null,
      "outputs": []
    },
    {
      "cell_type": "code",
      "source": [
        "# Write a Python program to select the 'name' and 'score' columns from the following DataFrame.\n",
        "\n",
        "exam_data = {'name': ['Anastasia',\n",
        "                      'Dima',\n",
        "                      'Katherine',\n",
        "                      'James',\n",
        "                      'Emily',\n",
        "                      'Michael',\n",
        "                      'Matthew',\n",
        "                      'Laura',\n",
        "                      'Kevin',\n",
        "                      'Jonas'],\n",
        "             'score': [12.5, 9, 16.5, np.nan, 9, 20, 14.5, np.nan, 8, 19],\n",
        "             'attempts': [1, 3, 2, 3, 2, 3, 1, 1, 2, 1],\n",
        "             'qualify': ['yes', 'no', 'yes', 'no', 'no', 'yes', 'yes', 'no', 'no', 'yes']}\n",
        "labels = ['a', 'b', 'c', 'd', 'e', 'f', 'g', 'h', 'i', 'j']\n",
        "df = pd.DataFrame(exam_data, labels)\n",
        "print(df[['name', 'score']])"
      ],
      "metadata": {
        "id": "MpXNbkzFtdXH",
        "colab": {
          "base_uri": "https://localhost:8080/"
        },
        "outputId": "34cbc9df-1de7-47cb-dab5-9f948b7a5bdc"
      },
      "execution_count": null,
      "outputs": [
        {
          "output_type": "stream",
          "name": "stdout",
          "text": [
            "        name  score\n",
            "a  Anastasia   12.5\n",
            "b       Dima    9.0\n",
            "c  Katherine   16.5\n",
            "d      James    NaN\n",
            "e      Emily    9.0\n",
            "f    Michael   20.0\n",
            "g    Matthew   14.5\n",
            "h      Laura    NaN\n",
            "i      Kevin    8.0\n",
            "j      Jonas   19.0\n"
          ]
        }
      ]
    },
    {
      "cell_type": "code",
      "source": [
        "'''\n",
        "Write a Python program to select the specified columns and rows from a given\n",
        "data frame.\n",
        "Select 'name' and 'score' columns in rows 1, 3, 5, 6 from the following data frame.\n",
        "'''\n",
        "exam_data = {'name': ['Anastasia',\n",
        "                      'Dima',\n",
        "                      'Katherine',\n",
        "                      'James',\n",
        "                      'Emily',\n",
        "                      'Michael',\n",
        "                      'Matthew',\n",
        "                      'Laura',\n",
        "                      'Kevin',\n",
        "                      'Jonas'],\n",
        "             'score': [12.5, 9, 16.5, np.nan, 9, 20, 14.5, np.nan, 8, 19],\n",
        "             'attempts': [1, 3, 2, 3, 2, 3, 1, 1, 2, 1],\n",
        "             'qualify': ['yes', 'no', 'yes', 'no', 'no', 'yes', 'yes', 'no', 'no', 'yes']}\n",
        "labels = ['a', 'b', 'c', 'd', 'e', 'f', 'g', 'h', 'i', 'j']\n",
        "df = pd.DataFrame(exam_data, labels)\n",
        "print(df[['name','score']].iloc[[1,3,5,6]])"
      ],
      "metadata": {
        "id": "TJ672_s9tdUe",
        "colab": {
          "base_uri": "https://localhost:8080/"
        },
        "outputId": "3f2760fc-2fc1-4a36-a785-9a752d64384e"
      },
      "execution_count": null,
      "outputs": [
        {
          "output_type": "stream",
          "name": "stdout",
          "text": [
            "      name  score\n",
            "b     Dima    9.0\n",
            "d    James    NaN\n",
            "f  Michael   20.0\n",
            "g  Matthew   14.5\n"
          ]
        }
      ]
    },
    {
      "cell_type": "code",
      "source": [
        "# Write a Python program to select the rows where the number of attempts in the examination is greater than 2.\n",
        "\n",
        "exam_data = {'name': ['Anastasia',\n",
        "                      'Dima',\n",
        "                      'Katherine',\n",
        "                      'James',\n",
        "                      'Emily',\n",
        "                      'Michael',\n",
        "                      'Matthew',\n",
        "                      'Laura',\n",
        "                      'Kevin',\n",
        "                      'Jonas'],\n",
        "             'score': [12.5, 9, 16.5, np.nan, 9, 20, 14.5, np.nan, 8, 19],\n",
        "             'attempts': [1, 3, 2, 3, 2, 3, 1, 1, 2, 1],\n",
        "             'qualify': ['yes', 'no', 'yes', 'no', 'no', 'yes', 'yes', 'no', 'no', 'yes']}\n",
        "labels = ['a', 'b', 'c', 'd', 'e', 'f', 'g', 'h', 'i', 'j']\n",
        "df = pd.DataFrame(exam_data, labels)\n",
        "print(df[df['attempts']>2])"
      ],
      "metadata": {
        "id": "I0lBsWHhtdSR",
        "colab": {
          "base_uri": "https://localhost:8080/"
        },
        "outputId": "935613ee-30c6-499a-e45a-6ccaf2b88806"
      },
      "execution_count": 4,
      "outputs": [
        {
          "output_type": "stream",
          "name": "stdout",
          "text": [
            "      name  score  attempts qualify\n",
            "b     Dima    9.0         3      no\n",
            "d    James    NaN         3      no\n",
            "f  Michael   20.0         3     yes\n"
          ]
        }
      ]
    },
    {
      "cell_type": "code",
      "source": [
        "#Write a Python program to count the number of rows and columns of a DataFrame.??\n",
        "\n",
        "exam_data = {'name': ['Anastasia',\n",
        "                      'Dima',\n",
        "                      'Katherine',\n",
        "                      'James',\n",
        "                      'Emily',\n",
        "                      'Michael',\n",
        "                      'Matthew',\n",
        "                      'Laura',\n",
        "                      'Kevin',\n",
        "                      'Jonas'],\n",
        "             'score': [12.5, 9, 16.5, np.nan, 9, 20, 14.5, np.nan, 8, 19],\n",
        "             'attempts': [1, 3, 2, 3, 2, 3, 1, 1, 2, 1],\n",
        "             'qualify': ['yes', 'no', 'yes', 'no', 'no', 'yes', 'yes', 'no', 'no', 'yes']}\n",
        "labels = ['a', 'b', 'c', 'd', 'e', 'f', 'g', 'h', 'i', 'j']\n",
        "df = pd.DataFrame(exam_data, labels)\n",
        "print('No. of rows', len(df.iloc[:]))\n",
        "print('No of columns', df.shape[1] )"
      ],
      "metadata": {
        "id": "aF8WmtettdPJ",
        "colab": {
          "base_uri": "https://localhost:8080/"
        },
        "outputId": "9e1d2ce1-8acc-495f-987a-052257c854b0"
      },
      "execution_count": 6,
      "outputs": [
        {
          "output_type": "stream",
          "name": "stdout",
          "text": [
            "No. of rows 10\n",
            "No of columns 4\n"
          ]
        }
      ]
    },
    {
      "cell_type": "code",
      "source": [
        "#Write a Python program to select the rows where the score is missing, i.e. is NaN.\n",
        "\n",
        "exam_data = {'name': ['Anastasia',\n",
        "                      'Dima',\n",
        "                      'Katherine',\n",
        "                      'James',\n",
        "                      'Emily',\n",
        "                      'Michael',\n",
        "                      'Matthew',\n",
        "                      'Laura',\n",
        "                      'Kevin',\n",
        "                      'Jonas'],\n",
        "             'score': [12.5, 9, 16.5, np.nan, 9, 20, 14.5, np.nan, 8, 19],\n",
        "             'attempts': [1, 3, 2, 3, 2, 3, 1, 1, 2, 1],\n",
        "             'qualify': ['yes', 'no', 'yes', 'no', 'no', 'yes', 'yes', 'no', 'no', 'yes']}\n",
        "labels = ['a', 'b', 'c', 'd', 'e', 'f', 'g', 'h', 'i', 'j']\n",
        "df = pd.DataFrame(exam_data, labels)\n",
        "print(df[df.score.isnull()])"
      ],
      "metadata": {
        "colab": {
          "base_uri": "https://localhost:8080/"
        },
        "id": "5XsmM96Gp0AZ",
        "outputId": "136eb7f9-4256-4c65-fa55-60b7a6066efe"
      },
      "execution_count": 7,
      "outputs": [
        {
          "output_type": "stream",
          "name": "stdout",
          "text": [
            "    name  score  attempts qualify\n",
            "d  James    NaN         3      no\n",
            "h  Laura    NaN         1      no\n"
          ]
        }
      ]
    },
    {
      "cell_type": "code",
      "source": [
        "#  Write a Python program to select the rows the score is between 15 and 20.\n",
        "\n",
        "exam_data = {'name': ['Anastasia',\n",
        "                      'Dima',\n",
        "                      'Katherine',\n",
        "                      'James',\n",
        "                      'Emily',\n",
        "                      'Michael',\n",
        "                      'Matthew',\n",
        "                      'Laura',\n",
        "                      'Kevin',\n",
        "                      'Jonas'],\n",
        "             'score': [12.5, 9, 16.5, np.nan, 9, 20, 14.5, np.nan, 8, 19],\n",
        "             'attempts': [1, 3, 2, 3, 2, 3, 1, 1, 2, 1],\n",
        "             'qualify': ['yes', 'no', 'yes', 'no', 'no', 'yes', 'yes', 'no', 'no', 'yes']}\n",
        "labels = ['a', 'b', 'c', 'd', 'e', 'f', 'g', 'h', 'i', 'j']\n",
        "df = pd.DataFrame(exam_data, labels)\n",
        "print(df[(df.score >=15) & (df.score <=20)])"
      ],
      "metadata": {
        "colab": {
          "base_uri": "https://localhost:8080/"
        },
        "id": "xhPgQIEopz-c",
        "outputId": "682757cd-c4fa-4c42-b795-948f6f4a04d5"
      },
      "execution_count": 8,
      "outputs": [
        {
          "output_type": "stream",
          "name": "stdout",
          "text": [
            "        name  score  attempts qualify\n",
            "c  Katherine   16.5         2     yes\n",
            "f    Michael   20.0         3     yes\n",
            "j      Jonas   19.0         1     yes\n"
          ]
        }
      ]
    },
    {
      "cell_type": "code",
      "source": [],
      "metadata": {
        "id": "xVq7OSJDpz8J"
      },
      "execution_count": null,
      "outputs": []
    },
    {
      "cell_type": "code",
      "source": [],
      "metadata": {
        "id": "dam6cOt7pz5Y"
      },
      "execution_count": null,
      "outputs": []
    },
    {
      "cell_type": "code",
      "source": [],
      "metadata": {
        "id": "FCDj4Ma2pz1U"
      },
      "execution_count": null,
      "outputs": []
    },
    {
      "cell_type": "code",
      "source": [],
      "metadata": {
        "id": "mqJojh0rpzw9"
      },
      "execution_count": null,
      "outputs": []
    },
    {
      "cell_type": "code",
      "source": [],
      "metadata": {
        "id": "DuZnglsqpztx"
      },
      "execution_count": null,
      "outputs": []
    },
    {
      "cell_type": "code",
      "source": [],
      "metadata": {
        "id": "2dxhaGlWpzqM"
      },
      "execution_count": null,
      "outputs": []
    },
    {
      "cell_type": "code",
      "source": [],
      "metadata": {
        "id": "m8Pbngcopzm_"
      },
      "execution_count": null,
      "outputs": []
    }
  ]
}