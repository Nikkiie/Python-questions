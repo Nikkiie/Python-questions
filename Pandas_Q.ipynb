{
  "nbformat": 4,
  "nbformat_minor": 0,
  "metadata": {
    "colab": {
      "provenance": [],
      "authorship_tag": "ABX9TyPICnVYJLVNdKjpKonTdoG+",
      "include_colab_link": true
    },
    "kernelspec": {
      "name": "python3",
      "display_name": "Python 3"
    },
    "language_info": {
      "name": "python"
    }
  },
  "cells": [
    {
      "cell_type": "markdown",
      "metadata": {
        "id": "view-in-github",
        "colab_type": "text"
      },
      "source": [
        "<a href=\"https://colab.research.google.com/github/Nikkiie/Python-questions/blob/main/Pandas_Q.ipynb\" target=\"_parent\"><img src=\"https://colab.research.google.com/assets/colab-badge.svg\" alt=\"Open In Colab\"/></a>"
      ]
    },
    {
      "cell_type": "markdown",
      "source": [
        "Pandas questions\n"
      ],
      "metadata": {
        "id": "KCPwwP3EssUu"
      }
    },
    {
      "cell_type": "code",
      "source": [
        "import pandas as pd\n",
        "import numpy as np"
      ],
      "metadata": {
        "id": "ojm0cfu76BMf"
      },
      "execution_count": 2,
      "outputs": []
    },
    {
      "cell_type": "code",
      "execution_count": null,
      "metadata": {
        "colab": {
          "base_uri": "https://localhost:8080/"
        },
        "id": "wqZbTOB3sn0g",
        "outputId": "dc285318-b6fe-4f90-dee5-1778617f5605"
      },
      "outputs": [
        {
          "output_type": "execute_result",
          "data": {
            "text/plain": [
              "0    2\n",
              "1    4\n",
              "2    6\n",
              "dtype: int64"
            ]
          },
          "metadata": {},
          "execution_count": 7
        }
      ],
      "source": [
        "# Write a Python program to create and display a one-dimensional array-like object containing an array of data using Pandas module.\n",
        "\n",
        "import pandas as pd\n",
        "\n",
        "d = pd.Series([2,4,6])\n",
        "d"
      ]
    },
    {
      "cell_type": "code",
      "source": [
        "# Write a Python program to convert a Panda module Series to Python list and it's type.\n",
        "\n",
        "import pandas as pd\n",
        "\n",
        "d = pd.Series([2,4,6])\n",
        "print(d)\n",
        "l1 = (d.tolist())\n",
        "l1"
      ],
      "metadata": {
        "colab": {
          "base_uri": "https://localhost:8080/"
        },
        "id": "b0J7wTvFtdj0",
        "outputId": "ecf7d02f-a339-4113-ff96-93984dbf3eb8"
      },
      "execution_count": null,
      "outputs": [
        {
          "output_type": "stream",
          "name": "stdout",
          "text": [
            "0    2\n",
            "1    4\n",
            "2    6\n",
            "dtype: int64\n"
          ]
        },
        {
          "output_type": "execute_result",
          "data": {
            "text/plain": [
              "[2, 4, 6]"
            ]
          },
          "metadata": {},
          "execution_count": 9
        }
      ]
    },
    {
      "cell_type": "code",
      "source": [
        "# Python program to add, subtract, multiple and divide two Pandas Series. \n",
        "\n",
        "x = pd.Series([2, 4, 6, 8, 10])\n",
        "y = pd.Series([1, 3, 5, 7, 9])\n",
        "\n",
        "print(x+y)\n",
        "print(x-y)\n",
        "print(x*y)\n",
        "print(x/y)\n"
      ],
      "metadata": {
        "id": "JIR7vn9PtdhY"
      },
      "execution_count": null,
      "outputs": []
    },
    {
      "cell_type": "code",
      "source": [
        "# Python program to compare the elements of the two Pandas Series. \n",
        "\n",
        "x = pd.Series([2, 3, 3, 8, 10])\n",
        "y = pd.Series([1, 3, 5, 7, 9])\n",
        "\n",
        "print('x is greater than y', x[x>y])\n",
        "print('x is smaller than y', x[x<y])\n",
        "print('x is  equals to y', x[x==y])"
      ],
      "metadata": {
        "id": "9-SkE-nLtdfc",
        "colab": {
          "base_uri": "https://localhost:8080/"
        },
        "outputId": "e5dc2790-094b-4f77-973c-c929583aec31"
      },
      "execution_count": null,
      "outputs": [
        {
          "output_type": "stream",
          "name": "stdout",
          "text": [
            "x is greater than y 0     2\n",
            "3     8\n",
            "4    10\n",
            "dtype: int64\n",
            "x is smaller than y 2    3\n",
            "dtype: int64\n",
            "x is  equals to y 1    3\n",
            "dtype: int64\n"
          ]
        }
      ]
    },
    {
      "cell_type": "code",
      "source": [
        "# Python program to display the following data column wise.\n",
        "\n",
        "d = {'X':[78,85,96,80,86], 'Y':[84,94,89,83,86],'Z':[86,97,96,72,83]}\n",
        "df = pd.DataFrame(d)\n",
        "print(df)"
      ],
      "metadata": {
        "id": "JZS9SitgtdaX",
        "colab": {
          "base_uri": "https://localhost:8080/"
        },
        "outputId": "d7aa16e3-ece5-4d0f-db1d-3ecedbcac1e8"
      },
      "execution_count": null,
      "outputs": [
        {
          "output_type": "stream",
          "name": "stdout",
          "text": [
            "    X   Y   Z\n",
            "0  78  84  86\n",
            "1  85  94  97\n",
            "2  96  89  96\n",
            "3  80  83  72\n",
            "4  86  86  83\n"
          ]
        }
      ]
    },
    {
      "cell_type": "code",
      "source": [
        "#Write a Python program to create and display a DataFrame from a specified dictionary data which has the index labels.\n",
        "xam_data = {'name': ['Anastasia',\n",
        "                      'Dima',\n",
        "                      'Katherine',\n",
        "                      'James',\n",
        "                      'Emily',\n",
        "                      'Michael',\n",
        "                      'Matthew',\n",
        "                      'Laura',\n",
        "                      'Kevin',\n",
        "                      'Jonas'],\n",
        "             'score': [12.5, 9, 16.5, np.nan, 9, 20, 14.5, np.nan, 8, 19],\n",
        "             'attempts': [1, 3, 2, 3, 2, 3, 1, 1, 2, 1],\n",
        "             'qualify': ['yes', 'no', 'yes', 'no', 'no', 'yes', 'yes', 'no', 'no', 'yes']}\n",
        "labels = ['a','b','c','d','e','f','g','h','i','j']\n",
        "df = pd.DataFrame(xam_data,labels)\n",
        "df"
      ],
      "metadata": {
        "id": "db7Gbk3r797N"
      },
      "execution_count": null,
      "outputs": []
    },
    {
      "cell_type": "code",
      "source": [
        "#Write a Python program to display a summary of the basic information about a specified DataFrame and its data.\n",
        "\n",
        "exam_data = {'name': ['Anastasia',\n",
        "                      'Dima',\n",
        "                      'Katherine',\n",
        "                      'James',\n",
        "                      'Emily',\n",
        "                      'Michael',\n",
        "                      'Matthew',\n",
        "                      'Laura',\n",
        "                      'Kevin',\n",
        "                      'Jonas'],\n",
        "             'score': [12.5, 9, 16.5, np.nan, 9, 20, 14.5, np.nan, 8, 19],\n",
        "             'attempts': [1, 3, 2, 3, 2, 3, 1, 1, 2, 1],\n",
        "             'qualify': ['yes', 'no', 'yes', 'no', 'no', 'yes', 'yes', 'no', 'no', 'yes']}\n",
        "labels = ['a', 'b', 'c', 'd', 'e', 'f', 'g', 'h', 'i', 'j']\n",
        "df = pd.DataFrame(exam_data, labels)\n",
        "print(df)\n",
        "print(df.info())\n",
        "print(df.describe(include = 'all'))"
      ],
      "metadata": {
        "id": "_C4TDapV793u"
      },
      "execution_count": null,
      "outputs": []
    },
    {
      "cell_type": "code",
      "source": [
        "#Write a Python program to get the first 3 rows of a given DataFrame.\n",
        "\n",
        "exam_data = {'name': ['Anastasia',\n",
        "                      'Dima',\n",
        "                      'Katherine',\n",
        "                      'James',\n",
        "                      'Emily',\n",
        "                      'Michael',\n",
        "                      'Matthew',\n",
        "                      'Laura',\n",
        "                      'Kevin',\n",
        "                      'Jonas'],\n",
        "             'score': [12.5, 9, 16.5, np.nan, 9, 20, 14.5, np.nan, 8, 19],\n",
        "             'attempts': [1, 3, 2, 3, 2, 3, 1, 1, 2, 1],\n",
        "             'qualify': ['yes', 'no', 'yes', 'no', 'no', 'yes', 'yes', 'no', 'no', 'yes']}\n",
        "labels = ['a', 'b', 'c', 'd', 'e', 'f', 'g', 'h', 'i', 'j']\n",
        "df = pd.DataFrame(exam_data, labels)\n",
        "print(df.iloc[:-3])\n",
        "print(df.loc['d'])"
      ],
      "metadata": {
        "id": "GSeVsSXr790Z"
      },
      "execution_count": null,
      "outputs": []
    },
    {
      "cell_type": "code",
      "source": [
        "# Write a Python program to select the 'name' and 'score' columns from the following DataFrame.\n",
        "\n",
        "exam_data = {'name': ['Anastasia',\n",
        "                      'Dima',\n",
        "                      'Katherine',\n",
        "                      'James',\n",
        "                      'Emily',\n",
        "                      'Michael',\n",
        "                      'Matthew',\n",
        "                      'Laura',\n",
        "                      'Kevin',\n",
        "                      'Jonas'],\n",
        "             'score': [12.5, 9, 16.5, np.nan, 9, 20, 14.5, np.nan, 8, 19],\n",
        "             'attempts': [1, 3, 2, 3, 2, 3, 1, 1, 2, 1],\n",
        "             'qualify': ['yes', 'no', 'yes', 'no', 'no', 'yes', 'yes', 'no', 'no', 'yes']}\n",
        "labels = ['a', 'b', 'c', 'd', 'e', 'f', 'g', 'h', 'i', 'j']\n",
        "df = pd.DataFrame(exam_data, labels)\n",
        "print(df[['name', 'score']])"
      ],
      "metadata": {
        "id": "MpXNbkzFtdXH",
        "colab": {
          "base_uri": "https://localhost:8080/"
        },
        "outputId": "34cbc9df-1de7-47cb-dab5-9f948b7a5bdc"
      },
      "execution_count": 10,
      "outputs": [
        {
          "output_type": "stream",
          "name": "stdout",
          "text": [
            "        name  score\n",
            "a  Anastasia   12.5\n",
            "b       Dima    9.0\n",
            "c  Katherine   16.5\n",
            "d      James    NaN\n",
            "e      Emily    9.0\n",
            "f    Michael   20.0\n",
            "g    Matthew   14.5\n",
            "h      Laura    NaN\n",
            "i      Kevin    8.0\n",
            "j      Jonas   19.0\n"
          ]
        }
      ]
    },
    {
      "cell_type": "code",
      "source": [
        "'''\n",
        "Write a Python program to select the specified columns and rows from a given\n",
        "data frame.\n",
        "Select 'name' and 'score' columns in rows 1, 3, 5, 6 from the following data frame.\n",
        "'''\n",
        "exam_data = {'name': ['Anastasia',\n",
        "                      'Dima',\n",
        "                      'Katherine',\n",
        "                      'James',\n",
        "                      'Emily',\n",
        "                      'Michael',\n",
        "                      'Matthew',\n",
        "                      'Laura',\n",
        "                      'Kevin',\n",
        "                      'Jonas'],\n",
        "             'score': [12.5, 9, 16.5, np.nan, 9, 20, 14.5, np.nan, 8, 19],\n",
        "             'attempts': [1, 3, 2, 3, 2, 3, 1, 1, 2, 1],\n",
        "             'qualify': ['yes', 'no', 'yes', 'no', 'no', 'yes', 'yes', 'no', 'no', 'yes']}\n",
        "labels = ['a', 'b', 'c', 'd', 'e', 'f', 'g', 'h', 'i', 'j']\n",
        "df = pd.DataFrame(exam_data, labels)\n",
        "print(df[['name','score']].iloc[[1,3,5,6]])"
      ],
      "metadata": {
        "id": "TJ672_s9tdUe",
        "colab": {
          "base_uri": "https://localhost:8080/"
        },
        "outputId": "3f2760fc-2fc1-4a36-a785-9a752d64384e"
      },
      "execution_count": 11,
      "outputs": [
        {
          "output_type": "stream",
          "name": "stdout",
          "text": [
            "      name  score\n",
            "b     Dima    9.0\n",
            "d    James    NaN\n",
            "f  Michael   20.0\n",
            "g  Matthew   14.5\n"
          ]
        }
      ]
    },
    {
      "cell_type": "code",
      "source": [],
      "metadata": {
        "id": "I0lBsWHhtdSR"
      },
      "execution_count": null,
      "outputs": []
    },
    {
      "cell_type": "code",
      "source": [],
      "metadata": {
        "id": "aF8WmtettdPJ"
      },
      "execution_count": null,
      "outputs": []
    }
  ]
}