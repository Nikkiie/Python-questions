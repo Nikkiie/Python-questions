{
  "nbformat": 4,
  "nbformat_minor": 0,
  "metadata": {
    "colab": {
      "provenance": [],
      "authorship_tag": "ABX9TyPCLpD1nyFZrwpiyjas2zGL",
      "include_colab_link": true
    },
    "kernelspec": {
      "name": "python3",
      "display_name": "Python 3"
    },
    "language_info": {
      "name": "python"
    }
  },
  "cells": [
    {
      "cell_type": "markdown",
      "metadata": {
        "id": "view-in-github",
        "colab_type": "text"
      },
      "source": [
        "<a href=\"https://colab.research.google.com/github/Nikkiie/Python-questions/blob/main/Pandas_Q.ipynb\" target=\"_parent\"><img src=\"https://colab.research.google.com/assets/colab-badge.svg\" alt=\"Open In Colab\"/></a>"
      ]
    },
    {
      "cell_type": "markdown",
      "source": [
        "Pandas questions\n"
      ],
      "metadata": {
        "id": "KCPwwP3EssUu"
      }
    },
    {
      "cell_type": "code",
      "source": [
        "import pandas as pd"
      ],
      "metadata": {
        "id": "ojm0cfu76BMf"
      },
      "execution_count": 1,
      "outputs": []
    },
    {
      "cell_type": "code",
      "execution_count": null,
      "metadata": {
        "colab": {
          "base_uri": "https://localhost:8080/"
        },
        "id": "wqZbTOB3sn0g",
        "outputId": "dc285318-b6fe-4f90-dee5-1778617f5605"
      },
      "outputs": [
        {
          "output_type": "execute_result",
          "data": {
            "text/plain": [
              "0    2\n",
              "1    4\n",
              "2    6\n",
              "dtype: int64"
            ]
          },
          "metadata": {},
          "execution_count": 7
        }
      ],
      "source": [
        "# Write a Python program to create and display a one-dimensional array-like object containing an array of data using Pandas module.\n",
        "\n",
        "import pandas as pd\n",
        "\n",
        "d = pd.Series([2,4,6])\n",
        "d"
      ]
    },
    {
      "cell_type": "code",
      "source": [
        "# Write a Python program to convert a Panda module Series to Python list and it's type.\n",
        "\n",
        "import pandas as pd\n",
        "\n",
        "d = pd.Series([2,4,6])\n",
        "print(d)\n",
        "l1 = (d.tolist())\n",
        "l1"
      ],
      "metadata": {
        "colab": {
          "base_uri": "https://localhost:8080/"
        },
        "id": "b0J7wTvFtdj0",
        "outputId": "ecf7d02f-a339-4113-ff96-93984dbf3eb8"
      },
      "execution_count": null,
      "outputs": [
        {
          "output_type": "stream",
          "name": "stdout",
          "text": [
            "0    2\n",
            "1    4\n",
            "2    6\n",
            "dtype: int64\n"
          ]
        },
        {
          "output_type": "execute_result",
          "data": {
            "text/plain": [
              "[2, 4, 6]"
            ]
          },
          "metadata": {},
          "execution_count": 9
        }
      ]
    },
    {
      "cell_type": "code",
      "source": [
        "# Python program to add, subtract, multiple and divide two Pandas Series. \n",
        "\n",
        "x = pd.Series([2, 4, 6, 8, 10])\n",
        "y = pd.Series([1, 3, 5, 7, 9])\n",
        "\n",
        "print(x+y)\n",
        "print(x-y)\n",
        "print(x*y)\n",
        "print(x/y)\n"
      ],
      "metadata": {
        "id": "JIR7vn9PtdhY"
      },
      "execution_count": null,
      "outputs": []
    },
    {
      "cell_type": "code",
      "source": [
        "# Python program to compare the elements of the two Pandas Series. \n",
        "\n",
        "x = pd.Series([2, 3, 3, 8, 10])\n",
        "y = pd.Series([1, 3, 5, 7, 9])\n",
        "\n",
        "print('x is greater than y', x[x>y])\n",
        "print('x is smaller than y', x[x<y])\n",
        "print('x is  equals to y', x[x==y])"
      ],
      "metadata": {
        "id": "9-SkE-nLtdfc",
        "colab": {
          "base_uri": "https://localhost:8080/"
        },
        "outputId": "e5dc2790-094b-4f77-973c-c929583aec31"
      },
      "execution_count": 3,
      "outputs": [
        {
          "output_type": "stream",
          "name": "stdout",
          "text": [
            "x is greater than y 0     2\n",
            "3     8\n",
            "4    10\n",
            "dtype: int64\n",
            "x is smaller than y 2    3\n",
            "dtype: int64\n",
            "x is  equals to y 1    3\n",
            "dtype: int64\n"
          ]
        }
      ]
    },
    {
      "cell_type": "code",
      "source": [
        "# Python program to display the following data column wise.\n",
        "\n",
        "d = {'X':[78,85,96,80,86], 'Y':[84,94,89,83,86],'Z':[86,97,96,72,83]}\n",
        "df = pd.DataFrame(d)\n",
        "print(df)"
      ],
      "metadata": {
        "id": "JZS9SitgtdaX",
        "colab": {
          "base_uri": "https://localhost:8080/"
        },
        "outputId": "d7aa16e3-ece5-4d0f-db1d-3ecedbcac1e8"
      },
      "execution_count": 6,
      "outputs": [
        {
          "output_type": "stream",
          "name": "stdout",
          "text": [
            "    X   Y   Z\n",
            "0  78  84  86\n",
            "1  85  94  97\n",
            "2  96  89  96\n",
            "3  80  83  72\n",
            "4  86  86  83\n"
          ]
        }
      ]
    },
    {
      "cell_type": "code",
      "source": [],
      "metadata": {
        "id": "db7Gbk3r797N"
      },
      "execution_count": null,
      "outputs": []
    },
    {
      "cell_type": "code",
      "source": [],
      "metadata": {
        "id": "_C4TDapV793u"
      },
      "execution_count": null,
      "outputs": []
    },
    {
      "cell_type": "code",
      "source": [],
      "metadata": {
        "id": "GSeVsSXr790Z"
      },
      "execution_count": null,
      "outputs": []
    },
    {
      "cell_type": "code",
      "source": [],
      "metadata": {
        "id": "MpXNbkzFtdXH"
      },
      "execution_count": null,
      "outputs": []
    },
    {
      "cell_type": "code",
      "source": [],
      "metadata": {
        "id": "TJ672_s9tdUe"
      },
      "execution_count": null,
      "outputs": []
    },
    {
      "cell_type": "code",
      "source": [],
      "metadata": {
        "id": "I0lBsWHhtdSR"
      },
      "execution_count": null,
      "outputs": []
    },
    {
      "cell_type": "code",
      "source": [],
      "metadata": {
        "id": "aF8WmtettdPJ"
      },
      "execution_count": null,
      "outputs": []
    }
  ]
}