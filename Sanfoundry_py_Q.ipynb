{
  "nbformat": 4,
  "nbformat_minor": 0,
  "metadata": {
    "colab": {
      "provenance": [],
      "authorship_tag": "ABX9TyPdAA0vXNkSgtzoJHenPkx+",
      "include_colab_link": true
    },
    "kernelspec": {
      "name": "python3",
      "display_name": "Python 3"
    },
    "language_info": {
      "name": "python"
    }
  },
  "cells": [
    {
      "cell_type": "markdown",
      "metadata": {
        "id": "view-in-github",
        "colab_type": "text"
      },
      "source": [
        "<a href=\"https://colab.research.google.com/github/Nikkiie/Python-questions/blob/main/Sanfoundry_py_Q.ipynb\" target=\"_parent\"><img src=\"https://colab.research.google.com/assets/colab-badge.svg\" alt=\"Open In Colab\"/></a>"
      ]
    },
    {
      "cell_type": "code",
      "execution_count": null,
      "metadata": {
        "colab": {
          "base_uri": "https://localhost:8080/"
        },
        "id": "2xTPp_L25kQd",
        "outputId": "985917e6-ce17-48eb-b42f-19a467391d4d"
      },
      "outputs": [
        {
          "output_type": "stream",
          "name": "stdout",
          "text": [
            "Enter number: -7\n",
            "Number is negative\n"
          ]
        }
      ],
      "source": [
        "#Program to Check Whether a Number is Positive or Negative\n",
        "\n",
        "n=int(input(\"Enter number: \"))\n",
        "if n>0:\n",
        "  print(\"Number is positive\")\n",
        "else:\n",
        "  print(\"Number is negative\")"
      ]
    },
    {
      "cell_type": "code",
      "source": [
        "#Program to Print All Odd Numbers in a Range\n",
        "\n",
        "lower=int(input(\"Enter the lower limit for the range:\"))\n",
        "upper=int(input(\"Enter the upper limit for the range:\"))\n",
        "for i in range(lower,upper+1):\n",
        "  if i % 2 == 1:\n",
        "    print(i)\n"
      ],
      "metadata": {
        "colab": {
          "base_uri": "https://localhost:8080/"
        },
        "id": "_RQnXnCa5lRK",
        "outputId": "d281ddbd-edc2-410a-e632-11be275b8199"
      },
      "execution_count": null,
      "outputs": [
        {
          "output_type": "stream",
          "name": "stdout",
          "text": [
            "Enter the lower limit for the range:6\n",
            "Enter the upper limit for the range:16\n",
            "7\n",
            "9\n",
            "11\n",
            "13\n",
            "15\n"
          ]
        }
      ]
    },
    {
      "cell_type": "code",
      "source": [
        "#Program to Check if a Number is a Palindrome\n",
        "\n",
        "n = (input(\"Enter number:\"))\n",
        "if n == n[::-1]:\n",
        "  print(\"Yes its a palindrome\")\n",
        "else:\n",
        "    print(\"No, its not a palindrome\")"
      ],
      "metadata": {
        "colab": {
          "base_uri": "https://localhost:8080/"
        },
        "id": "MJk2s1b35lNh",
        "outputId": "5ee1336f-6e66-4e6c-caec-15102e134db2"
      },
      "execution_count": null,
      "outputs": [
        {
          "output_type": "stream",
          "name": "stdout",
          "text": [
            "Enter number:676\n",
            "Yes its a palindrome\n"
          ]
        }
      ]
    },
    {
      "cell_type": "code",
      "source": [
        "#Program to Convert Centimeters to Feet and Inches\n",
        "\n",
        "cm=int(input(\"Enter the height in centimeters:\"))\n",
        "inches=0.394*cm\n",
        "feet=0.0328*cm\n",
        "print(\"The length in inches\",round(inches,2))\n",
        "print(\"The length in feet\",round(feet,2))"
      ],
      "metadata": {
        "colab": {
          "base_uri": "https://localhost:8080/"
        },
        "id": "SgLARuwP5lKb",
        "outputId": "d9f87cb8-e9de-4e07-b002-cd6d96088496"
      },
      "execution_count": null,
      "outputs": [
        {
          "output_type": "stream",
          "name": "stdout",
          "text": [
            "Enter the height in centimeters:34\n",
            "The length in inches 13.4\n",
            "The length in feet 1.12\n"
          ]
        }
      ]
    },
    {
      "cell_type": "code",
      "source": [
        "#Python Program to Print All Integers that Aren’t Divisible by Either 2 or 3\n",
        "\n",
        "for i in range(1,51):\n",
        "  if(i%2!=0 & i%3!=0):\n",
        "    print(i)"
      ],
      "metadata": {
        "id": "_mzSih2b5lEA"
      },
      "execution_count": null,
      "outputs": []
    },
    {
      "cell_type": "code",
      "source": [
        "# Python Program to find those numbers which are divisible by 7 and multiple of 5 in a given range of numbers.\n",
        "\n",
        "lower=int(input(\"Enter the lower range:\"))\n",
        "upper=int(input(\"Enter the upper range:\"))\n",
        "for i in range(lower,upper+1):\n",
        "  if (i%7==0 and i%5==0):\n",
        "    print(i)"
      ],
      "metadata": {
        "id": "KsjCBxRu5-0Z",
        "colab": {
          "base_uri": "https://localhost:8080/"
        },
        "outputId": "ec77ecbf-9362-490d-8ea2-e9dd1d54e81e"
      },
      "execution_count": null,
      "outputs": [
        {
          "output_type": "stream",
          "name": "stdout",
          "text": [
            "Enter the lower range:1\n",
            "Enter the upper range:100\n",
            "35\n",
            "70\n"
          ]
        }
      ]
    },
    {
      "cell_type": "code",
      "source": [
        "#Python Program to print all numbers in a range divisible by a given number.\n",
        "\n",
        "lower=int(input(\"Enter lower range limit:\"))\n",
        "upper=int(input(\"Enter upper range limit:\"))\n",
        "n=int(input(\"Enter the number to be divided by:\"))\n",
        "for i in range(lower,upper+1):\n",
        "  if (i%n==0):\n",
        "    print(i)"
      ],
      "metadata": {
        "id": "2ikt6xgdNE-v"
      },
      "execution_count": null,
      "outputs": []
    },
    {
      "cell_type": "code",
      "source": [
        "# Python Program to reverse a given number.\n",
        "\n",
        "num = 3456\n",
        "print(\"Given number\", num)\n",
        "while num>0:\n",
        "  dig = num % 10\n",
        "  num = num // 10\n",
        "  print(dig,end=' ')\n"
      ],
      "metadata": {
        "id": "j2KI1vVb5lHH",
        "colab": {
          "base_uri": "https://localhost:8080/"
        },
        "outputId": "482383ee-a743-4b09-c041-c191e3963515"
      },
      "execution_count": null,
      "outputs": [
        {
          "output_type": "stream",
          "name": "stdout",
          "text": [
            "Given number 3456\n",
            "6 5 4 3 "
          ]
        }
      ]
    },
    {
      "cell_type": "code",
      "source": [
        "#Sum of Digits Program in Python\n",
        "\n",
        "n=int(input(\"Enter a number:\"))\n",
        "tot = 0\n",
        "while n>0:\n",
        "  dig = n % 10\n",
        "  tot = tot + dig\n",
        "  n = n // 10\n",
        "print(\"The total sum of digits is:\",tot)\n",
        "\n",
        "\n"
      ],
      "metadata": {
        "id": "DouwoKKsNSeV",
        "colab": {
          "base_uri": "https://localhost:8080/"
        },
        "outputId": "acbd358d-7ae9-4af1-a38c-92cddedf4422"
      },
      "execution_count": null,
      "outputs": [
        {
          "output_type": "stream",
          "name": "stdout",
          "text": [
            "Enter a number:56\n",
            "The total sum of digits is: 11\n"
          ]
        }
      ]
    },
    {
      "cell_type": "code",
      "source": [
        "#Python Program to Count the Number of Digits in a Number\n",
        "\n",
        "n=int(input(\"Enter number:\"))\n",
        "count = 0\n",
        "while(n>0):\n",
        "  count = count+1\n",
        "  n = n//10\n",
        "print(\"The number of digits in the number are:\",count)"
      ],
      "metadata": {
        "id": "kuP2F7gZNSbO",
        "colab": {
          "base_uri": "https://localhost:8080/"
        },
        "outputId": "a69b95d6-2dac-4092-e083-51fb2ea83483"
      },
      "execution_count": null,
      "outputs": [
        {
          "output_type": "stream",
          "name": "stdout",
          "text": [
            "Enter number:345\n",
            "The number of digits in the number are: 3\n"
          ]
        }
      ]
    },
    {
      "cell_type": "code",
      "source": [
        "#Python Program to Find All the Divisors of an Integer\n",
        "\n",
        "n=int(input(\"Enter an integer:\"))\n",
        "for i in range(1,n+1):\n",
        "  if n%i==0:\n",
        "    print(i)"
      ],
      "metadata": {
        "id": "vERV2SiANE77",
        "colab": {
          "base_uri": "https://localhost:8080/"
        },
        "outputId": "9ce5c1b7-de4a-4a49-883a-fa56e71ebe93"
      },
      "execution_count": null,
      "outputs": [
        {
          "output_type": "stream",
          "name": "stdout",
          "text": [
            "Enter an integer:5\n",
            "1\n",
            "5\n"
          ]
        }
      ]
    },
    {
      "cell_type": "code",
      "source": [
        "#Python Program to Find the Smallest Divisor of an Integer\n",
        "\n",
        "n=int(input(\"Enter an integer:\"))\n",
        "a=[]\n",
        "for i in range(2,n+1):\n",
        "    if(n%i==0):\n",
        "        a.append(i)\n",
        "a.sort()\n",
        "print(\"Smallest divisor is:\",a[0])"
      ],
      "metadata": {
        "id": "SWnzMwzrNE3j",
        "colab": {
          "base_uri": "https://localhost:8080/"
        },
        "outputId": "1e313d92-028a-41bf-b70e-defd20ff6f25"
      },
      "execution_count": null,
      "outputs": [
        {
          "output_type": "stream",
          "name": "stdout",
          "text": [
            "Enter an integer:6\n",
            "Smallest divisor is: 2\n"
          ]
        }
      ]
    },
    {
      "cell_type": "code",
      "source": [
        "#Python Program to Print Table of a Given Number\n",
        "\n",
        "n=int(input(\"Enter the number to print the tables for:\"))\n",
        "for i in range(1,11):\n",
        "  print(n,\"x\", i, \"=\",n*i)"
      ],
      "metadata": {
        "id": "blWoBwNeNEz2"
      },
      "execution_count": null,
      "outputs": []
    },
    {
      "cell_type": "code",
      "source": [
        "5#Python Program to Calculate Grade of a Student\n",
        "\n",
        "sub1=int(input(\"Enter marks of the first subject: \"))\n",
        "sub2=int(input(\"Enter marks of the second subject: \"))\n",
        "sub3=int(input(\"Enter marks of the third subject: \"))\n",
        "sub4=int(input(\"Enter marks of the fourth subject: \"))\n",
        "sub5=int(input(\"Enter marks of the fifth subject: \"))\n",
        "\n",
        "avg = sub1+sub2+sub3+sub4+sub5/5\n",
        "if (avg>90):\n",
        "  print(\"A\")\n",
        "elif(avg>=80&avg<90):\n",
        "    print(\"Grade: B\")\n",
        "elif(avg>=70&avg<80):\n",
        "    print(\"Grade: C\")\n",
        "elif(avg>=60&avg<70):\n",
        "    print(\"Grade: D\")\n",
        "else:\n",
        "  print(\"F\")"
      ],
      "metadata": {
        "id": "uqn8UuEvNEsn",
        "colab": {
          "base_uri": "https://localhost:8080/"
        },
        "outputId": "969ef3f9-42f5-4af6-8a7e-029d7bb48c3a"
      },
      "execution_count": null,
      "outputs": [
        {
          "output_type": "stream",
          "name": "stdout",
          "text": [
            "Enter marks of the first subject: 56\n",
            "Enter marks of the second subject: 45\n",
            "Enter marks of the third subject: 90\n",
            "Enter marks of the fourth subject: 78\n",
            "Enter marks of the fifth subject: 67\n",
            "A\n"
          ]
        }
      ]
    },
    {
      "cell_type": "code",
      "source": [
        "#Python Program to Check if a Date is Valid and Print the Incremented Date if it is?????\n",
        "\n",
        "date=input(\"Enter the date: \")\n",
        "dd,mm,yy=date.split('/')\n",
        "dd=int(dd)\n",
        "mm=int(mm)\n",
        "yy=int(yy)\n",
        "if(mm==1 or mm==3 or mm==5 or mm==7 or mm==8 or mm==10 or mm==12):\n",
        "    max1=31\n",
        "elif(mm==4 or mm==6 or mm==9 or mm==11):\n",
        "    max1=30\n",
        "elif(yy%4==0 and yy%100!=0 or yy%400==0):\n",
        "    max1=29\n",
        "else:\n",
        "    max1=28\n",
        "if(mm<1 or mm>12):\n",
        "    print(\"Date is invalid.\")\n",
        "elif(dd<1 or dd>max1):\n",
        "    print(\"Date is invalid.\")\n",
        "elif(dd==max1 and mm!=12):\n",
        "    dd=1\n",
        "    mm=mm+1\n",
        "    print(\"The incremented date is: \",dd,mm,yy)\n",
        "elif(dd==31 and mm==12):\n",
        "    dd=1\n",
        "    mm=1\n",
        "    yy=yy+1\n",
        "    print(\"The incremented date is: \",dd,mm,yy)\n",
        "else:\n",
        "    dd=dd+1\n",
        "    print(\"The incremented date is: \",dd,mm,yy)"
      ],
      "metadata": {
        "id": "CBhOgg5-NEms",
        "colab": {
          "base_uri": "https://localhost:8080/"
        },
        "outputId": "4b183b45-418b-42bf-c0ea-f6f02224fb2f"
      },
      "execution_count": null,
      "outputs": [
        {
          "output_type": "stream",
          "name": "stdout",
          "text": [
            "Enter the date: 14/4/23\n",
            "The incremented date is:  15 4 23\n"
          ]
        }
      ]
    },
    {
      "cell_type": "code",
      "source": [
        "#Python Program to Check Whether a given Year is a Leap Year\n",
        "\n",
        "year=int(input(\"Enter year to be checked:\"))\n",
        "if(year%4==0 and year%100!=0 or year%400==0):\n",
        "    print(\"The year is a leap year!\")\n",
        "else:\n",
        "    print(\"The year isn't a leap year!\")"
      ],
      "metadata": {
        "id": "K9MryP52NEjk",
        "colab": {
          "base_uri": "https://localhost:8080/"
        },
        "outputId": "54534e55-89f9-4d37-f96a-0c3936beeb87"
      },
      "execution_count": null,
      "outputs": [
        {
          "output_type": "stream",
          "name": "stdout",
          "text": [
            "Enter year to be checked:2023\n",
            "The year isn't a leap year!\n"
          ]
        }
      ]
    },
    {
      "cell_type": "code",
      "source": [
        "#Python Program to Read a Number n and Compute n+nn+nnn??????\n",
        "\n",
        "n=int(input(\"Enter a number n: \"))\n",
        "temp=str(n)\n",
        "t1=temp+temp\n",
        "t2=temp+temp+temp\n",
        "comp=n+int(t1)+int(t2)\n",
        "print(\"The value is:\",comp)"
      ],
      "metadata": {
        "colab": {
          "base_uri": "https://localhost:8080/"
        },
        "id": "Ju3opH1BWJas",
        "outputId": "8e39010a-8dc0-44db-9d01-cc6bd44a9d38"
      },
      "execution_count": null,
      "outputs": [
        {
          "output_type": "stream",
          "name": "stdout",
          "text": [
            "Enter a number n: 7\n",
            "The value is: 861\n"
          ]
        }
      ]
    },
    {
      "cell_type": "markdown",
      "source": [
        "**Programs on Numbers**"
      ],
      "metadata": {
        "id": "pfCyObyIZukg"
      }
    },
    {
      "cell_type": "code",
      "source": [
        "#Python Program to Find Prime Numbers in a Given Range\n",
        "\n",
        "lower = int(input(\"enter lower range\"))\n",
        "upper = int(input(\"enter upper range\"))\n",
        "\n",
        "for i in range(lower,upper+1):\n",
        "  if i>1:\n",
        "    for j in range(2, i):\n",
        "      if i%j==0:\n",
        "        break\n",
        "    else:\n",
        "      print(i,\"is a prime number\")\n",
        "\n",
        "        "
      ],
      "metadata": {
        "colab": {
          "base_uri": "https://localhost:8080/"
        },
        "id": "6kLn3SMvWJXd",
        "outputId": "35f4904e-833c-4fd5-e699-08c47af9f38a"
      },
      "execution_count": null,
      "outputs": [
        {
          "output_type": "stream",
          "name": "stdout",
          "text": [
            "enter lower range14\n",
            "enter upper range34\n",
            "17 is a prime number\n",
            "19 is a prime number\n",
            "23 is a prime number\n",
            "29 is a prime number\n",
            "31 is a prime number\n"
          ]
        }
      ]
    },
    {
      "cell_type": "code",
      "source": [
        "#Python Program to Check Prime Number\n",
        "\n",
        "num = int(input(\"Enter the number:\"))\n",
        "if num>1:\n",
        "  for i in range(2, num):\n",
        "    if num%2==0:\n",
        "      print(num,'is not a prime number')\n",
        "      break\n",
        "  else:\n",
        "    print(num,\"is a prime number\")\n",
        "else:\n",
        "  print(num,'is not a prime number')"
      ],
      "metadata": {
        "colab": {
          "base_uri": "https://localhost:8080/"
        },
        "id": "A1kk_gwBWJSt",
        "outputId": "aac59129-15c0-44a5-f535-d830ef81fc1c"
      },
      "execution_count": null,
      "outputs": [
        {
          "output_type": "stream",
          "name": "stdout",
          "text": [
            "Enter the number:6\n",
            "6 is not a prime number\n"
          ]
        }
      ]
    },
    {
      "cell_type": "code",
      "source": [
        "#Python Program to Check Whether a Given Number is Perfect Number\n",
        "\n",
        "num =  int(input(\"Enter the number, I know you can :) \"))\n",
        "result = 0\n",
        "\n",
        "for i in range(1, num):\n",
        "  if num%i == 0:\n",
        "    result = result+i\n",
        "if result == num:\n",
        "  print(num,\"is perfect no\")\n",
        "else:\n",
        "  print(num,\"is not a perfect no, baka\")"
      ],
      "metadata": {
        "colab": {
          "base_uri": "https://localhost:8080/"
        },
        "id": "i1lTK7L5WJPE",
        "outputId": "3b7dec62-8a02-4f43-dfb6-493e16c03770"
      },
      "execution_count": null,
      "outputs": [
        {
          "output_type": "stream",
          "name": "stdout",
          "text": [
            "Enter the number, I know you can :) 6\n",
            "6 is perfect no\n"
          ]
        }
      ]
    },
    {
      "cell_type": "code",
      "source": [
        "#Python Program to Check Armstrong Number???????\n",
        "'''\n",
        "In case of an Armstrong number of 3 digits, the sum of cubes of each digit is equal to the number itself. For example:\n",
        "\n",
        "153 = 1*1*1 + 5*5*5 + 3*3*3  // 153 is an Armstrong number.\n",
        "'''\n",
        "\n",
        "n = int(input('Enter any number: '))\n",
        "res = 0\n",
        "digit = digit % 10\n",
        "n = n//10"
      ],
      "metadata": {
        "id": "ox4D0zT8WJLs"
      },
      "execution_count": null,
      "outputs": []
    },
    {
      "cell_type": "code",
      "source": [
        "#Sum of First N Natural Numbers in Python\n",
        "\n",
        "n=int(input(\"Enter a number: \"))\n",
        "sum = 0\n",
        "while n>0:\n",
        "  sum = sum + n\n",
        "  n = n-1\n",
        "print(\"The sum of first n natural numbers is\",sum)\n"
      ],
      "metadata": {
        "id": "LPdm6m-yWJI4",
        "colab": {
          "base_uri": "https://localhost:8080/"
        },
        "outputId": "e9c4df9e-1c40-4b7e-bcbb-3f3b6fa1eaf7"
      },
      "execution_count": null,
      "outputs": [
        {
          "output_type": "stream",
          "name": "stdout",
          "text": [
            "Enter a number: 2\n",
            "The sum of first n natural numbers is 3\n"
          ]
        }
      ]
    },
    {
      "cell_type": "code",
      "source": [
        "#Python Program to Print Numbers in a Range Without using Loops\n",
        "\n",
        "def not_loop(i,n):   # i=current no, n= highest no\n",
        "  print(i)\n",
        "  if i<n:\n",
        "    i += 1\n",
        "    not_loop(i,n)\n",
        "not_loop(1,10)\n",
        "\n"
      ],
      "metadata": {
        "id": "o2qszOxsWJGH"
      },
      "execution_count": null,
      "outputs": []
    },
    {
      "cell_type": "code",
      "source": [
        "#Python program to find whether a number is a power of two\n",
        "\n",
        "def pow_2(n):\n",
        "  if n<=0:\n",
        "    return False\n",
        "  else:\n",
        "    return n & (n-1)==0\n",
        "\n",
        "n = int(input('Enter a number: '))\n",
        "if pow_2(n):\n",
        "    print('{} is a power of two.'.format(n))\n",
        "else:\n",
        "    print('{} is not a power of two.'.format(n))"
      ],
      "metadata": {
        "id": "dbBER8yYWJDO",
        "colab": {
          "base_uri": "https://localhost:8080/"
        },
        "outputId": "d4ed0161-3fab-4150-dcd6-a8c4b3dd185e"
      },
      "execution_count": null,
      "outputs": [
        {
          "output_type": "stream",
          "name": "stdout",
          "text": [
            "Enter a number: 4\n",
            "4 is a power of two.\n"
          ]
        }
      ]
    },
    {
      "cell_type": "code",
      "source": [
        "#Python Program to check if two numbers are amicable numbers.\n",
        "\n",
        "x=int(input('Enter number 1: '))\n",
        "y=int(input('Enter number 2: '))\n",
        "sum1 = 0\n",
        "sum2 = 0\n",
        "\n",
        "for i in range(1,x):\n",
        "  if x%i==0:\n",
        "    sum1 +=i\n",
        "for j in range(1,y):\n",
        "  if y%j==0:\n",
        "    sum2 +=j\n",
        "if (sum1==y and sum2==x):\n",
        "  print('Amicable!')\n",
        "else:\n",
        "  print('Not Amicable!')"
      ],
      "metadata": {
        "id": "o9QonaLKWI_T",
        "colab": {
          "base_uri": "https://localhost:8080/"
        },
        "outputId": "395f5981-aa8f-43a2-8aac-6c4a7418923f"
      },
      "execution_count": null,
      "outputs": [
        {
          "output_type": "stream",
          "name": "stdout",
          "text": [
            "Enter number 1: 220\n",
            "Enter number 2: 284\n",
            "Amicable!\n"
          ]
        }
      ]
    },
    {
      "cell_type": "code",
      "source": [
        "#Python Program to Find All Perfect Squares in the Given Range ex 4 is pr sq as 4=2*2, 9 = 3*3\n",
        "\n",
        "l=int(input(\"Enter lower range: \"))\n",
        "u=int(input(\"Enter upper range: \"))\n",
        "print(\"perfect sq btwn range is \")\n",
        "while(l<=u):\n",
        "  for i in range(1,l):\n",
        "    if i*i==l:\n",
        "      print(l,end=' ')\n",
        "  l=l+1\n"
      ],
      "metadata": {
        "id": "Sg30qS4YWI76",
        "colab": {
          "base_uri": "https://localhost:8080/"
        },
        "outputId": "403e22c4-2754-42a8-c4b1-521ce7811b0a"
      },
      "execution_count": null,
      "outputs": [
        {
          "output_type": "stream",
          "name": "stdout",
          "text": [
            "Enter lower range: 2\n",
            "Enter upper range: 25\n",
            "perfect sq btwn range is \n",
            "4 9 16 25 "
          ]
        }
      ]
    },
    {
      "cell_type": "code",
      "source": [
        "#Python Program to Print All Possible Combinations of Three Digits\n",
        "\n",
        "a=int(input(\"Enter first number:\"))\n",
        "b=int(input(\"Enter second number:\"))\n",
        "c=int(input(\"Enter third number:\"))\n",
        "d = []\n",
        "d.append(a)\n",
        "d.append(b)\n",
        "d.append(c)\n",
        "\n",
        "for i in range(0,3):\n",
        "  for j in range(0,3):\n",
        "    for k in range(0,3):\n",
        "      if(i!=j& j!=k& k!=i):\n",
        "        print(d[i],d[j],d[k])\n"
      ],
      "metadata": {
        "colab": {
          "base_uri": "https://localhost:8080/"
        },
        "id": "DlXQnJ0NMTwC",
        "outputId": "165ccb36-9b4b-43ca-a711-b563141bbde2"
      },
      "execution_count": null,
      "outputs": [
        {
          "output_type": "stream",
          "name": "stdout",
          "text": [
            "Enter first number:4\n",
            "Enter second number:7\n",
            "Enter third number:0\n",
            "4 7 0\n",
            "4 0 7\n",
            "7 4 0\n",
            "7 0 4\n",
            "0 4 7\n",
            "0 7 4\n"
          ]
        }
      ]
    },
    {
      "cell_type": "code",
      "source": [
        "# Find the factorial of a given number\n",
        "n = int(input('Enter a number: '))\n",
        "res = 1\n",
        "for i in range(n,0,-1):\n",
        "  res = res*i\n",
        "print(\"Factorial of\", n, \"is\", res)"
      ],
      "metadata": {
        "id": "q7i_nla1MTtW",
        "colab": {
          "base_uri": "https://localhost:8080/"
        },
        "outputId": "3fcbd101-839b-494e-a705-4c19a2672ff2"
      },
      "execution_count": null,
      "outputs": [
        {
          "output_type": "stream",
          "name": "stdout",
          "text": [
            "Enter a number: 5\n",
            "Factorial of 5 is 120\n"
          ]
        }
      ]
    },
    {
      "cell_type": "code",
      "source": [
        "#Fibonacci numbers series\n",
        "num =  int(input(\"Enter the number till you want in this series:\"))\n",
        "first = 0\n",
        "second = 1\n",
        "for i in range(num):\n",
        "  print(first)\n",
        "  new = first\n",
        "  first = second\n",
        "  second = new + second"
      ],
      "metadata": {
        "id": "GjynC8VKMTqi",
        "colab": {
          "base_uri": "https://localhost:8080/"
        },
        "outputId": "cbddf738-1570-4c17-87de-34cb3cabe805"
      },
      "execution_count": null,
      "outputs": [
        {
          "name": "stdout",
          "output_type": "stream",
          "text": [
            "Enter the number till you want in this series:5\n"
          ]
        }
      ]
    },
    {
      "cell_type": "code",
      "source": [
        "# To check whether number is fibonacci or not\n",
        "\n",
        "import math\n",
        "\n",
        "def perSq(x):\n",
        "  s=int(math.sqrt(x))\n",
        "  return s*s == x\n",
        "\n",
        "n = int(input(\"Enter a number \"))\n",
        "result1 = 5*(n*n)+4\n",
        "result2 = 5*(n*n)-4\n",
        "\n",
        "if perSq(result1) or perSq(result2):\n",
        "  print(n, \"is a fibonacci number-impressive\")\n",
        "else:\n",
        "  print(n, \"is not a fibonacci number-duh\")"
      ],
      "metadata": {
        "colab": {
          "base_uri": "https://localhost:8080/"
        },
        "id": "aceQvvMaouUr",
        "outputId": "5fd4db9a-2882-4ff2-c84c-6f3ffc02a98d"
      },
      "execution_count": null,
      "outputs": [
        {
          "output_type": "stream",
          "name": "stdout",
          "text": [
            "Enter a number 3\n",
            "3 is a fibonacci number-impressive\n"
          ]
        }
      ]
    },
    {
      "cell_type": "code",
      "source": [
        "#. Write a program that will convert celsius value to fahrenheit\n",
        "\n",
        "temp = float(input(\"Enter the temp:\"))\n",
        "f = (temp*1.8)+32\n",
        "print(f)"
      ],
      "metadata": {
        "colab": {
          "base_uri": "https://localhost:8080/"
        },
        "id": "Owa2ILGOouRR",
        "outputId": "9e6a9550-47ab-46d2-bdfb-1e2e26fb6769"
      },
      "execution_count": null,
      "outputs": [
        {
          "output_type": "stream",
          "name": "stdout",
          "text": [
            "Enter the temp:7.8\n",
            "46.04\n"
          ]
        }
      ]
    },
    {
      "cell_type": "markdown",
      "source": [
        "# **pattern programs**"
      ],
      "metadata": {
        "id": "2r3UIl9IRXgH"
      }
    },
    {
      "cell_type": "code",
      "source": [
        "width = int(input('Enter the width range: '))\n",
        "for i in range(1,width):\n",
        "  print('*'*i)\n",
        "for i in range(width,0,-1):\n",
        "  print('*'*i)"
      ],
      "metadata": {
        "id": "fmFrEMcbouOD",
        "colab": {
          "base_uri": "https://localhost:8080/"
        },
        "outputId": "1c45d0db-5ca1-46c1-8ad2-89dae435270a"
      },
      "execution_count": null,
      "outputs": [
        {
          "output_type": "stream",
          "name": "stdout",
          "text": [
            "Enter the width range: 9\n",
            "*\n",
            "**\n",
            "***\n",
            "****\n",
            "*****\n",
            "******\n",
            "*******\n",
            "********\n",
            "*********\n",
            "********\n",
            "*******\n",
            "******\n",
            "*****\n",
            "****\n",
            "***\n",
            "**\n",
            "*\n"
          ]
        }
      ]
    },
    {
      "cell_type": "markdown",
      "source": [
        "# **Math functions**"
      ],
      "metadata": {
        "id": "daSNs_q6OAQg"
      }
    },
    {
      "cell_type": "code",
      "source": [
        "#Python Program to Find the Area of a Triangle\n",
        "\n",
        "import math\n",
        "a=int(input(\"Enter first side: \"))\n",
        "b=int(input(\"Enter second side: \"))\n",
        "c=int(input(\"Enter third side: \"))\n",
        "s = (a+b+c)/2\n",
        "\n",
        "area = math.sqrt(s*(s-a)*(s-b)*(s-c))\n",
        "print(\"Area of triangle is\",round(area,2))"
      ],
      "metadata": {
        "id": "8HmyXwHZouKl",
        "colab": {
          "base_uri": "https://localhost:8080/"
        },
        "outputId": "6f931941-ae66-4b6d-a5b6-239f27be3ae4"
      },
      "execution_count": null,
      "outputs": [
        {
          "output_type": "stream",
          "name": "stdout",
          "text": [
            "Enter first side: 4\n",
            "Enter second side: 6\n",
            "Enter third side: 8\n",
            "Area of triangle is 11.62\n"
          ]
        }
      ]
    },
    {
      "cell_type": "code",
      "source": [
        "# Python Program to compute simple interest given all the required values. \n",
        " \n",
        "principle=int(input(\"Enter the principle amount:\"))\n",
        "time=int(input(\"Enter the time(years):\"))\n",
        "rate=int(input(\"Enter the rate:\"))\n",
        "si = (principle*time*rate)/100\n",
        "print(si)"
      ],
      "metadata": {
        "id": "4ysGjHRjouH6",
        "colab": {
          "base_uri": "https://localhost:8080/"
        },
        "outputId": "9d5facf7-96e2-4e0a-a1ae-d7ba7c4ce917"
      },
      "execution_count": null,
      "outputs": [
        {
          "output_type": "stream",
          "name": "stdout",
          "text": [
            "Enter the principle amount:2000\n",
            "Enter the time(years):2\n",
            "Enter the rate:79\n",
            "3160.0\n"
          ]
        }
      ]
    },
    {
      "cell_type": "code",
      "source": [
        "## To find C.I\n",
        "\n",
        "def findCi(p,r,t):\n",
        "  amount = p*(pow((1+r/100),t))\n",
        "  ci = amount-p\n",
        "  print(\"Compound Interest is\", ci)\n",
        "\n",
        "findCi(10000,10,5)"
      ],
      "metadata": {
        "id": "lHYSsClNouEd",
        "colab": {
          "base_uri": "https://localhost:8080/"
        },
        "outputId": "f9de891e-6508-4cc3-fb22-ba2bd9fa092d"
      },
      "execution_count": null,
      "outputs": [
        {
          "output_type": "stream",
          "name": "stdout",
          "text": [
            "Compound Interest is 6105.100000000006\n"
          ]
        }
      ]
    },
    {
      "cell_type": "code",
      "source": [
        "#Program to find area of circle\n",
        "\n",
        "r = int(input(\"Enter area in number:\"))\n",
        "cir = r*r*3.14\n",
        "print(\"Area of circle is:\",cir)"
      ],
      "metadata": {
        "id": "1YbOS34nouBQ",
        "colab": {
          "base_uri": "https://localhost:8080/"
        },
        "outputId": "56612b65-f3ee-4aa8-ddaa-728e17f38e37"
      },
      "execution_count": null,
      "outputs": [
        {
          "output_type": "stream",
          "name": "stdout",
          "text": [
            "Enter area in number:6\n",
            "Area of circle is: 113.04\n"
          ]
        }
      ]
    },
    {
      "cell_type": "code",
      "source": [
        "#Swap 1st and last element in list\n",
        "\n",
        "f = [88,90,77,4,66]\n",
        "s = f[0]\n",
        "f[0] = f[len(f)-1]\n",
        "f[len(f)-1] = s\n",
        "print(f)\n"
      ],
      "metadata": {
        "colab": {
          "base_uri": "https://localhost:8080/"
        },
        "id": "POGNTzChQSVg",
        "outputId": "0d370eec-3a2d-4ba8-c839-0c86579ccb31"
      },
      "execution_count": null,
      "outputs": [
        {
          "output_type": "stream",
          "name": "stdout",
          "text": [
            "[66, 90, 77, 4, 88]\n"
          ]
        }
      ]
    },
    {
      "cell_type": "code",
      "source": [
        "#Swap any two element in list\n",
        "\n",
        "l1 = [88,90,77,4,66]\n",
        "p1,p2 = 3,4\n",
        "l1[p1],l1[p2] = l1[p2],l1[p1]\n",
        "print(l1)"
      ],
      "metadata": {
        "colab": {
          "base_uri": "https://localhost:8080/"
        },
        "id": "e56YjnjpQSR3",
        "outputId": "a33745cd-5a2e-4fd3-933e-9ecbf22325c7"
      },
      "execution_count": null,
      "outputs": [
        {
          "output_type": "stream",
          "name": "stdout",
          "text": [
            "[88, 90, 77, 66, 4]\n"
          ]
        }
      ]
    },
    {
      "cell_type": "code",
      "source": [
        "#To swap the numbers without the third variable\n",
        "\n",
        "a = int(input(\"Enter the number:\"))\n",
        "b = int(input(\"Enter the number:\"))\n",
        "\n",
        "a = a+b\n",
        "b = a-b\n",
        "a = a-b\n",
        "print(\"After swapping\")\n",
        "print(\"The value of a is\", a)\n",
        "print(\"The value of b is\", b)"
      ],
      "metadata": {
        "id": "a9OPaRbJot-O"
      },
      "execution_count": null,
      "outputs": []
    },
    {
      "cell_type": "code",
      "source": [
        "#Python Program to Find the LCM of Two Numbers\n",
        "\n",
        "def lcm(n1,n2):\n",
        "  if n1>n2:\n",
        "    higher = n1\n",
        "  else:\n",
        "    higher = n2\n",
        "  value = higher\n",
        "  while True:\n",
        "    if higher%n1 == 0 and higher%n2 == 0:\n",
        "      print('Lcm of',n1, 'and', n2, 'is',higher)\n",
        "      break\n",
        "    else:\n",
        "      higher = higher+value\n",
        "\n",
        "n1 = int(input(\"Enter the number:\"))\n",
        "n2 = int(input(\"Enter the number:\"))\n",
        "lcm(n1,n2)"
      ],
      "metadata": {
        "colab": {
          "base_uri": "https://localhost:8080/"
        },
        "id": "og5HAQuIOFws",
        "outputId": "fb81db51-551d-4975-9bfe-055e1120eac5"
      },
      "execution_count": null,
      "outputs": [
        {
          "output_type": "stream",
          "name": "stdout",
          "text": [
            "Enter the number:24\n",
            "Enter the number:36\n",
            "Lcm of 24 and 36 is 72\n"
          ]
        }
      ]
    },
    {
      "cell_type": "markdown",
      "source": [
        "# **Strings**"
      ],
      "metadata": {
        "id": "CPviRpFwVNeU"
      }
    },
    {
      "cell_type": "code",
      "source": [
        "# Python Program to check if a string is a pangram or not.\n",
        "\n",
        "import string\n",
        "def pan(str):\n",
        "  alphabet = \"abcdefghijklmnopqrstuvwxyz\"\n",
        "  for char in alphabet:\n",
        "    if char not in str.lower():\n",
        "      return False\n",
        "  return True\n",
        "\n",
        "s = 'The five boxing wizards jump quickly.'\n",
        "if(pan(s) == True):\n",
        "  print('It is pangram')\n",
        "else:\n",
        "  print(\"No, stupid its not\")"
      ],
      "metadata": {
        "id": "-yvMlAO4OFo6",
        "colab": {
          "base_uri": "https://localhost:8080/"
        },
        "outputId": "81f5d80b-cde2-4db0-8026-4ccaff5e1db6"
      },
      "execution_count": null,
      "outputs": [
        {
          "output_type": "stream",
          "name": "stdout",
          "text": [
            "No, stupid its not\n"
          ]
        }
      ]
    },
    {
      "cell_type": "code",
      "source": [
        "#Python Program to Remove Odd Indexed Characters in a string\n",
        "\n",
        "s = 'Theouop'\n",
        "i = 0\n",
        "print(\"Characters present at odd index\")\n",
        "while(i<len(s)):\n",
        "  print(s[i])\n",
        "  i = i+2\n",
        "\n",
        "# for even change i=1"
      ],
      "metadata": {
        "id": "qykble_BOFX3"
      },
      "execution_count": null,
      "outputs": []
    },
    {
      "cell_type": "code",
      "source": [
        "# Python Program to replace all occurrences of ‘a’ with ‘$’ in a string.\n",
        "\n",
        "string=input(\"Enter string:\")\n",
        "string = string.replace('a','$')\n",
        "string = string.replace('A','$')\n",
        "print('Modified string', string)"
      ],
      "metadata": {
        "id": "k6dYTg7GOFUK",
        "colab": {
          "base_uri": "https://localhost:8080/"
        },
        "outputId": "b6b1d348-4944-41d2-ec8b-305936e93f05"
      },
      "execution_count": null,
      "outputs": [
        {
          "output_type": "stream",
          "name": "stdout",
          "text": [
            "Enter string:yoalkoAfu\n",
            "Modified string yo$lko$fu\n"
          ]
        }
      ]
    },
    {
      "cell_type": "code",
      "source": [
        "#Python Program to take a string and replace every blank space with a hyphen.\n",
        "\n",
        "s = input(\"Enter string:\")\n",
        "s = s.replace(' ','-')\n",
        "print('Modified string', s)"
      ],
      "metadata": {
        "id": "6LcOLbjDOFRH",
        "colab": {
          "base_uri": "https://localhost:8080/"
        },
        "outputId": "b278cb5c-f271-45a8-c22c-9c3efe7eddab"
      },
      "execution_count": null,
      "outputs": [
        {
          "output_type": "stream",
          "name": "stdout",
          "text": [
            "Enter string:mok jok lok hyouka\n",
            "Modified string mok-jok-lok-hyouka\n"
          ]
        }
      ]
    },
    {
      "cell_type": "code",
      "source": [
        "#Python Program to reverse a string \n",
        "\n",
        "s = input(\"Enter string:\")\n",
        "print(\"Reverse of the string is: \")\n",
        "print(s[::-1])"
      ],
      "metadata": {
        "colab": {
          "base_uri": "https://localhost:8080/"
        },
        "id": "NU-vjc4ybtDD",
        "outputId": "633bcb3f-6cc6-4458-92d2-b5b40dcd2278"
      },
      "execution_count": null,
      "outputs": [
        {
          "output_type": "stream",
          "name": "stdout",
          "text": [
            "Enter string:ubantu\n",
            "Reverse of the string is: \n",
            "utnabu\n"
          ]
        }
      ]
    },
    {
      "cell_type": "code",
      "source": [
        "#Python Program to Determine How Many Times a Given Letter Occurs in a String\n",
        "\n",
        "s = 'uolopoipmpho'\n",
        "l = []\n",
        "\n",
        "for ch in s:\n",
        "  if ch not in l:\n",
        "    l.append(ch)\n",
        "for ch in sorted(l):\n",
        "  print('{} occur {} times'.format(ch, s.count(ch))) "
      ],
      "metadata": {
        "id": "r_2BvLY1btAs",
        "colab": {
          "base_uri": "https://localhost:8080/"
        },
        "outputId": "8c3d3303-9d7d-49cb-a0af-48d44f8a5360"
      },
      "execution_count": null,
      "outputs": [
        {
          "output_type": "stream",
          "name": "stdout",
          "text": [
            "h occur 1 times\n",
            "i occur 1 times\n",
            "l occur 1 times\n",
            "m occur 1 times\n",
            "o occur 4 times\n",
            "p occur 3 times\n",
            "u occur 1 times\n"
          ]
        }
      ]
    },
    {
      "cell_type": "code",
      "source": [
        "# Calculate the Length of a String Without using Library Function\n",
        "\n",
        "s = input('Enter some words')\n",
        "count = 0\n",
        "\n",
        "for i in s:\n",
        "  count +=1\n",
        "print(\"Length of the string is:\",count)"
      ],
      "metadata": {
        "id": "J9U0iuUZbs-S",
        "colab": {
          "base_uri": "https://localhost:8080/"
        },
        "outputId": "c330a52b-69ae-487e-b294-52b940af9fd4"
      },
      "execution_count": null,
      "outputs": [
        {
          "output_type": "stream",
          "name": "stdout",
          "text": [
            "Enter some wordsyul\n",
            "Length of the string is: 3\n"
          ]
        }
      ]
    },
    {
      "cell_type": "code",
      "source": [
        "#Python Program to calculate the number of words and characters present in a string.\n",
        "\n",
        "s = input('Enter some words')\n",
        "count = 0\n",
        "word = 1\n",
        "\n",
        "for i in s:\n",
        "  count += 1\n",
        "  if(i==' '):\n",
        "    word += 1\n",
        "print(\"Number of words in the string:\",word)\n",
        "print(\"Number of characters in the string:\",count)\n"
      ],
      "metadata": {
        "id": "rSOQlydebs7X",
        "colab": {
          "base_uri": "https://localhost:8080/"
        },
        "outputId": "9e64f740-9e54-4cbb-d4b4-debfaf60b7b1"
      },
      "execution_count": null,
      "outputs": [
        {
          "output_type": "stream",
          "name": "stdout",
          "text": [
            "Enter some wordsyul mudeok shillong\n",
            "Number of words in the string: 3\n",
            "Number of characters in the string: 19\n"
          ]
        }
      ]
    },
    {
      "cell_type": "code",
      "source": [
        "#Python Program to Count Number of Lowercase Characters in a String\n",
        "\n",
        "s = input('Enter some words')\n",
        "count = 0\n",
        "\n",
        "for i in s:\n",
        "  if(i.islower()):\n",
        "    count +=1\n",
        "print(\"The number of lowercase characters is:\",count)\n"
      ],
      "metadata": {
        "id": "0GptF471bs5I",
        "colab": {
          "base_uri": "https://localhost:8080/"
        },
        "outputId": "06ffa8b2-0f51-4aa3-af26-1e384a901bbf"
      },
      "execution_count": null,
      "outputs": [
        {
          "output_type": "stream",
          "name": "stdout",
          "text": [
            "Enter some wordsLol\n",
            "The number of lowercase characters is: 2\n"
          ]
        }
      ]
    },
    {
      "cell_type": "code",
      "source": [
        "#Python Program to Count the Number of Vowels in a String\n",
        "\n",
        "sentence = input(\"Enter the sentence:\")\n",
        "sen = sentence.lower()\n",
        "vowel = ['a','e','i','o','u']\n",
        "count = 0\n",
        "\n",
        "for ch in sen:\n",
        "  if ch in vowel:\n",
        "    count += 1\n",
        "print(\"Number of vowels in given sentence is:\",count)"
      ],
      "metadata": {
        "id": "sRWpByFvbs2g",
        "colab": {
          "base_uri": "https://localhost:8080/"
        },
        "outputId": "4e81f4ba-ef71-410b-84f0-a8d00aceb04b"
      },
      "execution_count": null,
      "outputs": [
        {
          "output_type": "stream",
          "name": "stdout",
          "text": [
            "Enter the sentence:etherdoddleguava\n",
            "Number of vowels in given sentence is: 7\n"
          ]
        }
      ]
    },
    {
      "cell_type": "code",
      "source": [
        "#Python Program to Count Number of Uppercase and Lowercase Letters in a String\n",
        "\n",
        "s = input('Enter some words')\n",
        "count = 0\n",
        "nut = 0\n",
        "for i in s:\n",
        "  if (i.islower()):\n",
        "    count += 1\n",
        "  else:\n",
        "    nut +=1\n",
        "print('The number of lowercase and characters is:',count)\n",
        "print('The number of uppercase and  characters is:',nut)"
      ],
      "metadata": {
        "id": "2BqMvYwabs0I",
        "colab": {
          "base_uri": "https://localhost:8080/"
        },
        "outputId": "79a97ced-9952-4542-b978-16868ce65767"
      },
      "execution_count": null,
      "outputs": [
        {
          "output_type": "stream",
          "name": "stdout",
          "text": [
            "Enter some wordsLettr\n",
            "The number of lowercase and characters is: 4\n",
            "The number of uppercase and  characters is: 1\n"
          ]
        }
      ]
    },
    {
      "cell_type": "code",
      "source": [
        "#Python Program to Count the Number of Digits and Letters in a String\n",
        "\n",
        "s = input('Enter some words&digit')\n",
        "count = 0\n",
        "nut = 0\n",
        "\n",
        "for i in s:\n",
        "  if (i.isdigit()):\n",
        "    count += 1\n",
        "  else:\n",
        "    nut += 1\n",
        "print('The number of Digit is:',count)\n",
        "print('The number of characters is:',nut)    \n"
      ],
      "metadata": {
        "id": "Xogy4BVqbsu3",
        "colab": {
          "base_uri": "https://localhost:8080/"
        },
        "outputId": "5c3fcd65-16bd-42cb-a926-defaf29376e1"
      },
      "execution_count": null,
      "outputs": [
        {
          "output_type": "stream",
          "name": "stdout",
          "text": [
            "Enter some words&digityolo90u8\n",
            "The number of Digit is: 3\n",
            "The number of characters is: 5\n"
          ]
        }
      ]
    },
    {
      "cell_type": "code",
      "source": [
        "# To check substring is present or not\n",
        "s = input('Enter a string')\n",
        "ss = input('For substring')\n",
        "\n",
        "if (s.find(ss)==-1):\n",
        "  print(\"Substring not found in string!\")\n",
        "else:\n",
        "    print(\"Substring in string!\")"
      ],
      "metadata": {
        "id": "S01DHLBfbspb",
        "colab": {
          "base_uri": "https://localhost:8080/"
        },
        "outputId": "ed5e2bcb-e5f1-4cbb-bf4e-a5b2eaf9d44b"
      },
      "execution_count": null,
      "outputs": [
        {
          "output_type": "stream",
          "name": "stdout",
          "text": [
            "Enter a stringboing hui\n",
            "For substringmonk\n",
            "Substring not found in string!\n"
          ]
        }
      ]
    },
    {
      "cell_type": "code",
      "source": [
        "#Python Program to Find Common Characters in Two Strings\n",
        "\n",
        "str1 = input('Enter first string: ')\n",
        "str2 = input('Enter second string: ')\n",
        "s = list(set(str1)&set(str2))\n",
        "for i in s:\n",
        "  print('The common chars are: ',i)\n"
      ],
      "metadata": {
        "id": "5eg7Cju5bsk5",
        "colab": {
          "base_uri": "https://localhost:8080/"
        },
        "outputId": "4035a497-3e33-49a2-921f-ce77ca82873b"
      },
      "execution_count": 4,
      "outputs": [
        {
          "output_type": "stream",
          "name": "stdout",
          "text": [
            "Enter first string: hojou\n",
            "Enter second string: kojou\n",
            "The common chars are:  j\n",
            "The common chars are:  u\n",
            "The common chars are:  o\n"
          ]
        }
      ]
    },
    {
      "cell_type": "code",
      "source": [
        "#Python Program that Displays which Letters are in First String but not in Second\n",
        "\n",
        "str1 = input('Enter first string: ')\n",
        "str2 = input('Enter second string: ')\n",
        "s = list(set(str1)-set(str2))\n",
        "for i in s:\n",
        "  print('Letters which are in First String but not in Second: ',i)"
      ],
      "metadata": {
        "id": "-t7JoiWwbshV",
        "colab": {
          "base_uri": "https://localhost:8080/"
        },
        "outputId": "4a4108d2-1785-46a7-c771-1d7e2d7782a3"
      },
      "execution_count": 6,
      "outputs": [
        {
          "output_type": "stream",
          "name": "stdout",
          "text": [
            "Enter first string: khd\n",
            "Enter second string: pok\n",
            "Letters which are in First String but not in Second:  d\n",
            "Letters which are in First String but not in Second:  h\n"
          ]
        }
      ]
    },
    {
      "cell_type": "code",
      "source": [
        "#Python Program to display which letters are in the two strings but not in both\n",
        "\n",
        "str1 = input('Enter first string: ')\n",
        "str2 = input('Enter second string: ')\n",
        "s = list(set(str1)^set(str2))\n",
        "for i in s:\n",
        "  print('Letters which are in the two strings but not in both: ',i)"
      ],
      "metadata": {
        "id": "KFGlknBYbseR",
        "colab": {
          "base_uri": "https://localhost:8080/"
        },
        "outputId": "022ec1d5-6d31-4824-a235-404b8ff355c9"
      },
      "execution_count": 7,
      "outputs": [
        {
          "output_type": "stream",
          "name": "stdout",
          "text": [
            "Enter first string: woupl\n",
            "Enter second string: noupl\n",
            "Letters which are in the two strings but not in both:  n\n",
            "Letters which are in the two strings but not in both:  w\n"
          ]
        }
      ]
    },
    {
      "cell_type": "code",
      "source": [
        "#Python Program to form a new string made of the first 2 characters and last 2 characters \n",
        "\n",
        "s = input('Enter string: ')\n",
        "count=0\n",
        "\n",
        "for i in s:\n",
        "  count += 1\n",
        "new = s[0:2]+s[-2:]\n",
        "print(\"Newly formed string is:\",new)"
      ],
      "metadata": {
        "colab": {
          "base_uri": "https://localhost:8080/"
        },
        "id": "cfr876G5whSC",
        "outputId": "d804f30a-de9d-4e29-92b2-3442df079a4a"
      },
      "execution_count": 11,
      "outputs": [
        {
          "output_type": "stream",
          "name": "stdout",
          "text": [
            "Enter string: roghjse\n",
            "Newly formed string is: rose\n"
          ]
        }
      ]
    },
    {
      "cell_type": "code",
      "source": [
        "#Python Program to Find the Larger String without using Built-in Functions\n",
        "string1=input(\"Enter first string:\")\n",
        "string2=input(\"Enter second string:\")\n",
        "count1=0\n",
        "count2=0\n",
        "for i in string1:\n",
        "      count1=count1+1\n",
        "for j in string2:\n",
        "      count2=count2+1\n",
        "if(count1<count2):\n",
        "      print(\"Larger string is:\")\n",
        "      print(string2)\n",
        "elif(count1==count2):\n",
        "      print(\"Both strings are equal.\")\n",
        "else:\n",
        "      print(\"Larger string is:\")\n",
        "      print(string1)"
      ],
      "metadata": {
        "colab": {
          "base_uri": "https://localhost:8080/"
        },
        "id": "up1E0K-1whMk",
        "outputId": "2ea1f0b1-7845-4403-d7a0-5d52a98be6e5"
      },
      "execution_count": 18,
      "outputs": [
        {
          "output_type": "stream",
          "name": "stdout",
          "text": [
            "Enter first string:sadako\n",
            "Enter second string:kazehayakun\n",
            "Larger string is:\n",
            "kazehayakun\n"
          ]
        }
      ]
    },
    {
      "cell_type": "code",
      "source": [],
      "metadata": {
        "id": "DwnaicjzwhJM"
      },
      "execution_count": null,
      "outputs": []
    },
    {
      "cell_type": "code",
      "source": [],
      "metadata": {
        "id": "1RMAxAMVwhGI"
      },
      "execution_count": null,
      "outputs": []
    },
    {
      "cell_type": "code",
      "source": [],
      "metadata": {
        "id": "8wv117lRwhDZ"
      },
      "execution_count": null,
      "outputs": []
    },
    {
      "cell_type": "code",
      "source": [],
      "metadata": {
        "id": "gfuk-nw9whAB"
      },
      "execution_count": null,
      "outputs": []
    },
    {
      "cell_type": "code",
      "source": [],
      "metadata": {
        "id": "cxBfDcQrwg8p"
      },
      "execution_count": null,
      "outputs": []
    },
    {
      "cell_type": "code",
      "source": [],
      "metadata": {
        "id": "3WowNFm7wg52"
      },
      "execution_count": null,
      "outputs": []
    },
    {
      "cell_type": "code",
      "source": [],
      "metadata": {
        "id": "F_goQLAzwg2h"
      },
      "execution_count": null,
      "outputs": []
    }
  ]
}