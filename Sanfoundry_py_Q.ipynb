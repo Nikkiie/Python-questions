{
  "nbformat": 4,
  "nbformat_minor": 0,
  "metadata": {
    "colab": {
      "provenance": [],
      "authorship_tag": "ABX9TyPEgNPxud8B2EFSMQCDgN4I",
      "include_colab_link": true
    },
    "kernelspec": {
      "name": "python3",
      "display_name": "Python 3"
    },
    "language_info": {
      "name": "python"
    }
  },
  "cells": [
    {
      "cell_type": "markdown",
      "metadata": {
        "id": "view-in-github",
        "colab_type": "text"
      },
      "source": [
        "<a href=\"https://colab.research.google.com/github/Nikkiie/Python-questions/blob/main/Sanfoundry_py_Q.ipynb\" target=\"_parent\"><img src=\"https://colab.research.google.com/assets/colab-badge.svg\" alt=\"Open In Colab\"/></a>"
      ]
    },
    {
      "cell_type": "code",
      "execution_count": null,
      "metadata": {
        "colab": {
          "base_uri": "https://localhost:8080/"
        },
        "id": "2xTPp_L25kQd",
        "outputId": "985917e6-ce17-48eb-b42f-19a467391d4d"
      },
      "outputs": [
        {
          "output_type": "stream",
          "name": "stdout",
          "text": [
            "Enter number: -7\n",
            "Number is negative\n"
          ]
        }
      ],
      "source": [
        "#Program to Check Whether a Number is Positive or Negative\n",
        "\n",
        "n=int(input(\"Enter number: \"))\n",
        "if n>0:\n",
        "  print(\"Number is positive\")\n",
        "else:\n",
        "  print(\"Number is negative\")"
      ]
    },
    {
      "cell_type": "code",
      "source": [
        "#Program to Print All Odd Numbers in a Range\n",
        "\n",
        "lower=int(input(\"Enter the lower limit for the range:\"))\n",
        "upper=int(input(\"Enter the upper limit for the range:\"))\n",
        "for i in range(lower,upper+1):\n",
        "  if i % 2 == 1:\n",
        "    print(i)\n"
      ],
      "metadata": {
        "colab": {
          "base_uri": "https://localhost:8080/"
        },
        "id": "_RQnXnCa5lRK",
        "outputId": "d281ddbd-edc2-410a-e632-11be275b8199"
      },
      "execution_count": null,
      "outputs": [
        {
          "output_type": "stream",
          "name": "stdout",
          "text": [
            "Enter the lower limit for the range:6\n",
            "Enter the upper limit for the range:16\n",
            "7\n",
            "9\n",
            "11\n",
            "13\n",
            "15\n"
          ]
        }
      ]
    },
    {
      "cell_type": "code",
      "source": [
        "#Program to Check if a Number is a Palindrome\n",
        "\n",
        "n = (input(\"Enter number:\"))\n",
        "if n == n[::-1]:\n",
        "  print(\"Yes its a palindrome\")\n",
        "else:\n",
        "    print(\"No, its not a palindrome\")"
      ],
      "metadata": {
        "colab": {
          "base_uri": "https://localhost:8080/"
        },
        "id": "MJk2s1b35lNh",
        "outputId": "5ee1336f-6e66-4e6c-caec-15102e134db2"
      },
      "execution_count": null,
      "outputs": [
        {
          "output_type": "stream",
          "name": "stdout",
          "text": [
            "Enter number:676\n",
            "Yes its a palindrome\n"
          ]
        }
      ]
    },
    {
      "cell_type": "code",
      "source": [
        "#Program to Convert Centimeters to Feet and Inches\n",
        "\n",
        "cm=int(input(\"Enter the height in centimeters:\"))\n",
        "inches=0.394*cm\n",
        "feet=0.0328*cm\n",
        "print(\"The length in inches\",round(inches,2))\n",
        "print(\"The length in feet\",round(feet,2))"
      ],
      "metadata": {
        "colab": {
          "base_uri": "https://localhost:8080/"
        },
        "id": "SgLARuwP5lKb",
        "outputId": "d9f87cb8-e9de-4e07-b002-cd6d96088496"
      },
      "execution_count": null,
      "outputs": [
        {
          "output_type": "stream",
          "name": "stdout",
          "text": [
            "Enter the height in centimeters:34\n",
            "The length in inches 13.4\n",
            "The length in feet 1.12\n"
          ]
        }
      ]
    },
    {
      "cell_type": "code",
      "source": [
        "#Python Program to Print All Integers that Aren’t Divisible by Either 2 or 3\n",
        "\n",
        "for i in range(1,51):\n",
        "  if(i%2!=0 & i%3!=0):\n",
        "    print(i)"
      ],
      "metadata": {
        "id": "_mzSih2b5lEA"
      },
      "execution_count": null,
      "outputs": []
    },
    {
      "cell_type": "code",
      "source": [
        "# Python Program to find those numbers which are divisible by 7 and multiple of 5 in a given range of numbers.\n",
        "\n",
        "lower=int(input(\"Enter the lower range:\"))\n",
        "upper=int(input(\"Enter the upper range:\"))\n",
        "for i in range(lower,upper+1):\n",
        "  if (i%7==0 and i%5==0):\n",
        "    print(i)"
      ],
      "metadata": {
        "id": "KsjCBxRu5-0Z",
        "colab": {
          "base_uri": "https://localhost:8080/"
        },
        "outputId": "ec77ecbf-9362-490d-8ea2-e9dd1d54e81e"
      },
      "execution_count": null,
      "outputs": [
        {
          "output_type": "stream",
          "name": "stdout",
          "text": [
            "Enter the lower range:1\n",
            "Enter the upper range:100\n",
            "35\n",
            "70\n"
          ]
        }
      ]
    },
    {
      "cell_type": "code",
      "source": [
        "#Python Program to print all numbers in a range divisible by a given number.\n",
        "\n",
        "lower=int(input(\"Enter lower range limit:\"))\n",
        "upper=int(input(\"Enter upper range limit:\"))\n",
        "n=int(input(\"Enter the number to be divided by:\"))\n",
        "for i in range(lower,upper+1):\n",
        "  if (i%n==0):\n",
        "    print(i)"
      ],
      "metadata": {
        "id": "2ikt6xgdNE-v"
      },
      "execution_count": null,
      "outputs": []
    },
    {
      "cell_type": "code",
      "source": [
        "# Python Program to reverse a given number.\n",
        "\n",
        "num = 3456\n",
        "print(\"Given number\", num)\n",
        "while num>0:\n",
        "  dig = num % 10\n",
        "  num = num // 10\n",
        "  print(dig,end=' ')\n"
      ],
      "metadata": {
        "id": "j2KI1vVb5lHH",
        "colab": {
          "base_uri": "https://localhost:8080/"
        },
        "outputId": "482383ee-a743-4b09-c041-c191e3963515"
      },
      "execution_count": null,
      "outputs": [
        {
          "output_type": "stream",
          "name": "stdout",
          "text": [
            "Given number 3456\n",
            "6 5 4 3 "
          ]
        }
      ]
    },
    {
      "cell_type": "code",
      "source": [
        "#Sum of Digits Program in Python\n",
        "\n",
        "n=int(input(\"Enter a number:\"))\n",
        "tot = 0\n",
        "while n>0:\n",
        "  dig = n % 10\n",
        "  tot = tot + dig\n",
        "  n = n // 10\n",
        "print(\"The total sum of digits is:\",tot)\n",
        "\n",
        "\n"
      ],
      "metadata": {
        "id": "DouwoKKsNSeV",
        "colab": {
          "base_uri": "https://localhost:8080/"
        },
        "outputId": "acbd358d-7ae9-4af1-a38c-92cddedf4422"
      },
      "execution_count": null,
      "outputs": [
        {
          "output_type": "stream",
          "name": "stdout",
          "text": [
            "Enter a number:56\n",
            "The total sum of digits is: 11\n"
          ]
        }
      ]
    },
    {
      "cell_type": "code",
      "source": [
        "#Python Program to Count the Number of Digits in a Number\n",
        "\n",
        "n=int(input(\"Enter number:\"))\n",
        "count = 0\n",
        "while(n>0):\n",
        "  count = count+1\n",
        "  n = n//10\n",
        "print(\"The number of digits in the number are:\",count)"
      ],
      "metadata": {
        "id": "kuP2F7gZNSbO",
        "colab": {
          "base_uri": "https://localhost:8080/"
        },
        "outputId": "a69b95d6-2dac-4092-e083-51fb2ea83483"
      },
      "execution_count": null,
      "outputs": [
        {
          "output_type": "stream",
          "name": "stdout",
          "text": [
            "Enter number:345\n",
            "The number of digits in the number are: 3\n"
          ]
        }
      ]
    },
    {
      "cell_type": "code",
      "source": [
        "#Python Program to Find All the Divisors of an Integer\n",
        "\n",
        "n=int(input(\"Enter an integer:\"))\n",
        "for i in range(1,n+1):\n",
        "  if n%i==0:\n",
        "    print(i)"
      ],
      "metadata": {
        "id": "vERV2SiANE77",
        "colab": {
          "base_uri": "https://localhost:8080/"
        },
        "outputId": "9ce5c1b7-de4a-4a49-883a-fa56e71ebe93"
      },
      "execution_count": 7,
      "outputs": [
        {
          "output_type": "stream",
          "name": "stdout",
          "text": [
            "Enter an integer:5\n",
            "1\n",
            "5\n"
          ]
        }
      ]
    },
    {
      "cell_type": "code",
      "source": [
        "#Python Program to Find the Smallest Divisor of an Integer\n",
        "\n",
        "n=int(input(\"Enter an integer:\"))\n",
        "a=[]\n",
        "for i in range(2,n+1):\n",
        "    if(n%i==0):\n",
        "        a.append(i)\n",
        "a.sort()\n",
        "print(\"Smallest divisor is:\",a[0])"
      ],
      "metadata": {
        "id": "SWnzMwzrNE3j",
        "colab": {
          "base_uri": "https://localhost:8080/"
        },
        "outputId": "1e313d92-028a-41bf-b70e-defd20ff6f25"
      },
      "execution_count": 10,
      "outputs": [
        {
          "output_type": "stream",
          "name": "stdout",
          "text": [
            "Enter an integer:6\n",
            "Smallest divisor is: 2\n"
          ]
        }
      ]
    },
    {
      "cell_type": "code",
      "source": [],
      "metadata": {
        "id": "blWoBwNeNEz2"
      },
      "execution_count": null,
      "outputs": []
    },
    {
      "cell_type": "code",
      "source": [],
      "metadata": {
        "id": "WCVweGeGNEv8"
      },
      "execution_count": null,
      "outputs": []
    },
    {
      "cell_type": "code",
      "source": [],
      "metadata": {
        "id": "uqn8UuEvNEsn"
      },
      "execution_count": null,
      "outputs": []
    },
    {
      "cell_type": "code",
      "source": [],
      "metadata": {
        "id": "WwzaqLqkNEpx"
      },
      "execution_count": null,
      "outputs": []
    },
    {
      "cell_type": "code",
      "source": [],
      "metadata": {
        "id": "CBhOgg5-NEms"
      },
      "execution_count": null,
      "outputs": []
    },
    {
      "cell_type": "code",
      "source": [],
      "metadata": {
        "id": "K9MryP52NEjk"
      },
      "execution_count": null,
      "outputs": []
    }
  ]
}